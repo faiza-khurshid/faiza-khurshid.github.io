{
 "cells": [
  {
   "cell_type": "markdown",
   "metadata": {},
   "source": [
    "# Ex 1"
   ]
  },
  {
   "cell_type": "code",
   "execution_count": 1,
   "metadata": {},
   "outputs": [
    {
     "data": {
      "text/plain": [
       "array([[ 0,  0,  0, ..., 14, 14, 14],\n",
       "       [ 0,  0,  0, ..., 13, 13, 13],\n",
       "       [ 0,  0,  0, ..., 13, 13, 13],\n",
       "       ...,\n",
       "       [ 0,  0,  0, ...,  0,  0,  0],\n",
       "       [ 0,  0,  0, ...,  0,  0,  0],\n",
       "       [ 0,  0,  0, ...,  0,  0,  0]])"
      ]
     },
     "execution_count": 1,
     "metadata": {},
     "output_type": "execute_result"
    }
   ],
   "source": [
    "import numpy as np\n",
    "\n",
    "rna=\"AUCGGAGCAUUUUUUGCUCCGACGCAGCCUCAUGCUUUUUU\"\n",
    "def delta(seq,i,j):   \n",
    "        if seq[i]+seq[j] == 'UA' or seq[i]+seq[j] == 'AU' or seq[i]+seq[j] == 'CG' or seq[i]+seq[j] == 'GC':\n",
    "            return 1        # if any given pair is complementary to each other returns 1, otherwise returns 0\n",
    "        else:\n",
    "            return 0    \n",
    "        \n",
    "def nussinov(seq):\n",
    "    '''function hould take an RNA sequence asargument and return the complete \n",
    "    dynaminc programming matrix'''\n",
    "    n = len(seq)\n",
    "    N = np.zeros((n, n), dtype = int) #initially fill matrix with zeros\n",
    "    for pos in range(n-2):   \n",
    "        #to fill in the score matrix N(i,j)\n",
    "        i = 0\n",
    "        j = pos + 2 \n",
    "         # allowing for a minimal loop length of 1 base\n",
    "        for z in range(n-2-pos):\n",
    "            a = N[i+1][j-1] + delta(seq,i,j)\n",
    "            b = max([N[i][k] + N[k+1][j] for k in range(i,j)])\n",
    "            N[i][j] = max(a, b)\n",
    "            i += 1\n",
    "            j += 1   \n",
    "            \n",
    "    return N\n",
    "\n",
    "\n",
    "nussinov(rna)"
   ]
  },
  {
   "cell_type": "markdown",
   "metadata": {},
   "source": [
    "# EX2"
   ]
  },
  {
   "cell_type": "code",
   "execution_count": 2,
   "metadata": {},
   "outputs": [
    {
     "data": {
      "text/plain": [
       "[(0, 40),\n",
       " (2, 20),\n",
       " (3, 19),\n",
       " (4, 18),\n",
       " (5, 17),\n",
       " (6, 16),\n",
       " (7, 15),\n",
       " (8, 14),\n",
       " (21, 38),\n",
       " (23, 34),\n",
       " (24, 33),\n",
       " (25, 32),\n",
       " (26, 28),\n",
       " (29, 31)]"
      ]
     },
     "execution_count": 2,
     "metadata": {},
     "output_type": "execute_result"
    }
   ],
   "source": [
    "matched = []\n",
    "n= len(rna) # rna sequence length\n",
    "def backtracking(seq,N,i,j):\n",
    "    '''returns the list of all matched base pairs'''\n",
    "    if j-i > 1:\n",
    "        if N[i][j] == N[i+1][j-1] + delta(seq,i,j):\n",
    "            #if any given pair is complementary to each other then add in mathed base pair list\n",
    "            if delta(seq,i,j) == 1:\n",
    "                matched.append((i,j))\n",
    "                backtracking(seq,N,i+1,j-1)\n",
    "                # otherwise just continue\n",
    "            else:\n",
    "                backtracking(seq,N,i+1,j-1)   \n",
    "        else:\n",
    "            for k in range(i,j):    \n",
    "                if N[i][j] == N[i][k] + N[k+1][j]:\n",
    "                    #need to retrieve the list of paired complementary bases andjoin them.\n",
    "                    backtracking(seq,N,i,k)\n",
    "                    backtracking(seq,N,k+1,j)\n",
    "                    break            \n",
    "    return matched\n",
    "    \n",
    "backtracking(rna,nussinov(rna),0,n-1)    "
   ]
  },
  {
   "cell_type": "markdown",
   "metadata": {},
   "source": [
    "# Ex 3"
   ]
  },
  {
   "cell_type": "code",
   "execution_count": 3,
   "metadata": {},
   "outputs": [
    {
     "name": "stdout",
     "output_type": "stream",
     "text": [
      " AUCGGAGCAUUUUUUGCUCCGACGCAGCCUCAUGCUUUUUU \n",
      " (.(((((((.....)))))))(.((((.)(.))))...).) \n",
      " \n",
      " There are  14  base pairs\n"
     ]
    }
   ],
   "source": [
    "def display(seq,match):\n",
    "    '''To display the resulting basepair use parentheses to produce an output'''\n",
    "    output = [ \".\" for i in range(len(seq))]\n",
    "    for pair in match:\n",
    "        output[pair[0]] = \"(\"\n",
    "        output[pair[1]] = \")\" \n",
    "    return \"\".join(output)\n",
    "\n",
    "base_pairs = display(rna,backtracking(rna,nussinov(rna),0,n-1))\n",
    "print('',rna,'\\n',base_pairs,'\\n','\\n','There are ',str(base_pairs.count('(')),' base pairs')"
   ]
  },
  {
   "cell_type": "markdown",
   "metadata": {},
   "source": [
    "# EX4"
   ]
  },
  {
   "cell_type": "code",
   "execution_count": 4,
   "metadata": {},
   "outputs": [
    {
     "name": "stdout",
     "output_type": "stream",
     "text": [
      "[[ 0  1  1 ... 14 14 14]\n",
      " [ 0  0  0 ... 13 13 13]\n",
      " [ 0  0  0 ... 13 13 13]\n",
      " ...\n",
      " [ 0  0  0 ...  0  0  0]\n",
      " [ 0  0  0 ...  0  0  0]\n",
      " [ 0  0  0 ...  0  0  0]]\n"
     ]
    }
   ],
   "source": [
    "def nussinov_modified(seq,h):\n",
    "    '''Modify the algorithm so that a parameter h,indicating the minimumal lowed loop length'''\n",
    "    n = len(seq)\n",
    "    N = np.zeros((n, n), dtype = int) #initially fill matrix with zeros\n",
    "    for ind in range(n-h+1):   #to fill in the score matrix N(i,j)\n",
    "        i = 0\n",
    "        j = ind + h+1    \n",
    "        for z in range(n-1-ind-h):\n",
    "            a = N[i+1][j-1] + delta(seq,i,j)\n",
    "            b = max([N[i][k] + N[k+1][j] for k in range(i,j)])\n",
    "            N[i][j] = max(a, b)\n",
    "            i += 1\n",
    "            j += 1   \n",
    "            \n",
    "    return N\n",
    "\n",
    "print(nussinov_modified(rna,0))\n",
    "\n"
   ]
  },
  {
   "cell_type": "code",
   "execution_count": 5,
   "metadata": {},
   "outputs": [
    {
     "name": "stdout",
     "output_type": "stream",
     "text": [
      "[[ 0  0  0 ... 14 14 14]\n",
      " [ 0  0  0 ... 13 13 13]\n",
      " [ 0  0  0 ... 13 13 13]\n",
      " ...\n",
      " [ 0  0  0 ...  0  0  0]\n",
      " [ 0  0  0 ...  0  0  0]\n",
      " [ 0  0  0 ...  0  0  0]]\n"
     ]
    }
   ],
   "source": [
    "print(nussinov_modified(rna,1))"
   ]
  },
  {
   "cell_type": "code",
   "execution_count": 6,
   "metadata": {},
   "outputs": [
    {
     "name": "stdout",
     "output_type": "stream",
     "text": [
      "[[ 0  0  0 ... 13 13 13]\n",
      " [ 0  0  0 ... 12 12 12]\n",
      " [ 0  0  0 ... 12 12 12]\n",
      " ...\n",
      " [ 0  0  0 ...  0  0  0]\n",
      " [ 0  0  0 ...  0  0  0]\n",
      " [ 0  0  0 ...  0  0  0]]\n"
     ]
    }
   ],
   "source": [
    "print(nussinov_modified(rna,2))"
   ]
  },
  {
   "cell_type": "code",
   "execution_count": null,
   "metadata": {},
   "outputs": [],
   "source": []
  }
 ],
 "metadata": {
  "kernelspec": {
   "display_name": "Python 3",
   "language": "python",
   "name": "python3"
  },
  "language_info": {
   "codemirror_mode": {
    "name": "ipython",
    "version": 3
   },
   "file_extension": ".py",
   "mimetype": "text/x-python",
   "name": "python",
   "nbconvert_exporter": "python",
   "pygments_lexer": "ipython3",
   "version": "3.8.5"
  }
 },
 "nbformat": 4,
 "nbformat_minor": 2
}
