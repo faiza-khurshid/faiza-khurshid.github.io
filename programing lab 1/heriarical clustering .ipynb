{
 "cells": [
  {
   "cell_type": "markdown",
   "metadata": {},
   "source": [
    "# EX1"
   ]
  },
  {
   "cell_type": "code",
   "execution_count": 16,
   "metadata": {},
   "outputs": [
    {
     "data": {
      "text/plain": [
       "{'A': {'A': 0, 'B': 4, 'C': 1, 'D': 2, 'E': 5},\n",
       " 'B': {'A': 4, 'B': 0, 'C': 5, 'D': 2, 'E': 3},\n",
       " 'C': {'A': 1, 'B': 5, 'C': 0, 'D': 3, 'E': 6},\n",
       " 'D': {'A': 2, 'B': 2, 'C': 3, 'D': 0, 'E': 3},\n",
       " 'E': {'A': 5, 'B': 3, 'C': 6, 'D': 3, 'E': 0}}"
      ]
     },
     "execution_count": 16,
     "metadata": {},
     "output_type": "execute_result"
    }
   ],
   "source": [
    "def read_matrix(file):\n",
    "    ''' this function will read distance matrix and store them in dictionary of dictionaries'''\n",
    "    final_dict = {}\n",
    "    pos = 0\n",
    "    with open(file, 'r') as f:\n",
    "        k= f.readline().strip().split()# to store objects as keys in variable K\n",
    "        for l in f: # loop on file to read all lines \n",
    "            line = l.strip().split()\n",
    "            temp_dict = {} # store distance in in individual dictionries\n",
    "            for p in range(len(k)):\n",
    "                temp_dict[k[p]] = int(line[p + 1]) \n",
    "             #now make a dictionary for all object and store all dictionaries \n",
    "            final_dict[k[pos]] = temp_dict\n",
    "            pos += 1\n",
    "    return final_dict\n",
    "              \n",
    "             \n",
    "read_matrix('small-distances.txt')       "
   ]
  },
  {
   "cell_type": "markdown",
   "metadata": {},
   "source": [
    "# EX2"
   ]
  },
  {
   "cell_type": "code",
   "execution_count": 82,
   "metadata": {},
   "outputs": [
    {
     "name": "stdout",
     "output_type": "stream",
     "text": [
      "3\n",
      "5\n"
     ]
    }
   ],
   "source": [
    "def element_count(clust):\n",
    "    '''this function will count the number of elementray objects in nested tuple'''\n",
    "    if isinstance(clust, tuple): # check if cluster type is tuple\n",
    "        #print(clust[0])# ('D','E')\n",
    "        if isinstance(clust[0], tuple) and not isinstance(clust[1], tuple):\n",
    "            # apply function on clust[0] \n",
    "            return 1 + element_count(clust[0])\n",
    "        elif isinstance(clust[1], tuple) and not isinstance(clust[0], tuple):\n",
    "            #apply func on clust[1] \n",
    "            return 1 + element_count(clust[1])\n",
    "        elif isinstance(clust[1], tuple) and isinstance(clust[0], tuple):\n",
    "            # apply function on both clust[0] and clust[1] then add them\n",
    "            return element_count(clust[0]) + element_count(clust[1])\n",
    "        else:\n",
    "            return 2\n",
    "    elif isinstance(clust, str):\n",
    "        return 1\n",
    "        \n",
    "print(element_count(((('A','B'),'C'))))\n",
    "print(element_count(((('A','B'),'C'),('D','E'))))"
   ]
  },
  {
   "cell_type": "markdown",
   "metadata": {},
   "source": [
    "# Ex3"
   ]
  },
  {
   "cell_type": "code",
   "execution_count": 103,
   "metadata": {},
   "outputs": [],
   "source": [
    "\n",
    "def merging_clust(dist_mat, clust1, clust2):\n",
    "    '''this function will merge two clusters by updating distance matrix \n",
    "    parameters: distance matrices and two clusters'''\n",
    "    \n",
    "# Get the number of elements in each cluster using above function element_count\n",
    "    num_elem_clust1 = element_count(clust1)\n",
    "    num_elem_clust2 = element_count(clust2)\n",
    "    # Update distance matrix\n",
    "    temp_dict = {}\n",
    "    #loop over keys and values of  distance matrix\n",
    "    for k,v in dist_mat.items():\n",
    "        if k not in (clust1, clust2):\n",
    "            # using following formula merge the cluster and update their distance\n",
    "            new_dist = ((num_elem_clust1 * dist_mat[k][clust1]) + (num_elem_clust2 * dist_mat[k][clust2])) / (\n",
    "                num_elem_clust1 + num_elem_clust2)\n",
    "            dist_mat[k][(clust1, clust2)] = new_dist\n",
    "            temp_dict[k] = new_dist\n",
    "    dist_mat[(clust1, clust2)] = temp_dict\n",
    "    dist_mat[(clust1, clust2)][(clust1, clust2)] = 0.0\n",
    "    # Clean distance matrix after merging clusters\n",
    "    del dist_mat[clust1]\n",
    "    del dist_mat[clust2]\n",
    "    for k, v in dist_mat.items():\n",
    "        if k != (clust1, clust2):\n",
    "            del v[clust1]\n",
    "            del v[clust2]\n",
    "    return dist_mat\n",
    "    \n"
   ]
  },
  {
   "cell_type": "code",
   "execution_count": 104,
   "metadata": {},
   "outputs": [
    {
     "data": {
      "text/plain": [
       "{'B': {'B': 0, 'D': 2, 'E': 3, ('A', 'C'): 4.5},\n",
       " 'D': {'B': 2, 'D': 0, 'E': 3, ('A', 'C'): 2.5},\n",
       " 'E': {'B': 3, 'D': 3, 'E': 0, ('A', 'C'): 5.5},\n",
       " ('A', 'C'): {'B': 4.5, 'D': 2.5, 'E': 5.5, ('A', 'C'): 0.0}}"
      ]
     },
     "execution_count": 104,
     "metadata": {},
     "output_type": "execute_result"
    }
   ],
   "source": [
    "merging_clust(read_matrix('small-distances.txt'),'A','C')"
   ]
  },
  {
   "cell_type": "markdown",
   "metadata": {},
   "source": [
    "# EX 4"
   ]
  },
  {
   "cell_type": "code",
   "execution_count": 42,
   "metadata": {},
   "outputs": [
    {
     "data": {
      "text/plain": [
       "('A', 'C')"
      ]
     },
     "execution_count": 42,
     "metadata": {},
     "output_type": "execute_result"
    }
   ],
   "source": [
    "def closet_clust(dist_mat):\n",
    "    ''' this function will take distance matrix as input and return two clusters whose\n",
    "    distance is smaller'''\n",
    "    # make tuple of distance matrix keys\n",
    "    keys = tuple(dist_mat.keys())\n",
    "    #found distance between key 0 and 1\n",
    "    dist = dist_mat[keys[0]][keys[1]]\n",
    "    # merge both keys \n",
    "    clust = (keys[0], keys[1])\n",
    "    # iterate over both keys and values\n",
    "    for k, v in dist_mat.items():\n",
    "        for x, y in v.items():\n",
    "            if k != x and dist_mat[k][x] < dist:\n",
    "                # update dist with smallest distance\n",
    "                dist = dist_mat[k][x]\n",
    "                #merge these closest clusters\n",
    "                clust = (k, x)\n",
    "    return clust\n",
    "\n",
    "                \n",
    "closet_clust(read_matrix('small-distances.txt'))\n",
    "    "
   ]
  },
  {
   "cell_type": "markdown",
   "metadata": {},
   "source": [
    "# Ex 5"
   ]
  },
  {
   "cell_type": "code",
   "execution_count": 93,
   "metadata": {},
   "outputs": [],
   "source": [
    "from showtree import showtree\n",
    "def hierarchial_clust(dist_mat):\n",
    "    '''it will give final cluster as a tuple and hight for each cluster\n",
    "    key is cluster and value is hight'''\n",
    "    f={k:0 for k in dist_mat.keys()}\n",
    "    # loop untill length of dis_mat > 1\n",
    "    while len(dist_mat) > 1:\n",
    "        #get closest clusters using clost_clust function\n",
    "        clust1, clust2 = closet_clust(dist_mat)\n",
    "        f[(clust1,clust2)]=dist_mat[clust1][clust2]\n",
    "        # merge cluster 1 and cluster 2 using above merging_clust function\n",
    "        merging_clust(dist_mat, clust1, clust2)\n",
    "    return dist_mat.popitem()[0],f\n",
    " \n"
   ]
  },
  {
   "cell_type": "code",
   "execution_count": 94,
   "metadata": {},
   "outputs": [
    {
     "name": "stdout",
     "output_type": "stream",
     "text": [
      "(('A', 'C'), ('E', ('B', 'D')))\n"
     ]
    }
   ],
   "source": [
    "# for file small distance\n",
    "dist_mat = read_matrix(\"small-distances.txt\")\n",
    "node,height=hierarchial_clust(dist_mat)\n",
    "print(node)"
   ]
  },
  {
   "cell_type": "code",
   "execution_count": 95,
   "metadata": {},
   "outputs": [
    {
     "name": "stdout",
     "output_type": "stream",
     "text": [
      "{'A': 0, 'B': 0, 'C': 0, 'D': 0, 'E': 0, ('A', 'C'): 1, ('B', 'D'): 2, ('E', ('B', 'D')): 3.0, (('A', 'C'), ('E', ('B', 'D'))): 4.166666666666667}\n"
     ]
    },
    {
     "data": {
      "image/png": "[encoded data removed]",
      "text/plain": [
       "<Figure size 432x288 with 1 Axes>"
      ]
     },
     "metadata": {
      "needs_background": "light"
     },
     "output_type": "display_data"
    }
   ],
   "source": [
    "print(height)\n",
    "showtree(node,height)"
   ]
  },
  {
   "cell_type": "code",
   "execution_count": 96,
   "metadata": {},
   "outputs": [
    {
     "name": "stdout",
     "output_type": "stream",
     "text": [
      "('M', (((('A', 'K'), ('B', 'L')), ('J', ('E', 'G'))), (('C', 'H'), ('D', ('F', 'I')))))\n"
     ]
    }
   ],
   "source": [
    "# result for file distance.txt\n",
    "dist_mat = read_matrix(\"distances.txt\")\n",
    "node,height=hierarchial_clust(dist_mat)\n",
    "print(node)"
   ]
  },
  {
   "cell_type": "code",
   "execution_count": 97,
   "metadata": {},
   "outputs": [
    {
     "name": "stdout",
     "output_type": "stream",
     "text": [
      "{'A': 0, 'B': 0, 'C': 0, 'D': 0, 'E': 0, 'F': 0, 'G': 0, 'H': 0, 'I': 0, 'J': 0, 'K': 0, 'L': 0, 'M': 0, ('A', 'K'): 1, ('B', 'L'): 1, ('F', 'I'): 1, ('C', 'H'): 2, ('E', 'G'): 2, (('A', 'K'), ('B', 'L')): 2.0, ('J', ('E', 'G')): 3.0, ('D', ('F', 'I')): 3.5, ((('A', 'K'), ('B', 'L')), ('J', ('E', 'G'))): 4.0, (('C', 'H'), ('D', ('F', 'I'))): 5.0, (((('A', 'K'), ('B', 'L')), ('J', ('E', 'G'))), (('C', 'H'), ('D', ('F', 'I')))): 6.685714285714286, ('M', (((('A', 'K'), ('B', 'L')), ('J', ('E', 'G'))), (('C', 'H'), ('D', ('F', 'I'))))): 10.5}\n"
     ]
    },
    {
     "data": {
      "image/png": "[encoded data removed]",
      "text/plain": [
       "<Figure size 432x288 with 1 Axes>"
      ]
     },
     "metadata": {
      "needs_background": "light"
     },
     "output_type": "display_data"
    }
   ],
   "source": [
    "print(height)\n",
    "showtree(node,height)"
   ]
  },
  {
   "cell_type": "code",
   "execution_count": null,
   "metadata": {},
   "outputs": [],
   "source": []
  }
 ],
 "metadata": {
  "kernelspec": {
   "display_name": "Python 3",
   "language": "python",
   "name": "python3"
  },
  "language_info": {
   "codemirror_mode": {
    "name": "ipython",
    "version": 3
   },
   "file_extension": ".py",
   "mimetype": "text/x-python",
   "name": "python",
   "nbconvert_exporter": "python",
   "pygments_lexer": "ipython3",
   "version": "3.8.5"
  }
 },
 "nbformat": 4,
 "nbformat_minor": 2
}
