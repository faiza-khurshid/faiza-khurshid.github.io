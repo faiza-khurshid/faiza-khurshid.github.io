{
 "cells": [
  {
   "cell_type": "markdown",
   "metadata": {},
   "source": [
    "# Ex. 1 (4 pts) One hundred ways to get to one hundred (more or less)"
   ]
  },
  {
   "cell_type": "code",
   "execution_count": 1,
   "metadata": {},
   "outputs": [
    {
     "name": "stdout",
     "output_type": "stream",
     "text": [
      "1+2+3+4+5+6+7+8*9 = 100\n",
      "1+2+3-4+5+6+78+9 = 100\n",
      "1+2+3-4*5+6*7+8*9 = 100\n",
      "1+2+3-45+67+8*9 = 100\n",
      "1+2+3*4-5-6+7+89 = 100\n",
      "1+2+3*4*5/6+78+9 = 100.0\n",
      "1+2+3*4*56/7-8+9 = 100.0\n",
      "1+2+34-5+67-8+9 = 100\n",
      "1+2+34*5+6-7-8*9 = 100\n",
      "1+2-3*4+5*6+7+8*9 = 100\n",
      "1+2-3*4-5+6*7+8*9 = 100\n",
      "1+2*3+4+5+67+8+9 = 100\n",
      "1+2*3+4*5-6+7+8*9 = 100\n",
      "1+2*3-4+56/7+89 = 100.0\n",
      "1+2*3-4-5+6+7+89 = 100\n",
      "1+2*3*4*5/6+7+8*9 = 100.0\n",
      "1+2*34-56+78+9 = 100\n",
      "1+23-4+5+6+78-9 = 100\n",
      "1+23-4+56+7+8+9 = 100\n",
      "1+23-4+56/7+8*9 = 100.0\n",
      "1+23-4-5+6+7+8*9 = 100\n",
      "1+23*4+5-6+7-8+9 = 100\n",
      "1+23*4+56/7+8-9 = 100.0\n",
      "1+23*4-5+6+7+8-9 = 100\n",
      "1+234-56-7-8*9 = 100\n",
      "1+234*5*6/78+9 = 100.0\n",
      "1+234*5/6-7-89 = 100.0\n",
      "1-2+3+45+6+7*8-9 = 100\n",
      "1-2+3*4+5+67+8+9 = 100\n",
      "1-2+3*4*5+6*7+8-9 = 100\n",
      "1-2+3*4*5-6+7*8-9 = 100\n",
      "1-2-3+4*5+67+8+9 = 100\n",
      "1-2-3+4*56/7+8*9 = 100.0\n",
      "1-2-3+45+6*7+8+9 = 100\n",
      "1-2-3+45-6+7*8+9 = 100\n",
      "1-2-3+45-6-7+8*9 = 100\n",
      "1-2-34+56+7+8*9 = 100\n",
      "1-2*3+4*5+6+7+8*9 = 100\n",
      "1-2*3-4+5*6+7+8*9 = 100\n",
      "1-2*3-4-5+6*7+8*9 = 100\n",
      "1-23+4*5+6+7+89 = 100\n",
      "1-23-4+5*6+7+89 = 100\n",
      "1-23-4-5+6*7+89 = 100\n",
      "1*2+3+4*5+6+78-9 = 100\n",
      "1*2+3+45+67-8-9 = 100\n",
      "1*2+3-4+5*6+78-9 = 100\n",
      "1*2+3*4+5-6+78+9 = 100\n",
      "1*2+34+5+6*7+8+9 = 100\n",
      "1*2+34+5-6+7*8+9 = 100\n",
      "1*2+34+5-6-7+8*9 = 100\n",
      "1*2+34+56+7-8+9 = 100\n",
      "1*2+34-56/7+8*9 = 100.0\n",
      "1*2-3+4+56/7+89 = 100.0\n",
      "1*2-3+4-5+6+7+89 = 100\n",
      "1*2-3+4*5-6+78+9 = 100\n",
      "1*2*3+4+5+6+7+8*9 = 100\n",
      "1*2*3-4+5+6+78+9 = 100\n",
      "1*2*3-4*5+6*7+8*9 = 100\n",
      "1*2*3-45+67+8*9 = 100\n",
      "1*2*3*4+5+6+7*8+9 = 100\n",
      "1*2*3*4+5+6-7+8*9 = 100\n",
      "1*2*3*4-5-6+78+9 = 100\n",
      "1*2*34+56-7-8-9 = 100\n",
      "1*2/3+4*5/6+7+89 = 100.0\n",
      "1*23+4+5+67-8+9 = 100\n",
      "1*23+4+56/7*8+9 = 100.0\n",
      "1*23-4+5-6-7+89 = 100\n",
      "1*23-4-56/7+89 = 100.0\n",
      "1*23*4-56/7/8+9 = 100.0\n",
      "1*234+5-67-8*9 = 100\n",
      "1/2*3/4*56+7+8*9 = 100.0\n",
      "1/2*34-5+6-7+89 = 100.0\n",
      "1/2/3*456+7+8+9 = 100.0\n",
      "12+3+4+5-6-7+89 = 100\n",
      "12+3+4-56/7+89 = 100.0\n",
      "12+3-4+5+67+8+9 = 100\n",
      "12+3*4+5+6+7*8+9 = 100\n",
      "12+3*4+5+6-7+8*9 = 100\n",
      "12+3*4-5-6+78+9 = 100\n",
      "12+3*45+6*7-89 = 100\n",
      "12+34+5*6+7+8+9 = 100\n",
      "12+34-5+6*7+8+9 = 100\n",
      "12+34-5-6+7*8+9 = 100\n",
      "12+34-5-6-7+8*9 = 100\n",
      "12-3+4*5+6+7*8+9 = 100\n",
      "12-3+4*5+6-7+8*9 = 100\n",
      "12-3-4+5-6+7+89 = 100\n",
      "12-3-4+5*6+7*8+9 = 100\n",
      "12-3-4+5*6-7+8*9 = 100\n",
      "12*3-4+5-6+78-9 = 100\n",
      "12*3-4-5-6+7+8*9 = 100\n",
      "12*3-4*5+67+8+9 = 100\n",
      "12/3+4*5-6-7+89 = 100.0\n",
      "12/3+4*5*6-7-8-9 = 100.0\n",
      "12/3+4*5*6*7/8-9 = 100.0\n",
      "12/3/4+5*6+78-9 = 100.0\n",
      "123+4-5+67-89 = 100\n",
      "123+4*5-6*7+8-9 = 100\n",
      "123+45-67+8-9 = 100\n",
      "123-4-5-6-7+8-9 = 100\n",
      "123-45-67+89 = 100\n",
      "\n",
      "There are 101 possibilities to get 100\n"
     ]
    }
   ],
   "source": [
    "from itertools import chain, combinations, product\n",
    "\n",
    "def comb(digits):\n",
    "    '''it will create all combinations of nine digits'''\n",
    "    # Converts a string of digits to a list\n",
    "    dlist = list(digits)\n",
    "    return chain.from_iterable(combinations(dlist,n) for n in range(len(dlist)+1))\n",
    "\n",
    "expressions_list = []\n",
    "for operands in map(list, comb([str(d) for d in range(1,10)])):\n",
    "    n = len(operands)\n",
    "    \n",
    "all_operators = map(list, product(['+','-','*','/',''],repeat= n-1))\n",
    "#make list of operators and combine with list of digits by cartesian product\n",
    "for operators in all_operators:\n",
    "    #add one operand to one operator alternatively\n",
    "    exp = operands[0]\n",
    "    i = 1\n",
    "    for operator in operators:\n",
    "        exp += operator + operands[i]\n",
    "        i += 1\n",
    "    expressions_list += [exp]\n",
    "\n",
    "count=0\n",
    "for expr in expressions_list:\n",
    "    #print all valid expressions which is equal to 100 by eval method\n",
    "    if eval(expr) == 100:\n",
    "        print('{} = {}'.format(expr, eval(expr)))\n",
    "        count+=1\n",
    "print('')\n",
    "print('There are '+ str(count) + ' possibilities to get 100')"
   ]
  },
  {
   "cell_type": "markdown",
   "metadata": {},
   "source": [
    "# Ex. 2 (7 pts) Eight queens"
   ]
  },
  {
   "cell_type": "markdown",
   "metadata": {},
   "source": [
    "# (a)"
   ]
  },
  {
   "cell_type": "code",
   "execution_count": 2,
   "metadata": {},
   "outputs": [
    {
     "name": "stdout",
     "output_type": "stream",
     "text": [
      "solution : \n",
      "a1 b5 c8 d6 e3 f7 g2 h4 "
     ]
    }
   ],
   "source": [
    "\n",
    "from itertools import permutations,product\n",
    "\n",
    "def n_queens(Board_size):\n",
    "    rows=range(1,Board_size+1)\n",
    "    solutions=[]\n",
    "    for solution in permutations(rows):\n",
    "        #ensure queen is not captured when placed\n",
    "        if Board_size==len(set(solution[i-1]+i for i in rows))==len(set(solution[i-1]-i for i in rows)):\n",
    "            solutions.append(solution)  #all valid solutions\n",
    "    cols=[chr(letters) for letters in range(97,123)]  #columns' names list(all alphabet)\n",
    "    positions=list(solutions[0]) #take the first solution\n",
    "    for i in range(len(positions)):\n",
    "        print(cols[i]+str(positions[i]), end=' ')  #queen position(column+row) for each queen\n",
    "\n",
    "print('solution : ')\n",
    "n_queens(8)"
   ]
  },
  {
   "cell_type": "markdown",
   "metadata": {},
   "source": [
    "# (b)"
   ]
  },
  {
   "cell_type": "code",
   "execution_count": 3,
   "metadata": {},
   "outputs": [
    {
     "name": "stdout",
     "output_type": "stream",
     "text": [
      "solution : \n",
      "a2 b4 c1 d3 "
     ]
    }
   ],
   "source": [
    "\n",
    "#We can place any n queens on any n*n board by changing Board_size\n",
    "\n",
    "print('solution : ')\n",
    "n_queens(4)\n"
   ]
  },
  {
   "cell_type": "markdown",
   "metadata": {},
   "source": [
    "# (c)"
   ]
  },
  {
   "cell_type": "code",
   "execution_count": 4,
   "metadata": {},
   "outputs": [
    {
     "name": "stdout",
     "output_type": "stream",
     "text": [
      "There are 92 solutions\n"
     ]
    }
   ],
   "source": [
    "# #Find the total number of possible solutions\n",
    "\n",
    "def n_queens_count(Board_size):\n",
    "    rows=range(1,Board_size+1)\n",
    "    solutions=[]\n",
    "    count=0\n",
    "    for solution in permutations(rows):\n",
    "        if Board_size==len(set(solution[i-1]+i for i in rows))==len(set(solution[i-1]-i for i in rows)):\n",
    "            solutions.append(solution)\n",
    "            count+=1 #modification (add count to count the number of solutions)\n",
    "    #print(solutions)            #if I want to print all valid solutions\n",
    "    return count\n",
    "    \n",
    "\n",
    "print('There are '+ str(n_queens_count(8)) + ' solutions')"
   ]
  },
  {
   "cell_type": "markdown",
   "metadata": {},
   "source": [
    "# (c)"
   ]
  },
  {
   "cell_type": "code",
   "execution_count": 5,
   "metadata": {},
   "outputs": [
    {
     "name": "stdout",
     "output_type": "stream",
     "text": [
      "The smallest board size with one solution is 1\n",
      "The smallest board size with more than one solution is 4\n"
     ]
    }
   ],
   "source": [
    "#find the smallest n with one solution and the smallest with more than one solution\n",
    "n=1\n",
    "one_solution=[]\n",
    "while n_queens_count(n) <2:\n",
    "    if n_queens_count(n)==1:\n",
    "        one_solution.append(n) \n",
    "    n+=1\n",
    "if len(one_solution) !=0:\n",
    "    print('The smallest board size with one solution is '+ str(one_solution[0]))\n",
    "else:\n",
    "    print('There is no n with only 1 solution')\n",
    "\n",
    "print('The smallest board size with more than one solution is '+ str(n))  #first n after the loop"
   ]
  },
  {
   "cell_type": "markdown",
   "metadata": {},
   "source": [
    "# Ex. 3 (4 pts) Forbidden letters"
   ]
  },
  {
   "cell_type": "code",
   "execution_count": 10,
   "metadata": {},
   "outputs": [],
   "source": [
    "with open('words.txt', 'r') as fin:\n",
    "    words = [line.strip() for line in fin]"
   ]
  },
  {
   "cell_type": "code",
   "execution_count": 11,
   "metadata": {},
   "outputs": [
    {
     "name": "stdout",
     "output_type": "stream",
     "text": [
      "{'a': 56613, 'b': 16305, 'c': 30466, 'd': 30648, 'e': 76168, 'f': 11277, 'g': 24979, 'h': 19096, 'i': 60314, 'j': 1747, 'k': 8978, 'l': 40133, 'm': 22474, 'n': 49682, 'o': 44657, 'p': 22969, 'q': 1632, 'r': 54901, 's': 64803, 't': 47279, 'u': 28875, 'v': 8892, 'w': 8268, 'x': 2691, 'y': 13141, 'z': 3451}\n"
     ]
    }
   ],
   "source": [
    "dictt={}\n",
    "def avoid(letter):\n",
    "    '''takes a word from file and a string of forbidden letters and return count'''\n",
    "    count=0\n",
    "    for word in words :# iterate over words\n",
    "        if letter in word: \n",
    "            #increamnt count if forbidn letter in word\n",
    "            count+=1\n",
    "    return (count)\n",
    "alphabets='abcdefghijklmnopqrstuvwxyz'\n",
    "# iterate over alphabets\n",
    "for i in alphabets:\n",
    "    dictt[i]=avoid(i) # apply avoid function \n",
    "print(dictt)"
   ]
  },
  {
   "cell_type": "code",
   "execution_count": 12,
   "metadata": {},
   "outputs": [
    {
     "data": {
      "text/plain": [
       "{'q': 1632,\n",
       " 'j': 1747,\n",
       " 'x': 2691,\n",
       " 'z': 3451,\n",
       " 'w': 8268,\n",
       " 'v': 8892,\n",
       " 'k': 8978,\n",
       " 'f': 11277,\n",
       " 'y': 13141,\n",
       " 'b': 16305,\n",
       " 'h': 19096,\n",
       " 'm': 22474,\n",
       " 'p': 22969,\n",
       " 'g': 24979,\n",
       " 'u': 28875,\n",
       " 'c': 30466,\n",
       " 'd': 30648,\n",
       " 'l': 40133,\n",
       " 'o': 44657,\n",
       " 't': 47279,\n",
       " 'n': 49682,\n",
       " 'r': 54901,\n",
       " 'a': 56613,\n",
       " 'i': 60314,\n",
       " 's': 64803,\n",
       " 'e': 76168}"
      ]
     },
     "execution_count": 12,
     "metadata": {},
     "output_type": "execute_result"
    }
   ],
   "source": [
    "#sorting with the letters contained in the fewest words\n",
    "new_dic=dict(sorted(dictt.items(), key=lambda item: item[1]))\n",
    "new_dic"
   ]
  },
  {
   "cell_type": "code",
   "execution_count": 14,
   "metadata": {},
   "outputs": [],
   "source": [
    "#combination of 6 forbidden letters that aims to exclude the smallest number of words\n",
    "import itertools\n",
    "n=6\n",
    "six_comb=dict(itertools.islice(new_dic.items(),n))"
   ]
  },
  {
   "cell_type": "code",
   "execution_count": 15,
   "metadata": {},
   "outputs": [
    {
     "name": "stdout",
     "output_type": "stream",
     "text": [
      "{'q': 1632, 'j': 1747, 'x': 2691, 'z': 3451, 'w': 8268, 'v': 8892}\n"
     ]
    }
   ],
   "source": [
    "print(six_comb)\n",
    "\n",
    "#sara helped me to solve this exercise"
   ]
  },
  {
   "cell_type": "markdown",
   "metadata": {},
   "source": [
    "# Ex. 4 (5 pts) A nice word puzzle and an even better programming exercise"
   ]
  },
  {
   "cell_type": "code",
   "execution_count": 7,
   "metadata": {},
   "outputs": [
    {
     "name": "stdout",
     "output_type": "stream",
     "text": [
      "completing, competing, compting, comping, coping, oping, ping, pig, pi, i\n",
      "The word is reducible\n",
      "\n",
      "\n",
      "The word is not reducible\n",
      "\n",
      "The longest reducible word is complecting\n"
     ]
    },
    {
     "data": {
      "text/plain": [
       "True"
      ]
     },
     "execution_count": 7,
     "metadata": {},
     "output_type": "execute_result"
    }
   ],
   "source": [
    "\n",
    "\n",
    "#create a list of all words in the dictionary\n",
    "words=[]\n",
    "file = open(\"words.txt\")\n",
    "for line in file:\n",
    "    word=line.strip()\n",
    "    words.append(word)\n",
    "words.extend(['a', 'i', ''])\n",
    "words=set(words)\n",
    "\n",
    "#get the children of the word by removing 1 letter each time \n",
    "def reduce(word):\n",
    "    for i in range(len(word)):\n",
    "        child=word[:i]+word[i+1:]\n",
    "        if child in words:\n",
    "            if len(child)==1:  # if reaches 1 letter word, it is a reducible word\n",
    "                return child + '\\n'+ 'The word is reducible' \n",
    "            else:\n",
    "                return child+','+' '+ reduce(child)\n",
    "    return '\\n'+'The word is not reducible'           #if doesn't reach 1 letter word it is a non-reducible word\n",
    "\n",
    "def check(word):       #a boolean function for checking if the word is reducible or no\n",
    "    for i in range(len(word)):\n",
    "        child=word[:i]+word[i+1:]\n",
    "        if child in words:\n",
    "            if len(child)==1: \n",
    "                return True\n",
    "            elif check(child):\n",
    "                return True\n",
    "            \n",
    "    return False           \n",
    "\n",
    "all_reducible_words = []\n",
    "for word in words:\n",
    "    if check(word):\n",
    "        all_reducible_words.append(word)\n",
    "        \n",
    "        \n",
    "print(reduce('complecting'))\n",
    "print()\n",
    "print(reduce('aasvogel'))\n",
    "print()\n",
    "print('The longest reducible word is ' + max(all_reducible_words,key=len))\n",
    "\"ion\" in all_reducible_words"
   ]
  },
  {
   "cell_type": "code",
   "execution_count": 8,
   "metadata": {},
   "outputs": [
    {
     "name": "stdout",
     "output_type": "stream",
     "text": [
      "['tailer', 'malates', 'borate', 'tinglers', 'martinis', 'sat', 'bursar', 'trashy', 'deratted', 'bad', 'barrets', 'skimps', 'swans', 'milks', 'paty', 'skiis', 'winces', 'anil', 'cat', 'tasters', 'pastina', 'chasm', 'load', 'carpi', 'tasted', 'cline', 'peas', 'changs', 'firn', 'larger', 'cadges', 'slathers', 'flambes', 'warder', 'curares', 'dunnite', 'cairny', 'arches', 'hajes', 'mid', 'tailers', 'drink', 'flams', 'caried', 'disked', 'weariest', 'flagmen', 'sift', 'chasms', 'ryas', 'farad', 'cheat', 'tsadi', 'picas', 'leaded', 'slash', 'canners', 'arch', 'silted', 'nay', 'sabre', 'watts', 'repiner', 'care', 'leal', 'slants', 'hafted', 'tab', 'awned', 'haze', 'striper', 'pliers', 'painted', 'capper', 'pinery', 'stage', 'anear', 'stature', 'djinni', 'giron', 'mitres', 'eave', 'board', 'tanks', 'wrath', 'limber', 'flashes', 'livre', 'writhen', 'graver', 'floaty', 'yawn', 'bares', 'statued', 'rains', 'witneys', 'keas', 'sics', 'dawning', 'blamers', 'laic', 'laired', 'clivers', 'opahs', 'maar', 'fash', 'festal', 'laveers', 'ladens', 'sarods', 'eloign', 'weaves', 'feists', 'bale', 'maxim', 'harsh', 'cadgy', 'list', 'khats', 'cleansed', 'daubs', 'mitoses', 'stacking', 'carved', 'campo', 'fable', 'narcoses', 'vale', 'amins', 'daunts', 'swith', 'bawler', 'asperse', 'charge', 'faquirs', 'saggers', 'drags', 'whiney', 'brashly', 'reaping', 'thawing', 'cankers', 'algal', 'bridle', 'antics', 'vowing', 'mamma', 'arena', 'estranged', 'ablated', 'hareem', 'dang', 'slays', 'ayes', 'tarp', 'bio', 'wriest', 'larums', 'alpine', 'stink', 'daks', 'males', 'shaves', 'stanches', 'narc', 'shag', 'swags', 'paver', 'poisers', 'tripled', 'drawing', 'pricklier', 'vats', 'dab', 'lanky', 'isatine', 'mammal', 'lathes', 'barkers', 'carn', 'baster', 'pimp', 'argue', 'piasters', 'using', 'fad', 'scraped', 'smalts', 'limey', 'irids', 'twain', 'tawse', 'boite', 'crowding', 'travels', 'agape', 'wreaths', 'climbed', 'platted', 'kino', 'plain', 'craved', 'lazy', 'dawn', 'spavin', 'avast', 'suits', 'plankters', 'basks', 'kith', 'gapy', 'rance', 'waivers', 'warping', 'fakir', 'carl', 'rangy', 'hawse', 'ratos', 'cantic', 'ares', 'aboard', 'sloid', 'eluates', 'largesse', 'silts', 'flitters', 'tripes', 'fleams', 'afar', 'pedaled', 'parody', 'solvated', 'wart', 'ar', 'began', 'plainer', 'finish', 'dawting', 'cions', 'milker', 'sabbed', 'squint', 'stale', 'spays', 'machos', 'shrifts', 'leman', 'pax', 'singlet', 'anta', 'insolates', 'laders', 'wawled', 'escaped', 'dark', 'copalms', 'savine', 'wist', 'barong', 'awakes', 'pickling', 'flambeed', 'gauming', 'plena', 'boatsman', 'gifts', 'tray', 'lampads', 'fawned', 'fasts', 'saves', 'warnings', 'fines', 'canso', 'groupings', 'taggers', 'hazers', 'parties', 'vis', 'piecing', 'staying', 'napes', 'dingey', 'clasher', 'flam', 'dreamt', 'sade', 'prays', 'doated', 'acne', 'wair', 'misdo', 'etapes', 'arouse', 'shawms', 'deiced', 'claw', 'wans', 'masse', 'lingams', 'anis', 'scanty', 'tigers', 'warming', 'drafter', 'mails', 'feta', 'gane', 'sackers', 'guild', 'widens', 'laves', 'parging', 'gnats', 'sprigs', 'lamina', 'farced', 'pins', 'spearers', 'owing', 'thread', 'trappers', 'ablate', 'spined', 'pap', 'clang', 'tact', 'shiny', 'smazes', 'maculated', 'pattern', 'awn', 'read', 'heavens', 'dinks', 'ganging', 'snawing', 'flashy', 'sick', 'parkers', 'meant', 'plaid', 'pawed', 'bravers', 'latched', 'polis', 'filing', 'grain', 'daubery', 'caddices', 'fiat', 'pastern', 'dido', 'atilt', 'shawm', 'targe', 'and', 'smalt', 'apses', 'warders', 'yak', 'caress', 'barbed', 'wasp', 'pipals', 'caid', 'dash', 'claver', 'bidder', 'glib', 'waly', 'clacked', 'spiring', 'swigs', 'stingos', 'tacker', 'waives', 'ironed', 'singled', 'snail', 'halms', 'baths', 'tarn', 'fabler', 'ayah', 'salted', 'daps', 'sluing', 'ravings', 'kami', 'stipe', 'earthly', 'maced', 'parged', 'alee', 'sayyids', 'lie', 'flip', 'passels', 'leaps', 'lifers', 'boasters', 'spicks', 'thaler', 'visa', 'glands', 'twisted', 'trashes', 'seawans', 'beasts', 'fetials', 'play', 'koa', 'lied', 'chatters', 'crankly', 'bassly', 'pier', 'passel', 'sling', 'tax', 'vine', 'toils', 'blather', 'clashed', 'clatter', 'ides', 'deair', 'fido', 'whin', 'ecarte', 'bawd', 'acts', 'laded', 'flinted', 'spicated', 'birses', 'prawn', 'startlers', 'pirated', 'lither', 'apes', 'sired', 'flamy', 'larch', 'tantra', 'always', 'pals', 'abash', 'groat', 'scrapers', 'cleans', 'gangs', 'find', 'plagued', 'icones', 'prams', 'thinks', 'blink', 'wisher', 'macks', 'bridge', 'anile', 'magma', 'cion', 'clary', 'saltiness', 'oats', 'tasse', 'nacred', 'stains', 'than', 'oar', 'prises', 'writhers', 'raphis', 'narco', 'pawns', 'shinnery', 'strap', 'tate', 'blares', 'missuses', 'cames', 'senates', 'daubry', 'faired', 'halter', 'leister', 'seiser', 'slatting', 'maws', 'yank', 'brazen', 'kayoes', 'tracked', 'scarce', 'rambles', 'ditas', 'waved', 'barbe', 'eagers', 'pied', 'glacier', 'wagger', 'paired', 'fado', 'chirpy', 'crated', 'lassoers', 'lancers', 'ruin', 'trillers', 'amuse', 'meowing', 'amusing', 'matures', 'gamins', 'wark', 'raspy', 'gird', 'glibber', 'momenta', 'irones', 'capes', 'mantels', 'wearers', 'heady', 'atrip', 'acarids', 'cramp', 'plague', 'haji', 'milts', 'aides', 'parangs', 'blatters', 'splints', 'holards', 'greater', 'date', 'bastions', 'milters', 'whitey', 'hearths', 'dawts', 'aits', 'hazels', 'carvels', 'hath', 'thereat', 'duad', 'spicier', 'birds', 'skeins', 'maximals', 'japers', 'quit', 'seis', 'charm', 'cocreate', 'cages', 'skins', 'ashiest', 'mills', 'plinker', 'hah', 'primero', 'splice', 'vino', 'idems', 'bandied', 'liviers', 'lathers', 'pallet', 'trails', 'wined', 'baiter', 'sainted', 'hic', 'guards', 'patchy', 'beauts', 'mattin', 'atamans', 'brawls', 'pinged', 'marl', 'clean', 'frag', 'sexisms', 'cram', 'labs', 'slice', 'anears', 'matted', 'tin', 'starved', 'picks', 'raced', 'ave', 'minded', 'fists', 'alants', 'klatsches', 'dawt', 'burans', 'aland', 'alary', 'trills', 'starer', 'galeate', 'tarps', 'parries', 'xis', 'grafting', 'withies', 'pistons', 'shingles', 'spirem', 'slimmed', 'ling', 'spikier', 'serine', 'treadlers', 'launce', 'fang', 'starves', 'sing', 'camper', 'parsers', 'pricker', 'parry', 'abiders', 'acierate', 'lingual', 'pickeers', 'kavas', 'amid', 'sine', 'flinger', 'ourangs', 'amir', 'mantic', 'rancheros', 'stirp', 'spirited', 'drawl', 'manger', 'haulers', 'drama', 'gradins', 'warp', 'halters', 'hikes', 'tinct', 'sensates', 'gray', 'strander', 'flails', 'haoles', 'wigs', 'strays', 'page', 'balder', 'carrousels', 'pleads', 'chide', 'scram', 'pinks', 'vinyl', 'shackoes', 'siree', 'dwines', 'quoit', 'sins', 'spirits', 'reflates', 'trickly', 'tits', 'solanders', 'gager', 'pileus', 'scarted', 'bar', 'aced', 'jaunts', 'frits', 'jagers', 'win', 'yager', 'chaste', 'taunts', 'weaned', 'seabed', 'belady', 'plant', 'bravery', 'tines', 'barged', 'barege', 'saleps', 'girt', 'spilths', 'rasers', 'anlas', 'staples', 'scrawly', 'pranks', 'swipple', 'maculae', 'blathers', 'target', 'bared', 'kiefs', 'dealates', 'barns', 'cantus', 'tokay', 'leak', 'nappes', 'rid', 'maun', 'grid', 'psalter', 'pack', 'takers', 'pleats', 'hoicks', 'piny', 'osar', 'speiled', 'friends', 'praiser', 'pyas', 'finery', 'taches', 'kif', 'chic', 'scarcer', 'arguer', 'swabbed', 'whangs', 'grams', 'tsar', 'daunt', 'titles', 'drolling', 'leave', 'carneys', 'healers', 'obia', 'growling', 'paned', 'gears', 'sparkers', 'palmiest', 'daw', 'praisers', 'cravens', 'sauted', 'swains', 'azides', 'shrives', 'orangey', 'scatts', 'elates', 'rescales', 'coachers', 'erased', 'upreached', 'scarier', 'tars', 'macerates', 'sewan', 'pike', 'shammers', 'litres', 'shavies', 'rewarm', 'laster', 'bleaches', 'van', 'agings', 'slam', 'darts', 'amnia', 'prizer', 'twinge', 'wides', 'groins', 'stray', 'chiasmic', 'thirling', 'pinions', 'baser', 'arks', 'canner', 'barges', 'brassiest', 'aah', 'tired', 'raisers', 'splay', 'owning', 'rafted', 'rash', 'facers', 'bladder', 'beans', 'nappiest', 'skids', 'escars', 'setal', 'parr', 'ban', 'man', 'shat', 'pink', 'gravels', 'birders', 'romping', 'shrieved', 'hades', 'malar', 'taw', 'sadists', 'stying', 'dinners', 'bearded', 'mantillas', 'meatal', 'patly', 'moires', 'futile', 'blousing', 'piu', 'kivas', 'sagest', 'borax', 'platier', 'caned', 'ragged', 'male', 'blin', 'swabs', 'crackers', 'liever', 'clingers', 'bisters', 'times', 'whales', 'amice', 'maximal', 'clawed', 'brainy', 'ansate', 'gamine', 'wiring', 'barrens', 'vague', 'slinky', 'pliant', 'swan', 'rather', 'missay', 'if', 'apical', 'guard', 'bruins', 'tapes', 'statue', 'airns', 'basics', 'aloins', 'staunches', 'timber', 'soave', 'kiang', 'twats', 'agger', 'carter', 'caddis', 'amis', 'facet', 'clueing', 'cachet', 'guar', 'sexism', 'cramped', 'bringer', 'trash', 'racked', 'tide', 'thrashers', 'canoes', 'mange', 'sneaked', 'carpet', 'edicts', 'warper', 'caver', 'wings', 'mammate', 'tilths', 'lift', 'hastes', 'mawed', 'rams', 'chive', 'clay', 'antae', 'feasts', 'nares', 'pechans', 'glad', 'strings', 'hooping', 'stolid', 'rinks', 'truckling', 'sparest', 'gauzes', 'tiled', 'groan', 'anoas', 'tick', 'leash', 'skin', 'massy', 'ani', 'maunds', 'shatters', 'repapers', 'wary', 'arles', 'edict', 'knap', 'wartier', 'paris', 'isms', 'chints', 'carny', 'petaled', 'waner', 'linguae', 'sagger', 'gamblers', 'dealated', 'miggs', 'chattier', 'pampas', 'skiting', 'paddles', 'sasins', 'cleanse', 'landler', 'scampi', 'calms', 'cachets', 'sixths', 'plaited', 'amp', 'milkers', 'twitchy', 'grating', 'alma', 'fleying', 'stain', 'tape', 'grith', 'morassy', 'limbed', 'canty', 'opining', 'dadoes', 'scale', 'fan', 'gabblers', 'charged', 'liters', 'curate', 'pacer', 'bashers', 'holist', 'witchy', 'repaves', 'laid', 'fears', 'carers', 'tokays', 'barbet', 'havers', 'china', 'sanes', 'swings', 'lenis', 'latens', 'lapin', 'trier', 'amiss', 'witney', 'wakers', 'crafts', 'gamp', 'hilt', 'limb', 'friars', 'plaices', 'twangy', 'scarred', 'spirting', 'edits', 'cameo', 'alkine', 'saxes', 'relate', 'laith', 'drain', 'theins', 'aids', 'scarrier', 'earth', 'blats', 'snapper', 'pricked', 'pieced', 'quilt', 'adz', 'hire', 'planet', 'pawpaw', 'pranging', 'tailed', 'paseos', 'rashers', 'fruits', 'panels', 'prickers', 'ghats', 'awa', 'parled', 'hale', 'quits', 'watt', 'games', 'chivvies', 'stagger', 'saints', 'manse', 'brucin', 'paxes', 'twitters', 'ship', 'leaves', 'brit', 'rink', 'paupers', 'jamb', 'sark', 'warms', 'sapid', 'skirted', 'tapped', 'wanned', 'para', 'trueing', 'aurated', 'apart', 'garbled', 'eager', 'cleavers', 'bas', 'brawlers', 'sheaves', 'chimp', 'farmer', 'saigas', 'splashers', 'hawed', 'shin', 'pyic', 'drinks', 'taxes', 'aweary', 'batch', 'brinks', 'miss', 'obit', 'pawning', 'skips', 'imid', 'tar', 'chi', 'shatter', 'eparchy', 'blasters', 'stalker', 'aces', 'sweats', 'amus', 'fares', 'smiled', 'carless', 'leaven', 'units', 'laminates', 'charro', 'swaths', 'parsleys', 'draper', 'plaguey', 'awake', 'coats', 'tinter', 'had', 'bandy', 'parted', 'tittle', 'gaminess', 'launder', 'partly', 'shiver', 'sarks', 'asides', 'plashers', 'lit', 'saiyids', 'scat', 'alated', 'midst', 'amidst', 'brashes', 'prilled', 'agee', 'stingy', 'lancet', 'waddly', 'anteed', 'rackers', 'kats', 'cracker', 'mirex', 'aspersed', 'launders', 'par', 'yarer', 'barny', 'setae', 'paddler', 'mated', 'uniters', 'baller', 'fane', 'alack', 'hadst', 'tackets', 'brassies', 'clinger', 'speired', 'weaker', 'chaines', 'shindys', 'tirling', 'snarers', 'boas', 'wail', 'berakes', 'acned', 'cats', 'minx', 'soiree', 'brinier', 'spear', 'wisses', 'loiter', 'linn', 'twinned', 'writhes', 'tarots', 'whooping', 'dowsing', 'opah', 'estray', 'samp', 'heavies', 'wearying', 'sheave', 'hailer', 'basalt', 'skat', 'quilts', 'pois', 'taroks', 'gamier', 'linker', 'lin', 'strappers', 'bursars', 'piped', 'mamies', 'acierated', 'barren', 'threat', 'firing', 'loaded', 'dites', 'heaters', 'gavels', 'marc', 'pleaded', 'dawed', 'tattler', 'airts', 'earths', 'piss', 'carate', 'moating', 'cerated', 'lapis', 'wean', 'pale', 'miltier', 'hexades', 'slimed', 'fist', 'means', 'solvate', 'sheaved', 'snacked', 'gauze', 'cairds', 'nabis', 'lignin', 'bora', 'basters', 'jinn', 'maths', 'values', 'irides', 'casks', 'ovines', 'flies', 'brawny', 'sepic', 'stime', 'gaes', 'chared', 'draggers', 'swim', 'bided', 'haets', 'years', 'palpi', 'this', 'wists', 'grasper', 'tirls', 'pathos', 'threadier', 'mailes', 'galas', 'wasted', 'tasses', 'airy', 'solated', 'mattes', 'fagins', 'targets', 'almehs', 'gamps', 'wilts', 'alias', 'chasmy', 'stare', 'tsars', 'strained', 'knit', 'minister', 'leaf', 'leavier', 'plans', 'plink', 'magus', 'rags', 'obits', 'dyeings', 'mantis', 'ates', 'whity', 'prance', 'dinky', 'treats', 'hired', 'bursary', 'talas', 'whiner', 'slavery', 'bare', 'starlings', 'joins', 'dangers', 'slather', 'pavise', 'days', 'orpines', 'clacker', 'drams', 'wilt', 'thrashes', 'navvy', 'drownding', 'earthy', 'aware', 'chis', 'ratel', 'clamps', 'agnate', 'trips', 'mazers', 'rapes', 'tribune', 'lankily', 'blinks', 'deaths', 'sain', 'plat', 'tricksy', 'anglers', 'hadjs', 'mises', 'couping', 'texases', 'anger', 'tingled', 'stagier', 'ras', 'bravoes', 'djin', 'damans', 'chaunt', 'crenated', 'safe', 'inns', 'basest', 'lasso', 'sadisms', 'samites', 'waged', 'warners', 'raspish', 'ranger', 'scrapies', 'restated', 'alkanet', 'scads', 'lowings', 'dank', 'sheather', 'vaguer', 'fanion', 'lidar', 'crasher', 'fussing', 'slangs', 'treat', 'pimping', 'cantors', 'rewarms', 'haulm', 'kiters', 'pam', 'sris', 'whiter', 'flirts', 'fiats', 'clines', 'grabby', 'prelates', 'sakers', 'farl', 'wrists', 'strapper', 'mire', 'hexad', 'tames', 'gravest', 'papas', 'pinnas', 'satang', 'pares', 'mares', 'flabs', 'wrang', 'sewans', 'duads', 'sipes', 'solid', 'whiny', 'boylas', 'shamed', 'kavass', 'ays', 'papers', 'davy', 'pein', 'miso', 'faders', 'drape', 'stabler', 'lather', 'year', 'scatty', 'yaws', 'jaspers', 'hafts', 'makar', 'chias', 'piecer', 'prised', 'placket', 'gyrate', 'plaiter', 'withers', 'maenades', 'badged', 'pranced', 'slatings', 'breaches', 'pinas', 'papaw', 'brainier', 'milkier', 'handled', 'swiped', 'slimy', 'tace', 'awny', 'pita', 'annuals', 'plagues', 'spied', 'gaga', 'lean', 'clank', 'tarot', 'waste', 'speisses', 'breached', 'boyla', 'glasses', 'swards', 'stave', 'swished', 'basses', 'petal', 'sigma', 'pecan', 'pips', 'shaken', 'gibed', 'palps', 'spae', 'chars', 'spilled', 'tauter', 'craping', 'coaches', 'aurum', 'gloats', 'whimsy', 'lilt', 'lama', 'afrits', 'barf', 'tarsi', 'prig', 'tarsia', 'jape', 'parer', 'staggy', 'airthing', 'jaggery', 'satrapy', 'streaked', 'pinning', 'seise', 'maligner', 'wales', 'hadjes', 'biassed', 'hatted', 'tilted', 'leas', 'palters', 'baith', 'argued', 'moans', 'chattery', 'wanglers', 'savings', 'swathes', 'hexads', 'swager', 'reaves', 'brae', 'stark', 'khalifas', 'feasted', 'scan', 'tings', 'stigmas', 'bani', 'maxis', 'bathos', 'gate', 'placid', 'gilds', 'fadges', 'rangier', 'pearls', 'twittery', 'praam', 'title', 'rattler', 'chopping', 'baals', 'rasped', 'stagged', 'laver', 'warred', 'sifts', 'spoilt', 'dildo', 'spiling', 'agama', 'tao', 'carried', 'clift', 'grafts', 'him', 'waster', 'piano', 'bassos', 'phi', 'graspers', 'blate', 'aine', 'latents', 'eaves', 'point', 'amused', 'it', 'whimsey', 'vibes', 'chinked', 'kas', 'starriest', 'table', 'strangers', 'agaze', 'binges', 'caters', 'balls', 'pipers', 'thrawn', 'titers', 'bashed', 'tinned', 'dawing', 'bladdery', 'lingo', 'etui', 'learn', 'farer', 'moire', 'fit', 'hafters', 'passes', 'bassi', 'marish', 'wince', 'maes', 'passed', 'parle', 'wared', 'scalped', 'droit', 'garb', 'fauces', 'clinked', 'gases', 'shingler', 'gays', 'crenate', 'whaled', 'slatches', 'yawled', 'chairs', 'daunted', 'pad', 'veiny', 'hive', 'sparged', 'gargles', 'pixies', 'taupe', 'latent', 'salvers', 'salpids', 'magi', 'padre', 'lawings', 'manila', 'saving', 'dart', 'abases', 'plankter', 'abreast', 'brants', 'khi', 'mangle', 'macles', 'glazier', 'asp', 'oration', 'bach', 'clawing', 'smash', 'navies', 'sable', 'tackier', 'prilling', 'swithers', 'stangs', 'carses', 'creates', 'opines', 'weaner', 'paliest', 'sleaving', 'wan', 'rhaphes', 'snips', 'replanted', 'derays', 'fusing', 'titi', 'grides', 'shrive', 'sliped', 'planets', 'stablest', 'pair', 'jaggers', 'pointed', 'limns', 'scions', 'scald', 'rainy', 'escape', 'halves', 'shinneys', 'flags', 'arco', 'chelated', 'links', 'sharpers', 'bide', 'mise', 'axel', 'rathe', 'trailers', 'boarding', 'scanted', 'titis', 'sanger', 'stabled', 'tier', 'iwis', 'heavers', 'maist', 'bines', 'plack', 'naggers', 'sabered', 'still', 'utas', 'litre', 'mister', 'barongs', 'martian', 'spiled', 'mayst', 'wackes', 'escapees', 'starts', 'palsy', 'lyases', 'rani', 'clinking', 'kays', 'aril', 'cadgers', 'wink', 'aches', 'brag', 'pixy', 'anes', 'clans', 'lacer', 'charger', 'derails', 'patining', 'caged', 'prawns', 'samite', 'shrivels', 'pardy', 'fax', 'gangers', 'saiyid', 'rases', 'blade', 'zamias', 'argils', 'agamas', 'ascarid', 'splices', 'viers', 'pastas', 'spares', 'slain', 'eparch', 'slave', 'copal', 'ramped', 'blame', 'think', 'pipier', 'gland', 'pinnacle', 'hare', 'shammes', 'sibs', 'dragger', 'hames', 'finders', 'wring', 'soling', 'swingled', 'rancid', 'greaves', 'opal', 'thacking', 'estating', 'agmas', 'minted', 'escarp', 'wally', 'caddises', 'cancer', 'spine', 'ably', 'lambs', 'sanded', 'ammines', 'slacked', 'tasks', 'manes', 'gambia', 'staggers', 'whittler', 'farms', 'targes', 'foiling', 'smaltines', 'waked', 'spoiling', 'preached', 'trapes', 'vang', 'ruing', 'brand', 'crane', 'stares', 'tires', 'toasted', 'nappe', 'blimps', 'yam', 'scrapping', 'mantuas', 'hailed', 'wat', 'blitzes', 'tanglers', 'kid', 'winched', 'drave', 'twitchiest', 'lares', 'spicae', 'tracking', 'grit', 'swingers', 'misses', 'millets', 'halest', 'meaty', 'shifty', 'ridgel', 'acetals', 'sayids', 'carex', 'agar', 'slaw', 'twitchier', 'carvers', 'flicked', 'tingler', 'withy', 'splash', 'galea', 'battled', 'bettas', 'caribes', 'alfas', 'pined', 'chanty', 'banger', 'valuers', 'sifting', 'deary', 'flatter', 'barter', 'spas', 'pleasers', 'swinks', 'almahs', 'tansy', 'chanters', 'pshawed', 'flings', 'wite', 'bises', 'sixtes', 'toil', 'shris', 'barfs', 'steam', 'dirking', 'staled', 'molar', 'ladders', 'rasp', 'spiraeas', 'castle', 'ganger', 'gasts', 'lindens', 'acta', 'lave', 'chares', 'marcs', 'prinker', 'sard', 'coupling', 'knits', 'avowing', 'arises', 'restate', 'pointers', 'scars', 'groping', 'scarps', 'gaspers', 'patch', 'barm', 'live', 'braiders', 'yids', 'pashas', 'blites', 'sparky', 'plats', 'caroli', 'cleansers', 'gnars', 'blithers', 'spice', 'bates', 'awns', 'stacked', 'wrangs', 'eta', 'brio', 'topping', 'sault', 'chapes', 'escaper', 'wants', 'dadas', 'tile', 'haver', 'farceurs', 'seisms', 'writes', 'toiled', 'tapis', 'tarred', 'aglee', 'trad', 'beaches', 'sewars', 'blimey', 'maenads', 'cavers', 'gar', 'gamey', 'brin', 'mead', 'careers', 'tirades', 'sasin', 'sinews', 'packs', 'guars', 'dairy', 'brinies', 'ulamas', 'apery', 'tincted', 'kalpaks', 'splitter', 'line', 'leadier', 'shavie', 'lashed', 'scrabbled', 'spails', 'galena', 'waft', 'hales', 'brigs', 'urases', 'kits', 'spinney', 'blamed', 'piers', 'laveer', 'pleaser', 'arenas', 'bawls', 'gloams', 'bratty', 'caprices', 'biter', 'talus', 'tawsy', 'hant', 'scaler', 'chair', 'awning', 'aslant', 'piney', 'escapee', 'sporing', 'fakirs', 'baulky', 'otitis', 'mazed', 'shards', 'bitsy', 'spiriting', 'wafts', 'weary', 'pinnace', 'sparging', 'dared', 'truckings', 'ane', 'laminae', 'charka', 'gages', 'vims', 'lacers', 'valet', 'scabbled', 'garbless', 'paw', 'flagger', 'vagus', 'halloed', 'echards', 'springy', 'blister', 'gambs', 'jay', 'aider', 'splitters', 'clanks', 'spuming', 'prizes', 'rinsers', 'tripe', 'leavers', 'garglers', 'gagged', 'champy', 'missies', 'thither', 'shrift', 'rinses', 'maid', 'stars', 'pinnacles', 'stabiles', 'teaches', 'skimo', 'repin', 'litas', 'quiet', 'byelaw', 'pedal', 'pride', 'tramp', 'scarts', 'fainters', 'ranted', 'peace', 'clarets', 'spoiled', 'latch', 'vans', 'plinks', 'gyrating', 'madres', 'wanted', 'smatters', 'shams', 'jin', 'wither', 'hasty', 'cairn', 'draws', 'trapped', 'prater', 'penates', 'kitted', 'ante', 'trine', 'vasal', 'arced', 'molas', 'staid', 'its', 'dear', 'daters', 'starve', 'meatus', 'shtick', 'limpsy', 'pupas', 'piled', 'named', 'malt', 'roars', 'oblast', 'sadi', 'sabe', 'bowing', 'glimed', 'strangles', 'gapped', 'gratins', 'cheated', 'pingo', 'morays', 'barbs', 'snaws', 'fans', 'daube', 'panned', 'lardier', 'pear', 'spearing', 'preavers', 'trampling', 'hoar', 'farded', 'pileous', 'blimp', 'acre', 'stirpes', 'musing', 'cheap', 'zayin', 'width', 'pleas', 'isolated', 'agreed', 'stared', 'acres', 'cowlings', 'spasm', 'beached', 'moirai', 'danger', 'coati', 'lien', 'smiler', 'asperser', 'tapa', 'tates', 'mains', 'tints', 'hands', 'kames', 'bladed', 'faunas', 'swatch', 'dined', 'kabs', 'guilts', 'sewing', 'shale', 'fin', 'preaver', 'outranged', 'belated', 'drapery', 'curare', 'platens', 'takins', 'hiders', 'charas', 'parser', 'toilet', 'plasters', 'climb', 'aspires', 'eat', 'bursae', 'ideas', 'vas', 'pacers', 'sparking', 'mean', 'serines', 'tattlers', 'slated', 'maxims', 'swarm', 'yarns', 'claret', 'lads', 'hind', 'scape', 'hawing', 'deave', 'paseo', 'pallets', 'tastier', 'pshaw', 'parole', 'atwitter', 'hiked', 'scrawl', 'shaders', 'plical', 'brawly', 'petals', 'skipped', 'ride', 'raps', 'gauger', 'sheathe', 'paints', 'claims', 'thrawed', 'waggers', 'tawneys', 'blains', 'shriver', 'sedated', 'scrappers', 'goad', 'ploying', 'ratios', 'erases', 'slabs', 'ache', 'haily', 'blawn', 'leachers', 'ileal', 'chantey', 'banks', 'wanters', 'maists', 'darks', 'agnates', 'handy', 'gaped', 'tyning', 'dratted', 'shivery', 'lear', 'idlest', 'flays', 'ajar', 'gamings', 'sips', 'parvis', 'plier', 'chics', 'caved', 'antres', 'grat', 'carney', 'oasts', 'dagos', 'pases', 'annas', 'delates', 'awards', 'aspirer', 'whitter', 'musings', 'legman', 'breast', 'swishier', 'spicas', 'triads', 'cleave', 'lasers', 'lint', 'levant', 'shawled', 'mammals', 'crapper', 'cawed', 'smit', 'cape', 'gales', 'hardily', 'ariels', 'ranter', 'swale', 'psi', 'sepalled', 'pare', 'trampers', 'skiers', 'match', 'betas', 'lashers', 'thae', 'kavasses', 'bask', 'slang', 'dag', 'plica', 'unit', 'gins', 'tainted', 'pya', 'ivies', 'chart', 'gassers', 'ragas', 'wagers', 'crawls', 'guilder', 'marted', 'brides', 'thairms', 'graved', 'mackle', 'browsing', 'masting', 'vinous', 'camped', 'raided', 'champed', 'carat', 'ansa', 'doit', 'chastens', 'berake', 'prized', 'leathery', 'bib', 'brazers', 'simas', 'chields', 'tapirs', 'skirtings', 'solating', 'sprits', 'aging', 'amide', 'bites', 'gambiers', 'sades', 'teared', 'spades', 'usages', 'gonad', 'suints', 'spirems', 'dabs', 'bean', 'glade', 'dallies', 'linens', 'slakes', 'whishted', 'grafter', 'elapsed', 'spicy', 'gaby', 'makars', 'phrase', 'arum', 'schtick', 'suites', 'alkines', 'walked', 'moan', 'resign', 'vineal', 'gaud', 'fanciest', 'wrappings', 'lay', 'elapse', 'spaders', 'army', 'brailled', 'velate', 'pingos', 'chided', 'kiwis', 'dreads', 'bream', 'li', 'neat', 'was', 'rail', 'alas', 'raid', 'lass', 'carders', 'tarted', 'galax', 'orangier', 'wand', 'toppling', 'rapers', 'gratin', 'pirate', 'mananas', 'audits', 'pealed', 'craters', 'venins', 'ruling', 'mashy', 'smalto', 'yay', 'caging', 'didy', 'gramas', 'rah', 'bairns', 'slaty', 'shales', 'shaky', 'stript', 'pierce', 'hakes', 'feisty', 'spiraea', 'pirns', 'byelaws', 'limba', 'baches', 'dozing', 'smatter', 'fates', 'farceur', 'axlike', 'slap', 'wracked', 'caret', 'catchers', 'khalifs', 'sinhs', 'plea', 'loathers', 'smacks', 'winchers', 'wager', 'gaddi', 'scantly', 'shears', 'tarocs', 'trapping', 'sin', 'pasta', 'obias', 'glanced', 'paters', 'guano', 'irate', 'hiker', 'palmed', 'bravoed', 'nae', 'sarins', 'said', 'gnarr', 'tineid', 'milky', 'fain', 'tamer', 'sales', 'salutes', 'hauliers', 'yawning', 'dearer', 'gaged', 'switch', 'starers', 'daubes', 'stash', 'rapier', 'winoes', 'finned', 'acetal', 'maizes', 'cared', 'stelar', 'gars', 'paws', 'maneges', 'wissed', 'girn', 'braced', 'awed', 'haulmier', 'oblates', 'shins', 'parley', 'lammed', 'castled', 'smarty', 'grange', 'roan', 'bibs', 'wrapping', 'awnings', 'caner', 'cooping', 'mirk', 'ayin', 'braceros', 'flite', 'hinder', 'taunter', 'molal', 'springier', 'hate', 'pinnaces', 'limned', 'caster', 'gambler', 'recaps', 'patin', 'slimpsy', 'jaw', 'salvoed', 'shrines', 'speak', 'jaspery', 'swiss', 'barde', 'reflate', 'faint', 'utile', 'apers', 'ministers', 'pecans', 'pampa', 'heaver', 'lamed', 'marse', 'rowans', 'steak', 'mortals', 'laps', 'gappy', 'echard', 'wreathy', 'ratio', 'cartes', 'prank', 'likens', 'rave', 'whiners', 'pall', 'amie', 'alfa', 'lieu', 'pirn', 'halts', 'dawks', 'tassel', 'farmed', 'fanciers', 'deads', 'ranid', 'whilst', 'agues', 'teams', 'slinking', 'piety', 'wear', 'awarding', 'craw', 'sprints', 'mayest', 'value', 'dollying', 'clappers', 'planks', 'bats', 'barters', 'place', 'bursas', 'cramping', 'head', 'carets', 'stipel', 'swinked', 'plants', 'axels', 'uprises', 'lapsed', 'cant', 'broads', 'hater', 'quirts', 'basions', 'ravins', 'thane', 'saker', 'triced', 'vain', 'finder', 'lats', 'trick', 'flail', 'arms', 'grazed', 'yaup', 'clingy', 'miser', 'hame', 'pinto', 'waxlike', 'pic', 'kail', 'talkings', 'milder', 'pearled', 'pampers', 'secantly', 'khalif', 'straying', 'wanier', 'rafters', 'ambles', 'wade', 'sautes', 'livery', 'pails', 'mach', 'laggers', 'sibb', 'balsam', 'lased', 'grasp', 'seat', 'tuis', 'witchiest', 'plashes', 'suited', 'blawing', 'plashy', 'wanly', 'imides', 'raxed', 'pams', 'blearing', 'gamiest', 'deash', 'starter', 'baryte', 'atman', 'canned', 'binits', 'vista', 'neap', 'shakier', 'heat', 'primping', 'pip', 'prancer', 'styling', 'hearth', 'aw', 'zarfs', 'miserly', 'radios', 'creamy', 'bride', 'spewing', 'cartels', 'septic', 'raver', 'manus', 'gestates', 'east', 'spilling', 'mined', 'split', 'naives', 'rale', 'alt', 'apache', 'prearms', 'slaving', 'at', 'martin', 'dings', 'lamisters', 'slaved', 'pinned', 'ranches', 'scalper', 'maples', 'wing', 'urase', 'aspic', 'aflame', 'bearding', 'atlas', 'coaters', 'matins', 'loiters', 'prizers', 'lacey', 'mired', 'warking', 'dagger', 'spring', 'oranges', 'stelae', 'shiners', 'estranges', 'ridged', 'boasts', 'glandes', 'dam', 'pah', 'fray', 'triter', 'okays', 'wiss', 'labarum', 'shahs', 'lassies', 'sides', 'stingo', 'mangels', 'dancers', 'solvates', 'warmers', 'loathed', 'alkanes', 'slangy', 'chatter', 'shares', 'chained', 'flinder', 'raser', 'unfixt', 'wheat', 'heists', 'gambolled', 'bider', 'apian', 'acerate', 'spriest', 'yarn', 'masterly', 'tabla', 'sparges', 'farads', 'groin', 'priests', 'batches', 'tittles', 'buras', 'rears', 'sayid', 'headed', 'shifts', 'gated', 'heired', 'yawped', 'ladder', 'septics', 'hade', 'amuser', 'faxed', 'platen', 'gelated', 'sawing', 'chaunted', 'apsis', 'flaggier', 'pickier', 'lapsers', 'awash', 'prickling', 'warked', 'bangs', 'crashers', 'ram', 'tipi', 'raves', 'apter', 'bathes', 'shield', 'dames', 'crases', 'aurums', 'cable', 'speiring', 'amaze', 'balds', 'aspers', 'pina', 'moral', 'hoarser', 'rapider', 'yearn', 'picrates', 'staving', 'flag', 'yare', 'kola', 'lang', 'pileups', 'larum', 'sparling', 'hake', 'planters', 'lacier', 'shaven', 'beaned', 'smarted', 'lade', 'batsman', 'septal', 'swaggers', 'rafts', 'braze', 'satem', 'alto', 'raise', 'zaxes', 'scarless', 'acidy', 'peak', 'septa', 'blawed', 'vises', 'pards', 'thins', 'manager', 'hazier', 'stacker', 'traded', 'brave', 'japes', 'apex', 'areas', 'pinons', 'haste', 'whips', 'dead', 'lase', 'upraisers', 'yaups', 'thank', 'prickier', 'spiremes', 'peans', 'balked', 'moated', 'lier', 'dawk', 'lifts', 'tears', 'axe', 'copings', 'racier', 'boars', 'tilers', 'romanos', 'yid', 'chomping', 'reave', 'hart', 'bales', 'deflated', 'marls', 'valets', 'oreads', 'shavings', 'sopites', 'sangas', 'ladler', 'stories', 'growing', 'mantles', 'towing', 'gaps', 'vat', 'mama', 'awaited', 'qaids', 'thairm', 'chang', 'doating', 'mind', 'flicker', 'pimpled', 'biders', 'mainly', 'hoping', 'maw', 'amido', 'threader', 'lambert', 'hicks', 'pally', 'rand', 'debark', 'painty', 'pray', 'alae', 'pard', 'tepa', 'quietus', 'deflate', 'balmy', 'gloam', 'flier', 'bleats', 'lidars', 'blinis', 'dirty', 'tire', 'marchese', 'agates', 'storying', 'whited', 'pearl', 'fart', 'pinko', 'olives', 'farces', 'mavin', 'sparkier', 'yowling', 'otic', 'miring', 'japing', 'plages', 'ravined', 'timbers', 'chasten', 'palms', 'branned', 'barbells', 'hopping', 'viny', 'brace', 'trickled', 'almeh', 'passers', 'stirk', 'whinnier', 'carle', 'fearers', 'lacked', 'staked', 'peined', 'splashed', 'shirty', 'plashed', 'baited', 'elain', 'rings', 'gadoid', 'bran', 'unwit', 'git', 'hwan', 'kains', 'packed', 'jager', 'shandy', 'haet', 'plicae', 'salpid', 'trapt', 'his', 'amino', 'oink', 'marbly', 'sweat', 'add', 'rowing', 'clacks', 'dance', 'tamed', 'scrooping', 'boats', 'bringers', 'kiln', 'swanky', 'mitered', 'readd', 'shake', 'yah', 'sprites', 'rato', 'lases', 'stifles', 'afars', 'cragged', 'shriven', 'smiles', 'mar', 'faucet', 'timers', 'coatis', 'sink', 'warmed', 'sinew', 'anises', 'wrying', 'darker', 'phiz', 'unfit', 'lion', 'braces', 'glances', 'ashy', 'hauler', 'dinghy', 'dinkly', 'salty', 'grading', 'dauber', 'fawn', 'tas', 'bast', 'cowling', 'stag', 'okas', 'ait', 'escar', 'sparse', 'spiering', 'charter', 'flints', 'shist', 'bawlers', 'rayahs', 'vireos', 'gavel', 'slab', 'navel', 'patent', 'slay', 'grader', 'fadged', 'swathed', 'clays', 'limners', 'heaths', 'hoists', 'trasses', 'taxa', 'sated', 'primal', 'gazer', 'girts', 'hike', 'tithers', 'wreaker', 'hailers', 'pargets', 'beta', 'acme', 'liker', 'balker', 'sharers', 'whaler', 'flatus', 'kame', 'limen', 'chins', 'acarid', 'oast', 'grander', 'loaches', 'morae', 'jaunt', 'spars', 'anils', 'nave', 'sware', 'chaine', 'tams', 'valves', 'kvasses', 'argil', 'ink', 'clashes', 'healer', 'pavises', 'tassets', 'tabes', 'renin', 'slag', 'frat', 'stags', 'flying', 'copying', 'paca', 'shavers', 'estopping', 'ibises', 'seatings', 'macled', 'kiangs', 'wavy', 'waes', 'taxers', 'tic', 'ma', 'valse', 'tint', 'smart', 'rated', 'stylings', 'gallous', 'guids', 'ratels', 'plasher', 'savers', 'waled', 'clicker', 'bridges', 'caners', 'balks', 'greaved', 'epic', 'bura', 'want', 'thirled', 'triples', 'stang', 'slitting', 'lades', 'bushings', 'cadres', 'vaunt', 'pickers', 'unities', 'makers', 'fined', 'sowans', 'tramped', 'brindled', 'matings', 'vawards', 'asps', 'damns', 'lemans', 'mazier', 'brash', 'maculates', 'maill', 'gasps', 'gaums', 'sitar', 'usable', 'spray', 'shags', 'lingas', 'sayyid', 'veined', 'limbos', 'tweak', 'sparer', 'poi', 'boweling', 'kalif', 'rinsed', 'dares', 'vasty', 'thing', 'pean', 'cappers', 'wised', 'flair', 'eking', 'unity', 'ails', 'tweaks', 'grangers', 'singe', 'mammas', 'sharker', 'braised', 'aspire', 'scared', 'dram', 'waker', 'orangery', 'mate', 'vaunty', 'scowling', 'lamister', 'arouses', 'chits', 'lyings', 'wish', 'tories', 'lamber', 'twirled', 'blinker', 'aspis', 'warped', 'dript', 'feared', 'whines', 'lath', 'bridled', 'make', 'shined', 'pansy', 'shives', 'zany', 'dinned', 'rasters', 'smarting', 'clickers', 'eparchs', 'battu', 'talers', 'baryes', 'darked', 'littery', 'hared', 'pal', 'areal', 'mavins', 'bovine', 'against', 'gravy', 'albas', 'staking', 'lawing', 'gazed', 'cannier', 'maize', 'gammers', 'waive', 'dunite', 'fleas', 'grind', 'opinions', 'spliced', 'slate', 'chads', 'trying', 'bracero', 'diet', 'nides', 'amassers', 'alga', 'brazens', 'shields', 'lateens', 'slanting', 'champ', 'mimed', 'resins', 'hoarsen', 'clink', 'slater', 'spanks', 'yearns', 'alkane', 'dyads', 'scarry', 'fins', 'mair', 'swails', 'tater', 'patsy', 'hived', 'ticks', 'shawling', 'tank', 'cerates', 'parses', 'heated', 'rang', 'twits', 'aver', 'plinked', 'waves', 'pipets', 'aiders', 'twill', 'titre', 'basher', 'axil', 'czars', 'whitens', 'party', 'tapsters', 'dyeing', 'plaints', 'tat', 'parers', 'swagging', 'tribunes', 'screams', 'las', 'sheathes', 'stinter', 'wilted', 'restarted', 'writhed', 'tramps', 'valise', 'apt', 'awol', 'stalking', 'dyings', 'raters', 'fats', 'crafted', 'papa', 'tattier', 'gasp', 'swath', 'labarums', 'obi', 'chin', 'bias', 'barbes', 'ageing', 'haps', 'namer', 'swaddled', 'vinas', 'menta', 'hark', 'prided', 'chape', 'prate', 'dashy', 'carats', 'raging', 'warpers', 'ramble', 'waur', 'parge', 'aims', 'earn', 'aroid', 'childes', 'prick', 'way', 'shaws', 'join', 'parches', 'war', 'marker', 'yaks', 'quint', 'midi', 'carls', 'mushing', 'scarer', 'lathier', 'pierced', 'pickings', 'primmed', 'abysms', 'lagers', 'girns', 'badger', 'fays', 'staw', 'wars', 'steals', 'grains', 'vins', 'strickled', 'mantids', 'bit', 'harp', 'wakes', 'mirks', 'flammed', 'visaed', 'amirs', 'boites', 'livier', 'clashers', 'saline', 'gravel', 'solvating', 'wags', 'zetas', 'slat', 'canto', 'gnash', 'malines', 'wavers', 'mantua', 'neaps', 'brake', 'gauntly', 'fate', 'leary', 'flat', 'liny', 'shaved', 'blames', 'gam', 'sparkler', 'kifs', 'mayan', 'replates', 'lea', 'manos', 'lati', 'piping', 'lassos', 'prissiest', 'slicked', 'sices', 'spaced', 'ager', 'hawk', 'scaled', 'bailed', 'arisen', 'wreathe', 'hajji', 'agha', 'fast', 'lamer', 'rattled', 'briniest', 'leaches', 'statute', 'winery', 'mistier', 'chowsing', 'fair', 'patines', 'aswarm', 'mangos', 'voices', 'ya', 'spiked', 'venines', 'dags', 'mania', 'spiking', 'beady', 'filling', 'witches', 'opined', 'parges', 'chapped', 'canna', 'scarphs', 'walers', 'leaks', 'graves', 'sloids', 'bruit', 'whipt', 'pavers', 'slings', 'clear', 'maters', 'suint', 'acmes', 'aggers', 'bash', 'arcked', 'adits', 'coarsens', 'prelate', 'flank', 'marks', 'lawn', 'larvas', 'rapid', 'tildes', 'lair', 'stamp', 'last', 'arise', 'twirls', 'weaved', 'toaster', 'saith', 'sewages', 'eyras', 'palpates', 'pleiades', 'pilei', 'japer', 'vices', 'say', 'sakes', 'orpine', 'aligned', 'swarming', 'sofars', 'finds', 'pang', 'hazy', 'hirer', 'splats', 'wanders', 'flared', 'bhang', 'parker', 'tramping', 'satrap', 'dineros', 'arguers', 'barn', 'guilt', 'panty', 'liefer', 'claries', 'pish', 'tilts', 'rewinds', 'smackers', 'sunlit', 'bargees', 'slipe', 'braw', 'things', 'marge', 'facets', 'scarfs', 'plies', 'paries', 'dildoes', 'caches', 'tinglier', 'greave', 'antre', 'brags', 'dams', 'slant', 'pipping', 'faceted', 'sipped', 'gapes', 'twitches', 'aliened', 'paled', 'flares', 'arid', 'am', 'flamers', 'esprit', 'carouser', 'psalmed', 'cains', 'seated', 'facts', 'tantaras', 'eserine', 'pilaster', 'satiny', 'visas', 'masses', 'pians', 'acid', 'wine', 'plage', 'snaw', 'gists', 'planers', 'chiao', 'semis', 'swamp', 'sirree', 'slats', 'paroled', 'casters', 'tamers', 'khis', 'waxed', 'deathy', 'yeas', 'maline', 'created', 'wariest', 'prearm', 'peat', 'spilings', 'triens', 'sears', 'thrillers', 'blare', 'texas', 'wader', 'flintier', 'reflated', 'sparge', 'grided', 'ready', 'shoppings', 'has', 'ilea', 'saluter', 'optic', 'cater', 'laich', 'defrays', 'ranters', 'pac', 'escarps', 'staig', 'airting', 'tamping', 'eloigns', 'away', 'braved', 'gables', 'begat', 'pase', 'snibs', 'atmans', 'wauked', 'blades', 'bauds', 'thill', 'flaggers', 'reaving', 'waging', 'lacs', 'fridges', 'parity', 'arils', 'mussing', 'gaddis', 'grave', 'sowcars', 'gyrates', 'barons', 'aureate', 'rids', 'spit', 'time', 'shades', 'spirts', 'lanciers', 'flits', 'paviser', 'camps', 'swingle', 'taxied', 'hoary', 'livyers', 'barre', 'boyars', 'babkas', 'dints', 'slanted', 'graving', 'seawan', 'loamed', 'bailers', 'spared', 'sating', 'paged', 'cabled', 'mads', 'warner', 'fawny', 'baste', 'ywis', 'taken', 'cablet', 'sewings', 'sager', 'carousel', 'limps', 'canoe', 'parred', 'flawed', 'pinkos', 'cracked', 'piking', 'skatings', 'estates', 'vaunts', 'piles', 'scarper', 'etoile', 'maned', 'cratch', 'bland', 'baits', 'moister', 'spa', 'labrums', 'tapster', 'arty', 'showing', 'lawns', 'tract', 'karates', 'gabble', 'stripe', 'biased', 'pavins', 'braws', 'smacker', 'wreakers', 'pleaches', 'spines', 'streaky', 'amids', 'baulkier', 'playing', 'stapled', 'sonars', 'wahine', 'shakes', 'stamps', 'yeasts', 'larks', 'withes', 'tils', 'sirrees', 'pacha', 'tae', 'safes', 'claviers', 'raphides', 'snag', 'eluate', 'clap', 'swage', 'rat', 'manor', 'paiking', 'suaver', 'heist', 'patinae', 'linter', 'waney', 'fairing', 'taters', 'gazes', 'stoppling', 'guiled', 'licker', 'price', 'darb', 'pshaws', 'canal', 'shawed', 'licked', 'ridders', 'wavies', 'ai', 'rear', 'epical', 'mantras', 'sei', 'outranges', 'slingers', 'rare', 'limbic', 'scary', 'dater', 'palmier', 'marishes', 'roarer', 'anvil', 'metal', 'saws', 'dildos', 'lire', 'taxi', 'pick', 'faun', 'cades', 'meioses', 'spall', 'stream', 'vinyls', 'fainer', 'barks', 'flirt', 'slags', 'poises', 'lazying', 'wades', 'banked', 'treader', 'slits', 'warned', 'pastimes', 'shofars', 'paras', 'sabin', 'rate', 'flea', 'clinkers', 'spick', 'linier', 'snap', 'galeae', 'dink', 'abaters', 'picked', 'manta', 'rapping', 'pasterns', 'alieners', 'faxes', 'galeated', 'scarped', 'fliest', 'abys', 'grabble', 'whims', 'guilds', 'fanga', 'fearer', 'emir', 'mazy', 'baring', 'carpus', 'graziers', 'straws', 'raven', 'spales', 'palled', 'rapped', 'chicks', 'hams', 'coarser', 'blatted', 'cowing', 'balm', 'haulmy', 'sages', 'chiasmas', 'ramping', 'primas', 'wammus', 'tael', 'braider', 'kilted', 'ha', 'swagger', 'warns', 'phial', 'neath', 'tis', 'rays', 'galenas', 'wampuses', 'knaps', 'lace', 'macers', 'barony', 'heaviest', 'clapper', 'alkanets', 'yird', 'laws', 'whither', 'wabs', 'nappers', 'stings', 'llama', 'palmers', 'amain', 'tacet', 'sit', 'trip', 'scrawls', 'palace', 'paces', 'dame', 'isolating', 'thrilled', 'mir', 'pasters', 'brawler', 'brakes', 'tamis', 'alist', 'brasses', 'aurate', 'frilling', 'mibs', 'magic', 'brindle', 'mammae', 'isatines', 'yagers', 'pains', 'fauns', 'loam', 'stinks', 'cates', 'vinal', 'antick', 'tither', 'ae', 'maids', 'wander', 'fano', 'ghast', 'ball', 'sharped', 'admits', 'lap', 'lilty', 'blasted', 'wearier', 'apish', 'humic', 'baned', 'gamest', 'opals', 'ions', 'goat', 'cave', 'acanthus', 'palmer', 'jambed', 'laureates', 'sale', 'stater', 'hairs', 'emirs', 'arched', 'lars', 'anise', 'saults', 'gestated', 'easts', 'brines', 'pixes', 'vair', 'saices', 'teachers', 'fasces', 'toilets', 'swither', 'completing', 'raggedy', 'yeasty', 'acridly', 'sir', 'stalest', 'scream', 'balded', 'monas', 'moolahs', 'peached', 'dalliers', 'feast', 'swears', 'flattens', 'trackings', 'flan', 'dread', 'samps', 'lankly', 'spitzes', 'chaps', 'alining', 'mattins', 'skein', 'diced', 'soar', 'soiling', 'pads', 'pleaters', 'scampers', 'canter', 'rayah', 'shammies', 'haves', 'stripper', 'teasels', 'siti', 'lickers', 'orangs', 'malars', 'flickery', 'skives', 'reales', 'pachas', 'bowsing', 'sane', 'goorals', 'singers', 'monist', 'canters', 'washy', 'signs', 'maze', 'lomenta', 'solidi', 'ranchers', 'speans', 'stamping', 'mimer', 'mantlets', 'mis', 'moa', 'tacklers', 'blears', 'dray', 'kirn', 'wited', 'stripy', 'scams', 'japery', 'darkled', 'secant', 'thick', 'tided', 'toile', 'tinged', 'pity', 'racer', 'braided', 'simile', 'koans', 'toilers', 'prince', 'spayed', 'stranger', 'scales', 'panes', 'sarges', 'adverts', 'hoars', 'sass', 'diets', 'drawling', 'primped', 'algas', 'smeary', 'gloat', 'crapping', 'atheist', 'brays', 'beard', 'yin', 'dragee', 'faded', 'lewis', 'pawpaws', 'starting', 'stringers', 'blithe', 'cleaver', 'seating', 'brassy', 'catches', 'vane', 'trimers', 'nags', 'bursal', 'lamb', 'snipers', 'kolas', 'patients', 'karats', 'coacts', 'wany', 'abysm', 'valve', 'frags', 'tarter', 'awee', 'mark', 'bah', 'clavers', 'trucing', 'ragging', 'eloping', 'balky', 'saver', 'pleader', 'paster', 'annal', 'ratters', 'pales', 'roarers', 'abroad', 'slipped', 'fanos', 'frit', 'pints', 'pairing', 'vamp', 'elate', 'erasers', 'liner', 'loin', 'coarsen', 'peag', 'davens', 'statuses', 'mano', 'amazes', 'tined', 'mauts', 'lays', 'single', 'finis', 'pilea', 'kanes', 'glaires', 'fancies', 'ashtrays', 'lard', 'omental', 'brios', 'frails', 'air', 'lathy', 'menad', 'coping', 'gale', 'braving', 'mating', 'banded', 'paths', 'minds', 'atma', 'kayos', 'scabbed', 'lackers', 'chinned', 'flatted', 'opting', 'alecs', 'barkier', 'starters', 'greats', 'task', 'gleans', 'tacts', 'ruins', 'enates', 'guides', 'spade', 'baht', 'tallier', 'native', 'lane', 'vassals', 'snipped', 'tilled', 'aliens', 'soakers', 'reign', 'nates', 'based', 'cadi', 'blinder', 'mattery', 'bibbs', 'abyes', 'sanders', 'trance', 'scaped', 'slammed', 'grands', 'ask', 'tie', 'tinted', 'taut', 'sameks', 'shinney', 'lyard', 'palm', 'kilt', 'fangs', 'stacte', 'vines', 'tarries', 'vaned', 'mae', 'knitted', 'laved', 'bitt', 'tzars', 'scanners', 'glazy', 'strains', 'bay', 'llamas', 'epact', 'trail', 'waisted', 'gash', 'jambs', 'graters', 'kyat', 'hearse', 'snowing', 'waviest', 'palest', 'blamer', 'carrousel', 'big', 'ships', 'winzes', 'phis', 'abate', 'thinned', 'largess', 'siring', 'anneals', 'shawls', 'loads', 'carte', 'beraked', 'reaps', 'rayas', 'snarlers', 'tweaky', 'castles', 'trapper', 'farce', 'fridge', 'staned', 'tierced', 'laky', 'cranes', 'swages', 'blander', 'glace', 'squinty', 'daub', 'slid', 'thrave', 'spices', 'foists', 'chino', 'steamy', 'boardings', 'liane', 'spaded', 'shied', 'tricky', 'limed', 'plying', 'tiger', 'leafs', 'areae', 'acidly', 'tiller', 'scarpers', 'barrels', 'whinny', 'skirts', 'arrises', 'averts', 'gravely', 'mane', 'ironies', 'praxises', 'twang', 'caroused', 'arcs', 'blab', 'girth', 'hear', 'kilts', 'masts', 'childe', 'sprats', 'spiker', 'reams', 'scalds', 'teary', 'masted', 'winceys', 'busings', 'lattens', 'sanga', 'granted', 'splatter', 'espies', 'meager', 'dicta', 'weaners', 'quoits', 'gamy', 'blanked', 'stied', 'dousing', 'wailer', 'reapers', 'stair', 'qaid', 'waxers', 'chats', 'parve', 'solate', 'trines', 'grist', 'vavs', 'haen', 'parsec', 'climbs', 'stapes', 'rased', 'smears', 'sprays', 'riant', 'faeces', 'drapes', 'piercer', 'dawted', 'malting', 'throwing', 'faced', 'phases', 'larval', 'rowan', 'ravin', 'redcaps', 'seta', 'axils', 'bussings', 'argyles', 'inky', 'tassie', 'relapsed', 'isolate', 'vakil', 'barbers', 'kists', 'wham', 'debar', 'baud', 'smile', 'jinks', 'flamier', 'chanted', 'coast', 'varlet', 'chapels', 'twitch', 'baldly', 'tanker', 'wartiest', 'yack', 'batcher', 'hatch', 'clinks', 'tit', 'axes', 'unite', 'amas', 'pechan', 'braches', 'bite', 'trap', 'prattler', 'shaw', 'braise', 'shims', 'mangles', 'daggers', 'slier', 'snaps', 'glazed', 'pampero', 'tawsed', 'ambled', 'gambles', 'snit', 'saids', 'stringier', 'slipes', 'twiner', 'magnate', 'prink', 'shrived', 'scarp', 'maniacs', 'yawpings', 'franks', 'bases', 'apsides', 'jails', 'manias', 'mammies', 'ties', 'stalked', 'alive', 'fritts', 'wavey', 'tackler', 'paleae', 'swarded', 'shear', 'names', 'stills', 'joint', 'matter', 'taj', 'gae', 'alarum', 'agas', 'shawing', 'platinas', 'vise', 'raving', 'massed', 'places', 'avail', 'advert', 'takings', 'massas', 'klatch', 'plays', 'points', 'wit', 'mateys', 'haleru', 'earl', 'chary', 'livres', 'stalkers', 'maligned', 'sparred', 'prates', 'bate', 'amass', 'gallus', 'springes', 'agist', 'kilter', 'pallier', 'ammine', 'ramps', 'linins', 'coached', 'hoick', 'campy', 'stable', 'lice', 'aures', 'satins', 'gamba', 'tapping', 'winze', 'sprit', 'aliners', 'pekan', 'healths', 'wailers', 'saga', 'lance', 'dak', 'cawing', 'boras', 'bag', 'flax', 'tabs', 'pricey', 'heart', 'placoid', 'sharp', 'alined', 'guiders', 'unlit', 'dwine', 'adze', 'matt', 'hat', 'taxis', 'barfing', 'wraith', 'brashest', 'yearly', 'dipt', 'theaters', 'pricking', 'stables', 'namers', 'daws', 'parsed', 'admass', 'morass', 'malate', 'slitter', 'skates', 'snawed', 'theist', 'stabs', 'flamer', 'waspy', 'twa', 'stringer', 'kamiks', 'piece', 'manors', 'switchers', 'dryads', 'toads', 'sained', 'law', 'twitted', 'streak', 'pairs', 'simar', 'miller', 'charks', 'airn', 'arf', 'swarmers', 'haltere', 'glazers', 'hated', 'slaws', 'palaces', 'spins', 'shopping', 'tiny', 'peaces', 'brandied', 'car', 'stewing', 'gear', 'scam', 'flips', 'gamely', 'raved', 'plates', 'draw', 'stablers', 'mack', 'steamed', 'with', 'hazes', 'palates', 'plaster', 'amitoses', 'brail', 'planned', 'shindy', 'statues', 'hawses', 'fisty', 'grates', 'carousers', 'hawked', 'ava', 'beano', 'varlets', 'manses', 'pion', 'slimily', 'dienes', 'slack', 'macer', 'wise', 'bawdy', 'spicer', 'blaring', 'scantier', 'chaunter', 'fag', 'cardinals', 'darted', 'riddler', 'grasping', 'pastel', 'plashier', 'scanter', 'wrathy', 'trientes', 'blinked', 'cadged', 'pint', 'fingers', 'splicers', 'cantons', 'borates', 'escapers', 'ataman', 'primeros', 'angers', 'salvoing', 'carvel', 'whins', 'grate', 'gaumed', 'oread', 'whiteys', 'sewar', 'brawl', 'clomping', 'upraised', 'abase', 'naive', 'laced', 'canthus', 'waggled', 'twirl', 'cremated', 'princess', 'thwacking', 'sprang', 'resin', 'lapses', 'barbels', 'aloes', 'cabins', 'creasers', 'almah', 'flaxy', 'bushing', 'limp', 'art', 'planted', 'brach', 'draft', 'cream', 'ridge', 'lassoes', 'sima', 'windy', 'ages', 'castes', 'gramp', 'tackers', 'pikes', 'nary', 'sirens', 'gambias', 'cain', 'panne', 'bareges', 'brasher', 'abides', 'doat', 'epics', 'lapises', 'parish', 'pipe', 'mimes', 'maniac', 'leva', 'band', 'stance', 'sains', 'ague', 'swipe', 'karts', 'spaits', 'arums', 'shits', 'pinked', 'fatso', 'hilts', 'neats', 'paiked', 'bruits', 'draggled', 'linty', 'carp', 'pinasters', 'lamster', 'omenta', 'tacklings', 'any', 'jinns', 'lamsters', 'thraws', 'kited', 'irking', 'spears', 'brasils', 'gambier', 'leis', 'lad', 'gadoids', 'gauging', 'career', 'clash', 'foetal', 'stimes', 'yairds', 'wearing', 'abusing', 'gasted', 'pie', 'boyard', 'gnarrs', 'bras', 'treadler', 'seined', 'landers', 'gazers', 'barbing', 'stagy', 'didos', 'gaging', 'trains', 'ganef', 'roasters', 'warks', 'drawls', 'crankier', 'smaze', 'algae', 'tharms', 'canton', 'haunts', 'xi', 'clag', 'lat', 'titres', 'facetted', 'dauted', 'near', 'aas', 'gaols', 'restarting', 'strips', 'mist', 'mig', 'whisht', 'rad', 'harem', 'teak', 'sadist', 'pinion', 'grafters', 'pipet', 'spiered', 'math', 'droits', 'hazily', 'thicks', 'saris', 'rafter', 'princes', 'egads', 'snick', 'tan', 'swinge', 'bahts', 'climes', 'ace', 'misery', 'areca', 'dite', 'limes', 'sluices', 'raphias', 'fatted', 'aline', 'brans', 'cadent', 'copals', 'glair', 'traced', 'fid', 'stifler', 'papaws', 'dingus', 'kaas', 'wingy', 'stinky', 'ratted', 'mats', 'panted', 'spits', 'late', 'thrawing', 'gan', 'mayvin', 'pauper', 'winned', 'rya', 'harped', 'knave', 'harm', 'blinkers', 'prinks', 'fetiales', 'ah', 'baba', 'ta', 'clasp', 'craving', 'glean', 'peals', 'braid', 'mitring', 'wastes', 'carters', 'batman', 'zarf', 'valuer', 'threaders', 'camasses', 'drays', 'thraves', 'floats', 'prances', 'whists', 'shoat', 'raises', 'carpets', 'skint', 'suite', 'silty', 'horary', 'cremates', 'states', 'paved', 'ay', 'stripes', 'tiring', 'rasping', 'stamped', 'tamped', 'haw', 'bearing', 'gauged', 'ion', 'bait', 'purisms', 'stiller', 'hearted', 'bals', 'derail', 'gauge', 'machs', 'spics', 'kayo', 'skater', 'snicks', 'galah', 'carnies', 'priest', 'roans', 'bray', 'prangs', 'pauses', 'shiels', 'prints', 'peage', 'adios', 'calves', 'shifting', 'cleaved', 'wats', 'paise', 'saltine', 'classes', 'ham', 'slowing', 'spinel', 'tanka', 'sharks', 'span', 'debarks', 'pinta', 'cropping', 'pointes', 'ridder', 'shim', 'urares', 'sparkling', 'jam', 'sage', 'shifted', 'heavier', 'macerated', 'leasts', 'randy', 'kanas', 'striped', 'auntly', 'liman', 'cares', 'writher', 'chiaus', 'jarls', 'bursa', 'galahs', 'twangler', 'wanter', 'bastes', 'gabbler', 'bads', 'binit', 'aroids', 'yard', 'doings', 'hadjis', 'hawking', 'sadhe', 'amps', 'woalds', 'tamp', 'gable', 'ghi', 'sate', 'picky', 'awes', 'jink', 'birdied', 'facer', 'bays', 'spat', 'yawed', 'relates', 'prated', 'grater', 'birded', 'beachy', 'leaved', 'isling', 'sari', 'blisters', 'trams', 'wisps', 'twanglers', 'as', 'gonads', 'caddish', 'airing', 'spikes', 'arts', 'afrit', 'springer', 'slacker', 'fiars', 'swiples', 'nopals', 'salary', 'wady', 'wame', 'sliders', 'piked', 'stipes', 'kappas', 'gamer', 'nits', 'bass', 'flyings', 'sagier', 'shticks', 'preaches', 'barker', 'maple', 'knappers', 'relapsers', 'stilts', 'trans', 'rant', 'usage', 'sanest', 'mac', 'bread', 'phase', 'scrapper', 'ballers', 'bin', 'mana', 'cadis', 'brings', 'koas', 'tribes', 'doling', 'sandy', 'twiers', 'waw', 'bleak', 'amahs', 'bhangs', 'landed', 'chips', 'alant', 'haulms', 'strasses', 'busing', 'tawney', 'copalm', 'pinbones', 'psaltery', 'lamedh', 'mantrap', 'canes', 'resigns', 'bawled', 'kiter', 'rattlers', 'swing', 'dinkeys', 'linger', 'spinels', 'springs', 'shewing', 'clackers', 'spires', 'sinus', 'romans', 'slimly', 'pekin', 'grandeur', 'raxes', 'pirates', 'reads', 'tardo', 'aspersers', 'cadet', 'burins', 'tats', 'clamp', 'blase', 'toppings', 'pranged', 'gags', 'hoppling', 'vail', 'firings', 'acierates', 'vasts', 'lysing', 'insolated', 'twist', 'pimas', 'marline', 'lined', 'grafted', 'flacks', 'amides', 'pias', 'naiver', 'boyards', 'likers', 'monads', 'liners', 'pit', 'hahs', 'skis', 'slewing', 'hastens', 'pawned', 'praises', 'gambe', 'kvases', 'tabled', 'glowing', 'haunt', 'lar', 'sharps', 'grits', 'tails', 'broad', 'pinker', 'mild', 'chark', 'battues', 'littler', 'fetial', 'fine', 'walker', 'tram', 'fainest', 'java', 'gaggling', 'venin', 'satraps', 'hards', 'shines', 'whish', 'salvoes', 'haj', 'chat', 'lards', 'hied', 'charmed', 'pamper', 'draping', 'alien', 'sharer', 'bath', 'tassies', 'eikons', 'barbell', 'lineny', 'plait', 'prat', 'awing', 'marshy', 'patens', 'palliest', 'clan', 'switches', 'waddy', 'listers', 'bimahs', 'spitz', 'bails', 'leased', 'gaunt', 'ofays', 'limn', 'ands', 'strowing', 'flashers', 'clampers', 'twine', 'ale', 'clamped', 'palet', 'pawl', 'navy', 'pated', 'elands', 'eats', 'limbier', 'leaky', 'graded', 'slakers', 'liter', 'lairs', 'staler', 'thriller', 'cables', 'wispy', 'migs', 'hie', 'waring', 'swear', 'chined', 'ariel', 'moil', 'stank', 'skinks', 'wairs', 'nails', 'spicey', 'hawsers', 'trickily', 'pies', 'whities', 'stipend', 'gyrated', 'whimseys', 'yaird', 'guans', 'axed', 'wrapt', 'oat', 'glady', 'drawn', 'balkier', 'seawants', 'clifts', 'stolider', 'related', 'tides', 'rappers', 'raping', 'aped', 'seised', 'sways', 'rage', 'tiles', 'linters', 'airt', 'changers', 'aivers', 'gnarly', 'chapt', 'shive', 'storming', 'lader', 'uta', 'orated', 'elated', 'swearer', 'spader', 'haole', 'rasper', 'amidol', 'brinded', 'slivers', 'cager', 'smite', 'irony', 'plaguer', 'clings', 'quaint', 'sayest', 'fanega', 'sloping', 'cyano', 'wits', 'rapt', 'agave', 'hisn', 'bail', 'treadled', 'champs', 'batted', 'strapping', 'trass', 'bylaws', 'hawkings', 'flatten', 'cansos', 'manege', 'livens', 'prinking', 'charred', 'slip', 'blah', 'tying', 'mawn', 'spicate', 'mental', 'lames', 'gradines', 'samek', 'bravest', 'lamped', 'shaled', 'thirls', 'lacerates', 'linin', 'breachers', 'ads', 'daubed', 'kist', 'pica', 'stanks', 'swarty', 'magnates', 'shaly', 'lairds', 'brined', 'toit', 'snags', 'blankly', 'cavy', 'gals', 'brashy', 'dream', 'bathers', 'olea', 'parolee', 'playas', 'claim', 'litters', 'sceptics', 'pears', 'wises', 'brank', 'thaws', 'brig', 'raspers', 'looping', 'piecings', 'yeah', 'swain', 'camels', 'waited', 'tingles', 'arm', 'jarl', 'barfed', 'planked', 'betta', 'clips', 'tampers', 'lingam', 'chinos', 'largesses', 'raids', 'plank', 'amies', 'lamp', 'brambles', 'witchier', 'chiasma', 'shitting', 'grant', 'palpated', 'hags', 'staggery', 'uniter', 'beads', 'gravers', 'rearms', 'taws', 'spathe', 'wrappers', 'hinders', 'mates', 'rowings', 'bang', 'glazer', 'savines', 'kyats', 'ana', 'strawy', 'ifs', 'mixt', 'smirky', 'twigs', 'hearses', 'rider', 'fairy', 'tiler', 'spites', 'sharked', 'pricier', 'handed', 'chiasms', 'bridged', 'spic', 'dinged', 'lianes', 'bursting', 'flare', 'gnarls', 'axile', 'guider', 'hid', 'vaward', 'tins', 'bairn', 'barring', 'patten', 'thrip', 'borides', 'barer', 'lain', 'alsike', 'sadis', 'pat', 'daces', 'grape', 'repiners', 'savin', 'clears', 'tam', 'scart', 'lauds', 'holists', 'praams', 'six', 'agars', 'gladder', 'gat', 'sparers', 'vistas', 'caverns', 'warmer', 'cerate', 'skimp', 'girds', 'cartel', 'deray', 'vinca', 'plaint', 'staves', 'salves', 'gaggled', 'wadies', 'duit', 'lists', 'grasped', 'bracer', 'dhaks', 'eloin', 'gink', 'haired', 'aba', 'slices', 'barbel', 'braxy', 'bits', 'phrased', 'parolees', 'okra', 'cremate', 'whine', 'branded', 'swingier', 'grade', 'libbers', 'shire', 'briners', 'braky', 'kings', 'pays', 'paves', 'canst', 'barb', 'carks', 'taped', 'stopping', 'hash', 'lead', 'sadism', 'angas', 'lease', 'spiny', 'paper', 'manas', 'yawl', 'blini', 'chaw', 'mangey', 'saluted', 'learnt', 'fetal', 'finfish', 'tawny', 'gids', 'relater', 'sabers', 'axal', 'wale', 'hadj', 'sipe', 'steal', 'mora', 'craped', 'peases', 'stilting', 'eras', 'misterm', 'clambers', 'splined', 'flitted', 'donated', 'gnashes', 'bead', 'prawned', 'gabbles', 'fados', 'craves', 'skirting', 'draftier', 'liney', 'spin', 'gamming', 'maundy', 'alans', 'bark', 'larders', 'pintos', 'fards', 'filar', 'gestating', 'spay', 'shakoes', 'aves', 'smartly', 'abridges', 'awaken', 'stained', 'hint', 'dale', 'tsades', 'slacks', 'fatsos', 'manage', 'manana', 'hiver', 'barky', 'brains', 'milliners', 'washiest', 'stilly', 'taces', 'spinnings', 'pawing', 'tipsy', 'cagy', 'carked', 'strangle', 'hoist', 'mitre', 'latches', 'taxus', 'stales', 'glaciers', 'hips', 'twirling', 'boated', 'penal', 'brisk', 'laminar', 'patins', 'tangler', 'borated', 'bearer', 'rase', 'pixys', 'abided', 'spline', 'bade', 'liar', 'cade', 'plopping', 'atingle', 'boasted', 'pilings', 'misos', 'strass', 'lints', 'wanes', 'sassy', 'camp', 'plicate', 'tappers', 'pinnal', 'rides', 'aunt', 'dads', 'sparker', 'hairy', 'whiten', 'charros', 'baled', 'earls', 'kapas', 'semi', 'tilter', 'aged', 'sim', 'kyars', 'tepas', 'thills', 'mangler', 'granters', 'farm', 'rearers', 'tains', 'gowning', 'wamuses', 'death', 'lands', 'lamberts', 'maimers', 'abates', 'isolates', 'sprig', 'trackers', 'caste', 'baas', 'limbas', 'axles', 'march', 'rales', 'mortal', 'warps', 'heathier', 'bister', 'sprayed', 'stropping', 'piper', 'grabs', 'quite', 'hoarse', 'irater', 'parget', 'vangs', 'stairs', 'wheats', 'tacos', 'tarriers', 'crags', 'poise', 'tablet', 'steams', 'glint', 'failings', 'aphides', 'fail', 'kithe', 'hikers', 'blank', 'jays', 'slides', 'tabus', 'ethane', 'fauna', 'lancets', 'gabbled', 'apse', 'same', 'shiest', 'misty', 'blind', 'shrined', 'sheathers', 'coapts', 'palaced', 'hoarsens', 'tasset', 'siftings', 'primes', 'ladled', 'whitefly', 'moaned', 'lapser', 'dint', 'tips', 'jane', 'charr', 'polios', 'visaged', 'agate', 'caries', 'plicated', 'managers', 'huic', 'gibbed', 'gien', 'gadids', 'nappie', 'teased', 'palier', 'ashamed', 'sites', 'heater', 'okay', 'lamest', 'hit', 'bewaring', 'coasts', 'tracers', 'tineas', 'balkers', 'mangier', 'parched', 'pricks', 'banes', 'triller', 'wampums', 'danced', 'cranky', 'timid', 'angler', 'yeans', 'rodsman', 'mambas', 'twaes', 'sacred', 'pickeer', 'hajis', 'wisp', 'shame', 'irons', 'swishers', 'cannery', 'splinted', 'toiler', 'salines', 'wawls', 'sowing', 'bashes', 'glittery', 'batty', 'abider', 'classers', 'swarmed', 'carns', 'teals', 'pastry', 'dap', 'staring', 'pass', 'hawser', 'palea', 'piker', 'sopited', 'mare', 'slinks', 'shader', 'pipings', 'snappers', 'drabs', 'toast', 'kit', 'splayed', 'aspiring', 'cavies', 'missises', 'vases', 'sarin', 'poised', 'warn', 'axial', 'blooping', 'tap', 'vanward', 'singed', 'carriers', 'tared', 'pricer', 'fades', 'abyss', 'sigmas', 'pedalled', 'padres', 'estrays', 'kaes', 'barber', 'la', 'lyase', 'peats', 'plaining', 'kilty', 'prickly', 'cask', 'ways', 'tidies', 'fare', 'brazil', 'peasen', 'maskers', 'hirers', 'milliers', 'vairs', 'scrags', 'yea', 'linguals', 'salved', 'whaup', 'blastier', 'fa', 'manilla', 'peachers', 'winged', 'larky', 'parka', 'threads', 'grandeurs', 'grabbles', 'twinged', 'hail', 'raggedly', 'rapids', 'lits', 'panging', 'strippers', 'patined', 'carven', 'inks', 'dryades', 'prissy', 'latter', 'pika', 'wines', 'pawls', 'ants', 'limbers', 'smiters', 'springe', 'aseptic', 'avails', 'bramble', 'fads', 'sited', 'til', 'sparlings', 'orates', 'hats', 'imagoes', 'ureases', 'fagin', 'pinging', 'bid', 'rins', 'fraters', 'lizard', 'averse', 'gaudy', 'na', 'stellas', 'mioses', 'sixte', 'cairns', 'cays', 'libs', 'moray', 'warning', 'hangs', 'twiners', 'panga', 'wirings', 'thine', 'chants', 'phages', 'tracery', 'ghauts', 'waler', 'braize', 'si', 'peages', 'chanteys', 'prancers', 'kvass', 'rind', 'hays', 'gabled', 'stabile', 'whoas', 'coat', 'kinds', 'sham', 'scion', 'tricked', 'swail', 'vanes', 'kink', 'shairds', 'pleated', 'rarer', 'tried', 'plackets', 'charkas', 'sith', 'koan', 'twirly', 'lager', 'lining', 'pin', 'graders', 'tare', 'plaister', 'lintier', 'spire', 'liars', 'eikones', 'statutes', 'baulk', 'warding', 'migg', 'slaver', 'romano', 'wahines', 'strake', 'misterms', 'haven', 'staggiest', 'fay', 'rapiers', 'linky', 'print', 'writers', 'scamp', 'warded', 'safest', 'busting', 'chain', 'zamia', 'ridges', 'site', 'cars', 'shammed', 'wangler', 'maund', 'macs', 'priss', 'alvine', 'tirled', 'linseys', 'pavisers', 'doing', 'whistled', 'barmy', 'ratch', 'casky', 'gaed', 'vin', 'slitters', 'spanned', 'pointer', 'carol', 'pleiads', 'bitty', 'marched', 'maenad', 'leathern', 'valgus', 'paler', 'shearers', 'chick', 'basils', 'dated', 'regales', 'pace', 'acids', 'skit', 'gaggers', 'strakes', 'toady', 'mays', 'scratch', 'spooring', 'fidos', 'finks', 'shay', 'mille', 'snip', 'flamines', 'ranis', 'swampy', 'gambled', 'mat', 'thrill', 'wraps', 'palmate', 'biters', 'guide', 'argles', 'pan', 'gride', 'lairing', 'lava', 'stake', 'classy', 'coact', 'stiflers', 'strapped', 'pileated', 'soaker', 'aha', 'milliner', 'wadders', 'moxa', 'pamperos', 'brattled', 'basins', 'dreamy', 'vastly', 'aahs', 'lark', 'thready', 'tacit', 'psalm', 'phials', 'stir', 'fatsoes', 'slavers', 'safer', 'sopiting', 'kakas', 'straked', 'jambe', 'frail', 'palpus', 'hang', 'da', 'brashier', 'shies', 'primers', 'lawny', 'lasters', 'regave', 'ears', 'kat', 'matters', 'thanking', 'stagiest', 'trampler', 'shave', 'swatches', 'patinas', 'karst', 'twitchers', 'brails', 'that', 'fraises', 'dinero', 'twains', 'skim', 'sopite', 'grated', 'clads', 'cravers', 'reigns', 'spark', 'patient', 'platters', 'spats', 'pries', 'knapped', 'abridgers', 'bawds', 'pith', 'sticky', 'vaws', 'plastery', 'clangs', 'slimsy', 'cadging', 'lanced', 'ganevs', 'spinning', 'sitting', 'plaisters', 'oath', 'charms', 'tastes', 'haed', 'ravens', 'ais', 'bitterns', 'tinea', 'brained', 'insolating', 'park', 'shirts', 'bleared', 'tache', 'shearer', 'clack', 'scar', 'prickled', 'glitter', 'anew', 'leisters', 'carries', 'warring', 'couplings', 'scamper', 'wins', 'twitched', 'sties', 'weavers', 'tidiest', 'fetas', 'ogam', 'cast', 'darbs', 'sangar', 'lanes', 'stiped', 'matts', 'flaps', 'fillings', 'lag', 'whoa', 'breach', 'batchers', 'rats', 'taco', 'sniped', 'pave', 'amah', 'czar', 'ablates', 'haled', 'lavers', 'liken', 'spaed', 'hawks', 'acrid', 'aliner', 'twills', 'lacerate', 'borings', 'cobias', 'halers', 'boast', 'talar', 'candent', 'realest', 'says', 'firsts', 'garbles', 'shaird', 'baulks', 'drats', 'rhaphae', 'pas', 'amuses', 'teats', 'shri', 'flatters', 'kilters', 'raphes', 'blips', 'ring', 'granting', 'anal', 'spieled', 'bilander', 'psalms', 'aloe', 'ins', 'staple', 'whaups', 'fleam', 'haes', 'teaser', 'wreath', 'chaired', 'ethanes', 'lams', 'boat', 'irone', 'blinders', 'alate', 'glanders', 'spinnery', 'limens', 'scarfed', 'strangled', 'ski', 'gravelly', 'strange', 'charts', 'charked', 'telial', 'splasher', 'somite', 'yawp', 'basalts', 'liked', 'lisp', 'palmy', 'frapping', 'shawn', 'pastels', 'agin', 'aal', 'phased', 'spirt', 'sleaves', 'pinky', 'wains', 'hafter', 'cleanses', 'feats', 'wranglers', 'soars', 'flirty', 'taster', 'drails', 'tea', 'skived', 'dinner', 'campier', 'maya', 'realms', 'gast', 'barbets', 'pitas', 'hadjees', 'clip', 'starvers', 'blacks', 'tangy', 'tass', 'basso', 'sway', 'chantors', 'whip', 'stages', 'tarns', 'boarts', 'opinion', 'stripers', 'raped', 'parities', 'flit', 'morals', 'abater', 'unmiters', 'smear', 'swarms', 'skirt', 'write', 'ghaut', 'tarried', 'spited', 'grifts', 'useable', 'lions', 'kava', 'banns', 'maculed', 'molars', 'crams', 'streaks', 'dyad', 'eloins', 'caped', 'jams', 'cans', 'swearers', 'scad', 'suing', 'heiring', 'jambes', 'navels', 'path', 'halt', 'leant', 'palter', 'islander', 'snipe', 'flaw', 'haft', 'psis', 'spite', 'liangs', 'parried', 'slicker', 'gagers', 'kalifs', 'smiths', 'sticks', 'bise', 'strand', 'yirds', 'woald', 'starling', 'picketer', 'arcus', 'gravies', 'did', 'peaches', 'orange', 'caper', 'altars', 'branchy', 'abashes', 'gagging', 'bane', 'friths', 'heaves', 'aghast', 'bowlings', 'karate', 'misusers', 'marchesa', 'twinier', 'pareve', 'grapes', 'flites', 'slackers', 'strangler', 'phage', 'flasher', 'foins', 'laths', 'argues', 'mag', 'awarded', 'tilt', 'wildest', 'grays', 'dramas', 'stowing', 'maker', 'patterns', 'arider', 'first', 'starker', 'similes', 'skeptic', 'raiser', 'leads', 'tarts', 'tzar', 'agists', 'palls', 'blintzes', 'scares', 'oaths', 'scarphed', 'pikas', 'djinny', 'child', 'wrings', 'swindled', 'pia', 'pis', 'taler', 'planed', 'wishers', 'bola', 'lifters', 'spinet', 'nacres', 'reaped', 'titter', 'trices', 'tangs', 'ran', 'simps', 'tilde', 'wambles', 'swipes', 'skeined', 'batts', 'bind', 'mimers', 'pavid', 'cark', 'harpy', 'hag', 'boraces', 'whim', 'gestate', 'spirted', 'araks', 'elapses', 'swearing', 'mangled', 'clams', 'glaze', 'pater', 'dragging', 'pinnacled', 'lasses', 'pangas', 'team', 'chaunters', 'twaddled', 'laden', 'jauping', 'ragis', 'whids', 'acred', 'moolas', 'ear', 'twin', 'filings', 'grace', 'maars', 'byroad', 'fixt', 'archers', 'treaty', 'shade', 'is', 'repins', 'stoping', 'abide', 'take', 'sprite', 'aphis', 'hajjs', 'solates', 'scrams', 'filming', 'skats', 'flashier', 'dada', 'gasses', 'spaes', 'goals', 'pithy', 'jauped', 'white', 'waxy', 'mantes', 'wamble', 'vinos', 'twined', 'waveys', 'ontic', 'platy', 'hair', 'piecers', 'feist', 'mannan', 'maxima', 'klatsch', 'gammed', 'tinters', 'spake', 'adzes', 'menads', 'ghat', 'spiles', 'aga', 'saved', 'jnanas', 'kin', 'fard', 'sinks', 'winced', 'map', 'maturest', 'wisted', 'banal', 'leader', 'britt', 'gape', 'dragged', 'kithes', 'timer', 'haems', 'chico', 'coaster', 'busking', 'damps', 'boa', 'granges', 'agenes', 'wairing', 'mile', 'abridger', 'braizes', 'straps', 'jinx', 'tomenta', 'grail', 'scalier', 'gaper', 'fruity', 'spired', 'splits', 'farcer', 'airth', 'delated', 'fanegas', 'pilled', 'aide', 'mauger', 'lamiae', 'alef', 'scraper', 'lilts', 'doming', 'shinier', 'sabines', 'aligners', 'grazer', 'carps', 'abele', 'crowning', 'trimer', 'alan', 'grazes', 'djins', 'pinones', 'brine', 'rambled', 'canoed', 'fated', 'macules', 'barging', 'bragging', 'fairer', 'speise', 'stalkier', 'farcies', 'stillier', 'scanner', 'gular', 'bidets', 'tavs', 'azine', 'spate', 'saber', 'midsts', 'tarriest', 'craven', 'slithers', 'libers', 'arak', 'pekins', 'faces', 'ape', 'climbers', 'wreathen', 'palp', 'laten', 'brandy', 'stampers', 'alec', 'slaps', 'heaps', 'winey', 'yawps', 'lings', 'drains', 'hin', 'wears', 'shoaly', 'past', 'pleaders', 'valses', 'okras', 'acerbates', 'slaters', 'scalded', 'gilts', 'yar', 'pimps', 'sowcar', 'sand', 'telae', 'spinets', 'cavie', 'pauser', 'cratches', 'stade', 'slicer', 'cad', 'schists', 'stealers', 'slatier', 'grins', 'orangy', 'stabbed', 'coarse', 'vaw', 'gamin', 'likes', 'manned', 'bylaw', 'foin', 'solander', 'camas', 'sharkers', 'loins', 'bionts', 'swamps', 'stifle', 'gaited', 'tike', 'teases', 'tablas', 'hides', 'loader', 'flambe', 'finky', 'kain', 'oka', 'tawed', 'launces', 'avers', 'flited', 'mart', 'roast', 'trained', 'mib', 'flab', 'plated', 'tiers', 'ass', 'busying', 'lampas', 'tracer', 'blistery', 'yawing', 'chimps', 'skip', 'trances', 'lifter', 'pastes', 'caw', 'swagers', 'realm', 'dirt', 'cannas', 'soirees', 'awaits', 'dafter', 'bald', 'solar', 'shingled', 'vined', 'stagey', 'patine', 'caids', 'hasten', 'jars', 'swithe', 'opine', 'cranked', 'palets', 'scamped', 'sori', 'pleat', 'sixth', 'manages', 'binge', 'writ', 'draped', 'abridge', 'disced', 'roams', 'drear', 'paintings', 'wake', 'carped', 'restating', 'wrangler', 'finer', 'mailers', 'blite', 'fraise', 'tranced', 'plane', 'ramous', 'string', 'platina', 'annual', 'raider', 'prattlers', 'carouses', 'ovine', 'gaze', 'bolar', 'kief', 'placets', 'award', 'trienes', 'brasil', 'piaster', 'stinters', 'heathery', 'drat', 'tineal', 'pianos', 'shiner', 'moras', 'bints', 'gainst', 'jins', 'dwined', 'bans', 'elater', 'sims', 'darned', 'milo', 'adverse', 'halted', 'hajjis', 'deflates', 'laminary', 'rasps', 'passer', 'wastery', 'carinal', 'sati', 'whang', 'trailer', 'moiler', 'image', 'swingles', 'gaugers', 'lief', 'unwary', 'shafted', 'waired', 'claps', 'thatch', 'dears', 'oblate', 'bally', 'pleased', 'fas', 'barres', 'mantelets', 'pate', 'tame', 'drowsing', 'jaunty', 'venine', 'scrape', 'dealate', 'ariose', 'cheaps', 'darkly', 'glime', 'plaguers', 'sprier', 'astray', 'taxies', 'thrips', 'linsey', 'loather', 'fliers', 'millier', 'hayed', 'limans', 'kilns', 'triers', 'shah', 'braes', 'winterly', 'barge', 'area', 'laminate', 'spatter', 'milled', 'witen', 'veinal', 'coater', 'twixt', 'lazys', 'placoids', 'primmer', 'scandent', 'mash', 'healthy', 'ids', 'kines', 'manglers', 'writs', 'arguses', 'heaven', 'platter', 'slashes', 'thanker', 'hay', 'brucines', 'fared', 'upas', 'triunes', 'spail', 'wadis', 'yaps', 'beaut', 'bridlers', 'vase', 'limped', 'tied', 'racker', 'abasers', 'tics', 'spans', 'asquint', 'slims', 'marsh', 'arc', 'bloated', 'aliener', 'waxes', 'spilt', 'grails', 'eraser', 'sri', 'mas', 'hided', 'kins', 'whitters', 'sanies', 'basts', 'shists', 'fairly', 'crape', 'rads', 'nap', 'bidders', 'pinking', 'rinds', 'sagy', 'padles', 'dwindled', 'faucets', 'sadhes', 'linked', 'swish', 'slimes', 'spawns', 'bleary', 'laureated', 'tsadis', 'slopping', 'repaved', 'liers', 'prewarm', 'ayahs', 'wino', 'cay', 'fanon', 'sidlers', 'prang', 'stricks', 'fling', 'sicks', 'salver', 'alit', 'writer', 'stella', 'spare', 'timed', 'walled', 'nays', 'parks', 'crash', 'tsade', 'slicers', 'mailer', 'resales', 'tapper', 'anneal', 'sparger', 'ahead', 'blushing', 'beast', 'craned', 'rewin', 'snaked', 'bravoing', 'lime', 'blinking', 'haltered', 'sward', 'tread', 'splines', 'champer', 'marchers', 'piling', 'boride', 'bindery', 'minster', 'riddlers', 'edit', 'minuted', 'ulama', 'spavins', 'craunches', 'spies', 'nanas', 'misuses', 'slates', 'brachets', 'gadid', 'swarmer', 'praxes', 'slanders', 'cane', 'clamper', 'harked', 'tangly', 'prisses', 'liens', 'pinyon', 'twines', 'foined', 'smaltos', 'shinglers', 'game', 'pikers', 'tain', 'krater', 'raws', 'bursate', 'agapae', 'mowing', 'swift', 'siped', 'squirt', 'blinds', 'smirks', 'tantras', 'schist', 'lancer', 'bards', 'ascarids', 'dinked', 'splake', 'trailed', 'yawned', 'awl', 'snib', 'seabeds', 'matin', 'picrated', 'cobia', 'splicer', 'singer', 'paroles', 'healthier', 'cavern', 'liards', 'brant', 'tag', 'tale', 'kart', 'flopping', 'blain', 'miri', 'larvae', 'unary', 'rouping', 'stamper', 'scarph', 'salute', 'an', 'wintery', 'stiles', 'gaping', 'baler', 'spinneys', 'slabbed', 'flap', 'slashed', 'kine', 'bached', 'wreathed', 'chivies', 'gashest', 'clasts', 'shires', 'heads', 'theines', 'bracers', 'tharm', 'staggier', 'prinked', 'prissies', 'dryad', 'waspish', 'anga', 'lacerated', 'sacker', 'clammed', 'garbler', 'leaders', 'widths', 'scanned', 'goats', 'missives', 'orbits', 'whites', 'levants', 'musting', 'largest', 'shaded', 'bitts', 'pangs', 'rank', 'shiers', 'sheared', 'heap', 'bawl', 'tapers', 'silting', 'toying', 'sleave', 'tangos', 'dinted', 'moxas', 'hails', 'pix', 'replated', 'blaws', 'avid', 'leavens', 'limbo', 'ridgels', 'launchers', 'flitter', 'blared', 'tahrs', 'prats', 'unfits', 'balsams', 'stimies', 'writhe', 'slither', 'thin', 'leather', 'glassines', 'ate', 'schnaps', 'baby', 'sidles', 'firns', 'glazes', 'lacks', 'triene', 'tilth', 'scaur', 'etuis', 'caroluses', 'smith', 'bolas', 'nape', 'smiting', 'pasties', 'briny', 'grasses', 'stanchest', 'lagger', 'paced', 'twae', 'aceta', 'lievest', 'limby', 'glares', 'feuars', 'paleal', 'rapper', 'sinewy', 'patted', 'hadji', 'ramp', 'brisks', 'feat', 'mantraps', 'cantor', 'raged', 'guilty', 'pitch', 'babka', 'siren', 'dearths', 'drank', 'seines', 'yap', 'pinnated', 'macerate', 'latex', 'javas', 'patina', 'snakes', 'sharpy', 'kirns', 'alarums', 'bathed', 'pavin', 'dreams', 'swishy', 'stellar', 'aunty', 'shrivel', 'shallowed', 'haded', 'ecartes', 'mils', 'drawly', 'liard', 'grabbler', 'dowing', 'vincas', 'picker', 'soloing', 'urease', 'lacy', 'main', 'caird', 'paten', 'hanted', 'widest', 'napper', 'mars', 'primps', 'lavas', 'beards', 'skite', 'rain', 'flaky', 'clags', 'kinos', 'cards', 'sake', 'ascarides', 'tromping', 'partied', 'crackled', 'papery', 'wae', 'swisher', 'snapped', 'cluing', 'hallowed', 'valved', 'lapse', 'fiends', 'ourang', 'debars', 'complecting', 'age', 'stripier', 'osteal', 'lotic', 'soaves', 'fraps', 'etas', 'arses', 'scrapie', 'viseed', 'sluiced', 'avens', 'roaster', 'prinkers', 'ka', 'nabs', 'braver', 'splatters', 'chia', 'spicers', 'showings', 'pasty', 'craps', 'deathly', 'pedals', 'haeres', 'spathes', 'brazed', 'ration', 'axle', 'hires', 'waists', 'pima', 'laureate', 'chantor', 'prisms', 'donating', 'seine', 'placks', 'boaster', 'maut', 'lei', 'bisks', 'fader', 'hallooed', 'avgas', 'gasper', 'straw', 'raspier', 'strands', 'dosing', 'daman', 'facies', 'shrieves', 'hives', 'dildoe', 'clatters', 'bleat', 'twaddler', 'swales', 'vast', 'leady', 'sabres', 'reaver', 'boarded', 'civvies', 'garble', 'prima', 'brits', 'bitters', 'charters', 'twinkled', 'bowling', 'aligning', 'plaice', 'crappers', 'sail', 'sands', 'spicery', 'smiter', 'quiets', 'garbs', 'plaids', 'alme', 'praised', 'sabred', 'loamy', 'stile', 'gaming', 'minced', 'pipped', 'janglers', 'alone', 'aloin', 'suit', 'walies', 'glaired', 'barytes', 'biases', 'mirky', 'yards', 'gas', 'laics', 'mi', 'arousers', 'acerbate', 'bated', 'pavings', 'hiring', 'braves', 'smalti', 'bank', 'lambers', 'change', 'wincher', 'planter', 'laud', 'drowning', 'cheaters', 'broaches', 'antas', 'fiend', 'saner', 'mime', 'dyking', 'triune', 'hasted', 'lins', 'wrinkled', 'optics', 'ba', 'granger', 'gads', 'whalers', 'padle', 'wasps', 'wearer', 'theine', 'imido', 'narcs', 'avert', 'bovines', 'whale', 'witted', 'alarms', 'splaying', 'spikers', 'tags', 'rants', 'gaits', 'maile', 'pact', 'hits', 'aid', 'lids', 'sarge', 'whished', 'cramps', 'repinned', 'restates', 'flaxes', 'loaves', 'laagers', 'amia', 'palate', 'pine', 'phat', 'snails', 'skeptics', 'waken', 'boards', 'eschar', 'bladders', 'linen', 'siting', 'breads', 'bract', 'dhak', 'weaver', 'monades', 'ant', 'dancer', 'nab', 'asks', 'polish', 'kalpas', 'trowing', 'semioses', 'flawy', 'sparry', 'whits', 'faros', 'pintas', 'ding', 'gamboled', 'gala', 'milty', 'valine', 'bassy', 'ogham', 'carves', 'pant', 'spilth', 'pricky', 'balsas', 'pointe', 'slatch', 'heather', 'cheats', 'malted', 'estrange', 'missy', 'may', 'sliced', 'deking', 'ranks', 'shad', 'birse', 'wrapped', 'altos', 'kiths', 'pardi', 'stipends', 'chantry', 'antic', 'spireas', 'garblers', 'truing', 'saice', 'fails', 'aphids', 'raphae', 'rhaphe', 'bowelling', 'takin', 'skating', 'tramper', 'auger', 'hazel', 'miry', 'roasts', 'paste', 'quirt', 'twilled', 'healed', 'manly', 'wamus', 'tricks', 'atheists', 'scraps', 'parang', 'papal', 'djinns', 'farcers', 'louping', 'copping', 'grants', 'iring', 'taste', 'calash', 'steaks', 'relapser', 'guanos', 'alway', 'shads', 'bisk', 'tacking', 'flowing', 'tinges', 'gnat', 'glisters', 'roar', 'prier', 'images', 'tapas', 'pardine', 'dace', 'raw', 'skites', 'aiver', 'wiriest', 'oghams', 'skated', 'pi', 'fanons', 'blacker', 'grasps', 'hints', 'master', 'peaky', 'pinata', 'chatted', 'plead', 'kales', 'oblasts', 'carder', 'lidos', 'mans', 'dah', 'milos', 'mawing', 'peins', 'pical', 'pice', 'drafted', 'estate', 'wincey', 'baal', 'chains', 'maimer', 'sweated', 'sic', 'repined', 'wadder', 'carolus', 'dartled', 'space', 'prase', 'tart', 'hardy', 'wage', 'mayas', 'masters', 'peining', 'triplet', 'whid', 'naric', 'fanions', 'champers', 'laird', 'madre', 'glassy', 'charry', 'flirted', 'piercing', 'panged', 'stela', 'roam', 'sheathed', 'manges', 'zeta', 'flans', 'sires', 'ached', 'coopting', 'shingle', 'stapler', 'chider', 'drab', 'mavens', 'snits', 'avaunt', 'glance', 'yacks', 'lauders', 'craws', 'what', 'outrang', 'repaper', 'swifts', 'saki', 'winks', 'pause', 'urates', 'feuar', 'lab', 'saw', 'pieces', 'saluting', 'ainee', 'lines', 'shawl', 'tarsias', 'moola', 'pleiad', 'aim', 'pilasters', 'denary', 'pinaster', 'ama', 'blahs', 'bra', 'sayst', 'hatters', 'yanks', 'alane', 'pail', 'satis', 'laces', 'pining', 'lamedhs', 'eserines', 'gratings', 'moat', 'started', 'dearth', 'wain', 'krafts', 'agers', 'adoze', 'pial', 'graze', 'cardinal', 'methanes', 'scarey', 'dingeys', 'moist', 'spiced', 'carols', 'astir', 'urare', 'winkled', 'bragged', 'casts', 'tiering', 'broachers', 'dawned', 'anti', 'treaded', 'teslas', 'trilled', 'monists', 'basked', 'flamen', 'trimmers', 'cams', 'brats', 'stranglers', 'spawn', 'gin', 'chid', 'drying', 'parleys', 'lambed', 'panel', 'ironers', 'swingy', 'lignins', 'walkers', 'switcher', 'harems', 'vales', 'erase', 'dines', 'threaded', 'gradine', 'kvas', 'raster', 'cabin', 'ami', 'theists', 'whats', 'kayles', 'haulier', 'taps', 'pa', 'competing', 'anoa', 'brain', 'carve', 'spuing', 'grads', 'staigs', 'pilling', 'kithed', 'koala', 'abated', 'lip', 'swank', 'stane', 'warted', 'narcose', 'shady', 'sash', 'crafty', 'tablets', 'scrapes', 'anas', 'clavier', 'skink', 'rasher', 'schticks', 'beanos', 'pimped', 'swiple', 'sprint', 'firming', 'waggery', 'vasa', 'stanchers', 'tav', 'harps', 'salving', 'gelate', 'djinn', 'calm', 'khat', 'tidied', 'woaded', 'sedating', 'waits', 'solving', 'amin', 'amoral', 'diked', 'whitely', 'dingy', 'samekh', 'campus', 'simp', 'primp', 'dado', 'sandier', 'raper', 'wads', 'swishes', 'sabed', 'swaging', 'pinatas', 'titters', 'anna', 'oinks', 'cham', 'wampus', 'twier', 'heathy', 'bittern', 'planners', 'paps', 'pain', 'gagger', 'stooping', 'marlines', 'warty', 'cocreates', 'karat', 'guid', 'carnal', 'sagas', 'misers', 'raga', 'sixties', 'liang', 'paean', 'plate', 'aunts', 'shafts', 'cart', 'dawns', 'glassies', 'pile', 'anvils', 'grama', 'foray', 'waded', 'parles', 'agrees', 'chiasm', 'base', 'acted', 'kaif', 'mags', 'pigs', 'range', 'harks', 'speises', 'cheater', 'amines', 'gamble', 'bibb', 'mousing', 'malty', 'iron', 'fritt', 'leapt', 'bridles', 'pages', 'pieing', 'taos', 'shadier', 'flats', 'burin', 'carse', 'naps', 'anticks', 'raft', 'aureus', 'talcking', 'larded', 'dawen', 'sirs', 'fawns', 'ayins', 'lasher', 'races', 'grand', 'unweary', 'blasty', 'scant', 'shnaps', 'cranker', 'saluters', 'alike', 'wadded', 'barest', 'mantas', 'misters', 'pipal', 'spiers', 'awls', 'azures', 'granter', 'spitted', 'larches', 'given', 'vina', 'deaves', 'streamed', 'ganefs', 'skims', 'adit', 'drapers', 'far', 'rape', 'etnas', 'rodman', 'awols', 'blaster', 'toasty', 'jaws', 'mannas', 'bins', 'lies', 'pineta', 'stipels', 'darner', 'bleachers', 'milter', 'gates', 'stinger', 'stringy', 'clapped', 'tincts', 'jnana', 'slaker', 'badge', 'carles', 'famines', 'lamas', 'blasts', 'dingo', 'abroach', 'sporting', 'fainter', 'piths', 'grapy', 'haunted', 'shrieve', 'wrist', 'slatted', 'part', 'landlers', 'fraggings', 'pacs', 'lizards', 'bios', 'metals', 'early', 'stelai', 'tables', 'platies', 'wind', 'airths', 'swaged', 'acervate', 'abler', 'jasper', 'balas', 'khalifa', 'griths', 'basal', 'boring', 'taluks', 'gelates', 'platys', 'yins', 'sparklers', 'icon', 'maces', 'sarod', 'chine', 'sparkled', 'tawsing', 'tipis', 'bis', 'fact', 'somites', 'aspired', 'rin', 'tesla', 'ageings', 'blither', 'shrivers', 'plinking', 'almas', 'skivers', 'alands', 'ragees', 'pig', 'ting', 'balled', 'doting', 'primed', 'abeles', 'amble', 'fadge', 'sting', 'skies', 'wave', 'bides', 'miler', 'staved', 'startsy', 'carer', 'samekhs', 'nag', 'talukas', 'splakes', 'whaps', 'gladly', 'smites', 'dins', 'charted', 'pleater', 'lackey', 'sip', 'elains', 'apaches', 'mackled', 'clapt', 'waist', 'unitizes', 'limbs', 'splashier', 'apiece', 'leans', 'snappier', 'aliening', 'amasses', 'twaddlers', 'sinh', 'leaser', 'gasped', 'jangler', 'methane', 'smilers', 'antes', 'wowing', 'braises', 'gid', 'situs', 'binder', 'plater', 'picrate', 'failing', 'eschars', 'faquir', 'kyacks', 'scants', 'sauger', 'lam', 'meany', 'libber', 'finger', 'spiders', 'ladles', 'clasps', 'cash', 'brucine', 'shark', 'valises', 'gram', 'heath', 'adds', 'hist', 'milk', 'ravines', 'lieus', 'cranks', 'taro', 'inn', 'scratchy', 'tracker', 'shit', 'spider', 'uit', 'birder', 'spale', 'klatches', 'grists', 'deaved', 'olive', 'maimed', 'rails', 'ikons', 'magmas', 'cameos', 'haws', 'spacer', 'ramie', 'haloed', 'bracts', 'rutiles', 'alba', 'flash', 'tarre', 'curtate', 'etoiles', 'calved', 'gay', 'woads', 'laches', 'paly', 'waggling', 'tillers', 'larges', 'swamy', 'abaser', 'pastinas', 'rutile', 'milers', 'apeak', 'relapses', 'lauder', 'triceps', 'seises', 'praise', 'slide', 'shaver', 'sangars', 'chines', 'sleaved', 'maills', 'bloat', 'clicked', 'jail', 'splitting', 'nappies', 'mangel', 'massa', 'flickers', 'airings', 'gats', 'pitchy', 'pinyons', 'fetialis', 'ladies', 'farcie', 'weans', 'guided', 'ladlers', 'tauts', 'brawns', 'lasted', 'stint', 'uprisers', 'spier', 'mastery', 'chirp', 'bittier', 'gauds', 'ocreate', 'slime', 'unites', 'oaves', 'laminas', 'staters', 'shipped', 'shivers', 'changes', 'squirts', 'dying', 'rambler', 'brass', 'doping', 'baryons', 'lamps', 'parsecs', 'dalles', 'meads', 'grapier', 'crate', 'missels', 'hajjes', 'gadi', 'talkers', 'chowing', 'trader', 'barrel', 'yawns', 'aft', 'pastiest', 'jagghery', 'cyan', 'whist', 'drafters', 'waders', 'jowing', 'saltines', 'amices', 'ikon', 'placer', 'foist', 'typing', 'witched', 'mammie', 'talkier', 'ginks', 'chiasmi', 'spirea', 'loathe', 'taping', 'loaders', 'manilas', 'arose', 'semises', 'dare', 'girons', 'strip', 'binders', 'teal', 'maligners', 'starving', 'linkers', 'heave', 'compting', 'darers', 'singlets', 'glairs', 'ash', 'swink', 'slider', 'islanders', 'stilled', 'girths', 'glaziery', 'clast', 'farle', 'loathes', 'brionies', 'shalt', 'simars', 'gradus', 'ranging', 'quints', 'flied', 'laminated', 'traps', 'capers', 'lax', 'winos', 'picking', 'cantos', 'slink', 'land', 'spinny', 'tatter', 'balk', 'barye', 'ados', 'pshawing', 'lopping', 'mink', 'pasts', 'wad', 'have', 'rances', 'fablers', 'scooping', 'vies', 'vipers', 'friarly', 'scans', 'pastries', 'stirks', 'swather', 'pantry', 'peal', 'bussing', 'dived', 'maculate', 'guilders', 'picketers', 'pay', 'stranders', 'statures', 'aby', 'scaurs', 'paeans', 'pics', 'flamed', 'abridged', 'startler', 'lived', 'basil', 'piercers', 'crank', 'gapping', 'splat', 'shofar', 'waddler', 'flinders', 'warts', 'amiga', 'linings', 'plowing', 'pram', 'bears', 'pash', 'wards', 'ironer', 'gains', 'clingier', 'claying', 'isatin', 'ain', 'bleaks', 'springed', 'stands', 'smirk', 'grinds', 'matey', 'ammino', 'lingua', 'crashes', 'pings', 'bangers', 'tease', 'draying', 'glints', 'hazer', 'flaying', 'solidus', 'cads', 'winy', 'axis', 'jaggier', 'savins', 'paint', 'blatter', 'praters', 'heard', 'finked', 'paging', 'lated', 'died', 'etna', 'farers', 'antral', 'bands', 'slithery', 'chit', 'barded', 'ranids', 'augers', 'mass', 'sire', 'shared', 'ansae', 'atwain', 'brazils', 'pelages', 'kinky', 'flame', 'like', 'pans', 'blear', 'glairy', 'glassiest', 'abye', 'grin', 'cants', 'crapes', 'graft', 'branches', 'grazier', 'swaps', 'float', 'seiners', 'lawed', 'hick', 'taroc', 'tills', 'marches', 'balers', 'jar', 'peags', 'thanks', 'sharper', 'replate', 'views', 'seisers', 'halloaed', 'masker', 'pease', 'toasters', 'thrash', 'snares', 'beats', 'twit', 'cleaves', 'frapped', 'dirked', 'seawant', 'ramies', 'pyin', 'cadre', 'raphe', 'tawing', 'playa', 'lingy', 'flay', 'briony', 'grazers', 'trappings', 'wallies', 'lags', 'later', 'crates', 'flingers', 'brink', 'gadis', 'skate', 'stanged', 'upreaches', 'prices', 'sparsest', 'amazed', 'gashes', 'briner', 'parvise', 'spaces', 'mace', 'shames', 'sharply', 'boart', 'labrum', 'arse', 'ream', 'gaur', 'cancers', 'chap', 'awe', 'trave', 'slaying', 'kana', 'abas', 'babas', 'acrider', 'flaws', 'slaked', 'glaces', 'amblers', 'remaps', 'treads', 'raya', 'slams', 'kamik', 'scarers', 'earthily', 'brailed', 'mazer', 'hatreds', 'link', 'dais', 'scarf', 'lapwings', 'woad', 'breasts', 'darer', 'sice', 'laminal', 'flyting', 'guan', 'latchets', 'shirt', 'startling', 'camel', 'star', 'swanned', 'tine', 'miles', 'careless', 'sails', 'yawls', 'drag', 'taker', 'taller', 'lips', 'gied', 'duits', 'dahs', 'stifled', 'chawed', 'kraters', 'pried', 'minsters', 'mad', 'swathe', 'matting', 'diner', 'facete', 'sign', 'galls', 'mattings', 'mantra', 'limning', 'spieling', 'climber', 'brawlier', 'tail', 'penial', 'scragged', 'scarves', 'bat', 'wrapper', 'ware', 'snash', 'heats', 'harmed', 'pricers', 'yean', 'reaper', 'ablest', 'halved', 'paddlers', 'zinky', 'masks', 'train', 'stealer', 'mitred', 'wames', 'roads', 'leaden', 'charkha', 'hasp', 'altar', 'skid', 'name', 'deairs', 'clam', 'blabs', 'tagger', 'faints', 'mamas', 'teamed', 'lack', 'tanglier', 'repines', 'pinkly', 'asperses', 'maps', 'teasers', 'pinkings', 'bitter', 'stampeded', 'stactes', 'dales', 'sparked', 'goas', 'hap', 'hears', 'agene', 'larva', 'waddled', 'kyar', 'chams', 'galaxy', 'antis', 'dossing', 'platiest', 'tang', 'gamb', 'mirs', 'arouser', 'carouse', 'curates', 'rinse', 'dad', 'glaire', 'repine', 'witch', 'stilted', 'loath', 'wraiths', 'reavers', 'bracted', 'stances', 'palely', 'pinnate', 'kea', 'gait', 'beauty', 'baa', 'mitering', 'pitons', 'blat', 'groats', 'cranches', 'chink', 'able', 'alpines', 'pea', 'gage', 'stampede', 'flangers', 'dolling', 'zincky', 'wauled', 'dunites', 'pyins', 'raiders', 'waister', 'dunnites', 'gabs', 'lauded', 'kraft', 'creams', 'salep', 'narcos', 'maim', 'least', 'scapes', 'fragging', 'stingier', 'scratches', 'shrewing', 'plie', 'upraiser', 'tankers', 'twists', 'toits', 'many', 'darners', 'rands', 'upases', 'pipy', 'lamia', 'liber', 'meta', 'prawning', 'carts', 'carted', 'martins', 'gradin', 'pareus', 'blanks', 'mists', 'lateen', 'carper', 'upraise', 'chiasmal', 'sables', 'wanner', 'stilt', 'gilt', 'alines', 'laager', 'telia', 'brads', 'priers', 'pelage', 'tineids', 'braids', 'titled', 'dreary', 'dangler', 'learns', 'ashtray', 'renins', 'pausers', 'litu', 'farts', 'holard', 'janes', 'day', 'doits', 'sangers', 'nears', 'ornate', 'cocreated', 'hants', 'pareses', 'stay', 'maleate', 'weakens', 'plained', 'tirl', 'glimes', 'tamps', 'stirps', 'hexade', 'saute', 'wacke', 'whinier', 'ti', 'pastier', 'afloat', 'napery', 'perilling', 'swathers', 'frats', 'carates', 'raised', 'stand', 'kinks', 'plan', 'kails', 'skited', 'deckings', 'cagey', 'mangy', 'frays', 'abased', 'kab', 'makes', 'glass', 'stampedes', 'fabled', 'parrs', 'aided', 'waddlers', 'danglers', 'imaged', 'vised', 'millers', 'prides', 'kids', 'nacre', 'swarths', 'aroused', 'spawned', 'twitter', 'prases', 'leap', 'peart', 'linos', 'came', 'farmers', 'repave', 'eland', 'thaw', 'swipples', 'agree', 'wails', 'altho', 'brazier', 'phrases', 'battue', 'halteres', 'sparing', 'fade', 'wailed', 'pacas', 'changed', 'ramblers', 'ogams', 'wraths', 'piing', 'givens', 'skaters', 'pats', 'bear', 'ravers', 'pleached', 'dragees', 'tui', 'bleached', 'bawdry', 'stomping', 'pintoes', 'paused', 'fangas', 'voicers', 'insolate', 'stagers', 'shoaled', 'tales', 'sonar', 'vaus', 'hasps', 'haem', 'bather', 'vamps', 'abashed', 'loams', 'boyar', 'amidols', 'fruit', 'mater', 'paving', 'lameds', 'barred', 'chinky', 'scantily', 'nit', 'slake', 'tip', 'ranged', 'kites', 'flambee', 'fear', 'stalled', 'axled', 'lady', 'ward', 'chaunts', 'hists', 'sniper', 'petalled', 'farles', 'roadster', 'gaun', 'beach', 'coasters', 'awaked', 'jinni', 'supines', 'daft', 'milt', 'defray', 'peaty', 'campos', 'faqir', 'doats', 'relaters', 'sines', 'parse', 'capped', 'grainy', 'cam', 'mamba', 'swagged', 'cached', 'aals', 'taper', 'drafty', 'skits', 'millet', 'aside', 'swarding', 'patter', 'mail', 'barked', 'stander', 'pointy', 'asper', 'are', 'swarthy', 'passe', 'friend', 'wincer', 'starred', 'paddled', 'lander', 'eikon', 'startled', 'traces', 'pants', 'card', 'yams', 'seiner', 'clipt', 'laddies', 'faunae', 'binds', 'placet', 'hatred', 'speiling', 'twangs', 'hide', 'aping', 'japed', 'canted', 'branch', 'veins', 'sifted', 'admit', 'poiser', 'preachers', 'biont', 'sparring', 'bleach', 'martini', 'aghas', 'flairs', 'ramus', 'salve', 'gad', 'flawing', 'twas', 'tatters', 'dangs', 'yawling', 'natives', 'amine', 'limner', 'daisy', 'lapwing', 'heathers', 'acerbated', 'road', 'trace', 'aglitter', 'triad', 'azide', 'mairs', 'hae', 'pared', 'chawing', 'taking', 'planer', 'ratter', 'wished', 'swash', 'splays', 'parts', 'sander', 'farls', 'till', 'grades', 'rattier', 'kale', 'magics', 'twat', 'stakes', 'meanly', 'suable', 'beat', 'mil', 'triplex', 'stirs', 'toasts', 'gorals', 'slim', 'pleases', 'again', 'tabers', 'strewing', 'chiders', 'dotting', 'palmated', 'scatt', 'sparser', 'snark', 'lingers', 'staplers', 'please', 'espied', 'glaziers', 'mage', 'dirts', 'aspirers', 'kittled', 'spike', 'banned', 'slavey', 'midis', 'chards', 'draggier', 'withiest', 'teas', 'caravels', 'halvers', 'flytings', 'spathed', 'stated', 'alts', 'mill', 'lieve', 'tiered', 'takes', 'esprits', 'winds', 'gauges', 'rennins', 'livest', 'sitars', 'oblasti', 'ravels', 'lasts', 'whap', 'united', 'darkey', 'haler', 'wreathes', 'sae', 'rashes', 'alar', 'akin', 'tawses', 'gabby', 'orations', 'wawl', 'leases', 'windled', 'crappier', 'triplets', 'rages', 'damn', 'almes', 'whined', 'swine', 'prigs', 'lash', 'acaroid', 'admixt', 'since', 'spacers', 'wash', 'sibbs', 'amias', 'ileac', 'estated', 'tads', 'creases', 'racers', 'atmas', 'awarders', 'rearm', 'cadets', 'kind', 'macho', 'mousings', 'winches', 'black', 'shift', 'hi', 'gnar', 'taunters', 'salting', 'aspics', 'agaves', 'sluice', 'stackers', 'brushing', 'obis', 'vails', 'wristy', 'leafy', 'state', 'warer', 'friar', 'dados', 'skewing', 'lister', 'ravel', 'sweaty', 'planes', 'tahr', 'swart', 'sofar', 'eaved', 'taupes', 'rangers', 'gapers', 'threats', 'lapins', 'graced', 'stinko', 'strang', 'wha', 'tankas', 'spates', 'sards', 'dashiest', 'awakens', 'sakis', 'hearty', 'diners', 'crave', 'gain', 'clopping', 'stints', 'waddies', 'badgers', 'dauby', 'wringed', 'weaken', 'chapel', 'gasping', 'glads', 'whishts', 'matres', 'valued', 'lears', 'storing', 'triple', 'stigma', 'wagged', 'sheaths', 'fags', 'finest', 'jawed', 'limbus', 'chant', 'tela', 'travel', 'charkhas', 'mim', 'salts', 'planner', 'matte', 'flanges', 'pipes', 'painting', 'kaifs', 'spica', 'toiles', 'isatins', 'boatman', 'swinges', 'tares', 'dine', 'spidery', 'plinkers', 'afeared', 'hearsed', 'derats', 'swims', 'fragged', 'dagoes', 'slasher', 'slinger', 'gaurs', 'starlets', 'marly', 'ansated', 'charges', 'braked', 'bars', 'linking', 'taints', 'din', 'splashes', 'wages', 'smarts', 'marting', 'talars', 'larder', 'kite', 'waver', 'broach', 'tau', 'flanes', 'roping', 'great', 'blowing', 'chirps', 'spiting', 'hates', 'crater', 'chip', 'thatchy', 'basis', 'toastier', 'sawed', 'pacts', 'sneaps', 'save', 'amusers', 'gist', 'staunchest', 'sabins', 'bids', 'idles', 'baryon', 'parishes', 'darky', 'porisms', 'bags', 'abyed', 'ains', 'trill', 'lindy', 'acerated', 'alarm', 'kae', 'whishes', 'weave', 'king', 'twinges', 'gript', 'mids', 'rinser', 'thrills', 'satin', 'ofay', 'charrs', 'wadi', 'scrapped', 'rashest', 'shinned', 'forays', 'marts', 'acers', 'satangs', 'bridler', 'pearly', 'pasha', 'waddied', 'rami', 'pekans', 'caws', 'lying', 'britts', 'sheath', 'platers', 'tyring', 'sabine', 'bard', 'snipper', 'lisps', 'brad', 'sarode', 'tarres', 'frith', 'in', 'wambled', 'harms', 'azines', 'mazes', 'dinkey', 'face', 'legal', 'skimpy', 'salt', 'slick', 'vakils', 'spiels', 'carices', 'tad', 'graven', 'harts', 'bilanders', 'pattens', 'vein', 'teasel', 'spearer', 'tilters', 'marges', 'algins', 'chives', 'can', 'solider', 'avoids', 'claws', 'craft', 'mangoes', 'spargers', 'managed', 'stab', 'wasts', 'flailing', 'downing', 'spean', 'macule', 'scraping', 'silt', 'wakens', 'delate', 'pieta', 'smithy', 'piston', 'shauled', 'canals', 'roadsters', 'maims', 'vivers', 'blaw', 'hins', 'plash', 'sauteed', 'minks', 'rath', 'flack', 'wammuses', 'snippier', 'acnes', 'chad', 'brawled', 'thraw', 'brands', 'legals', 'ideals', 'secants', 'bowings', 'tracts', 'martians', 'wisest', 'sarodes', 'spitting', 'prattled', 'chanter', 'etape', 'pits', 'rater', 'wares', 'annals', 'wasters', 'resiny', 'mackles', 'rations', 'health', 'yeast', 'wisped', 'brindles', 'create', 'solids', 'limeys', 'peaks', 'lacker', 'breams', 'speaks', 'gambes', 'shamus', 'smack', 'ragee', 'cate', 'patters', 'sad', 'flanks', 'marchesi', 'audit', 'pashes', 'lamias', 'darkeys', 'latten', 'tabu', 'gambas', 'lac', 'glitters', 'pane', 'lame', 'winded', 'palpal', 'koine', 'cravings', 'packers', 'stingers', 'jaeger', 'linden', 'taxites', 'bailer', 'slips', 'swarth', 'splint', 'lino', 'trimmer', 'starring', 'sneap', 'whopping', 'stager', 'likest', 'faqirs', 'grouping', 'orang', 'wait', 'vassal', 'halve', 'slickers', 'spar', 'trouping', 'warier', 'crawl', 'outrange', 'treaders', 'knaves', 'grift', 'ism', 'gamines', 'slipt', 'swinged', 'lingier', 'spalls', 'pars', 'swisses', 'koalas', 'bloats', 'dooming', 'clad', 'nail', 'flashed', 'paddle', 'staged', 'bring', 'lances', 'imids', 'flames', 'badges', 'pinna', 'stays', 'sear', 'banged', 'camass', 'baiters', 'hareems', 'hoards', 'toping', 'ales', 'arecas', 'boar', 'thalers', 'fairings', 'brattier', 'sates', 'scalers', 'shakers', 'bearings', 'idlers', 'baron', 'daubers', 'psalters', 'lido', 'sib', 'made', 'lashes', 'fiar', 'aspish', 'goads', 'sliver', 'saint', 'blip', 'pareu', 'frillings', 'parked', 'carded', 'supine', 'swanks', 'gaen', 'aligner', 'spasms', 'taus', 'slaves', 'hast', 'airs', 'pained', 'tanking', 'wavier', 'civies', 'slander', 'napped', 'mantilla', 'saiga', 'spirit', 'famine', 'batched', 'liver', 'carousels', 'hoard', 'patents', 'swat', 'spait', 'hies', 'brawn', 'ail', 'unmiter', 'cadger', 'fables', 'glairing', 'faintest', 'saithe', 'brambled', 'wane', 'streams', 'koines', 'whisted', 'twiny', 'escarped', 'withed', 'basted', 'pian', 'holiest', 'camases', 'rewind', 'snappiest', 'rein', 'fink', 'wishes', 'lowing', 'standers', 'crawly', 'stinted', 'grampus', 'livers', 'hip', 'audios', 'winked', 'eath', 'ray', 'leasers', 'tirade', 'dried', 'crapped', 'singles', 'litter', 'leaver', 'cagier', 'pickled', 'marshes', 'basaltes', 'rearer', 'chicos', 'spang', 'spireme', 'jaegers', 'mailed', 'amassed', 'shinnied', 'thein', 'tramplers', 'patty', 'lis', 'clamber', 'gams', 'damp', 'mamie', 'braziers', 'ranges', 'scalpers', 'packer', 'shoats', 'avoid', 'stripped', 'thirl', 'valines', 'upraises', 'morales', 'seism', 'dances', 'parkas', 'cage', 'whit', 'char', 'campers', 'armies', 'lathery', 'clinker', 'tappings', 'fits', 'wiser', 'ado', 'elaters', 'friary', 'vistaed', 'swinger', 'mangers', 'bearers', 'anted', 'amigas', 'varus', 'tingle', 'taxed', 'slicks', 'perilled', 'flattery', 'brashiest', 'sittings', 'trampled', 'wites', 'theater', 'hearts', 'sprattled', 'readds', 'tacket', 'milles', 'talker', 'trays', 'navvies', 'hangers', 'plaits', 'bousing', 'withe', 'knapper', 'stades', 'hinds', 'traves', 'pierces', 'flint', 'sweating', 'chiasmus', 'speared', 'chinks', 'twins', 'escapes', 'bimas', 'tear', 'oping', 'ataxies', 'brins', 'skimos', 'bird', 'markers', 'snarks', 'gnarl', 'batt', 'brat', 'nark', 'tries', 'brucins', 'hiss', 'starets', 'gammer', 'liven', 'life', 'sits', 'relapse', 'orate', 'linns', 'darter', 'strain', 'hand', 'bine', 'warm', 'brazes', 'pardie', 'springers', 'swang', 'vires', 'frater', 'tamest', 'ravine', 'aper', 'whittlers', 'prewarms', 'whams', 'wagging', 'jagger', 'waps', 'pines', 'chaster', 'palpate', 'dearly', 'wis', 'gamed', 'macle', 'pions', 'tinge', 'byroads', 'grabblers', 'malts', 'carver', 'canker', 'dit', 'barding', 'parsley', 'gaum', 'tantara', 'suitings', 'schnapps', 'kay', 'egad', 'fawning', 'aa', 'fairs', 'tasking', 'pawn', 'agma', 'draggling', 'drafts', 'scrapings', 'ark', 'skied', 'tarok', 'race', 'yowing', 'glades', 'mola', 'grinded', 'placed', 'plied', 'snipes', 'trined', 'slit', 'comping', 'pinkoes', 'fids', 'hardly', 'manna', 'plains', 'barms', 'antra', 'stick', 'missays', 'gausses', 'leathers', 'calashes', 'hazed', 'waisters', 'moilers', 'lifer', 'sagiest', 'maleates', 'clave', 'decking', 'gang', 'bi', 'scats', 'galeas', 'tango', 'gangling', 'dates', 'bargee', 'balsa', 'scare', 'chield', 'laichs', 'faunal', 'bal', 'amu', 'hanger', 'spile', 'yawping', 'wincers', 'hard', 'stanes', 'titer', 'shays', 'shard', 'pointier', 'crankily', 'graces', 'clattery', 'shine', 'coapt', 'earns', 'stigmal', 'cerastes', 'sceptic', 'fat', 'tinny', 'derat', 'kyack', 'heaved', 'morale', 'trades', 'sis', 'placers', 'parch', 'apace', 'sings', 'sewage', 'wavery', 'glister', 'ladle', 'wast', 'alsikes', 'rates', 'waiver', 'spatted', 'trucking', 'taint', 'claspt', 'groans', 'id', 'lib', 'alang', 'scrappier', 'nappier', 'clime', 'shrine', 'rulings', 'splashy', 'tikes', 'oars', 'lid', 'imide', 'adroit', 'pyric', 'cablets', 'shaker', 'linear', 'waived', 'swats', 'leashed', 'spalled', 'bruin', 'moils', 'taels', 'testate', 'didoes', 'linga', 'balms', 'plaiters', 'chaws', 'drawings', 'alefs', 'blacked', 'saugers', 'meat', 'thanes', 'nagger', 'ganev', 'yaw', 'racy', 'ibis', 'tala', 'teat', 'cling', 'loping', 'meats', 'karsts', 'chard', 'hauled', 'slashers', 'kane', 'taros', 'blast', 'grabbled', 'livyer', 'chare', 'shaving', 'gramps', 'pinon', 'vinals', 'withier', 'pannes', 'streamy', 'hatter', 'rabid', 'primer', 'bathe', 'limbi', 'scowing', 'calve', 'traders', 'seats', 'repaving', 'drail', 'lackeys', 'hider', 'brainiest', 'sparks', 'tassels', 'diene', 'whitest', 'flinty', 'shaft', 'mango', 'gild', 'tamper', 'suiting', 'class', 'brazer', 'caravel', 'crankled', 'wands', 'waned', 'craver', 'urate', 'lives', 'farted', 'snippers', 'lardy', 'moping', 'naivest', 'barret', 'await', 'cleanser', 'grad', 'scamps', 'bardes', 'mires', 'slaveys', 'act', 'stating', 'laser', 'bassets', 'mask', 'roman', 'branks', 'pates', 'ambler', 'tans', 'sabes', 'mannans', 'bidet', 'spank', 'jawing', 'sowar', 'ganged', 'laying', 'algin', 'marses', 'passee', 'halm', 'dita', 'gave', 'mast', 'daubier', 'reins', 'leashes', 'ables', 'paid', 'share', 'caddies', 'sowars', 'ad', 'dago', 'dits', 'grids', 'moolah', 'riders', 'aweing', 'shinny', 'cache', 'nearly', 'flamens', 'narks', 'suave', 'starver', 'havens', 'thawed', 'smaltine', 'caves', 'computing', 'paining', 'haters', 'ala', 'chargers', 'bustling', 'shammied', 'coempting', 'campi', 'maligning', 'changer', 'mix', 'ars', 'toad', 'strick', 'cyans', 'mages', 'epacts', 'lathed', 'unwits', 'saned', 'rewins', 'trade', 'pinnae', 'priced', 'baulked', 'manillas', 'switched', 'pietas', 'slating', 'parises', 'darters', 'mayvins', 'joints', 'spatters', 'reaved', 'squints', 'moas', 'ping', 'waws', 'piton', 'parvises', 'sprat', 'singes', 'sheaving', 'chinas', 'orbit', 'pasted', 'mopping', 'tripos', 'nana', 'chides', 'zayins', 'peartly', 'moats', 'peaced', 'nopal', 'estraying', 'fasted', 'gift', 'taunt', 'ghis', 'cadge', 'start', 'hares', 'barking', 'lathe', 'faro', 'poleis', 'refloated', 'snake', 'moira', 'naves', 'awarder', 'fanes', 'biasses', 'frank', 'launches', 'crowing', 'carpers', 'teaks', 'missiles', 'bint', 'tackling', 'wisha', 'buran', 'talking', 'sirees', 'aye', 'spawning', 'icons', 'hajj', 'sawn', 'rennin']\n"
     ]
    }
   ],
   "source": [
    "print(all_reducible_words)"
   ]
  }
 ],
 "metadata": {
  "kernelspec": {
   "display_name": "Python 3",
   "language": "python",
   "name": "python3"
  },
  "language_info": {
   "codemirror_mode": {
    "name": "ipython",
    "version": 3
   },
   "file_extension": ".py",
   "mimetype": "text/x-python",
   "name": "python",
   "nbconvert_exporter": "python",
   "pygments_lexer": "ipython3",
   "version": "3.8.5"
  }
 },
 "nbformat": 4,
 "nbformat_minor": 2
}
