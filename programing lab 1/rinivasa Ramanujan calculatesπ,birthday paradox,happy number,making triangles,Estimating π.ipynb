{
 "cells": [
  {
   "cell_type": "markdown",
   "metadata": {},
   "source": [
    "# Ex.  1(3 pts) rinivasa Ramanujan calculatesπ"
   ]
  },
  {
   "cell_type": "markdown",
   "metadata": {},
   "source": [
    "# (a)Write a function called estimate_pi that uses this formula to compute andreturn an estimate of π.  It should use awhileloop to compute terms of the summa-tion until the last term is smaller than1e-15(which is Python notation for 10−15).(‘Term’refers to the expression after the summation sign, not the summation itself.)You can check the result by comparing it tomath.pi.  The error should be less than10−15"
   ]
  },
  {
   "cell_type": "code",
   "execution_count": 1,
   "metadata": {},
   "outputs": [
    {
     "name": "stdout",
     "output_type": "stream",
     "text": [
      "3.141592653589793\n"
     ]
    }
   ],
   "source": [
    "import math    \n",
    "def fact(n):\n",
    "    '''to find factorial of n recursively , when n<1 it will return 1'''\n",
    "    if n<1:\n",
    "        return 1\n",
    "    else:\n",
    "        return n * fact(n-1)\n",
    "    \n",
    "    \n",
    "def estimate_pi():\n",
    "    # compute and return estimate of pi\n",
    "    k = 0\n",
    "    total = 1\n",
    "    a = 0\n",
    "    #to compute terms last term smaller than 1e-15\n",
    "    while total > 10**(-15):\n",
    "        #formula to estimate pi\n",
    "        total = fact(4*k)*(1103+26390*k)/((fact(k)**4)*396**(4*k))\n",
    "        a += total\n",
    "        #increasing value of k\n",
    "        k += 1\n",
    "    pi = 9801/(2 *(2**0.5)*a)\n",
    "    return pi\n",
    "    \n",
    "print(estimate_pi())"
   ]
  },
  {
   "cell_type": "code",
   "execution_count": 2,
   "metadata": {},
   "outputs": [
    {
     "data": {
      "text/plain": [
       "3.141592653589793"
      ]
     },
     "execution_count": 2,
     "metadata": {},
     "output_type": "execute_result"
    }
   ],
   "source": [
    "# checking my result\n",
    "math.pi"
   ]
  },
  {
   "cell_type": "markdown",
   "metadata": {},
   "source": [
    "# (b) Write  some  Python  code  to  determine  how  many  terms  you  need  to  calculate,  sothat  the  Leibniz  formula  is  accurate  to  three  digits.   (Hint:You  can  use  the  testround(leibniz_pi,2)==3.14to check whether the estimateleibniz_pihas the de-sired accuracy.)"
   ]
  },
  {
   "cell_type": "code",
   "execution_count": 3,
   "metadata": {},
   "outputs": [
    {
     "name": "stdout",
     "output_type": "stream",
     "text": [
      "number of terms: 152\n",
      "3.14\n"
     ]
    }
   ],
   "source": [
    "s=0\n",
    "n=0 # this n wil keep track terms needs to calculate\n",
    "while True:\n",
    "    # Leibniz  formula to estimate pi\n",
    "    s+=(-1)**n/(2*n+1)\n",
    "    #increament value of n\n",
    "    n+=1\n",
    "    leibnz=4*s\n",
    "    # to check whether the estimate leibnz the de-sired accuracy\n",
    "    if round(leibnz,2)==3.14:\n",
    "        break\n",
    "print('number of terms:',n)\n",
    "print(round(leibnz,2))# to check accuray\n"
   ]
  },
  {
   "cell_type": "markdown",
   "metadata": {},
   "source": [
    "# Ex.  2(5 pts) Happy numbers"
   ]
  },
  {
   "cell_type": "markdown",
   "metadata": {},
   "source": [
    "# 1 pt)Write a functionisHappy(n)that checks whether a number is happy or un-happy.  It should return true if the the number is happy and false otherwise."
   ]
  },
  {
   "cell_type": "code",
   "execution_count": 4,
   "metadata": {
    "scrolled": true
   },
   "outputs": [
    {
     "name": "stdout",
     "output_type": "stream",
     "text": [
      "False\n"
     ]
    }
   ],
   "source": [
    "def isHappy(n):\n",
    "    '''finding happy numbers it will return true if happy otherwise false'''\n",
    "    while n!=1:\n",
    "        #first conversion of int into string than thake square of digits \n",
    "        n = sum(int(i)**2 for i in str(n))\n",
    "        if n== 1:\n",
    "            return True\n",
    "        elif n == 4:\n",
    "            return False\n",
    "        \n",
    "        \n",
    "print(isHappy(22))"
   ]
  },
  {
   "cell_type": "markdown",
   "metadata": {},
   "source": [
    "# (b) # Find all happy numbers from 1 to 100"
   ]
  },
  {
   "cell_type": "code",
   "execution_count": 5,
   "metadata": {},
   "outputs": [
    {
     "name": "stdout",
     "output_type": "stream",
     "text": [
      "[7, 10, 13, 19, 23, 28, 31, 32, 44, 49, 68, 70, 79, 82, 86, 91, 94, 97, 100]\n"
     ]
    }
   ],
   "source": [
    "print([n for n in range(1, 101) if isHappy(n)])"
   ]
  },
  {
   "cell_type": "markdown",
   "metadata": {},
   "source": [
    "# (c)# Solve the problem in two different ways using a)while-loops and b) recursion"
   ]
  },
  {
   "cell_type": "code",
   "execution_count": 6,
   "metadata": {},
   "outputs": [
    {
     "name": "stdout",
     "output_type": "stream",
     "text": [
      "[1, 7, 10, 13, 19, 23, 28, 31, 32, 44, 49, 68, 70, 79, 82, 86, 91, 94, 97, 100]\n"
     ]
    }
   ],
   "source": [
    "def isHappy_recursive(n):\n",
    "    '''finding happy numbers by recursively '''\n",
    "    # converting int to str then taking sum of square of its digits\n",
    "    n = sum(int(i)**2 for i in str(n))\n",
    "    if n == 1:\n",
    "        return True\n",
    "    elif n == 4:\n",
    "            return False\n",
    "    else:\n",
    "        return isHappy_recursive(n) \n",
    "    \n",
    "print([n for n in range(1, 101) if isHappy_recursive(n)])"
   ]
  },
  {
   "cell_type": "markdown",
   "metadata": {},
   "source": [
    "# using while loop"
   ]
  },
  {
   "cell_type": "code",
   "execution_count": 7,
   "metadata": {},
   "outputs": [
    {
     "name": "stdout",
     "output_type": "stream",
     "text": [
      "[7, 10, 13, 19, 23, 28, 31, 32, 44, 49, 68, 70, 79, 82, 86, 91, 94, 97, 100]\n"
     ]
    }
   ],
   "source": [
    "def Happy(n):\n",
    "    #finding happy numbers using while loop\n",
    "    while n != 1:\n",
    "        #first conversion of int into string than sum of square of digits \n",
    "        n = sum(int(i)**2 for i in str(n))\n",
    "        if n == 1:\n",
    "            return True\n",
    "        elif n == 4:\n",
    "            return False\n",
    "print([n for n in range(1, 101) if Happy(n)])"
   ]
  },
  {
   "cell_type": "markdown",
   "metadata": {},
   "source": [
    "# (d) Write a function determineHappiness(n)that determines whether a num-ber  is  happy,  almost  happy,  or  unhappy.   It  could  return  the  strings\"happy\",\"almost happy\",\"unhappy\"depending on the number"
   ]
  },
  {
   "cell_type": "code",
   "execution_count": 8,
   "metadata": {},
   "outputs": [
    {
     "data": {
      "text/plain": [
       "'unhapy'"
      ]
     },
     "execution_count": 8,
     "metadata": {},
     "output_type": "execute_result"
    }
   ],
   "source": [
    "def determinehappy(n):\n",
    "    ''' it will return  happy ,unhappy , almost happy depending on number'''\n",
    "    l=[n]\n",
    "    while True:\n",
    "            # firstly convert int to str then take summ of qube of its digits\n",
    "        suum = sum(int(i)**3 for i in str(n))\n",
    "        if suum==1 :\n",
    "            return 'happy'\n",
    "        elif suum==n:\n",
    "            return 'almost happy'\n",
    "        elif suum in l:\n",
    "            return 'unhapy'\n",
    "        else:\n",
    "            n=suum\n",
    "            l.append(n)\n",
    "            #print(l)\n",
    "determinehappy(4)"
   ]
  },
  {
   "cell_type": "markdown",
   "metadata": {},
   "source": [
    "# ii.  (1 pt)Use  the  function  to  determine  all  happy  numbers  from  1  to  1000.   How many numbers in the range 1 to 1000 are almost happy?"
   ]
  },
  {
   "cell_type": "code",
   "execution_count": 9,
   "metadata": {},
   "outputs": [
    {
     "name": "stdout",
     "output_type": "stream",
     "text": [
      "1\n",
      "10\n",
      "100\n",
      "112\n",
      "121\n",
      "211\n",
      "778\n",
      "787\n",
      "877\n",
      "1000\n"
     ]
    }
   ],
   "source": [
    "# to find all happy numbers from 1 to 1000\n",
    "h=[]\n",
    "for n in range(1,1001):\n",
    "    # numbers which satisfy the condition are happy\n",
    "    if determinehappy(n)=='happy':\n",
    "        # then add them in list\n",
    "        h.append(1)\n",
    "        print(n)"
   ]
  },
  {
   "cell_type": "code",
   "execution_count": 10,
   "metadata": {},
   "outputs": [
    {
     "data": {
      "text/plain": [
       "840"
      ]
     },
     "execution_count": 10,
     "metadata": {},
     "output_type": "execute_result"
    }
   ],
   "source": [
    "# to find almost happy numbers from 1,1000\n",
    "almost=[]\n",
    "for n in range(1,1001):\n",
    "    if determinehappy(n)=='almost happy':\n",
    "        almost.append(1)\n",
    "        #print(len(n))\n",
    "len(almost) # this will print total almost happy numbers"
   ]
  },
  {
   "cell_type": "markdown",
   "metadata": {},
   "source": [
    "# Ex.  3(4 pts) The Birthday Paradox"
   ]
  },
  {
   "cell_type": "markdown",
   "metadata": {},
   "source": [
    "# (a) Write a function calledhas_duplicatesthat takes a list and returnsTrueifthere is any element that appears more than once.  It should not modify the originallist."
   ]
  },
  {
   "cell_type": "code",
   "execution_count": 11,
   "metadata": {},
   "outputs": [
    {
     "name": "stdout",
     "output_type": "stream",
     "text": [
      "False\n"
     ]
    }
   ],
   "source": [
    "import math   \n",
    "from random import randint\n",
    "import collections\n",
    "\n",
    "L = [1,2, 3, 4, 5]\n",
    "def has_duplicates(L):\n",
    "    '''find duplicates in a list, it will return true if there is duplicate element''' \n",
    "    a = set(L)\n",
    "    #to remove duplicates from the list\n",
    "    b = len(a)\n",
    "    c = len(L)\n",
    "    if b == c:\n",
    "        #comparing length of before and after set function\n",
    "        return False\n",
    "    else:\n",
    "        return True\n",
    "    \n",
    "print(has_duplicates(L))\n",
    "\n",
    "\n"
   ]
  },
  {
   "cell_type": "markdown",
   "metadata": {},
   "source": [
    "# (b) i Estimate the probability on the basis generating 10 000 trials ofn= 27birthdays and determine the fraction of trials, where at least two persons share abirthday."
   ]
  },
  {
   "cell_type": "code",
   "execution_count": 12,
   "metadata": {},
   "outputs": [
    {
     "name": "stdout",
     "output_type": "stream",
     "text": [
      "0.622\n"
     ]
    }
   ],
   "source": [
    "def Birthday_paradox():\n",
    "    '''to find probability on the basis of 10000 trail'''\n",
    "    trial = 0\n",
    "    counter=0\n",
    "    while trial < 10000:\n",
    "        #generating random birthday numbers for 27 students\n",
    "        x=[randint(1,365) for i in range(0,27)]\n",
    "        trial += 1\n",
    "        if has_duplicates(x):\n",
    "            #checking duplicates in above function\n",
    "            counter+=1\n",
    "    return counter/10000.0\n",
    "\n",
    "print(Birthday_paradox())"
   ]
  },
  {
   "cell_type": "markdown",
   "metadata": {},
   "source": [
    "# ii How do your estimates compare to•the approximated probability •the exact probability"
   ]
  },
  {
   "cell_type": "code",
   "execution_count": 13,
   "metadata": {},
   "outputs": [
    {
     "name": "stdout",
     "output_type": "stream",
     "text": [
      "0.6316162690635074\n",
      "0.6544614723423995\n"
     ]
    }
   ],
   "source": [
    "#values of m and n from the question\n",
    "m = 365.0\n",
    "n = 27\n",
    "def approx_value():\n",
    "    '''it will return approximated probability '''\n",
    "    var = -(n**2)/(2*m)\n",
    "    #main formula to find approx, value\n",
    "    form = 1- (math.e **(var))\n",
    "    return form\n",
    "print(approx_value())\n",
    "\n",
    "\n",
    "\n",
    "def exact_value():\n",
    "    '''return exact probability'''\n",
    "    probibility = 1\n",
    "    for i in range(1,n+1):\n",
    "        #main formula to find exact probability\n",
    "        prob = (m - i)/m\n",
    "        probibility = prob*probibility\n",
    "    return 1-probibility\n",
    "print(exact_value())        \n",
    "    \n",
    "\n"
   ]
  },
  {
   "cell_type": "markdown",
   "metadata": {},
   "source": [
    "# (iii)Modify your approach to estimate the probability that at least three peoplehave a non-unique birthday in their class."
   ]
  },
  {
   "cell_type": "code",
   "execution_count": 14,
   "metadata": {},
   "outputs": [
    {
     "name": "stdout",
     "output_type": "stream",
     "text": [
      "0.0204\n"
     ]
    }
   ],
   "source": [
    "def triplicate(L):\n",
    "    #to find three people sharing the birthday\n",
    "    counter=collections.Counter(L)\n",
    "    #grouping the similar words and giving value(repeatition of that word)\n",
    "    a = counter.values()\n",
    "    for i in a:\n",
    "        if i > 2:\n",
    "            return True\n",
    "    return False\n",
    "\n",
    "def Birthday_paradox_3():\n",
    "    trial = 0\n",
    "    counter=0\n",
    "    while trial < 10000:\n",
    "        #generating random birthday numbers \n",
    "        x=[randint(1,365) for i in range(0,27)]\n",
    "        trial += 1\n",
    "        if triplicate(x):\n",
    "            #above function for three people sharing birthday\n",
    "            counter+=1\n",
    "    return counter/10000.0\n",
    "\n",
    "print(Birthday_paradox_3())\n",
    "\n"
   ]
  },
  {
   "cell_type": "markdown",
   "metadata": {},
   "source": [
    "# Ex.  4(2 pts) Making triangles"
   ]
  },
  {
   "cell_type": "markdown",
   "metadata": {},
   "source": [
    "# Write Python code to simulate 1 000 000 trials splitting the stick randomly into 3 piecesand estimate the probability that a triangle can be formed from the three pieces."
   ]
  },
  {
   "cell_type": "code",
   "execution_count": 15,
   "metadata": {},
   "outputs": [
    {
     "name": "stdout",
     "output_type": "stream",
     "text": [
      "Estimated probability = 0.2497\n"
     ]
    }
   ],
   "source": [
    "import random as rand\n",
    "\n",
    "def istriangle(a, b, c):\n",
    "    '''return triangles by combining 3 pieces'''\n",
    "    return a + b > c and a + c > b and b + c > a\n",
    "leng=1\n",
    "def breakk():\n",
    "    #generate random numbers in the range of 0 to leng\n",
    "\n",
    "    x, y = rand.uniform(0, leng), rand.uniform(0, leng)\n",
    "    #check whether we can form a triangle \n",
    "    if x > y:\n",
    "        x, y = y, x\n",
    "    return istriangle(x, y - x, 1 - y)\n",
    "\n",
    "def count_triangle(trials):\n",
    "    '''to return estimated probability that triangle can be formed  from 3 pieces'''\n",
    "    num_triangles = 0\n",
    "    for i in range(trials):\n",
    "        if breakk():\n",
    "            # If a triangle can be formed, we increment a counter\n",
    "            num_triangles += 1\n",
    "    return num_triangles\n",
    "\n",
    "trials = 1000000\n",
    "triangles = count_triangle(trials)\n",
    "#ratio of the successful instances to the total number of trials to get an estimate of the probability\n",
    "print(\"Estimated probability = {0:0.4f}\".format(triangles/trials))"
   ]
  },
  {
   "cell_type": "markdown",
   "metadata": {},
   "source": [
    "# Ex.  5(2 pts) Estimating π"
   ]
  },
  {
   "cell_type": "code",
   "execution_count": 16,
   "metadata": {},
   "outputs": [
    {
     "name": "stdout",
     "output_type": "stream",
     "text": [
      "2.8\n",
      "3.36\n",
      "3.304\n",
      "3.1496\n",
      "3.1346\n",
      "3.143124\n"
     ]
    }
   ],
   "source": [
    "import random\n",
    "def approxpi(m):\n",
    "    # to determine approximation of pi using fraction falling inside circl\n",
    "    n=0\n",
    "    for i in range(m):\n",
    "        \n",
    "        x=random.uniform(-1,1)\n",
    "        y=random.uniform(-1,1)\n",
    "        if x**2 +y**2<1:\n",
    "            #increament value of n\n",
    "            n+=1\n",
    "    # determin fraction by dividing n with m\n",
    "    f=n/m\n",
    "    # to get pi multiply fraction with 4\n",
    "    pi=4*f\n",
    "    return pi\n",
    "print(approxpi(10))\n",
    "print(approxpi(100))\n",
    "print(approxpi(1000))\n",
    "print(approxpi(10000))\n",
    "print(approxpi(100000))\n",
    "print(approxpi(1000000))\n",
    "\n",
    "#Danqi gives me hints to solve this exercise "
   ]
  },
  {
   "cell_type": "markdown",
   "metadata": {},
   "source": [
    "# Ex.  6(4 pts) Anagrams"
   ]
  },
  {
   "cell_type": "markdown",
   "metadata": {},
   "source": [
    "# (2 pts)Write a program that reads a word list from the filewords.txtand prints allthe sets of words that are anagrams.  Limit your output to words having at least 6anagrams (including itself)"
   ]
  },
  {
   "cell_type": "code",
   "execution_count": 19,
   "metadata": {},
   "outputs": [
    {
     "name": "stdout",
     "output_type": "stream",
     "text": [
      "[['paster', 'paters', 'trapes', 'repast', 'prates', 'tapers'], ['scares', 'escars', 'seracs', 'carses', 'crases', 'caress'], ['reest', 'terse', 'steer', 'reset', 'ester', 'stere', 'trees'], ['rinse', 'serin', 'resin', 'siren', 'reins', 'risen'], ['tailers', 'retails', 'saltier', 'slatier', 'saltire', 'realist'], ['crate', 'caret', 'carte', 'trace', 'react', 'recta', 'cater'], ['sewar', 'sawer', 'sware', 'swear', 'resaw', 'wears', 'wares'], ['serval', 'salver', 'ravels', 'slaver', 'velars', 'lavers', 'versal'], ['braes', 'bares', 'bears', 'baser', 'sabre', 'saber'], ['items', 'smite', 'emits', 'stime', 'times', 'mites', 'metis'], ['teasing', 'ingesta', 'seating', 'ingates', 'eatings', 'easting'], ['arse', 'ares', 'eras', 'ears', 'sera', 'rase', 'sear'], ['spears', 'passer', 'sparse', 'repass', 'prases', 'spares', 'parses', 'aspers'], ['nectar', 'trance', 'canter', 'tanrec', 'centra', 'recant'], ['coalers', 'solacer', 'recoals', 'escolar', 'oracles', 'claroes'], ['lustre', 'ulster', 'luster', 'rustle', 'result', 'sutler'], ['lustres', 'rustles', 'results', 'ulsters', 'lusters', 'sutlers'], ['palet', 'leapt', 'lepta', 'pleat', 'plate', 'petal'], ['noises', 'noesis', 'eosins', 'enosis', 'essoin', 'ossein', 'sonsie'], ['deers', 'sered', 'seder', 'drees', 'reeds', 'redes'], ['raised', 'redias', 'irades', 'resaid', 'aiders', 'deairs'], ['onset', 'seton', 'tones', 'stone', 'steno', 'notes'], ['tepas', 'septa', 'spate', 'pates', 'tapes', 'paste', 'peats'], ['alerting', 'relating', 'tanglier', 'altering', 'integral', 'triangle'], ['rapiers', 'aspirer', 'repairs', 'praiser', 'raspier', 'parries'], ['inters', 'insert', 'estrin', 'nitres', 'inerts', 'sinter', 'triens', 'trines', 'niters'], ['eats', 'sate', 'etas', 'seat', 'seta', 'ates', 'east', 'teas'], ['slipe', 'spiel', 'piles', 'speil', 'plies', 'spile'], ['rials', 'liras', 'lairs', 'arils', 'liars', 'rails'], ['tames', 'teams', 'steam', 'satem', 'mates', 'meats'], ['elains', 'lianes', 'saline', 'aliens', 'silane', 'alines'], ['wast', 'taws', 'swat', 'twas', 'staw', 'wats'], ['teslas', 'stales', 'tassel', 'steals', 'leasts', 'slates'], ['priest', 'sprite', 'stripe', 'ripest', 'tripes', 'esprit'], ['pastel', 'staple', 'plates', 'palest', 'petals', 'palets', 'pleats', 'septal'], ['stair', 'astir', 'tarsi', 'airts', 'stria', 'sitar'], ['heals', 'shale', 'selah', 'leash', 'sheal', 'hales'], ['artiest', 'tastier', 'striate', 'artiste', 'ratites', 'attires', 'iratest'], ['rotches', 'hectors', 'tochers', 'torches', 'troches', 'rochets'], ['sadhe', 'deash', 'ashed', 'shade', 'hades', 'heads'], ['spared', 'rasped', 'padres', 'drapes', 'spader', 'parsed', 'spread'], ['taels', 'slate', 'stela', 'steal', 'stale', 'least', 'setal', 'teals', 'tesla', 'tales'], ['nargiles', 'realigns', 'aligners', 'engrails', 'slangier', 'signaler'], ['erasing', 'regains', 'earings', 'gainers', 'searing', 'seringa', 'reagins', 'reginas'], ['stearin', 'stainer', 'retsina', 'ratines', 'anestri', 'nastier', 'retinas', 'retains'], ['sourest', 'souters', 'oestrus', 'stoures', 'ousters', 'estrous', 'tussore'], ['alert', 'artel', 'later', 'ratel', 'taler', 'alter'], ['hatreds', 'hardset', 'hardest', 'threads', 'dearths', 'trashed'], ['elastin', 'nailset', 'saltine', 'entails', 'tenails', 'salient'], ['tensor', 'trones', 'noters', 'stoner', 'toners', 'tenors', 'nestor'], ['spouter', 'petrous', 'pouters', 'proteus', 'troupes', 'posture'], ['rangiest', 'astringe', 'ganister', 'granites', 'angriest', 'gantries', 'ingrates'], ['levier', 'relive', 'liever', 'revile', 'veiler', 'eviler'], ['lares', 'earls', 'lears', 'laser', 'arles', 'reals', 'seral', 'rales'], ['spectre', 'scepter', 'sceptre', 'recepts', 'specter', 'respect'], ['sheals', 'selahs', 'hassel', 'lashes', 'shales', 'hassle'], ['arced', 'cared', 'acred', 'cedar', 'raced', 'cadre'], ['epimers', 'premise', 'empires', 'spireme', 'premies', 'imprese', 'emprise'], ['aril', 'lira', 'lair', 'rail', 'rial', 'liar'], ['piers', 'spier', 'peris', 'spire', 'speir', 'ripes', 'prise', 'pries'], ['manse', 'manes', 'names', 'mensa', 'nemas', 'means', 'amens'], ['sepal', 'peals', 'pales', 'salep', 'lapse', 'pleas', 'spale', 'leaps'], ['parsec', 'scrape', 'pacers', 'secpar', 'recaps', 'capers', 'crapes', 'escarp', 'spacer'], ['disrate', 'diaster', 'tardies', 'aridest', 'astride', 'tirades', 'staider'], ['soldi', 'sloid', 'idols', 'diols', 'lidos', 'solid'], ['carpels', 'placers', 'reclasp', 'clasper', 'scalper', 'parcels'], ['resign', 'sering', 'singer', 'signer', 'reigns', 'renigs'], ['algins', 'lingas', 'signal', 'aligns', 'liangs', 'ligans', 'lasing'], ['ardeb', 'debar', 'barde', 'beard', 'bread', 'bared'], ['prese', 'speer', 'peres', 'perse', 'spree', 'peers', 'prees'], ['armets', 'master', 'stream', 'tamers', 'matres', 'ramets', 'maters'], ['cruets', 'curets', 'truces', 'rectus', 'cruset', 'recuts', 'eructs'], ['stelar', 'talers', 'estral', 'artels', 'laster', 'salter', 'staler', 'alerts', 'slater', 'alters', 'ratels'], ['dopiest', 'topside', 'sopited', 'deposit', 'posited', 'podites'], ['coster', 'sector', 'escort', 'rectos', 'corset', 'scoter'], ['strap', 'sprat', 'prats', 'parts', 'traps', 'tarps'], ['reseat', 'aretes', 'seater', 'teaser', 'eaters', 'easter'], ['spot', 'pots', 'opts', 'post', 'tops', 'stop'], ['beats', 'baste', 'bates', 'betas', 'abets', 'beast', 'tabes'], ['cares', 'carse', 'acers', 'escar', 'scare', 'acres', 'races', 'serac'], ['crates', 'carets', 'traces', 'recast', 'caster', 'cartes', 'caters', 'reacts'], ['tides', 'stied', 'dites', 'edits', 'deist', 'sited', 'diets'], ['aspen', 'sneap', 'peans', 'napes', 'neaps', 'panes', 'spean'], ['vales', 'salve', 'valse', 'laves', 'veals', 'slave'], ['easters', 'reseats', 'tessera', 'seaters', 'teasers', 'searest'], ['stapler', 'psalter', 'palters', 'persalt', 'platers', 'plaster'], ['nectars', 'canters', 'recants', 'tanrecs', 'trances', 'scanter'], ['rentes', 'tenser', 'enters', 'ternes', 'resent', 'nester'], ['priests', 'spriest', 'stirpes', 'persist', 'sprites', 'esprits', 'stripes'], ['starer', 'rarest', 'arrest', 'tarres', 'raster', 'raters', 'terras'], ['derail', 'laired', 'relaid', 'ariled', 'redial', 'railed', 'dialer'], ['reaps', 'prase', 'spear', 'apers', 'spare', 'pears', 'presa', 'asper', 'parse', 'rapes', 'pares'], ['tread', 'dater', 'tared', 'derat', 'rated', 'trade'], ['breads', 'sabred', 'bardes', 'serdab', 'beards', 'ardebs', 'debars'], ['traipse', 'pastier', 'pirates', 'piastre', 'parties', 'piaster'], ['mister', 'timers', 'miters', 'mitres', 'merits', 'remits', 'smiter'], ['pinaster', 'painters', 'pertains', 'pantries', 'pristane', 'repaints'], ['estrange', 'greatens', 'grantees', 'negaters', 'reagents', 'sergeant'], ['cuter', 'eruct', 'truce', 'curet', 'cruet', 'recut'], ['tows', 'swot', 'twos', 'wots', 'wost', 'stow'], ['salted', 'deltas', 'lasted', 'staled', 'slated', 'desalt'], ['veinal', 'venial', 'vineal', 'alvine', 'alevin', 'valine'], ['serest', 'esters', 'steers', 'steres', 'resets', 'reests'], ['deils', 'slide', 'delis', 'isled', 'sidle', 'idles']]\n",
      "None\n"
     ]
    }
   ],
   "source": [
    "import os\n",
    "os.getcwd()\n",
    "\n",
    "def Anagram(file):\n",
    "    '''provide all set of words that are anagram'''\n",
    "    file=open(file,'r') # open given file in read mod\n",
    "    b={}\n",
    "    original={i.rstrip(\"\\r\\n\") for i in file}\n",
    "    sorted_dict={\"\".join(sorted(i)) for i in original}\n",
    "    for i in original:\n",
    "        a = \"\".join(sorted(i))\n",
    "        if a in sorted_dict:\n",
    "            if a in b:\n",
    "                b[a].append(i)\n",
    "            else:\n",
    "                b[a]=[i]\n",
    "    c=[]\n",
    "# iterate over values of dictionary\n",
    "    for i in b.values():\n",
    "        # limit ouput to words having atleast 6 anagrams\n",
    "        if len(i)>5:\n",
    "            c.append(i)\n",
    "    print(c)\n",
    "    \n",
    "print(Anagram('words.txt'))"
   ]
  },
  {
   "cell_type": "markdown",
   "metadata": {},
   "source": [
    "# (b)(1 pt)Modify the previous program so that it prints the largest set of anagrams first,followed by the second largest set, and so on."
   ]
  },
  {
   "cell_type": "markdown",
   "metadata": {},
   "source": [
    "# (c)(1 pt)Which set of 8 letters contains the most anagrams and what are they?Hint:the solution has seven anagrams"
   ]
  },
  {
   "cell_type": "code",
   "execution_count": 18,
   "metadata": {},
   "outputs": [
    {
     "name": "stdout",
     "output_type": "stream",
     "text": [
      "['stelar', 'talers', 'estral', 'artels', 'laster', 'salter', 'staler', 'alerts', 'slater', 'alters', 'ratels']\n",
      "['reaps', 'prase', 'spear', 'apers', 'spare', 'pears', 'presa', 'asper', 'parse', 'rapes', 'pares']\n",
      "['taels', 'slate', 'stela', 'steal', 'stale', 'least', 'setal', 'teals', 'tesla', 'tales']\n",
      "['inters', 'insert', 'estrin', 'nitres', 'inerts', 'sinter', 'triens', 'trines', 'niters']\n",
      "['parsec', 'scrape', 'pacers', 'secpar', 'recaps', 'capers', 'crapes', 'escarp', 'spacer']\n",
      "['erasing', 'regains', 'earings', 'gainers', 'searing', 'seringa', 'reagins', 'reginas']\n",
      "['stearin', 'stainer', 'retsina', 'ratines', 'anestri', 'nastier', 'retinas', 'retains']\n",
      "['lares', 'earls', 'lears', 'laser', 'arles', 'reals', 'seral', 'rales']\n",
      "['piers', 'spier', 'peris', 'spire', 'speir', 'ripes', 'prise', 'pries']\n",
      "['sepal', 'peals', 'pales', 'salep', 'lapse', 'pleas', 'spale', 'leaps']\n",
      "['eats', 'sate', 'etas', 'seat', 'seta', 'ates', 'east', 'teas']\n",
      "['pastel', 'staple', 'plates', 'palest', 'petals', 'palets', 'pleats', 'septal']\n",
      "['cares', 'carse', 'acers', 'escar', 'scare', 'acres', 'races', 'serac']\n",
      "['crates', 'carets', 'traces', 'recast', 'caster', 'cartes', 'caters', 'reacts']\n",
      "['spears', 'passer', 'sparse', 'repass', 'prases', 'spares', 'parses', 'aspers']\n",
      "['arse', 'ares', 'eras', 'ears', 'sera', 'rase', 'sear']\n",
      "['reest', 'terse', 'steer', 'reset', 'ester', 'stere', 'trees']\n",
      "['sourest', 'souters', 'oestrus', 'stoures', 'ousters', 'estrous', 'tussore']\n",
      "['tensor', 'trones', 'noters', 'stoner', 'toners', 'tenors', 'nestor']\n",
      "['rangiest', 'astringe', 'ganister', 'granites', 'angriest', 'gantries', 'ingrates']\n",
      "['noises', 'noesis', 'eosins', 'enosis', 'essoin', 'ossein', 'sonsie']\n",
      "['epimers', 'premise', 'empires', 'spireme', 'premies', 'imprese', 'emprise']\n",
      "['tepas', 'septa', 'spate', 'pates', 'tapes', 'paste', 'peats']\n",
      "['manse', 'manes', 'names', 'mensa', 'nemas', 'means', 'amens']\n",
      "['crate', 'caret', 'carte', 'trace', 'react', 'recta', 'cater']\n",
      "['sewar', 'sawer', 'sware', 'swear', 'resaw', 'wears', 'wares']\n",
      "['disrate', 'diaster', 'tardies', 'aridest', 'astride', 'tirades', 'staider']\n",
      "['algins', 'lingas', 'signal', 'aligns', 'liangs', 'ligans', 'lasing']\n",
      "['prese', 'speer', 'peres', 'perse', 'spree', 'peers', 'prees']\n",
      "['armets', 'master', 'stream', 'tamers', 'matres', 'ramets', 'maters']\n",
      "['cruets', 'curets', 'truces', 'rectus', 'cruset', 'recuts', 'eructs']\n",
      "['serval', 'salver', 'ravels', 'slaver', 'velars', 'lavers', 'versal']\n",
      "['beats', 'baste', 'bates', 'betas', 'abets', 'beast', 'tabes']\n",
      "['artiest', 'tastier', 'striate', 'artiste', 'ratites', 'attires', 'iratest']\n",
      "['spared', 'rasped', 'padres', 'drapes', 'spader', 'parsed', 'spread']\n",
      "['tides', 'stied', 'dites', 'edits', 'deist', 'sited', 'diets']\n",
      "['aspen', 'sneap', 'peans', 'napes', 'neaps', 'panes', 'spean']\n",
      "['priests', 'spriest', 'stirpes', 'persist', 'sprites', 'esprits', 'stripes']\n",
      "['starer', 'rarest', 'arrest', 'tarres', 'raster', 'raters', 'terras']\n",
      "['derail', 'laired', 'relaid', 'ariled', 'redial', 'railed', 'dialer']\n",
      "['items', 'smite', 'emits', 'stime', 'times', 'mites', 'metis']\n",
      "['breads', 'sabred', 'bardes', 'serdab', 'beards', 'ardebs', 'debars']\n",
      "['mister', 'timers', 'miters', 'mitres', 'merits', 'remits', 'smiter']\n",
      "['lustre', 'ulster', 'luster', 'rustle', 'result', 'sutler']\n",
      "['lustres', 'rustles', 'results', 'ulsters', 'lusters', 'sutlers']\n",
      "['palet', 'leapt', 'lepta', 'pleat', 'plate', 'petal']\n",
      "['alert', 'artel', 'later', 'ratel', 'taler', 'alter']\n",
      "['hatreds', 'hardset', 'hardest', 'threads', 'dearths', 'trashed']\n",
      "['elastin', 'nailset', 'saltine', 'entails', 'tenails', 'salient']\n",
      "['rinse', 'serin', 'resin', 'siren', 'reins', 'risen']\n",
      "['spouter', 'petrous', 'pouters', 'proteus', 'troupes', 'posture']\n",
      "['deers', 'sered', 'seder', 'drees', 'reeds', 'redes']\n",
      "['levier', 'relive', 'liever', 'revile', 'veiler', 'eviler']\n",
      "['raised', 'redias', 'irades', 'resaid', 'aiders', 'deairs']\n",
      "['spectre', 'scepter', 'sceptre', 'recepts', 'specter', 'respect']\n",
      "['sheals', 'selahs', 'hassel', 'lashes', 'shales', 'hassle']\n",
      "['arced', 'cared', 'acred', 'cedar', 'raced', 'cadre']\n",
      "['onset', 'seton', 'tones', 'stone', 'steno', 'notes']\n",
      "['aril', 'lira', 'lair', 'rail', 'rial', 'liar']\n",
      "['braes', 'bares', 'bears', 'baser', 'sabre', 'saber']\n",
      "['alerting', 'relating', 'tanglier', 'altering', 'integral', 'triangle']\n",
      "['rapiers', 'aspirer', 'repairs', 'praiser', 'raspier', 'parries']\n",
      "['tailers', 'retails', 'saltier', 'slatier', 'saltire', 'realist']\n",
      "['teasing', 'ingesta', 'seating', 'ingates', 'eatings', 'easting']\n",
      "['soldi', 'sloid', 'idols', 'diols', 'lidos', 'solid']\n",
      "['carpels', 'placers', 'reclasp', 'clasper', 'scalper', 'parcels']\n",
      "['resign', 'sering', 'singer', 'signer', 'reigns', 'renigs']\n",
      "['slipe', 'spiel', 'piles', 'speil', 'plies', 'spile']\n",
      "['ardeb', 'debar', 'barde', 'beard', 'bread', 'bared']\n",
      "['rials', 'liras', 'lairs', 'arils', 'liars', 'rails']\n",
      "['tames', 'teams', 'steam', 'satem', 'mates', 'meats']\n",
      "['elains', 'lianes', 'saline', 'aliens', 'silane', 'alines']\n",
      "['wast', 'taws', 'swat', 'twas', 'staw', 'wats']\n",
      "['dopiest', 'topside', 'sopited', 'deposit', 'posited', 'podites']\n",
      "['coster', 'sector', 'escort', 'rectos', 'corset', 'scoter']\n",
      "['strap', 'sprat', 'prats', 'parts', 'traps', 'tarps']\n",
      "['reseat', 'aretes', 'seater', 'teaser', 'eaters', 'easter']\n",
      "['spot', 'pots', 'opts', 'post', 'tops', 'stop']\n",
      "['teslas', 'stales', 'tassel', 'steals', 'leasts', 'slates']\n",
      "['priest', 'sprite', 'stripe', 'ripest', 'tripes', 'esprit']\n",
      "['scares', 'escars', 'seracs', 'carses', 'crases', 'caress']\n",
      "['stair', 'astir', 'tarsi', 'airts', 'stria', 'sitar']\n",
      "['heals', 'shale', 'selah', 'leash', 'sheal', 'hales']\n",
      "['vales', 'salve', 'valse', 'laves', 'veals', 'slave']\n",
      "['easters', 'reseats', 'tessera', 'seaters', 'teasers', 'searest']\n",
      "['stapler', 'psalter', 'palters', 'persalt', 'platers', 'plaster']\n",
      "['nectars', 'canters', 'recants', 'tanrecs', 'trances', 'scanter']\n",
      "['rentes', 'tenser', 'enters', 'ternes', 'resent', 'nester']\n",
      "['paster', 'paters', 'trapes', 'repast', 'prates', 'tapers']\n",
      "['rotches', 'hectors', 'tochers', 'torches', 'troches', 'rochets']\n",
      "['sadhe', 'deash', 'ashed', 'shade', 'hades', 'heads']\n",
      "['nectar', 'trance', 'canter', 'tanrec', 'centra', 'recant']\n",
      "['tread', 'dater', 'tared', 'derat', 'rated', 'trade']\n",
      "['coalers', 'solacer', 'recoals', 'escolar', 'oracles', 'claroes']\n",
      "['traipse', 'pastier', 'pirates', 'piastre', 'parties', 'piaster']\n",
      "['nargiles', 'realigns', 'aligners', 'engrails', 'slangier', 'signaler']\n",
      "['pinaster', 'painters', 'pertains', 'pantries', 'pristane', 'repaints']\n",
      "['estrange', 'greatens', 'grantees', 'negaters', 'reagents', 'sergeant']\n",
      "['cuter', 'eruct', 'truce', 'curet', 'cruet', 'recut']\n",
      "['tows', 'swot', 'twos', 'wots', 'wost', 'stow']\n",
      "['salted', 'deltas', 'lasted', 'staled', 'slated', 'desalt']\n",
      "['veinal', 'venial', 'vineal', 'alvine', 'alevin', 'valine']\n",
      "['serest', 'esters', 'steers', 'steres', 'resets', 'reests']\n",
      "['deils', 'slide', 'delis', 'isled', 'sidle', 'idles']\n",
      "eight letters:  ['rangiest', 'astringe', 'ganister', 'granites', 'angriest', 'gantries', 'ingrates']\n",
      "None\n"
     ]
    }
   ],
   "source": [
    " import os\n",
    "os.getcwd()\n",
    "\n",
    "def Anagram(file):\n",
    "    file=open(file,'r')\n",
    "    b={}\n",
    "    original={i.rstrip(\"\\r\\n\") for i in file}\n",
    "    sorted_dict={\"\".join(sorted(i)) for i in original}\n",
    "    for i in original:\n",
    "        a = \"\".join(sorted(i))\n",
    "        if a in sorted_dict:\n",
    "            if a in b:\n",
    "                b[a].append(i)\n",
    "            else:\n",
    "                b[a]=[i]\n",
    "    c=[]\n",
    "\n",
    "    for i in b.values():\n",
    "        if len(i)>5:\n",
    "            c.append(i)\n",
    "\n",
    "            \n",
    "#part (b) modify the program to prind largest anagram first ,then second and so on\n",
    "\n",
    "# use nested loop then compare length of c[i] and c[v] \n",
    "    for v in range(len(c)):\n",
    "        for i in range(len(c)):\n",
    "            if len(c[i])<len(c[v]):\n",
    "                # if condition true then exchange values with temp variable\n",
    "                temp=c[i]\n",
    "                c[i]=c[v]\n",
    "                c[v]=temp \n",
    "\n",
    "# part (c) print set of 8 letters that contain most anagram\n",
    "    counter = 0\n",
    "    eight = []\n",
    "    for i in c:\n",
    "        #increament counter by 1\n",
    "        counter+=1\n",
    "        print(i)\n",
    "# as soution will have seven anagram so check the condition  \n",
    "        if len(i) == 7:\n",
    "            for j in i:\n",
    "                if len(j) == 8: # if  length of j is 8 then add in list eight\n",
    "                    eight.append(j)\n",
    "    \n",
    "    \n",
    "    \n",
    "    print('eight letters: ', eight) \n",
    "    \n",
    "    \n",
    "print(Anagram('words.txt'))"
   ]
  },
  {
   "cell_type": "code",
   "execution_count": null,
   "metadata": {},
   "outputs": [],
   "source": []
  }
 ],
 "metadata": {
  "kernelspec": {
   "display_name": "Python 3",
   "language": "python",
   "name": "python3"
  },
  "language_info": {
   "codemirror_mode": {
    "name": "ipython",
    "version": 3
   },
   "file_extension": ".py",
   "mimetype": "text/x-python",
   "name": "python",
   "nbconvert_exporter": "python",
   "pygments_lexer": "ipython3",
   "version": "3.8.5"
  }
 },
 "nbformat": 4,
 "nbformat_minor": 4
}
