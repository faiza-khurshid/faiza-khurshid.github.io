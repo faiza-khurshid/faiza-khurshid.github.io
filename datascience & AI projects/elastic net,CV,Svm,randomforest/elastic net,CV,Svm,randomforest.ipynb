{
 "cells": [
  {
   "cell_type": "markdown",
   "metadata": {
    "id": "V7wocp3u6TiQ"
   },
   "source": [
    "# Biomedical Data Science & AI"
   ]
  },
  {
   "cell_type": "markdown",
   "metadata": {
    "id": "4esHY5Ci6TiU"
   },
   "source": [
    "# Exercise sheet 7 - Introduction - Due date: June 15th"
   ]
  },
  {
   "cell_type": "markdown",
   "metadata": {
    "id": "D0mAjtZu6TiW"
   },
   "source": [
    "Submitted to:\n",
    "\n",
    "Mohamed Aborageh : s0moabor@uni-bonn.de\n",
    "\n",
    "Vinay Srinivas Bharadhwaj: s0vibhar@uni-bonn.de\n",
    "\n",
    "Yasamin Salimi: yasisali@uni-bonn.de"
   ]
  },
  {
   "cell_type": "markdown",
   "metadata": {
    "id": "8BEhgtiT6TiW"
   },
   "source": [
    "# Exercise 1 - Elastic Net & Nested Cross-Validation (11 points)"
   ]
  },
  {
   "cell_type": "markdown",
   "metadata": {
    "id": "oznBibfP6TiW"
   },
   "source": [
    "1. Using the titanic_survival_data.csv dataset, train a logistic regression model with\n",
    "elastic net penalization to demonstrate the pros and cons of the different data\n",
    "splitting methods and give a short description on what you observe.\n"
   ]
  },
  {
   "cell_type": "markdown",
   "metadata": {
    "id": "7LoZ_-VE6TiX"
   },
   "source": [
    "a. Report the accuracy of data splitting with a test size of 0.2 and random\n",
    "state as 1. (1 point)\n"
   ]
  },
  {
   "cell_type": "code",
   "execution_count": null,
   "metadata": {
    "colab": {
     "base_uri": "https://localhost:8080/"
    },
    "executionInfo": {
     "elapsed": 252,
     "status": "ok",
     "timestamp": 1623698387819,
     "user": {
      "displayName": "Faiza Khurshid",
      "photoUrl": "https://lh3.googleusercontent.com/a-/AOh14GiQMg8YW9Vn-dmdh7YzAokK40kFWB3yOUQPXKFCNQ=s64",
      "userId": "09079498437295116932"
     },
     "user_tz": -120
    },
    "id": "z8nd8wEl6TiX",
    "outputId": "f1216a77-e81c-4945-8cd1-904a595b9497"
   },
   "outputs": [
    {
     "name": "stdout",
     "output_type": "stream",
     "text": [
      "Accuracy: 78.77%\n"
     ]
    },
    {
     "name": "stderr",
     "output_type": "stream",
     "text": [
      "/usr/local/lib/python3.7/dist-packages/sklearn/linear_model/_logistic.py:940: ConvergenceWarning: lbfgs failed to converge (status=1):\n",
      "STOP: TOTAL NO. of ITERATIONS REACHED LIMIT.\n",
      "\n",
      "Increase the number of iterations (max_iter) or scale the data as shown in:\n",
      "    https://scikit-learn.org/stable/modules/preprocessing.html\n",
      "Please also refer to the documentation for alternative solver options:\n",
      "    https://scikit-learn.org/stable/modules/linear_model.html#logistic-regression\n",
      "  extra_warning_msg=_LOGISTIC_SOLVER_CONVERGENCE_MSG)\n"
     ]
    }
   ],
   "source": [
    "from sklearn.model_selection import train_test_split\n",
    "from sklearn.metrics import mean_squared_error\n",
    "from math import sqrt\n",
    "from sklearn import model_selection\n",
    "from sklearn.linear_model import LogisticRegression\n",
    "from sklearn.model_selection import KFold\n",
    "from sklearn.model_selection import LeaveOneOut\n",
    "from sklearn.model_selection import LeavePOut\n",
    "from sklearn.model_selection import ShuffleSplit\n",
    "from sklearn.model_selection import StratifiedKFold\n",
    "from pandas import read_csv\n",
    "import pandas as pd\n",
    "import numpy as np \n",
    "from matplotlib import pyplot\n",
    "import warnings\n",
    "warnings.filterwarnings(\"ignore\")\n",
    "\n",
    "\n",
    "df= pd.read_csv('/titanic_survival_data.csv')\n",
    "x1 = df.drop('Label', axis=1).values \n",
    "y1 = df['Label'].values\n",
    "X_train, X_test, Y_train, Y_test = model_selection.train_test_split(x1, y1, test_size=0.2, random_state=1)\n",
    "model = LogisticRegression()\n",
    "model.fit(X_train, Y_train)\n",
    "result = model.score(X_test, Y_test)\n",
    "print(\"Accuracy: %.2f%%\" % (result*100.0))"
   ]
  },
  {
   "cell_type": "code",
   "execution_count": null,
   "metadata": {
    "id": "ugz1buw26TiY"
   },
   "outputs": [],
   "source": []
  },
  {
   "cell_type": "code",
   "execution_count": null,
   "metadata": {
    "id": "0IDJyfpI6TiY"
   },
   "outputs": [],
   "source": []
  },
  {
   "cell_type": "markdown",
   "metadata": {
    "id": "Y0mXjtaU6TiY"
   },
   "source": [
    "b. Plot the boxplot for the accuracy of the KFold cross validation with 5 splits.\n",
    "(1 point)\n"
   ]
  },
  {
   "cell_type": "code",
   "execution_count": null,
   "metadata": {
    "colab": {
     "base_uri": "https://localhost:8080/",
     "height": 999
    },
    "executionInfo": {
     "elapsed": 698,
     "status": "ok",
     "timestamp": 1623698402754,
     "user": {
      "displayName": "Faiza Khurshid",
      "photoUrl": "https://lh3.googleusercontent.com/a-/AOh14GiQMg8YW9Vn-dmdh7YzAokK40kFWB3yOUQPXKFCNQ=s64",
      "userId": "09079498437295116932"
     },
     "user_tz": -120
    },
    "id": "OvEnbQNn6TiY",
    "outputId": "cc3745e7-ba00-42a5-bd2b-4cf303661051"
   },
   "outputs": [
    {
     "name": "stderr",
     "output_type": "stream",
     "text": [
      "/usr/local/lib/python3.7/dist-packages/sklearn/model_selection/_split.py:296: FutureWarning: Setting a random_state has no effect since shuffle is False. This will raise an error in 0.24. You should leave random_state to its default (None), or set shuffle=True.\n",
      "  FutureWarning\n",
      "/usr/local/lib/python3.7/dist-packages/sklearn/linear_model/_logistic.py:940: ConvergenceWarning: lbfgs failed to converge (status=1):\n",
      "STOP: TOTAL NO. of ITERATIONS REACHED LIMIT.\n",
      "\n",
      "Increase the number of iterations (max_iter) or scale the data as shown in:\n",
      "    https://scikit-learn.org/stable/modules/preprocessing.html\n",
      "Please also refer to the documentation for alternative solver options:\n",
      "    https://scikit-learn.org/stable/modules/linear_model.html#logistic-regression\n",
      "  extra_warning_msg=_LOGISTIC_SOLVER_CONVERGENCE_MSG)\n",
      "/usr/local/lib/python3.7/dist-packages/sklearn/linear_model/_logistic.py:940: ConvergenceWarning: lbfgs failed to converge (status=1):\n",
      "STOP: TOTAL NO. of ITERATIONS REACHED LIMIT.\n",
      "\n",
      "Increase the number of iterations (max_iter) or scale the data as shown in:\n",
      "    https://scikit-learn.org/stable/modules/preprocessing.html\n",
      "Please also refer to the documentation for alternative solver options:\n",
      "    https://scikit-learn.org/stable/modules/linear_model.html#logistic-regression\n",
      "  extra_warning_msg=_LOGISTIC_SOLVER_CONVERGENCE_MSG)\n",
      "/usr/local/lib/python3.7/dist-packages/sklearn/linear_model/_logistic.py:940: ConvergenceWarning: lbfgs failed to converge (status=1):\n",
      "STOP: TOTAL NO. of ITERATIONS REACHED LIMIT.\n",
      "\n",
      "Increase the number of iterations (max_iter) or scale the data as shown in:\n",
      "    https://scikit-learn.org/stable/modules/preprocessing.html\n",
      "Please also refer to the documentation for alternative solver options:\n",
      "    https://scikit-learn.org/stable/modules/linear_model.html#logistic-regression\n",
      "  extra_warning_msg=_LOGISTIC_SOLVER_CONVERGENCE_MSG)\n",
      "/usr/local/lib/python3.7/dist-packages/sklearn/linear_model/_logistic.py:940: ConvergenceWarning: lbfgs failed to converge (status=1):\n",
      "STOP: TOTAL NO. of ITERATIONS REACHED LIMIT.\n",
      "\n",
      "Increase the number of iterations (max_iter) or scale the data as shown in:\n",
      "    https://scikit-learn.org/stable/modules/preprocessing.html\n",
      "Please also refer to the documentation for alternative solver options:\n",
      "    https://scikit-learn.org/stable/modules/linear_model.html#logistic-regression\n",
      "  extra_warning_msg=_LOGISTIC_SOLVER_CONVERGENCE_MSG)\n",
      "/usr/local/lib/python3.7/dist-packages/sklearn/linear_model/_logistic.py:940: ConvergenceWarning: lbfgs failed to converge (status=1):\n",
      "STOP: TOTAL NO. of ITERATIONS REACHED LIMIT.\n",
      "\n",
      "Increase the number of iterations (max_iter) or scale the data as shown in:\n",
      "    https://scikit-learn.org/stable/modules/preprocessing.html\n",
      "Please also refer to the documentation for alternative solver options:\n",
      "    https://scikit-learn.org/stable/modules/linear_model.html#logistic-regression\n",
      "  extra_warning_msg=_LOGISTIC_SOLVER_CONVERGENCE_MSG)\n"
     ]
    },
    {
     "data": {
      "image/png": "[encoded data removed]",
      "text/plain": [
       "<Figure size 432x288 with 1 Axes>"
      ]
     },
     "metadata": {
      "needs_background": "light",
      "tags": []
     },
     "output_type": "display_data"
    }
   ],
   "source": [
    "from matplotlib import pyplot\n",
    "kfold = model_selection.KFold(n_splits=5, random_state=100)\n",
    "model_kfold = LogisticRegression()\n",
    "results_kfold = model_selection.cross_val_score(model_kfold, x1, y1, cv=kfold)\n",
    "boxplot =pyplot .boxplot(results_kfold)"
   ]
  },
  {
   "cell_type": "code",
   "execution_count": null,
   "metadata": {
    "id": "zKVPpoJW91bh"
   },
   "outputs": [],
   "source": []
  },
  {
   "cell_type": "code",
   "execution_count": null,
   "metadata": {
    "id": "aco1Xsha6TiZ"
   },
   "outputs": [],
   "source": []
  },
  {
   "cell_type": "markdown",
   "metadata": {
    "id": "GwA2AwHv6TiZ"
   },
   "source": [
    "c. Plot the boxplot for the accuracy of the StratifiedKfold cross validation with\n",
    "5 splits. (1 point)\n"
   ]
  },
  {
   "cell_type": "code",
   "execution_count": null,
   "metadata": {
    "colab": {
     "base_uri": "https://localhost:8080/",
     "height": 999
    },
    "executionInfo": {
     "elapsed": 665,
     "status": "ok",
     "timestamp": 1623698411888,
     "user": {
      "displayName": "Faiza Khurshid",
      "photoUrl": "https://lh3.googleusercontent.com/a-/AOh14GiQMg8YW9Vn-dmdh7YzAokK40kFWB3yOUQPXKFCNQ=s64",
      "userId": "09079498437295116932"
     },
     "user_tz": -120
    },
    "id": "RITpiGVO6TiZ",
    "outputId": "acfcea7c-82fb-46f9-cacb-f0176203cf77"
   },
   "outputs": [
    {
     "name": "stderr",
     "output_type": "stream",
     "text": [
      "/usr/local/lib/python3.7/dist-packages/sklearn/model_selection/_split.py:296: FutureWarning: Setting a random_state has no effect since shuffle is False. This will raise an error in 0.24. You should leave random_state to its default (None), or set shuffle=True.\n",
      "  FutureWarning\n",
      "/usr/local/lib/python3.7/dist-packages/sklearn/linear_model/_logistic.py:940: ConvergenceWarning: lbfgs failed to converge (status=1):\n",
      "STOP: TOTAL NO. of ITERATIONS REACHED LIMIT.\n",
      "\n",
      "Increase the number of iterations (max_iter) or scale the data as shown in:\n",
      "    https://scikit-learn.org/stable/modules/preprocessing.html\n",
      "Please also refer to the documentation for alternative solver options:\n",
      "    https://scikit-learn.org/stable/modules/linear_model.html#logistic-regression\n",
      "  extra_warning_msg=_LOGISTIC_SOLVER_CONVERGENCE_MSG)\n",
      "/usr/local/lib/python3.7/dist-packages/sklearn/linear_model/_logistic.py:940: ConvergenceWarning: lbfgs failed to converge (status=1):\n",
      "STOP: TOTAL NO. of ITERATIONS REACHED LIMIT.\n",
      "\n",
      "Increase the number of iterations (max_iter) or scale the data as shown in:\n",
      "    https://scikit-learn.org/stable/modules/preprocessing.html\n",
      "Please also refer to the documentation for alternative solver options:\n",
      "    https://scikit-learn.org/stable/modules/linear_model.html#logistic-regression\n",
      "  extra_warning_msg=_LOGISTIC_SOLVER_CONVERGENCE_MSG)\n",
      "/usr/local/lib/python3.7/dist-packages/sklearn/linear_model/_logistic.py:940: ConvergenceWarning: lbfgs failed to converge (status=1):\n",
      "STOP: TOTAL NO. of ITERATIONS REACHED LIMIT.\n",
      "\n",
      "Increase the number of iterations (max_iter) or scale the data as shown in:\n",
      "    https://scikit-learn.org/stable/modules/preprocessing.html\n",
      "Please also refer to the documentation for alternative solver options:\n",
      "    https://scikit-learn.org/stable/modules/linear_model.html#logistic-regression\n",
      "  extra_warning_msg=_LOGISTIC_SOLVER_CONVERGENCE_MSG)\n",
      "/usr/local/lib/python3.7/dist-packages/sklearn/linear_model/_logistic.py:940: ConvergenceWarning: lbfgs failed to converge (status=1):\n",
      "STOP: TOTAL NO. of ITERATIONS REACHED LIMIT.\n",
      "\n",
      "Increase the number of iterations (max_iter) or scale the data as shown in:\n",
      "    https://scikit-learn.org/stable/modules/preprocessing.html\n",
      "Please also refer to the documentation for alternative solver options:\n",
      "    https://scikit-learn.org/stable/modules/linear_model.html#logistic-regression\n",
      "  extra_warning_msg=_LOGISTIC_SOLVER_CONVERGENCE_MSG)\n",
      "/usr/local/lib/python3.7/dist-packages/sklearn/linear_model/_logistic.py:940: ConvergenceWarning: lbfgs failed to converge (status=1):\n",
      "STOP: TOTAL NO. of ITERATIONS REACHED LIMIT.\n",
      "\n",
      "Increase the number of iterations (max_iter) or scale the data as shown in:\n",
      "    https://scikit-learn.org/stable/modules/preprocessing.html\n",
      "Please also refer to the documentation for alternative solver options:\n",
      "    https://scikit-learn.org/stable/modules/linear_model.html#logistic-regression\n",
      "  extra_warning_msg=_LOGISTIC_SOLVER_CONVERGENCE_MSG)\n"
     ]
    },
    {
     "data": {
      "image/png": "[encoded data removed]",
      "text/plain": [
       "<Figure size 432x288 with 1 Axes>"
      ]
     },
     "metadata": {
      "needs_background": "light",
      "tags": []
     },
     "output_type": "display_data"
    }
   ],
   "source": [
    "skfold = StratifiedKFold(n_splits=5, random_state=100)\n",
    "model_skfold = LogisticRegression()\n",
    "results_skfold = model_selection.cross_val_score(model_skfold, x1, y1, cv=skfold)\n",
    "#print(\"Accuracy: %.2f%%\" % (results_skfold.mean()*100.0))\n",
    "boxplot =pyplot .boxplot(results_skfold)"
   ]
  },
  {
   "cell_type": "code",
   "execution_count": null,
   "metadata": {
    "id": "HuPY3ROv6Tia"
   },
   "outputs": [],
   "source": []
  },
  {
   "cell_type": "code",
   "execution_count": null,
   "metadata": {
    "id": "37ycMZ4z6Tia"
   },
   "outputs": [],
   "source": []
  },
  {
   "cell_type": "markdown",
   "metadata": {
    "id": "Srt7dDug6Tia"
   },
   "source": [
    "d. Inform yourself about leave-one-out cross-validation (LOOCV). Implement\n",
    "LOOCV and mention the pros and cons of the method. (2 point)\n"
   ]
  },
  {
   "cell_type": "markdown",
   "metadata": {
    "id": "_KuTZK9W9aso"
   },
   "source": [
    "The Leave-One-Out Cross-Validation, or LOOCV, procedure is used to estimate the performance of machine learning algorithms when they are used to make predictions on data not used to train the model.\n",
    "\n",
    "pros and cons:\n",
    "\n",
    "It is a computationally expensive procedure to perform, although it results in a reliable and unbiased estimate of model performance. Although simple to use and no configuration to specify, there are times when the procedure should not be used, such as when you have a very large dataset or a computationally expensive model to evaluate\n"
   ]
  },
  {
   "cell_type": "code",
   "execution_count": null,
   "metadata": {
    "id": "Fy92fkwN6Tia"
   },
   "outputs": [],
   "source": [
    "loocv = model_selection.LeaveOneOut()\n",
    "model_loocv = LogisticRegression()\n",
    "results_loocv = model_selection.cross_val_score(model_loocv, x1, y1, cv=loocv)\n",
    "#print(\"Accuracy: %.2f%%\" % (results_loocv.mean()*100.0))"
   ]
  },
  {
   "cell_type": "code",
   "execution_count": null,
   "metadata": {
    "id": "UjigGMob6Tib"
   },
   "outputs": [],
   "source": []
  },
  {
   "cell_type": "markdown",
   "metadata": {
    "id": "3Scq_j_f6Tib"
   },
   "source": [
    "2. Use the nested cross validation to train a logistic regression with elastic net\n",
    "penalization (leukemia_small.csv).\n"
   ]
  },
  {
   "cell_type": "markdown",
   "metadata": {
    "id": "4xtvyf6n6Tib"
   },
   "source": [
    "a. Split the data into training and test samples using an appropriate cross\n",
    "validation method, and in the inner loop carry out hyperparameter\n",
    "optimization. (2 points)\n"
   ]
  },
  {
   "cell_type": "code",
   "execution_count": 1,
   "metadata": {
    "id": "XV738MI06Tib"
   },
   "outputs": [],
   "source": [
    "import pandas as pd\n",
    "import csv\n",
    "import matplotlib.pyplot as plt\n",
    "from sklearn.datasets import make_classification\n",
    "from sklearn.model_selection import KFold\n",
    "from sklearn.model_selection import GridSearchCV\n",
    "from sklearn.linear_model import LogisticRegression\n",
    "import warnings\n",
    "warnings.filterwarnings(\"ignore\")\n",
    "from sklearn.metrics import accuracy_score, precision_recall_curve, roc_auc_score, auc\n",
    "from numpy import mean, std"
   ]
  },
  {
   "cell_type": "code",
   "execution_count": 2,
   "metadata": {
    "id": "t6JrApwc6Tib"
   },
   "outputs": [],
   "source": [
    "file = pd.read_csv(\"leukemia_small.csv\", header = None)\n",
    "file.isna().any() #checking if any null values\n",
    "\n",
    "df = file.replace(\"ALL\", 0).replace(\"AML\", 1).transpose()\n",
    "X = df.drop(0, axis = 1).values\n",
    "y = df[0].values\n",
    "y=y.astype('int')"
   ]
  },
  {
   "cell_type": "code",
   "execution_count": 3,
   "metadata": {
    "id": "tIxZdsgS6Tic"
   },
   "outputs": [],
   "source": [
    "cv_outer = KFold(n_splits=5, shuffle=True, random_state=1)\n",
    "\n",
    "outer_acc = []\n",
    "outer_roc = []\n",
    "outer_pr = []\n",
    "\n",
    "for train, test in cv_outer.split(X):\n",
    "    X_train, X_test = X[train, :], X[test, :]\n",
    "    y_train, y_test = y[train], y[test]\n",
    "    \n",
    "    \n",
    "    # configure the cross-validation procedure\n",
    "    cv_inner = KFold(n_splits=3, shuffle=True, random_state=1)\n",
    "    \n",
    "    model = LogisticRegression()\n",
    "    params = {'solver':['saga'], 'penalty': ['elasticnet'], 'C':[10, 1.0, 0.1],'l1_ratio':[0.1, 0.5, 0.9], \n",
    "             'max_iter':[500]}\n",
    "    \n",
    "    gs = GridSearchCV(model, params, scoring='accuracy', cv=cv_inner, refit=True)\n",
    "    \n",
    "    res = gs.fit(X_train, y_train)\n",
    "    best_model = res.best_estimator_\n",
    "    pred = best_model.predict(X_test)\n",
    "    \n",
    "    # evaluate the model\n",
    "    acc = accuracy_score(y_test, pred)\n",
    "    outer_acc.append(acc)\n",
    "    \n",
    "    roc = roc_auc_score(y_test, pred)\n",
    "    outer_roc.append(roc)\n",
    "    \n",
    "    rec, pr, thres = precision_recall_curve(y_test, pred)\n",
    "    outer_pr.append(auc(rec,pr))"
   ]
  },
  {
   "cell_type": "markdown",
   "metadata": {
    "id": "W3KZ8Qlp6Tic"
   },
   "source": [
    "b. Compute the area under the ROC curve (AUC-ROC) and the area under\n",
    "the precision-recall curve (AUC-PR). (1 point)\n"
   ]
  },
  {
   "cell_type": "code",
   "execution_count": 4,
   "metadata": {
    "id": "9tW09_cX6Tic"
   },
   "outputs": [
    {
     "name": "stdout",
     "output_type": "stream",
     "text": [
      "Area under ROC curve, AUC-ROC: 0.978 (0.028)\n",
      "Area under precision-recall curve, AUC-PR: 0.032 (0.042)\n"
     ]
    }
   ],
   "source": [
    "print('Area under ROC curve, AUC-ROC: {:.3f} ({:.3f})'.format(mean(outer_roc), std(outer_roc)))\n",
    "print('Area under precision-recall curve, AUC-PR: {:.3f} ({:.3f})'.format(mean(outer_pr), std(outer_pr)))"
   ]
  },
  {
   "cell_type": "markdown",
   "metadata": {
    "id": "1iHOb2k26Tic"
   },
   "source": [
    "c. Plot separate boxplots for the 2 performance metrics. (1 point)\n"
   ]
  },
  {
   "cell_type": "code",
   "execution_count": 5,
   "metadata": {
    "id": "xjHgs0vC6Tic"
   },
   "outputs": [
    {
     "data": {
      "image/png": "[encoded data removed]",
      "text/plain": [
       "<Figure size 432x288 with 1 Axes>"
      ]
     },
     "metadata": {
      "needs_background": "light"
     },
     "output_type": "display_data"
    }
   ],
   "source": [
    "# boxplot\n",
    "fig = plt.figure()\n",
    "fig.suptitle('AUC_ROC')\n",
    "plt.boxplot(outer_roc)\n",
    "plt.show()"
   ]
  },
  {
   "cell_type": "code",
   "execution_count": 6,
   "metadata": {
    "id": "_5Nz4ELa6Tic"
   },
   "outputs": [
    {
     "data": {
      "image/png": "[encoded data removed]",
      "text/plain": [
       "<Figure size 432x288 with 1 Axes>"
      ]
     },
     "metadata": {
      "needs_background": "light"
     },
     "output_type": "display_data"
    }
   ],
   "source": [
    "# boxplot\n",
    "fig = plt.figure()\n",
    "fig.suptitle('AUC-PR')\n",
    "plt.boxplot(outer_pr)\n",
    "plt.show()"
   ]
  },
  {
   "cell_type": "markdown",
   "metadata": {
    "id": "00vlp1jn6Tid"
   },
   "source": [
    "3. In your own words, explain how each of the following metrics can be used to\n",
    "assess the performance of a model and then calculate each metric using the\n",
    "following confusion matrix. (2 points)\n",
    "\n",
    "\n",
    "a. Recall\n",
    "\n",
    "\n",
    "b. F1\n",
    "\n",
    "c. Balanced Accuracy (BAC)\n",
    "\n",
    "d. Matthews Correlation Coefficient (MCC)"
   ]
  },
  {
   "cell_type": "markdown",
   "metadata": {
    "id": "NR5Yr5aJXGyI"
   },
   "source": [
    "**Given Confusion matrix:**\n",
    "+ TN = 250 (True Negative)\n",
    "+ FP = 20 (False Positive)\n",
    "+ FN = 30 (False Negative)\n",
    "+ TP = 100 (True Positive)\n",
    "\n",
    "-> Recall: It is the true positive rate or sensitivity. It is the ratio of correct positive predictions to the total positives examples. It should ideally be 1 for a good classifier.\n",
    "\n",
    "-> F1 score: This metric takes into account both precision and recall. It is the harmonic mean of precision and recall. Hence when both of them are high, this is high and is ideally 1 for good classifier.\n",
    "\n",
    "-> Balanced Accuracy (BAC): This metric takes into account recall and specificity. It is the arithmetic mean of those values. It helps to account for the imbalance in classes.\n",
    "\n",
    "-> Matthews Correlation Coefficient (MCC): MCC takes all cells of confusion matrix into account. the range of values of MCC lie between -1 to +1. A model with a score of +1 is a perfect model and -1 is a poor model. This property is useful because it is easy to interpret."
   ]
  },
  {
   "cell_type": "code",
   "execution_count": 2,
   "metadata": {
    "colab": {
     "base_uri": "https://localhost:8080/"
    },
    "executionInfo": {
     "elapsed": 208,
     "status": "ok",
     "timestamp": 1623789461450,
     "user": {
      "displayName": "Priya K",
      "photoUrl": "https://lh3.googleusercontent.com/a-/AOh14Ggpt26OmXFNJNbBMPrNopOcaEJVrWp4TvBjh0WjDtw=s64",
      "userId": "09701562998674055111"
     },
     "user_tz": -120
    },
    "id": "81PANX956Tid",
    "outputId": "570ab70d-2a55-433e-d6c4-3344543fe6d4"
   },
   "outputs": [
    {
     "name": "stdout",
     "output_type": "stream",
     "text": [
      "Recall: 0.769, F1 Score = 0.800, BAC = 0.848, MCC = 0.711\n"
     ]
    }
   ],
   "source": [
    "import math \n",
    "TN = 250\n",
    "FP = 20\n",
    "FN = 30\n",
    "TP = 100\n",
    "\n",
    "precision = TP / (TP + FP )\n",
    "recall = TP / (TP + FN)\n",
    "f1 = (2*precision*recall)/(precision+recall)\n",
    "specificity = TN / (FP + TN)\n",
    "BAC = (recall + specificity) /2\n",
    "MCC = ((TP * TN) - (FP * FN)) / math.sqrt((TP+FP) * (TP+FN) * (TN+FP) * (TN + FN))\n",
    "\n",
    "print(\"Recall: {:.3f}, F1 Score = {:.3f}, BAC = {:.3f}, MCC = {:.3f}\".format(recall, f1, BAC, MCC))"
   ]
  },
  {
   "cell_type": "code",
   "execution_count": null,
   "metadata": {
    "id": "4TrB1scb6Tid"
   },
   "outputs": [],
   "source": []
  },
  {
   "cell_type": "markdown",
   "metadata": {
    "id": "orX9K29H6Tid"
   },
   "source": [
    "# Exercise 2 - SVM (4 points)"
   ]
  },
  {
   "cell_type": "markdown",
   "metadata": {
    "id": "4b4q4psm6Tie"
   },
   "source": [
    "1) Inform yourself about SVM and briefly explain the working strategy of linear SVM\n",
    "and why maximizing the margin is a good strategy. (2 points)\n"
   ]
  },
  {
   "cell_type": "markdown",
   "metadata": {
    "id": "gED7ZLrg6Tie"
   },
   "source": [
    "<b>Working Strategy:</b>\n",
    "\n",
    "The linear SVM works by creating the Hyperplane that classifies all the training vectors into two classes or the space into two disconnected parts.\n",
    "\n",
    "\n",
    "We can also create two or more hyperplanes to classsify correctly all the instances in the feature set.\n",
    "\n",
    "But the best(optimal) choice of hyperplane will be the one which leaves the maximum margin from both the classes i.e, the positive and negative hyperplane. The margin is the distance between the hyperplane and the closest elements from the hyperplane( or the the positive and negative hyperplane).\n",
    "\n",
    "Once the hyperplane is chosen, we can define the classes of space by defining the distance bwteen the closest elements is atleast 1. \n",
    "\n",
    "The closest elements/points are known as the Support vectors.\n",
    "\n",
    "\n",
    "   \n",
    "<b>Maximising Margin as Strategy:</b>\n",
    "\n",
    "Maximizing the margin will give best results because points near the decision boundary represent very uncertain classification decisions: there is almost a 50% chance of the classifier deciding either way. A classifier with a large margin makes easier for making decision to which side,the new data points belongs to. So, it reduces the generlisation error.\n",
    "    "
   ]
  },
  {
   "cell_type": "code",
   "execution_count": null,
   "metadata": {
    "id": "mVal2-Vi6Tie"
   },
   "outputs": [],
   "source": []
  },
  {
   "cell_type": "markdown",
   "metadata": {
    "id": "lHIdIEeN6Tie"
   },
   "source": [
    "2) Inform yourself about the non-linearity problem for classifiers. Briefly explain how\n",
    "SVM uses kernel trick to overcome this issue. (2 points)"
   ]
  },
  {
   "cell_type": "markdown",
   "metadata": {
    "id": "ea6UugFv6Tif"
   },
   "source": [
    "<b>Problem:</b>\n",
    "    \n",
    "we cannot create a hyperplane that can separate the samples with non-linear data.\n",
    "\n",
    "Misclassification of data is possible\n",
    " \n",
    "\n",
    "\n",
    "<b>Solution:</b>\n",
    "    \n",
    "The \"Kernel trick\" is used to learn a linear classifier to classify a non-linear dataset. \n",
    "\n",
    "Takes low-dimensional space data as input and gives higher dimensional space to seperate the dataset.\n",
    "\n",
    "It transforms the linearly inseparable data into a linearly separable one by projecting it into a higher dimension. \n",
    "\n",
    "A kernel function is applied on each data instance to map the original non-linear data points into some higher dimensional space in which they become linearly separable. "
   ]
  },
  {
   "cell_type": "code",
   "execution_count": null,
   "metadata": {
    "id": "G9ceVqia6Tif"
   },
   "outputs": [],
   "source": []
  },
  {
   "cell_type": "markdown",
   "metadata": {
    "id": "BGdBXvaR6Tif"
   },
   "source": [
    "# Exercise 3 - Random Forest (10 points)"
   ]
  },
  {
   "cell_type": "markdown",
   "metadata": {
    "id": "99Eg62JY6Tif"
   },
   "source": [
    "For the following questions, use random_seed = 1 for better reproducibility of your\n",
    "answers.\n"
   ]
  },
  {
   "cell_type": "markdown",
   "metadata": {
    "id": "OOBWrgHO6Tif"
   },
   "source": [
    "1. Load the breast cancer dataset from sklearn to your Jupyter notebook. Use label\n",
    "encoding to convert your target variable “class” into numerical form. Split the\n",
    "dataset using a 5-fold cross validation (1 point)\n"
   ]
  },
  {
   "cell_type": "code",
   "execution_count": null,
   "metadata": {
    "id": "Va5HXce86Tig"
   },
   "outputs": [],
   "source": [
    "from sklearn import datasets\n",
    "data = datasets.load_breast_cancer()"
   ]
  },
  {
   "cell_type": "code",
   "execution_count": null,
   "metadata": {
    "id": "xXmqo_Ge6Tig"
   },
   "outputs": [],
   "source": [
    "import pandas as pd\n",
    "dataset = pd.DataFrame(data.data, columns=data.feature_names)\n",
    "target = data.target"
   ]
  },
  {
   "cell_type": "code",
   "execution_count": null,
   "metadata": {
    "colab": {
     "base_uri": "https://localhost:8080/"
    },
    "executionInfo": {
     "elapsed": 363,
     "status": "ok",
     "timestamp": 1623668453487,
     "user": {
      "displayName": "Shubhi Ambast",
      "photoUrl": "https://lh3.googleusercontent.com/a-/AOh14GjhuDZEUPKJD4TaJUl8oSctGPWwnuNNYo0AFQMUBtI=s64",
      "userId": "09629641437536037904"
     },
     "user_tz": -120
    },
    "id": "WRDYvWGsJwdQ",
    "outputId": "c30ab3bf-1905-4782-a6eb-220e9a0a182e"
   },
   "outputs": [
    {
     "data": {
      "text/plain": [
       "mean radius                False\n",
       "mean texture               False\n",
       "mean perimeter             False\n",
       "mean area                  False\n",
       "mean smoothness            False\n",
       "mean compactness           False\n",
       "mean concavity             False\n",
       "mean concave points        False\n",
       "mean symmetry              False\n",
       "mean fractal dimension     False\n",
       "radius error               False\n",
       "texture error              False\n",
       "perimeter error            False\n",
       "area error                 False\n",
       "smoothness error           False\n",
       "compactness error          False\n",
       "concavity error            False\n",
       "concave points error       False\n",
       "symmetry error             False\n",
       "fractal dimension error    False\n",
       "worst radius               False\n",
       "worst texture              False\n",
       "worst perimeter            False\n",
       "worst area                 False\n",
       "worst smoothness           False\n",
       "worst compactness          False\n",
       "worst concavity            False\n",
       "worst concave points       False\n",
       "worst symmetry             False\n",
       "worst fractal dimension    False\n",
       "dtype: bool"
      ]
     },
     "execution_count": 20,
     "metadata": {
      "tags": []
     },
     "output_type": "execute_result"
    }
   ],
   "source": [
    "dataset.isnull().any()"
   ]
  },
  {
   "cell_type": "code",
   "execution_count": null,
   "metadata": {
    "colab": {
     "base_uri": "https://localhost:8080/"
    },
    "executionInfo": {
     "elapsed": 13,
     "status": "ok",
     "timestamp": 1623668456796,
     "user": {
      "displayName": "Shubhi Ambast",
      "photoUrl": "https://lh3.googleusercontent.com/a-/AOh14GjhuDZEUPKJD4TaJUl8oSctGPWwnuNNYo0AFQMUBtI=s64",
      "userId": "09629641437536037904"
     },
     "user_tz": -120
    },
    "id": "OfPmRd_qJwZ-",
    "outputId": "6be01317-1e1c-4608-c30f-9841d289c140"
   },
   "outputs": [
    {
     "data": {
      "text/plain": [
       "(569, 30)"
      ]
     },
     "execution_count": 21,
     "metadata": {
      "tags": []
     },
     "output_type": "execute_result"
    }
   ],
   "source": [
    "dataset.shape"
   ]
  },
  {
   "cell_type": "code",
   "execution_count": null,
   "metadata": {
    "colab": {
     "base_uri": "https://localhost:8080/"
    },
    "executionInfo": {
     "elapsed": 368,
     "status": "ok",
     "timestamp": 1623668458281,
     "user": {
      "displayName": "Shubhi Ambast",
      "photoUrl": "https://lh3.googleusercontent.com/a-/AOh14GjhuDZEUPKJD4TaJUl8oSctGPWwnuNNYo0AFQMUBtI=s64",
      "userId": "09629641437536037904"
     },
     "user_tz": -120
    },
    "id": "DSjeOwFbJwDy",
    "outputId": "680ebaa4-e885-4d5e-bb79-bf2c68ab85b8"
   },
   "outputs": [
    {
     "data": {
      "text/plain": [
       "(569,)"
      ]
     },
     "execution_count": 22,
     "metadata": {
      "tags": []
     },
     "output_type": "execute_result"
    }
   ],
   "source": [
    "target.shape"
   ]
  },
  {
   "cell_type": "code",
   "execution_count": null,
   "metadata": {
    "colab": {
     "base_uri": "https://localhost:8080/"
    },
    "executionInfo": {
     "elapsed": 4,
     "status": "ok",
     "timestamp": 1623668459644,
     "user": {
      "displayName": "Shubhi Ambast",
      "photoUrl": "https://lh3.googleusercontent.com/a-/AOh14GjhuDZEUPKJD4TaJUl8oSctGPWwnuNNYo0AFQMUBtI=s64",
      "userId": "09629641437536037904"
     },
     "user_tz": -120
    },
    "id": "AKEPXg5jJ2y9",
    "outputId": "b8e0b602-bf44-4d1d-a9b8-317160170c07"
   },
   "outputs": [
    {
     "name": "stderr",
     "output_type": "stream",
     "text": [
      "/usr/local/lib/python3.7/dist-packages/sklearn/model_selection/_split.py:296: FutureWarning: Setting a random_state has no effect since shuffle is False. This will raise an error in 0.24. You should leave random_state to its default (None), or set shuffle=True.\n",
      "  FutureWarning\n"
     ]
    }
   ],
   "source": [
    "from sklearn.model_selection import KFold\n",
    "kf = KFold(5,random_state = 1)\n",
    "for train_index, test_index in kf.split(dataset):\n",
    "\n",
    "    # Split train and test datasets sing fold index\n",
    "    X_train, X_test = dataset.iloc[train_index], dataset.iloc[test_index]\n",
    "    y_train, y_test = target[train_index], target[test_index]"
   ]
  },
  {
   "cell_type": "markdown",
   "metadata": {
    "id": "0gmP5_RE6Tig"
   },
   "source": [
    "2. Set up a parameter grid and use grid search with 5-fold cross validation to\n",
    "identify the best hyperparameter values used to fit a random forest classifier.\n",
    "(2 points)\n"
   ]
  },
  {
   "cell_type": "code",
   "execution_count": null,
   "metadata": {
    "colab": {
     "base_uri": "https://localhost:8080/"
    },
    "executionInfo": {
     "elapsed": 30654,
     "status": "ok",
     "timestamp": 1623668075428,
     "user": {
      "displayName": "Shubhi Ambast",
      "photoUrl": "https://lh3.googleusercontent.com/a-/AOh14GjhuDZEUPKJD4TaJUl8oSctGPWwnuNNYo0AFQMUBtI=s64",
      "userId": "09629641437536037904"
     },
     "user_tz": -120
    },
    "id": "FIn-xHSG6Tih",
    "outputId": "0dc3f16b-2db4-4536-a2e2-41fe8d01d1a8"
   },
   "outputs": [
    {
     "name": "stdout",
     "output_type": "stream",
     "text": [
      "Fitting 5 folds for each of 120 candidates, totalling 600 fits\n"
     ]
    },
    {
     "name": "stderr",
     "output_type": "stream",
     "text": [
      "[Parallel(n_jobs=-1)]: Using backend LokyBackend with 2 concurrent workers.\n",
      "[Parallel(n_jobs=-1)]: Done  66 tasks      | elapsed:    4.2s\n",
      "[Parallel(n_jobs=-1)]: Done 366 tasks      | elapsed:   18.5s\n"
     ]
    },
    {
     "name": "stdout",
     "output_type": "stream",
     "text": [
      "0.9649546106067846\n",
      "{'bootstrap': True, 'criterion': 'entropy', 'max_depth': 5, 'max_features': 'log2', 'n_estimators': 10}\n",
      "RandomForestClassifier(bootstrap=True, ccp_alpha=0.0, class_weight=None,\n",
      "                       criterion='entropy', max_depth=5, max_features='log2',\n",
      "                       max_leaf_nodes=None, max_samples=None,\n",
      "                       min_impurity_decrease=0.0, min_impurity_split=None,\n",
      "                       min_samples_leaf=1, min_samples_split=2,\n",
      "                       min_weight_fraction_leaf=0.0, n_estimators=10,\n",
      "                       n_jobs=None, oob_score=False, random_state=1, verbose=0,\n",
      "                       warm_start=False)\n"
     ]
    },
    {
     "name": "stderr",
     "output_type": "stream",
     "text": [
      "[Parallel(n_jobs=-1)]: Done 597 out of 600 | elapsed:   30.1s remaining:    0.2s\n",
      "[Parallel(n_jobs=-1)]: Done 600 out of 600 | elapsed:   30.2s finished\n"
     ]
    }
   ],
   "source": [
    "from sklearn.ensemble import RandomForestClassifier\n",
    "from sklearn.model_selection import GridSearchCV\n",
    "\n",
    "rfc = RandomForestClassifier(random_state = 1)\n",
    "param_grid = { \n",
    "    'n_estimators': [10, 50],\n",
    "    'max_features': ['auto', 'sqrt', 'log2'],\n",
    "    'max_depth' : [4,5,6,7,8],\n",
    "    'criterion' :['gini', 'entropy'],\n",
    "    'bootstrap' : [True, False]\n",
    "}\n",
    "gs = GridSearchCV(rfc,\n",
    "param_grid,\n",
    "cv =5,\n",
    "verbose = 1,\n",
    "n_jobs = -1\n",
    ")\n",
    "\n",
    "gs_results = gs.fit(X_train,y_train)\n",
    "\n",
    "print(gs_results.best_score_)\n",
    "print(gs_results.best_params_)\n",
    "print(gs_results.best_estimator_)"
   ]
  },
  {
   "cell_type": "markdown",
   "metadata": {
    "id": "WPAvA5SA6Tih"
   },
   "source": [
    "3. Use the best hyperparameters from 2) to fit the final model. Predict the classes of\n",
    "the test set and count the number of samples assigned to each class. (2 points)\n"
   ]
  },
  {
   "cell_type": "code",
   "execution_count": null,
   "metadata": {
    "colab": {
     "base_uri": "https://localhost:8080/"
    },
    "executionInfo": {
     "elapsed": 319,
     "status": "ok",
     "timestamp": 1623668465592,
     "user": {
      "displayName": "Shubhi Ambast",
      "photoUrl": "https://lh3.googleusercontent.com/a-/AOh14GjhuDZEUPKJD4TaJUl8oSctGPWwnuNNYo0AFQMUBtI=s64",
      "userId": "09629641437536037904"
     },
     "user_tz": -120
    },
    "id": "5vBzAC9C6Tih",
    "outputId": "bc7f8e80-5eb6-46e3-a1ab-844f3cd4ca1a"
   },
   "outputs": [
    {
     "name": "stdout",
     "output_type": "stream",
     "text": [
      "Accuracy: 0.9646\n"
     ]
    }
   ],
   "source": [
    "from sklearn.metrics import classification_report,accuracy_score\n",
    "Clf = RandomForestClassifier(criterion= 'entropy', max_depth= 5, max_features= 'log2', n_estimators =10,random_state = 1,bootstrap=True)\n",
    "Clf.fit(X_train, y_train)\n",
    "y_pred = Clf.predict(X_test)\n",
    "accuracy = accuracy_score(y_test,y_pred)\n",
    "print(\"Accuracy:\",round(accuracy,4))"
   ]
  },
  {
   "cell_type": "code",
   "execution_count": null,
   "metadata": {
    "colab": {
     "base_uri": "https://localhost:8080/"
    },
    "executionInfo": {
     "elapsed": 325,
     "status": "ok",
     "timestamp": 1623668467638,
     "user": {
      "displayName": "Shubhi Ambast",
      "photoUrl": "https://lh3.googleusercontent.com/a-/AOh14GjhuDZEUPKJD4TaJUl8oSctGPWwnuNNYo0AFQMUBtI=s64",
      "userId": "09629641437536037904"
     },
     "user_tz": -120
    },
    "id": "wGeunpcz6Tii",
    "outputId": "4b38310a-3198-41d1-d4e0-3a1b882f2fbb"
   },
   "outputs": [
    {
     "name": "stdout",
     "output_type": "stream",
     "text": [
      "Classification Report:\n",
      "              precision    recall  f1-score   support\n",
      "\n",
      "           0       0.87      1.00      0.93        26\n",
      "           1       1.00      0.95      0.98        87\n",
      "\n",
      "    accuracy                           0.96       113\n",
      "   macro avg       0.93      0.98      0.95       113\n",
      "weighted avg       0.97      0.96      0.97       113\n",
      "\n"
     ]
    }
   ],
   "source": [
    "classes = classification_report(y_test, y_pred)\n",
    "print(\"Classification Report:\")\n",
    "print (classes)"
   ]
  },
  {
   "cell_type": "markdown",
   "metadata": {
    "id": "UjQIjyq5KV5q"
   },
   "source": [
    "After seeing the classification report, it can be observed that there are two classes 0 and 1. The count of class 0 is 26 and class 1 is 87"
   ]
  },
  {
   "cell_type": "markdown",
   "metadata": {
    "id": "fPmKECxk6Tii"
   },
   "source": [
    "4. Print the importance of each feature in descending order. Identify the top 5\n",
    "features. (1 points)\n"
   ]
  },
  {
   "cell_type": "code",
   "execution_count": null,
   "metadata": {
    "id": "74HGD-MI6Tii"
   },
   "outputs": [],
   "source": [
    "feature_imp = { dataset.columns[i]:Clf.feature_importances_[i] for i in range(len(Clf.feature_importances_))}\n",
    "import operator\n",
    "feature_imp_sorted = sorted(feature_imp.items(),key = operator.itemgetter(1),reverse = True)"
   ]
  },
  {
   "cell_type": "code",
   "execution_count": null,
   "metadata": {
    "colab": {
     "base_uri": "https://localhost:8080/"
    },
    "executionInfo": {
     "elapsed": 239,
     "status": "ok",
     "timestamp": 1623668472240,
     "user": {
      "displayName": "Shubhi Ambast",
      "photoUrl": "https://lh3.googleusercontent.com/a-/AOh14GjhuDZEUPKJD4TaJUl8oSctGPWwnuNNYo0AFQMUBtI=s64",
      "userId": "09629641437536037904"
     },
     "user_tz": -120
    },
    "id": "oPcVOkua6Tii",
    "outputId": "f4b52866-1fa4-400e-ce1f-6ede7f2fbd6a"
   },
   "outputs": [
    {
     "data": {
      "text/plain": [
       "[('worst radius', 0.22634149506702655),\n",
       " ('mean concave points', 0.16654608208177224),\n",
       " ('mean perimeter', 0.1209867048222002),\n",
       " ('worst area', 0.10701782987111941),\n",
       " ('worst perimeter', 0.09369752213945547),\n",
       " ('mean concavity', 0.07922470933952326),\n",
       " ('worst concave points', 0.04054858280498653),\n",
       " ('mean texture', 0.02518634390831016),\n",
       " ('worst smoothness', 0.02248401007156575),\n",
       " ('worst texture', 0.016423976467931808),\n",
       " ('worst fractal dimension', 0.014873957368323486),\n",
       " ('worst concavity', 0.011761503874132936),\n",
       " ('radius error', 0.011728600276923264),\n",
       " ('symmetry error', 0.01109069117426153),\n",
       " ('mean smoothness', 0.010160508299127971),\n",
       " ('area error', 0.00892034748158182),\n",
       " ('worst symmetry', 0.006745332900660225),\n",
       " ('worst compactness', 0.005116666163001171),\n",
       " ('mean radius', 0.004976604745826125),\n",
       " ('smoothness error', 0.003262244191929433),\n",
       " ('mean fractal dimension', 0.0025326760698118314),\n",
       " ('texture error', 0.002491860508912097),\n",
       " ('mean symmetry', 0.0016889885424085118),\n",
       " ('fractal dimension error', 0.0015616553622923401),\n",
       " ('perimeter error', 0.0013478153620373912),\n",
       " ('concavity error', 0.0012990560725885086),\n",
       " ('mean compactness', 0.0012269929584012658),\n",
       " ('concave points error', 0.0007572420738885259),\n",
       " ('mean area', 0.0),\n",
       " ('compactness error', 0.0)]"
      ]
     },
     "execution_count": 27,
     "metadata": {
      "tags": []
     },
     "output_type": "execute_result"
    }
   ],
   "source": [
    "feature_imp_sorted"
   ]
  },
  {
   "cell_type": "markdown",
   "metadata": {
    "id": "Ve7cpTnxKd4c"
   },
   "source": [
    "Top 5 important features are: \n",
    "\n",
    "'worst radius','mean concave points','mean perimeter','worst area','worst perimeter'"
   ]
  },
  {
   "cell_type": "code",
   "execution_count": null,
   "metadata": {
    "colab": {
     "base_uri": "https://localhost:8080/",
     "height": 298
    },
    "executionInfo": {
     "elapsed": 658,
     "status": "ok",
     "timestamp": 1623668475556,
     "user": {
      "displayName": "Shubhi Ambast",
      "photoUrl": "https://lh3.googleusercontent.com/a-/AOh14GjhuDZEUPKJD4TaJUl8oSctGPWwnuNNYo0AFQMUBtI=s64",
      "userId": "09629641437536037904"
     },
     "user_tz": -120
    },
    "id": "88IUP6o4KgMU",
    "outputId": "4f89300c-014b-4bfa-f84f-2877a843ad7c"
   },
   "outputs": [
    {
     "data": {
      "text/plain": [
       "Text(0.5, 0, 'Random Forest Feature Importance')"
      ]
     },
     "execution_count": 28,
     "metadata": {
      "tags": []
     },
     "output_type": "execute_result"
    },
    {
     "data": {
      "image/png": "[encoded data removed]",
      "text/plain": [
       "<Figure size 432x288 with 1 Axes>"
      ]
     },
     "metadata": {
      "needs_background": "light",
      "tags": []
     },
     "output_type": "display_data"
    }
   ],
   "source": [
    "import matplotlib.pyplot as plt\n",
    "Clf.fit(X_train,y_train)\n",
    "Clf.feature_importances_\n",
    "sorted_idx = Clf.feature_importances_.argsort()\n",
    "plt.barh(data.feature_names[sorted_idx], Clf.feature_importances_[sorted_idx])\n",
    "plt.xlabel(\"Random Forest Feature Importance\")"
   ]
  },
  {
   "cell_type": "markdown",
   "metadata": {
    "id": "4I0eATqW6Tij"
   },
   "source": [
    "5. Mention a case when permutation feature importance is favored over\n",
    "impurity-based feature importance. Use permutation importance to print the\n",
    "importances of your features in a descending order. Compare your answer with\n",
    "that of 4). Do you notice any differences? (2 points)\n"
   ]
  },
  {
   "cell_type": "markdown",
   "metadata": {
    "id": "pwNgsa5oKpx2"
   },
   "source": [
    "Furthermore, the impurity-based feature importance of random forests suffers from being computed on statistics derived from the training dataset: the importances can be high even for features that are not predictive of the target variable, as long as the model has the capacity to use them to overfit.\n",
    "\n",
    "This example shows how to use Permutation Importances as an alternative that can mitigate those limitations."
   ]
  },
  {
   "cell_type": "code",
   "execution_count": null,
   "metadata": {
    "colab": {
     "base_uri": "https://localhost:8080/",
     "height": 298
    },
    "executionInfo": {
     "elapsed": 873,
     "status": "ok",
     "timestamp": 1623668478965,
     "user": {
      "displayName": "Shubhi Ambast",
      "photoUrl": "https://lh3.googleusercontent.com/a-/AOh14GjhuDZEUPKJD4TaJUl8oSctGPWwnuNNYo0AFQMUBtI=s64",
      "userId": "09629641437536037904"
     },
     "user_tz": -120
    },
    "id": "VhtQy3KN6Tij",
    "outputId": "7c109b2a-9050-4a6a-ce07-3f04acf54702"
   },
   "outputs": [
    {
     "data": {
      "text/plain": [
       "Text(0.5, 0, 'Permutation Importance')"
      ]
     },
     "execution_count": 29,
     "metadata": {
      "tags": []
     },
     "output_type": "execute_result"
    },
    {
     "data": {
      "image/png": "[encoded data removed]",
      "text/plain": [
       "<Figure size 432x288 with 1 Axes>"
      ]
     },
     "metadata": {
      "needs_background": "light",
      "tags": []
     },
     "output_type": "display_data"
    }
   ],
   "source": [
    "from sklearn.inspection import permutation_importance\n",
    "\n",
    "perm_importance = permutation_importance(Clf, X_test, y_test)\n",
    "sorted_idx = perm_importance.importances_mean.argsort()\n",
    "plt.barh(data.feature_names[sorted_idx], perm_importance.importances_mean[sorted_idx])\n",
    "plt.xlabel(\"Permutation Importance\")"
   ]
  },
  {
   "cell_type": "markdown",
   "metadata": {
    "id": "xPI3okzGK0ux"
   },
   "source": [
    "The impurity-based feature importance of random forests suffers from being computed on statistics derived from the training dataset: the importances can be high even for features that are not predictive of the target variable, as long as the model has the capacity to use them to overfit.\n",
    "\n",
    "This example shows how to use Permutation Importances as an alternative that can mitigate those limitations."
   ]
  },
  {
   "cell_type": "markdown",
   "metadata": {
    "id": "qpSg-uv_1zrT"
   },
   "source": [
    "According to permutation imortance, top five features are: \n",
    "\n",
    "'worst radius','mean texture','worst texture','radius error','area error\n",
    "'"
   ]
  },
  {
   "cell_type": "markdown",
   "metadata": {
    "id": "cq-G_ZR56Tij"
   },
   "source": [
    "6. In your own words, explain the bootstrapping technique and mention how\n",
    "random forest benefits from its application. (2 points)"
   ]
  },
  {
   "cell_type": "markdown",
   "metadata": {
    "id": "GXEKQhx1K_Fc"
   },
   "source": [
    "The bootstrap is statistical method for estimating the sampling distribution of an estimator by sampling with replacement from the original sample, most often with the purpose of deriving robust estimates of standard errors and confidence intervals of a population parameter like a mean, median, proportion, odds ratio, correlation coefficient or regression coefficient.\n",
    "\n",
    "It is used to to find the consistency of standard error.The bootstrap distribution usually estimates the shape, spread, and bias of the actual sampling distribution. \n",
    "\n",
    "Source: https://arifromadhan19.medium.com/resampling-methods-a-simple-introduction-to-the-bootstrap-method-3a36d076852f"
   ]
  }
 ],
 "metadata": {
  "colab": {
   "collapsed_sections": [],
   "name": "Exercise_Sheet_7_Ravinder_Kempanna_Voleti_Khurshid_Ambast .ipynb",
   "provenance": []
  },
  "kernelspec": {
   "display_name": "Python 3",
   "language": "python",
   "name": "python3"
  },
  "language_info": {
   "codemirror_mode": {
    "name": "ipython",
    "version": 3
   },
   "file_extension": ".py",
   "mimetype": "text/x-python",
   "name": "python",
   "nbconvert_exporter": "python",
   "pygments_lexer": "ipython3",
   "version": "3.8.5"
  }
 },
 "nbformat": 4,
 "nbformat_minor": 1
}
