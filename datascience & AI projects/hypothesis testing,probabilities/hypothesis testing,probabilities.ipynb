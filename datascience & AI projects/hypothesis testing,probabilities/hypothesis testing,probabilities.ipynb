{
 "cells": [
  {
   "cell_type": "markdown",
   "metadata": {
    "id": "KC3m3Ko1SuxC"
   },
   "source": [
    "# Biomedical Data Science & AI"
   ]
  },
  {
   "cell_type": "markdown",
   "metadata": {
    "id": "XqduPmsRSuxN"
   },
   "source": [
    "# Exercise sheet 2 - Introduction  - Due date: May 4th"
   ]
  },
  {
   "cell_type": "markdown",
   "metadata": {
    "id": "4nbc2RFxSuxP"
   },
   "source": [
    "Submitted to:\n",
    "\n",
    "Mohamed Aborageh : s0moabor@uni-bonn.de\n",
    "\n",
    "Vinay Srinivas Bharadhwaj: s0vibhar@uni-bonn.de\n",
    "\n",
    "Yasamin Salimi: yasisali@uni-bonn.de"
   ]
  },
  {
   "cell_type": "markdown",
   "metadata": {
    "id": "eLAFszmaSuxQ"
   },
   "source": [
    "# Exercise 1 - Understanding Your Dataset (total: 13 points)"
   ]
  },
  {
   "cell_type": "markdown",
   "metadata": {
    "id": "tIRnujr3SuxQ"
   },
   "source": [
    "Load the processedClevelandData.csv dataset. The features for the dataset are\n",
    "described in the featureDescription.csv file."
   ]
  },
  {
   "cell_type": "markdown",
   "metadata": {
    "id": "trEi02kSSuxR"
   },
   "source": [
    "1. Perform data cleaning procedures such that your final dataset is usable in the\n",
    "following questions. (2 points)"
   ]
  },
  {
   "cell_type": "code",
   "execution_count": 16,
   "metadata": {
    "id": "02cUxyjtSuxS"
   },
   "outputs": [],
   "source": [
    "import pandas as pd\n",
    "import csv\n",
    "import matplotlib.pyplot as plt\n",
    "\n",
    "path = r'C:\\Users\\Shubhi Ambast\\Desktop\\DS_processedClevelandData.csv'\n",
    "file = pd.read_csv(path)"
   ]
  },
  {
   "cell_type": "code",
   "execution_count": 17,
   "metadata": {},
   "outputs": [
    {
     "data": {
      "text/plain": [
       "(303, 14)"
      ]
     },
     "execution_count": 17,
     "metadata": {},
     "output_type": "execute_result"
    }
   ],
   "source": [
    "file.shape"
   ]
  },
  {
   "cell_type": "code",
   "execution_count": 18,
   "metadata": {},
   "outputs": [
    {
     "data": {
      "text/plain": [
       "id          False\n",
       "Age         False\n",
       "Sex         False\n",
       "cp          False\n",
       "trestbps    False\n",
       "chol        False\n",
       "fbs         False\n",
       "resetecg    False\n",
       "thalach     False\n",
       "exang       False\n",
       "slope       False\n",
       "ca          False\n",
       "thal        False\n",
       "num         False\n",
       "dtype: bool"
      ]
     },
     "execution_count": 18,
     "metadata": {},
     "output_type": "execute_result"
    }
   ],
   "source": [
    "file.isna().any() #To check NA or NaN value in the data"
   ]
  },
  {
   "cell_type": "code",
   "execution_count": 19,
   "metadata": {},
   "outputs": [
    {
     "name": "stdout",
     "output_type": "stream",
     "text": [
      "      id  Age  Sex  cp  trestbps  chol  fbs  resetecg  thalach  exang  slope  \\\n",
      "0      1   63    1   1       145   233    1         2      150      0      3   \n",
      "1      2   67    1   4       160   286    0         2      108      1      2   \n",
      "2      3   67    1   4       120   229    0         2      129      1      2   \n",
      "3      4   37    1   3       130   250    0         0      187      0      3   \n",
      "4      5   41    0   2       130   204    0         2      172      0      1   \n",
      "..   ...  ...  ...  ..       ...   ...  ...       ...      ...    ...    ...   \n",
      "298  299   45    1   1       110   264    0         0      132      0      2   \n",
      "299  300   68    1   4       144   193    1         0      141      0      2   \n",
      "300  301   57    1   4       130   131    0         0      115      1      2   \n",
      "301  302   57    0   2       130   236    0         2      174      0      2   \n",
      "302  303   38    1   3       138   175    0         0      173      0      1   \n",
      "\n",
      "      ca thal  num  \n",
      "0      0    6    0  \n",
      "1      3    3    1  \n",
      "2      2    7    1  \n",
      "3      0    3    0  \n",
      "4      0    3    0  \n",
      "..   ...  ...  ...  \n",
      "298    0    7    1  \n",
      "299    2    7    1  \n",
      "300    1    7    1  \n",
      "301    1    3    1  \n",
      "302  0.0    3    0  \n",
      "\n",
      "[303 rows x 14 columns]\n"
     ]
    }
   ],
   "source": [
    "columns = ['ca','thal']\n",
    "'''There are certain values in the above two features which does not contain any value and have a \"?\". Data is imputed with median'''\n",
    "for col in columns:\n",
    "    file[col] = file[col].str.replace('?','0.0')\n",
    "    col_median = file[col].median()\n",
    "    file[col]=file[col].replace(to_replace = 0.0, value = col_median)\n",
    "print(file)"
   ]
  },
  {
   "cell_type": "markdown",
   "metadata": {
    "id": "OFDZkUeiSuxV"
   },
   "source": [
    "2. For each type of diagnosis of heart disease, find the following for the resting\n",
    "blood pressure: (2 points)\n",
    "\n",
    "    \n",
    "a. Mean\n",
    "\n",
    "b. Median\n",
    "\n",
    "c. Standard deviation"
   ]
  },
  {
   "cell_type": "markdown",
   "metadata": {
    "id": "STpHw7T-SuxV"
   },
   "source": [
    "There are two types of diagnosis of heart disease:\n",
    "\n",
    "- value 0 < 50% diameter narrowing\n",
    "\n",
    "- value 1 > 50% diameter narrowing"
   ]
  },
  {
   "cell_type": "code",
   "execution_count": 20,
   "metadata": {},
   "outputs": [
    {
     "name": "stdout",
     "output_type": "stream",
     "text": [
      "num value: 0\n",
      "Mean:129.25\n",
      "Median:130.00\n",
      "Std:16.205\n",
      "\n",
      "\n",
      "num value: 1\n",
      "Mean:134.57\n",
      "Median:130.00\n",
      "Std:18.769\n",
      "\n",
      "\n"
     ]
    }
   ],
   "source": [
    "value = [0,1]\n",
    "for i in value:\n",
    "    num = file.loc[file['num'] == i]\n",
    "    print('num value:',i)\n",
    "\n",
    "    mean = num['trestbps'].mean()\n",
    "    print('Mean:{:.2f}'.format(mean))\n",
    "    \n",
    "    median = num['trestbps'].median()\n",
    "    print('Median:{:.2f}'.format(median))\n",
    "    \n",
    "    std = num['trestbps'].std()\n",
    "    print('Std:{:.3f}'.format(std))\n",
    "    print('\\n')"
   ]
  },
  {
   "cell_type": "markdown",
   "metadata": {
    "id": "g93deF-XSuxW"
   },
   "source": [
    "3. Use Spearman's and Kendall correlation to quantify the correlation between\n",
    "age and the following.\n",
    "\n",
    "a. Resting blood pressure\n",
    "\n",
    "b. Serum cholesterol level\n",
    "\n",
    "c. Maximum heart rate achieved\n",
    "\n",
    "Also, which variable(s) are most correlated with age? Illustrate with heatmaps.\n",
    "(3 points)"
   ]
  },
  {
   "cell_type": "code",
   "execution_count": 21,
   "metadata": {
    "id": "xiOUYJWgSuxW"
   },
   "outputs": [
    {
     "name": "stdout",
     "output_type": "stream",
     "text": [
      "Correlation between age and resting blood pressure: 0.292\n",
      "Correlation between age and Serum cholesterol level: 0.191\n",
      "Correlation between age and Maximum heart rate achieved: -0.392\n",
      "Correlation between age and resting blood pressure: 0.206\n",
      "Correlation between age and Serum cholesterol level: 0.132\n",
      "Correlation between age and Maximum heart rate achieved: -0.276\n"
     ]
    }
   ],
   "source": [
    "age = file.iloc[:,1]\n",
    "bp = file.iloc[:,4]\n",
    "chol = file.iloc[:,5]\n",
    "heart_rate = file.iloc[:,8]\n",
    "\n",
    "corr = age.corr(bp,method = 'spearman')\n",
    "print('Correlation between age and resting blood pressure:',round(corr,3))\n",
    "corr = age.corr(chol,method = 'spearman')\n",
    "print('Correlation between age and Serum cholesterol level:',round(corr,3))\n",
    "corr = age.corr(heart_rate,method = 'spearman')\n",
    "print('Correlation between age and Maximum heart rate achieved:',round(corr,3))\n",
    "corr = age.corr(bp,method = 'kendall')\n",
    "print('Correlation between age and resting blood pressure:',round(corr,3))\n",
    "corr = age.corr(chol,method = 'kendall')\n",
    "print('Correlation between age and Serum cholesterol level:',round(corr,3))\n",
    "corr = age.corr(heart_rate,method = 'kendall')\n",
    "print('Correlation between age and Maximum heart rate achieved:',round(corr,3))"
   ]
  },
  {
   "cell_type": "code",
   "execution_count": 22,
   "metadata": {},
   "outputs": [
    {
     "data": {
      "text/plain": [
       "<matplotlib.axes._subplots.AxesSubplot at 0x22f3a8a09a0>"
      ]
     },
     "execution_count": 22,
     "metadata": {},
     "output_type": "execute_result"
    },
    {
     "data": {
      "image/png": "[encoded data removed]",
      "text/plain": [
       "<Figure size 432x288 with 2 Axes>"
      ]
     },
     "metadata": {
      "needs_background": "light"
     },
     "output_type": "display_data"
    }
   ],
   "source": [
    "import seaborn as sns\n",
    "data = file.drop(['id','Sex','cp','fbs','resetecg','exang','slope','ca','thal','num'],axis =1)\n",
    "data.head(10)\n",
    "Var_Corr = data.corr()\n",
    "sns.heatmap(Var_Corr, xticklabels=Var_Corr.columns, yticklabels=Var_Corr.columns, annot=True)"
   ]
  },
  {
   "cell_type": "markdown",
   "metadata": {},
   "source": [
    "It can be observed that resting blood pressure and serum cholestrol level are most correlated with age."
   ]
  },
  {
   "cell_type": "markdown",
   "metadata": {
    "id": "CH7rwBVtSuxW"
   },
   "source": [
    "4. From your understanding, which of the features can be labeled as discrete\n",
    "random variables and which features as continuous random variables?\n",
    "(1 point)"
   ]
  },
  {
   "cell_type": "markdown",
   "metadata": {
    "id": "TnS9pf1WSuxX"
   },
   "source": [
    "Features which can be labelled as:\n",
    "\n",
    "- discrete random variables : id, age, sex, ca \n",
    "- continuous random variables : cp, trestbps, chol, fbs, resetecg, thalach, exang, slope,thal,num "
   ]
  },
  {
   "cell_type": "markdown",
   "metadata": {
    "id": "RiYrxFKPSuxY"
   },
   "source": [
    "5. Describe the distribution for the values of the \"thalach\" feature? Illustrate with\n",
    "a plot. (1 point)"
   ]
  },
  {
   "cell_type": "code",
   "execution_count": 23,
   "metadata": {
    "id": "1vtiSHtjSuxY"
   },
   "outputs": [
    {
     "data": {
      "image/png": "[encoded data removed]",
      "text/plain": [
       "<Figure size 720x360 with 1 Axes>"
      ]
     },
     "metadata": {
      "needs_background": "light"
     },
     "output_type": "display_data"
    }
   ],
   "source": [
    "labels = file['thalach']\n",
    "labels.hist(bins=50, figsize =(10,5))\n",
    "plt.show()"
   ]
  },
  {
   "cell_type": "markdown",
   "metadata": {},
   "source": [
    "Thalach feature in the given dataset describes maximum heart rate achieved. It can be observed from the above graph that the frequency of heart rate lies in the range of 140-180 in the given dataset."
   ]
  },
  {
   "cell_type": "markdown",
   "metadata": {
    "id": "2z06ByfSSuxY"
   },
   "source": [
    "6. Plot the frequency of “Sex” variable in the dataset and describe what you\n",
    "observe in the plot. Similarly plot and describe the 'ca' feature for the male\n",
    "participants. (2 points)"
   ]
  },
  {
   "cell_type": "code",
   "execution_count": 24,
   "metadata": {
    "id": "E9KNIdaCSuxZ"
   },
   "outputs": [
    {
     "data": {
      "image/png": "[encoded data removed]",
      "text/plain": [
       "<Figure size 720x360 with 1 Axes>"
      ]
     },
     "metadata": {
      "needs_background": "light"
     },
     "output_type": "display_data"
    }
   ],
   "source": [
    "sex = file['Sex']\n",
    "sex.hist(bins=50, figsize =(10,5))\n",
    "plt.show()"
   ]
  },
  {
   "cell_type": "markdown",
   "metadata": {},
   "source": [
    "For the 'sex' plot, value = 0 for females and value = 1 for males.\n",
    "\n",
    "The dataset has almost double frequency of males over females."
   ]
  },
  {
   "cell_type": "code",
   "execution_count": 25,
   "metadata": {},
   "outputs": [
    {
     "data": {
      "image/png": "[encoded data removed]",
      "text/plain": [
       "<Figure size 720x360 with 1 Axes>"
      ]
     },
     "metadata": {
      "needs_background": "light"
     },
     "output_type": "display_data"
    }
   ],
   "source": [
    "male= file.loc[file['Sex'] == 1]\n",
    "ca_male = male['ca']\n",
    "ca_male.hist(bins=50, figsize =(10,5))\n",
    "plt.show()"
   ]
  },
  {
   "cell_type": "markdown",
   "metadata": {},
   "source": [
    "In the dataset, 'ca' tells about the number of major vessels labelled from 0-3. In males, the most common vessel is with can value 0"
   ]
  },
  {
   "cell_type": "markdown",
   "metadata": {
    "id": "DdpMqdrtSuxZ"
   },
   "source": [
    "7. Detect outlier patients for features \"trestbps'' and \"chol\". Illustrate with plots.\n",
    "(2 points)"
   ]
  },
  {
   "cell_type": "markdown",
   "metadata": {
    "id": "eyMmC4LvSuxa"
   },
   "source": [
    "When plotting a boxplot, the outlier is the data point which is located outside the whiskers of box plot."
   ]
  },
  {
   "cell_type": "code",
   "execution_count": 26,
   "metadata": {
    "id": "8_6SjeuQSuxa"
   },
   "outputs": [
    {
     "data": {
      "text/plain": [
       "<matplotlib.axes._subplots.AxesSubplot at 0x22f3aac93d0>"
      ]
     },
     "execution_count": 26,
     "metadata": {},
     "output_type": "execute_result"
    },
    {
     "data": {
      "image/png": "[encoded data removed]",
      "text/plain": [
       "<Figure size 432x288 with 1 Axes>"
      ]
     },
     "metadata": {
      "needs_background": "light"
     },
     "output_type": "display_data"
    }
   ],
   "source": [
    "import seaborn as sns\n",
    "sns.boxplot(x=file['trestbps'])"
   ]
  },
  {
   "cell_type": "code",
   "execution_count": 27,
   "metadata": {},
   "outputs": [
    {
     "data": {
      "text/plain": [
       "<matplotlib.axes._subplots.AxesSubplot at 0x22f3a7e63a0>"
      ]
     },
     "execution_count": 27,
     "metadata": {},
     "output_type": "execute_result"
    },
    {
     "data": {
      "image/png": "[encoded data removed]",
      "text/plain": [
       "<Figure size 432x288 with 1 Axes>"
      ]
     },
     "metadata": {
      "needs_background": "light"
     },
     "output_type": "display_data"
    }
   ],
   "source": [
    "import seaborn as sns\n",
    "sns.boxplot(x=file['chol'])"
   ]
  },
  {
   "cell_type": "markdown",
   "metadata": {
    "id": "VNqCNnqlSuxa"
   },
   "source": [
    "# Exercise 2 - Probability (total: 4 points)"
   ]
  },
  {
   "cell_type": "markdown",
   "metadata": {
    "id": "7HBeNxBSSuxb"
   },
   "source": [
    "1. Suppose a discrete random variable, MMSE (Mini mental state examination),\n",
    "cognitive test measured for Alzheimer’s disease (AD) has the following\n",
    "probability mass function:"
   ]
  },
  {
   "attachments": {
    "Screenshot%202021-05-04%20at%207.12.19%20PM.png": {
     "image/png": "[encoded data removed]"
    }
   },
   "cell_type": "markdown",
   "metadata": {
    "id": "5seVVR6USuxb"
   },
   "source": [
    "![Screenshot%202021-05-04%20at%207.12.19%20PM.png](attachment:Screenshot%202021-05-04%20at%207.12.19%20PM.png)"
   ]
  },
  {
   "cell_type": "markdown",
   "metadata": {
    "id": "7KW6c7vzSuxc"
   },
   "source": [
    "Find the probability that MMSE:\n",
    "    \n",
    "a) at least 22 (1 point)\n",
    "\n",
    "b) at least 14 and at most 28 (1 point)"
   ]
  },
  {
   "cell_type": "code",
   "execution_count": null,
   "metadata": {
    "id": "84ZklP5_Suxd",
    "outputId": "2a2a14cd-6df3-4867-bfba-d7f76fd6ec49"
   },
   "outputs": [
    {
     "name": "stdout",
     "output_type": "stream",
     "text": [
      "Probability that MMSE is atleast 22: 0.52\n",
      "Probability that MMSE is atleast 14 and at most 28: 0.48\n"
     ]
    }
   ],
   "source": [
    "pmf_dict = {'5' : 0.05,'8':0.27,'14':0.16,'22':0.17,'24':0.03,'28':0.12,'29':0.07,'30':0.13}\n",
    "\n",
    "\n",
    "sum = 0\n",
    "for i in pmf_dict.keys():\n",
    "    if int(i) >= 22:\n",
    "        sum += pmf_dict[i]\n",
    "print(\"Probability that MMSE is atleast 22: {}\".format(sum))\n",
    "\n",
    "sum = 0\n",
    "for i in pmf_dict.keys():\n",
    "    if 14 <= int(i) <= 28 :\n",
    "        sum += pmf_dict[i] \n",
    "print(\"Probability that MMSE is atleast 14 and at most 28: {}\".format(sum)) "
   ]
  },
  {
   "cell_type": "markdown",
   "metadata": {
    "id": "bzZgfizMSuxd"
   },
   "source": [
    "2. A company produced antibody testing kits for COVID-19. The false positive\n",
    "rate of the test is known to be 3%. What is the probability to find at least 2\n",
    "false positive results within 35 tested patients? (2 points)"
   ]
  },
  {
   "cell_type": "code",
   "execution_count": null,
   "metadata": {
    "id": "jHboGW9lSuxe",
    "outputId": "dc6fee13-73e6-46a7-8f70-9e7982dba2e6"
   },
   "outputs": [
    {
     "name": "stdout",
     "output_type": "stream",
     "text": [
      "Probability of finding atleast 2 false positive results is 0.63\n"
     ]
    }
   ],
   "source": [
    "from scipy.stats import binom\n",
    "\n",
    "\"\"\" Probability of finding atleast 2 positive = 1 - probability of finding 1 positive\"\"\"\n",
    "\n",
    "n = 35\n",
    "p = 0.03\n",
    "k = 1\n",
    "probability = round(1 - binom.pmf(k,n,p),2) \n",
    "\n",
    "print(\"Probability of finding atleast 2 false positive results is {}\".format(probability)) "
   ]
  },
  {
   "cell_type": "markdown",
   "metadata": {
    "id": "V4SVhSOcSuxe"
   },
   "source": [
    "# Exercise 3 - Hypothesis Testing (total: 8 points)"
   ]
  },
  {
   "cell_type": "markdown",
   "metadata": {
    "id": "q8AeSBmISuxe"
   },
   "source": [
    "Using the processed dataset from question 1 answer the following questions.\n",
    "\n",
    "\n",
    "1. Are all the criteria for carrying out a t-test to identify a significant difference in\n",
    "the age of patients who have heart disease and those who don’t, met?\n",
    "(3 points)\n",
    "\n",
    "\n",
    "○ If the criteria is met, carry out a t-test using Python.\n",
    "\n",
    "\n",
    "○ And if not, point out the unmet conditions for the variables, and mention\n",
    "a possible solution in-order to combat this issue."
   ]
  },
  {
   "cell_type": "code",
   "execution_count": 3,
   "metadata": {
    "id": "m9GHiNdRSuxf"
   },
   "outputs": [],
   "source": [
    "#Importing all Libraries necessary\n",
    "\n",
    "import csv\n",
    "import pandas as pd\n",
    "import matplotlib.pyplot as plt\n",
    "import numpy as np\n",
    "import seaborn as sns\n",
    "%matplotlib inline\n",
    "import scipy\n",
    "import scipy.stats as stats\n",
    "import math\n",
    "from scipy.stats import f_oneway\n",
    "from scipy.stats import ttest_ind\n",
    "import warnings\n",
    "warnings.filterwarnings('ignore')"
   ]
  },
  {
   "cell_type": "code",
   "execution_count": 4,
   "metadata": {
    "id": "htddIrRbSuxf",
    "outputId": "66c373a9-a082-4089-9d8f-0c922b7e8d35"
   },
   "outputs": [
    {
     "data": {
      "text/html": [
       "<div>\n",
       "<style scoped>\n",
       "    .dataframe tbody tr th:only-of-type {\n",
       "        vertical-align: middle;\n",
       "    }\n",
       "\n",
       "    .dataframe tbody tr th {\n",
       "        vertical-align: top;\n",
       "    }\n",
       "\n",
       "    .dataframe thead th {\n",
       "        text-align: right;\n",
       "    }\n",
       "</style>\n",
       "<table border=\"1\" class=\"dataframe\">\n",
       "  <thead>\n",
       "    <tr style=\"text-align: right;\">\n",
       "      <th></th>\n",
       "      <th>id</th>\n",
       "      <th>Age</th>\n",
       "      <th>Sex</th>\n",
       "      <th>cp</th>\n",
       "      <th>trestbps</th>\n",
       "      <th>chol</th>\n",
       "      <th>fbs</th>\n",
       "      <th>resetecg</th>\n",
       "      <th>thalach</th>\n",
       "      <th>exang</th>\n",
       "      <th>slope</th>\n",
       "      <th>ca</th>\n",
       "      <th>thal</th>\n",
       "      <th>num</th>\n",
       "    </tr>\n",
       "  </thead>\n",
       "  <tbody>\n",
       "    <tr>\n",
       "      <th>0</th>\n",
       "      <td>1</td>\n",
       "      <td>63</td>\n",
       "      <td>1</td>\n",
       "      <td>1</td>\n",
       "      <td>145</td>\n",
       "      <td>233</td>\n",
       "      <td>1</td>\n",
       "      <td>2</td>\n",
       "      <td>150</td>\n",
       "      <td>0</td>\n",
       "      <td>3</td>\n",
       "      <td>0.0</td>\n",
       "      <td>6.0</td>\n",
       "      <td>0</td>\n",
       "    </tr>\n",
       "    <tr>\n",
       "      <th>1</th>\n",
       "      <td>2</td>\n",
       "      <td>67</td>\n",
       "      <td>1</td>\n",
       "      <td>4</td>\n",
       "      <td>160</td>\n",
       "      <td>286</td>\n",
       "      <td>0</td>\n",
       "      <td>2</td>\n",
       "      <td>108</td>\n",
       "      <td>1</td>\n",
       "      <td>2</td>\n",
       "      <td>3.0</td>\n",
       "      <td>3.0</td>\n",
       "      <td>1</td>\n",
       "    </tr>\n",
       "    <tr>\n",
       "      <th>2</th>\n",
       "      <td>3</td>\n",
       "      <td>67</td>\n",
       "      <td>1</td>\n",
       "      <td>4</td>\n",
       "      <td>120</td>\n",
       "      <td>229</td>\n",
       "      <td>0</td>\n",
       "      <td>2</td>\n",
       "      <td>129</td>\n",
       "      <td>1</td>\n",
       "      <td>2</td>\n",
       "      <td>2.0</td>\n",
       "      <td>7.0</td>\n",
       "      <td>1</td>\n",
       "    </tr>\n",
       "    <tr>\n",
       "      <th>3</th>\n",
       "      <td>4</td>\n",
       "      <td>37</td>\n",
       "      <td>1</td>\n",
       "      <td>3</td>\n",
       "      <td>130</td>\n",
       "      <td>250</td>\n",
       "      <td>0</td>\n",
       "      <td>0</td>\n",
       "      <td>187</td>\n",
       "      <td>0</td>\n",
       "      <td>3</td>\n",
       "      <td>0.0</td>\n",
       "      <td>3.0</td>\n",
       "      <td>0</td>\n",
       "    </tr>\n",
       "    <tr>\n",
       "      <th>4</th>\n",
       "      <td>5</td>\n",
       "      <td>41</td>\n",
       "      <td>0</td>\n",
       "      <td>2</td>\n",
       "      <td>130</td>\n",
       "      <td>204</td>\n",
       "      <td>0</td>\n",
       "      <td>2</td>\n",
       "      <td>172</td>\n",
       "      <td>0</td>\n",
       "      <td>1</td>\n",
       "      <td>0.0</td>\n",
       "      <td>3.0</td>\n",
       "      <td>0</td>\n",
       "    </tr>\n",
       "    <tr>\n",
       "      <th>5</th>\n",
       "      <td>6</td>\n",
       "      <td>56</td>\n",
       "      <td>1</td>\n",
       "      <td>2</td>\n",
       "      <td>120</td>\n",
       "      <td>236</td>\n",
       "      <td>0</td>\n",
       "      <td>0</td>\n",
       "      <td>178</td>\n",
       "      <td>0</td>\n",
       "      <td>1</td>\n",
       "      <td>0.0</td>\n",
       "      <td>3.0</td>\n",
       "      <td>0</td>\n",
       "    </tr>\n",
       "    <tr>\n",
       "      <th>6</th>\n",
       "      <td>7</td>\n",
       "      <td>62</td>\n",
       "      <td>0</td>\n",
       "      <td>4</td>\n",
       "      <td>140</td>\n",
       "      <td>268</td>\n",
       "      <td>0</td>\n",
       "      <td>2</td>\n",
       "      <td>160</td>\n",
       "      <td>0</td>\n",
       "      <td>3</td>\n",
       "      <td>2.0</td>\n",
       "      <td>3.0</td>\n",
       "      <td>1</td>\n",
       "    </tr>\n",
       "    <tr>\n",
       "      <th>7</th>\n",
       "      <td>8</td>\n",
       "      <td>57</td>\n",
       "      <td>0</td>\n",
       "      <td>4</td>\n",
       "      <td>120</td>\n",
       "      <td>354</td>\n",
       "      <td>0</td>\n",
       "      <td>0</td>\n",
       "      <td>163</td>\n",
       "      <td>1</td>\n",
       "      <td>1</td>\n",
       "      <td>0.0</td>\n",
       "      <td>3.0</td>\n",
       "      <td>0</td>\n",
       "    </tr>\n",
       "    <tr>\n",
       "      <th>8</th>\n",
       "      <td>9</td>\n",
       "      <td>63</td>\n",
       "      <td>1</td>\n",
       "      <td>4</td>\n",
       "      <td>130</td>\n",
       "      <td>254</td>\n",
       "      <td>0</td>\n",
       "      <td>2</td>\n",
       "      <td>147</td>\n",
       "      <td>0</td>\n",
       "      <td>2</td>\n",
       "      <td>1.0</td>\n",
       "      <td>7.0</td>\n",
       "      <td>1</td>\n",
       "    </tr>\n",
       "    <tr>\n",
       "      <th>9</th>\n",
       "      <td>10</td>\n",
       "      <td>53</td>\n",
       "      <td>1</td>\n",
       "      <td>4</td>\n",
       "      <td>140</td>\n",
       "      <td>203</td>\n",
       "      <td>1</td>\n",
       "      <td>2</td>\n",
       "      <td>155</td>\n",
       "      <td>1</td>\n",
       "      <td>3</td>\n",
       "      <td>0.0</td>\n",
       "      <td>7.0</td>\n",
       "      <td>1</td>\n",
       "    </tr>\n",
       "    <tr>\n",
       "      <th>10</th>\n",
       "      <td>11</td>\n",
       "      <td>57</td>\n",
       "      <td>1</td>\n",
       "      <td>4</td>\n",
       "      <td>140</td>\n",
       "      <td>192</td>\n",
       "      <td>0</td>\n",
       "      <td>0</td>\n",
       "      <td>148</td>\n",
       "      <td>0</td>\n",
       "      <td>2</td>\n",
       "      <td>0.0</td>\n",
       "      <td>6.0</td>\n",
       "      <td>0</td>\n",
       "    </tr>\n",
       "  </tbody>\n",
       "</table>\n",
       "</div>"
      ],
      "text/plain": [
       "    id  Age  Sex  cp  trestbps  chol  fbs  resetecg  thalach  exang  slope  \\\n",
       "0    1   63    1   1       145   233    1         2      150      0      3   \n",
       "1    2   67    1   4       160   286    0         2      108      1      2   \n",
       "2    3   67    1   4       120   229    0         2      129      1      2   \n",
       "3    4   37    1   3       130   250    0         0      187      0      3   \n",
       "4    5   41    0   2       130   204    0         2      172      0      1   \n",
       "5    6   56    1   2       120   236    0         0      178      0      1   \n",
       "6    7   62    0   4       140   268    0         2      160      0      3   \n",
       "7    8   57    0   4       120   354    0         0      163      1      1   \n",
       "8    9   63    1   4       130   254    0         2      147      0      2   \n",
       "9   10   53    1   4       140   203    1         2      155      1      3   \n",
       "10  11   57    1   4       140   192    0         0      148      0      2   \n",
       "\n",
       "     ca thal  num  \n",
       "0   0.0  6.0    0  \n",
       "1   3.0  3.0    1  \n",
       "2   2.0  7.0    1  \n",
       "3   0.0  3.0    0  \n",
       "4   0.0  3.0    0  \n",
       "5   0.0  3.0    0  \n",
       "6   2.0  3.0    1  \n",
       "7   0.0  3.0    0  \n",
       "8   1.0  7.0    1  \n",
       "9   0.0  7.0    1  \n",
       "10  0.0  6.0    0  "
      ]
     },
     "execution_count": 4,
     "metadata": {},
     "output_type": "execute_result"
    }
   ],
   "source": [
    "#Opening and Reading CSV File\n",
    "\n",
    "PCD = pd.read_csv(\"DS_processedClevelandData.csv\")\n",
    "PCD.head(11)"
   ]
  },
  {
   "cell_type": "code",
   "execution_count": 5,
   "metadata": {
    "id": "lIS5kHU9Suxi",
    "outputId": "63eeea85-13f6-4b0f-ed8d-48de5432c1e3"
   },
   "outputs": [
    {
     "data": {
      "text/plain": [
       "Index(['id', 'Age', 'Sex', 'cp', 'trestbps', 'chol', 'fbs', 'resetecg',\n",
       "       'thalach', 'exang', 'slope', 'ca', 'thal', 'num'],\n",
       "      dtype='object')"
      ]
     },
     "execution_count": 5,
     "metadata": {},
     "output_type": "execute_result"
    }
   ],
   "source": [
    "PCD.columns"
   ]
  },
  {
   "cell_type": "code",
   "execution_count": 6,
   "metadata": {
    "id": "ALrIDWq6Suxj",
    "outputId": "adac5b1e-198c-4033-a623-2c05b7766712"
   },
   "outputs": [
    {
     "name": "stdout",
     "output_type": "stream",
     "text": [
      "(303, 14)\n",
      "---------------------------------------------------- \n",
      "\n",
      "Length of the data 303\n",
      "---------------------------------------------------- \n",
      "\n",
      "<class 'pandas.core.frame.DataFrame'>\n",
      "RangeIndex: 303 entries, 0 to 302\n",
      "Data columns (total 14 columns):\n",
      " #   Column    Non-Null Count  Dtype \n",
      "---  ------    --------------  ----- \n",
      " 0   id        303 non-null    int64 \n",
      " 1   Age       303 non-null    int64 \n",
      " 2   Sex       303 non-null    int64 \n",
      " 3   cp        303 non-null    int64 \n",
      " 4   trestbps  303 non-null    int64 \n",
      " 5   chol      303 non-null    int64 \n",
      " 6   fbs       303 non-null    int64 \n",
      " 7   resetecg  303 non-null    int64 \n",
      " 8   thalach   303 non-null    int64 \n",
      " 9   exang     303 non-null    int64 \n",
      " 10  slope     303 non-null    int64 \n",
      " 11  ca        303 non-null    object\n",
      " 12  thal      303 non-null    object\n",
      " 13  num       303 non-null    int64 \n",
      "dtypes: int64(12), object(2)\n",
      "memory usage: 33.3+ KB\n",
      "None\n"
     ]
    }
   ],
   "source": [
    "print(PCD.shape)\n",
    "print(\"----------------------------------------------------\", \"\\n\")\n",
    "print('Length of the data {}'.format(len(PCD)))\n",
    "print(\"----------------------------------------------------\", \"\\n\")\n",
    "print(PCD.info())"
   ]
  },
  {
   "cell_type": "code",
   "execution_count": 7,
   "metadata": {
    "id": "wDNJQCAcSuxk",
    "outputId": "3e9cb1a3-be21-429a-fbc1-fd0221a56a21"
   },
   "outputs": [
    {
     "name": "stdout",
     "output_type": "stream",
     "text": [
      "               id         Age         Sex          cp    trestbps        chol  \\\n",
      "count  303.000000  303.000000  303.000000  303.000000  303.000000  303.000000   \n",
      "mean   152.000000   54.438944    0.679868    3.158416  131.689769  246.693069   \n",
      "std     87.612784    9.038662    0.467299    0.960126   17.599748   51.776918   \n",
      "min      1.000000   29.000000    0.000000    1.000000   94.000000  126.000000   \n",
      "25%     76.500000   48.000000    0.000000    3.000000  120.000000  211.000000   \n",
      "50%    152.000000   56.000000    1.000000    3.000000  130.000000  241.000000   \n",
      "75%    227.500000   61.000000    1.000000    4.000000  140.000000  275.000000   \n",
      "max    303.000000   77.000000    1.000000    4.000000  200.000000  564.000000   \n",
      "\n",
      "              fbs    resetecg     thalach       exang       slope         num  \n",
      "count  303.000000  303.000000  303.000000  303.000000  303.000000  303.000000  \n",
      "mean     0.148515    0.990099  149.607261    0.326733    1.600660    0.458746  \n",
      "std      0.356198    0.994971   22.875003    0.469794    0.616226    0.499120  \n",
      "min      0.000000    0.000000   71.000000    0.000000    1.000000    0.000000  \n",
      "25%      0.000000    0.000000  133.500000    0.000000    1.000000    0.000000  \n",
      "50%      0.000000    1.000000  153.000000    0.000000    2.000000    0.000000  \n",
      "75%      0.000000    2.000000  166.000000    1.000000    2.000000    1.000000  \n",
      "max      1.000000    2.000000  202.000000    1.000000    3.000000    1.000000  \n"
     ]
    }
   ],
   "source": [
    "print (PCD.describe())"
   ]
  },
  {
   "cell_type": "code",
   "execution_count": 8,
   "metadata": {
    "id": "VoQ9L6ULSuxl",
    "outputId": "74b060ab-6c4b-49cf-db16-e4d976539306"
   },
   "outputs": [
    {
     "data": {
      "text/plain": [
       "54.43894389438944"
      ]
     },
     "execution_count": 8,
     "metadata": {},
     "output_type": "execute_result"
    }
   ],
   "source": [
    "PCD.Age.mean()"
   ]
  },
  {
   "cell_type": "markdown",
   "metadata": {
    "id": "V6_z2_SYSuxm"
   },
   "source": [
    "Criteria:\n",
    "\n",
    "1. Variables: We have One Numerical variable (\"Age\") and One Categorical Variable (\"Num\") to compare - So, we can use t-test for comparision of significant difference - we use two sample t-test as one is continuous variable and the other is qualitative variable.\n",
    "\n",
    "2. Check Distribution of means of ages who have heart disease and who dont have\n",
    "\n",
    "3. Calculating the mean, stdev.\n",
    "\n",
    "4. Defining Hypothesis for t-test\n",
    "\n",
    "Null Hypothesis: Average age of the person having a heart disease is less than the person who doesn't have heart disease.\n",
    "\n",
    "Alternate Hypothesis: Average age of the person having a heart disease is more than the person who doesn't have heart disease."
   ]
  },
  {
   "cell_type": "code",
   "execution_count": 9,
   "metadata": {
    "id": "Iv1E6D-aSuxo",
    "outputId": "961274dd-aadf-45ae-85f2-41c8fbaffb61",
    "scrolled": true
   },
   "outputs": [
    {
     "data": {
      "text/plain": [
       "[Text(0.5, 0, 'Age Without Heart Disease')]"
      ]
     },
     "execution_count": 9,
     "metadata": {},
     "output_type": "execute_result"
    },
    {
     "data": {
      "image/png": "[encoded data removed]",
      "text/plain": [
       "<Figure size 1440x360 with 3 Axes>"
      ]
     },
     "metadata": {},
     "output_type": "display_data"
    }
   ],
   "source": [
    "sns.set_style(\"ticks\")\n",
    "\n",
    "age_heart_disease = PCD.groupby('num')['Age']\n",
    "\n",
    "fig, (axis1,axis2,axis3) = plt.subplots(1,3,figsize=(20,5))\n",
    "ax = sns.distplot(PCD['Age'],ax=axis1)\n",
    "ax.set(xlabel='Age')\n",
    "ax = sns.distplot(age_heart_disease.get_group(0),ax=axis2)\n",
    "ax.set(xlabel='Age With Heart Disease')\n",
    "ax = sns.distplot(age_heart_disease.get_group(1),ax=axis3) \n",
    "ax.set(xlabel='Age Without Heart Disease')"
   ]
  },
  {
   "cell_type": "markdown",
   "metadata": {
    "id": "hmH2LCYXSuxp"
   },
   "source": [
    "We can see the Mean distribution is diffrent for both in above plots. So, we can perform t-test for Comaprision."
   ]
  },
  {
   "cell_type": "code",
   "execution_count": 10,
   "metadata": {
    "id": "43N1IyV6Suxq",
    "outputId": "1c62af39-9fcd-41a7-b4b9-63fe99e142b1"
   },
   "outputs": [
    {
     "data": {
      "text/html": [
       "<div>\n",
       "<style scoped>\n",
       "    .dataframe tbody tr th:only-of-type {\n",
       "        vertical-align: middle;\n",
       "    }\n",
       "\n",
       "    .dataframe tbody tr th {\n",
       "        vertical-align: top;\n",
       "    }\n",
       "\n",
       "    .dataframe thead th {\n",
       "        text-align: right;\n",
       "    }\n",
       "</style>\n",
       "<table border=\"1\" class=\"dataframe\">\n",
       "  <thead>\n",
       "    <tr style=\"text-align: right;\">\n",
       "      <th></th>\n",
       "      <th>Group</th>\n",
       "      <th>Sample_Age_Mean</th>\n",
       "      <th>Sample_Age_Std</th>\n",
       "      <th>Sample_Size</th>\n",
       "    </tr>\n",
       "  </thead>\n",
       "  <tbody>\n",
       "    <tr>\n",
       "      <th>0</th>\n",
       "      <td>0</td>\n",
       "      <td>55.721649</td>\n",
       "      <td>9.370546</td>\n",
       "      <td>97</td>\n",
       "    </tr>\n",
       "    <tr>\n",
       "      <th>1</th>\n",
       "      <td>1</td>\n",
       "      <td>53.834951</td>\n",
       "      <td>8.836838</td>\n",
       "      <td>206</td>\n",
       "    </tr>\n",
       "  </tbody>\n",
       "</table>\n",
       "</div>"
      ],
      "text/plain": [
       "   Group  Sample_Age_Mean  Sample_Age_Std  Sample_Size\n",
       "0      0        55.721649        9.370546           97\n",
       "1      1        53.834951        8.836838          206"
      ]
     },
     "execution_count": 10,
     "metadata": {},
     "output_type": "execute_result"
    }
   ],
   "source": [
    "g_mean = PCD.groupby('Sex')['Age'].mean()\n",
    "g_std = PCD.groupby('Sex')['Age'].std()\n",
    "\n",
    "DataFrame = pd.DataFrame({'Group':[0,1],'Sample_Age_Mean':g_mean.values,'Sample_Age_Std':g_std.values,'Sample_Size':\n",
    "                      [len(PCD.Age[PCD['Sex'] == 0]),len(PCD.Age[PCD['Sex'] == 1])]})\n",
    "DataFrame "
   ]
  },
  {
   "cell_type": "code",
   "execution_count": 11,
   "metadata": {
    "id": "BfjLF9kxSuxq",
    "outputId": "f81a3ba0-86b7-4102-8c47-ebe6bd0873c2"
   },
   "outputs": [
    {
     "data": {
      "text/plain": [
       "<matplotlib.legend.Legend at 0x7fd0ee4d1f70>"
      ]
     },
     "execution_count": 11,
     "metadata": {},
     "output_type": "execute_result"
    },
    {
     "data": {
      "image/png": "[encoded data removed]",
      "text/plain": [
       "<Figure size 432x288 with 1 Axes>"
      ]
     },
     "metadata": {},
     "output_type": "display_data"
    }
   ],
   "source": [
    "sns.distplot(age_heart_disease.get_group(0),label='Presence_of_Heartdisease')\n",
    "sns.distplot(age_heart_disease.get_group(1),label='Absence_of_Heart_disease')\n",
    "plt.legend()"
   ]
  },
  {
   "cell_type": "markdown",
   "metadata": {
    "id": "QxmiZEdFSuxr"
   },
   "source": [
    "This above plot shows that that distribution of age of persons who doesnot have heart disease is lower than the distrubution of age who has heart disease."
   ]
  },
  {
   "cell_type": "code",
   "execution_count": 12,
   "metadata": {
    "id": "zxzxCA_XSuxr"
   },
   "outputs": [],
   "source": [
    "#Running T-Test from scipy library"
   ]
  },
  {
   "cell_type": "code",
   "execution_count": 13,
   "metadata": {
    "id": "mFmEgMSdSuxs",
    "outputId": "3cdcd325-0296-4f9e-ac9b-5c3b8272de34"
   },
   "outputs": [
    {
     "data": {
      "text/plain": [
       "Ttest_indResult(statistic=-4.0303470663221095, pvalue=7.061439075547293e-05)"
      ]
     },
     "execution_count": 13,
     "metadata": {},
     "output_type": "execute_result"
    }
   ],
   "source": [
    "stats.ttest_ind(PCD.Age[PCD['num'] == 0],PCD.Age[PCD['num'] == 1],equal_var=False)"
   ]
  },
  {
   "cell_type": "markdown",
   "metadata": {
    "id": "-pQ8KX31Suxs"
   },
   "source": [
    "As already known, p value is 0.05, and for the current test, p value is less than 0.05 and so, null hypothesis is rejected and defined alternate hypothesis is true."
   ]
  },
  {
   "cell_type": "code",
   "execution_count": null,
   "metadata": {
    "id": "UpvTtyHySuxs"
   },
   "outputs": [],
   "source": []
  },
  {
   "cell_type": "markdown",
   "metadata": {
    "id": "o_x9sEa1Suxs"
   },
   "source": [
    "2. Identify if women are significantly more likely to get heart disease than men?\n",
    "(2 points)"
   ]
  },
  {
   "cell_type": "code",
   "execution_count": 14,
   "metadata": {
    "id": "xE-nVqLLSuxt"
   },
   "outputs": [],
   "source": [
    "PCD2 = PCD.copy()"
   ]
  },
  {
   "cell_type": "code",
   "execution_count": 15,
   "metadata": {
    "id": "rRu-mF1RSuxt"
   },
   "outputs": [],
   "source": [
    "def change_sex(Sex):\n",
    "    if Sex == 0:\n",
    "        return 'female'\n",
    "    else:\n",
    "        return 'male'\n",
    "PCD2['Sex'] = PCD2['Sex'].apply(change_sex)"
   ]
  },
  {
   "cell_type": "code",
   "execution_count": 16,
   "metadata": {
    "id": "GMRj56E5Suxt"
   },
   "outputs": [],
   "source": [
    "def presence(num):\n",
    "    if num == 0:\n",
    "        return \"No Heart disease\"\n",
    "    else:\n",
    "        return \"Presence of Heart Disease\"\n",
    "PCD2['num'] = PCD2['num'].apply(presence)"
   ]
  },
  {
   "cell_type": "code",
   "execution_count": 17,
   "metadata": {
    "id": "FWtlOrmgSuxu",
    "outputId": "cf12f62a-b612-41e7-ff5c-f911e48ae7b8"
   },
   "outputs": [
    {
     "data": {
      "text/plain": [
       "Text(0.5, 1.0, 'Gender v/s Heart Disease\\n')"
      ]
     },
     "execution_count": 17,
     "metadata": {},
     "output_type": "execute_result"
    },
    {
     "data": {
      "image/png": "[encoded data removed]",
      "text/plain": [
       "<Figure size 432x288 with 1 Axes>"
      ]
     },
     "metadata": {},
     "output_type": "display_data"
    }
   ],
   "source": [
    "sns.countplot(data=PCD2, x=\"Sex\", hue=\"num\")\n",
    "plt.title('Gender v/s Heart Disease\\n')"
   ]
  },
  {
   "cell_type": "markdown",
   "metadata": {
    "id": "ByzIncoPSux4"
   },
   "source": [
    "The above graph shows that the Women are not more likely to get Heart disease when compared to Men."
   ]
  },
  {
   "cell_type": "code",
   "execution_count": null,
   "metadata": {
    "id": "qlUwMaBISux5"
   },
   "outputs": [],
   "source": []
  },
  {
   "cell_type": "markdown",
   "metadata": {
    "id": "P19-dwtpSux5"
   },
   "source": [
    "3. Inform yourself about χ²−test. And using χ²−test, identify if there is a\n",
    "significant association between exercise induced angina (exang), and the\n",
    "slope of the peak exercise ST segment (slope)? (3 points)"
   ]
  },
  {
   "cell_type": "markdown",
   "metadata": {
    "id": "eOyV7rwQWfbH"
   },
   "source": [
    "# what is x square test"
   ]
  },
  {
   "cell_type": "markdown",
   "metadata": {
    "id": "tfiwjBfpWfbH"
   },
   "source": [
    "The aim of the test is to conclude whether there is an accociation between two variables or not\n",
    "we need to consider following things\n",
    "\n",
    "The Contingency Table :\n",
    "A Contingency table (also called crosstab) is used summarise the relationship between categorical variables.\n",
    "\n",
    "Null hypothesis:\n",
    "We start by defining the null hypothesis (H0) which states that there is no relation between the variables. \n",
    "An alternate hypothesis would state that there is a significant relation between the two."
   ]
  },
  {
   "cell_type": "code",
   "execution_count": null,
   "metadata": {
    "id": "GhQkzM_7Sux5",
    "outputId": "3c89ec5a-67d5-44d9-bca4-1da464a27cc3"
   },
   "outputs": [
    {
     "data": {
      "text/html": [
       "<div>\n",
       "<style scoped>\n",
       "    .dataframe tbody tr th:only-of-type {\n",
       "        vertical-align: middle;\n",
       "    }\n",
       "\n",
       "    .dataframe tbody tr th {\n",
       "        vertical-align: top;\n",
       "    }\n",
       "\n",
       "    .dataframe thead th {\n",
       "        text-align: right;\n",
       "    }\n",
       "</style>\n",
       "<table border=\"1\" class=\"dataframe\">\n",
       "  <thead>\n",
       "    <tr style=\"text-align: right;\">\n",
       "      <th>slope</th>\n",
       "      <th>1</th>\n",
       "      <th>2</th>\n",
       "      <th>3</th>\n",
       "    </tr>\n",
       "    <tr>\n",
       "      <th>exang</th>\n",
       "      <th></th>\n",
       "      <th></th>\n",
       "      <th></th>\n",
       "    </tr>\n",
       "  </thead>\n",
       "  <tbody>\n",
       "    <tr>\n",
       "      <th>0</th>\n",
       "      <td>116</td>\n",
       "      <td>76</td>\n",
       "      <td>12</td>\n",
       "    </tr>\n",
       "    <tr>\n",
       "      <th>1</th>\n",
       "      <td>26</td>\n",
       "      <td>64</td>\n",
       "      <td>9</td>\n",
       "    </tr>\n",
       "  </tbody>\n",
       "</table>\n",
       "</div>"
      ],
      "text/plain": [
       "slope    1   2   3\n",
       "exang             \n",
       "0      116  76  12\n",
       "1       26  64   9"
      ]
     },
     "execution_count": 29,
     "metadata": {
      "tags": []
     },
     "output_type": "execute_result"
    }
   ],
   "source": [
    "# contigency table\n",
    "contigency= pd.crosstab(PCD['exang'], PCD['slope']) \n",
    "contigency"
   ]
  },
  {
   "cell_type": "code",
   "execution_count": null,
   "metadata": {
    "id": "SndKUnUnWfbI"
   },
   "outputs": [],
   "source": [
    "from scipy.stats import chi2_contingency\n",
    "#It gives test statistics, the p-value, degrees of freedom and expected table\n",
    "c, p, dof, expected = chi2_contingency(contigency) "
   ]
  },
  {
   "cell_type": "code",
   "execution_count": null,
   "metadata": {
    "id": "FIgrqTtfWfbI",
    "outputId": "fbd6ccd2-c1bf-47ee-935b-2f669389c99a"
   },
   "outputs": [
    {
     "name": "stdout",
     "output_type": "stream",
     "text": [
      "p value is 3.490090811425977e-06\n",
      "Dependent (reject H0)\n"
     ]
    }
   ],
   "source": [
    "# interpret p-value\n",
    "alpha = 0.05\n",
    "print(\"p value is \" + str(p))\n",
    "#we need to compare the obtained p-value with alpha value\n",
    "if p <= alpha:\n",
    "    print('Dependent (reject H0)')\n",
    "else:\n",
    "    print('Independent (H0 holds true)')"
   ]
  },
  {
   "cell_type": "markdown",
   "metadata": {
    "id": "vBqLpMDRWfbI"
   },
   "source": [
    "As we reject H0, So, the variable exang have a significant association with variable slope."
   ]
  }
 ],
 "metadata": {
  "colab": {
   "name": "Exercise Sheet 2_Ravinder_Kempanna_Voleti_Khurshid_Ambast (1).ipynb",
   "provenance": []
  },
  "kernelspec": {
   "display_name": "Python 3",
   "language": "python",
   "name": "python3"
  },
  "language_info": {
   "codemirror_mode": {
    "name": "ipython",
    "version": 3
   },
   "file_extension": ".py",
   "mimetype": "text/x-python",
   "name": "python",
   "nbconvert_exporter": "python",
   "pygments_lexer": "ipython3",
   "version": "3.8.5"
  }
 },
 "nbformat": 4,
 "nbformat_minor": 1
}
