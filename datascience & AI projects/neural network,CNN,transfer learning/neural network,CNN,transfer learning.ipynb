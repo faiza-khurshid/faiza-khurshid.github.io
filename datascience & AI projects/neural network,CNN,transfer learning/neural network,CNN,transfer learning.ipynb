{
 "cells": [
  {
   "cell_type": "markdown",
   "metadata": {
    "id": "hbWjQgDqnlH0"
   },
   "source": [
    "# Exercise sheet 9 - Introduction - Due date: June 29th"
   ]
  },
  {
   "cell_type": "markdown",
   "metadata": {
    "id": "KlEEvioinlH7"
   },
   "source": [
    "Submitted to:\n",
    "\n",
    "Mohamed Aborageh : s0moabor@uni-bonn.de\n",
    "\n",
    "Vinay Srinivas Bharadhwaj: s0vibhar@uni-bonn.de\n",
    "\n",
    "Yasamin Salimi: yasisali@uni-bonn.de"
   ]
  },
  {
   "cell_type": "markdown",
   "metadata": {
    "id": "fKKZz46jnlH8"
   },
   "source": [
    "# Exercise 1 - Basics of NN (9 points)"
   ]
  },
  {
   "cell_type": "markdown",
   "metadata": {
    "id": "RLAH0_bTnlH9"
   },
   "source": [
    "From the MNIST database load the handwritten digits dataset.\n",
    "1. Normalize your dataset before training your model. (1 point)"
   ]
  },
  {
   "cell_type": "code",
   "execution_count": 1,
   "metadata": {
    "ExecuteTime": {
     "end_time": "2021-06-28T23:13:14.326176Z",
     "start_time": "2021-06-28T23:13:08.772854Z"
    },
    "id": "H5yayFwinlH9"
   },
   "outputs": [],
   "source": [
    "import tensorflow as tf\n",
    "from tensorflow import keras\n",
    "import numpy as np"
   ]
  },
  {
   "cell_type": "code",
   "execution_count": 5,
   "metadata": {
    "ExecuteTime": {
     "end_time": "2021-06-28T23:13:39.349198Z",
     "start_time": "2021-06-28T23:13:38.878402Z"
    },
    "id": "qvlq1CcvnlH-"
   },
   "outputs": [],
   "source": [
    "mnist = tf.keras.datasets.mnist #28*28 image of handwritten of 0-9 \n",
    "(x_train, y_train),(x_test,y_test) = mnist.load_data()"
   ]
  },
  {
   "cell_type": "code",
   "execution_count": null,
   "metadata": {
    "colab": {
     "base_uri": "https://localhost:8080/"
    },
    "executionInfo": {
     "elapsed": 1273,
     "status": "ok",
     "timestamp": 1624838592178,
     "user": {
      "displayName": "Faiza Khurshid",
      "photoUrl": "https://lh3.googleusercontent.com/a-/AOh14GiQMg8YW9Vn-dmdh7YzAokK40kFWB3yOUQPXKFCNQ=s64",
      "userId": "09079498437295116932"
     },
     "user_tz": -120
    },
    "id": "hy4uMOFznlH_",
    "outputId": "e60b46ac-2d71-457b-b8bc-75cb68b83414",
    "scrolled": false
   },
   "outputs": [
    {
     "name": "stdout",
     "output_type": "stream",
     "text": [
      "Training Data after normalizing is [[0.         0.         0.         0.         0.         0.\n",
      "  0.         0.         0.         0.         0.         0.\n",
      "  0.         0.         0.         0.         0.         0.\n",
      "  0.         0.         0.         0.         0.         0.\n",
      "  0.         0.         0.         0.        ]\n",
      " [0.         0.         0.         0.         0.         0.\n",
      "  0.         0.         0.         0.         0.         0.\n",
      "  0.         0.         0.         0.         0.         0.\n",
      "  0.         0.         0.         0.         0.         0.\n",
      "  0.         0.         0.         0.        ]\n",
      " [0.         0.         0.         0.         0.         0.\n",
      "  0.         0.         0.         0.         0.         0.\n",
      "  0.         0.         0.         0.         0.         0.\n",
      "  0.         0.         0.         0.         0.         0.\n",
      "  0.         0.         0.         0.        ]\n",
      " [0.         0.         0.         0.         0.         0.\n",
      "  0.         0.         0.         0.         0.         0.\n",
      "  0.         0.         0.         0.         0.         0.\n",
      "  0.         0.         0.         0.         0.         0.\n",
      "  0.         0.         0.         0.        ]\n",
      " [0.         0.         0.         0.         0.         0.\n",
      "  0.         0.         0.         0.         0.         0.\n",
      "  0.         0.         0.         0.         0.         0.\n",
      "  0.         0.         0.         0.         0.         0.\n",
      "  0.         0.         0.         0.        ]\n",
      " [0.         0.         0.         0.         0.         0.\n",
      "  0.         0.         0.         0.         0.         0.\n",
      "  0.00393124 0.02332955 0.02620568 0.02625207 0.17420356 0.17566281\n",
      "  0.28629534 0.05664824 0.51877786 0.71632322 0.77892406 0.89301644\n",
      "  0.         0.         0.         0.        ]\n",
      " [0.         0.         0.         0.         0.         0.\n",
      "  0.         0.         0.05780486 0.06524513 0.16128198 0.22713296\n",
      "  0.22277047 0.32790981 0.36833534 0.3689874  0.34978968 0.32678448\n",
      "  0.368094   0.3747499  0.79066747 0.67980478 0.61494005 0.45002403\n",
      "  0.         0.         0.         0.        ]\n",
      " [0.         0.         0.         0.         0.         0.\n",
      "  0.         0.12250613 0.45858525 0.45852825 0.43408872 0.37314701\n",
      "  0.33153488 0.32790981 0.36833534 0.3689874  0.34978968 0.32420121\n",
      "  0.15214552 0.17865984 0.25626376 0.1573102  0.12298801 0.\n",
      "  0.         0.         0.         0.        ]\n",
      " [0.         0.         0.         0.         0.         0.\n",
      "  0.         0.04500225 0.4219755  0.45852825 0.43408872 0.37314701\n",
      "  0.33153488 0.32790981 0.28826244 0.26543758 0.34149427 0.31128482\n",
      "  0.         0.         0.         0.         0.         0.\n",
      "  0.         0.         0.         0.        ]\n",
      " [0.         0.         0.         0.         0.         0.\n",
      "  0.         0.         0.1541463  0.28272888 0.18358693 0.37314701\n",
      "  0.33153488 0.26569767 0.01601458 0.         0.05945042 0.19891229\n",
      "  0.         0.         0.         0.         0.         0.\n",
      "  0.         0.         0.         0.        ]\n",
      " [0.         0.         0.         0.         0.         0.\n",
      "  0.         0.         0.         0.0253731  0.00171577 0.22713296\n",
      "  0.33153488 0.11664776 0.         0.         0.         0.\n",
      "  0.         0.         0.         0.         0.         0.\n",
      "  0.         0.         0.         0.        ]\n",
      " [0.         0.         0.         0.         0.         0.\n",
      "  0.         0.         0.         0.         0.         0.20500962\n",
      "  0.33153488 0.24625638 0.00291174 0.         0.         0.\n",
      "  0.         0.         0.         0.         0.         0.\n",
      "  0.         0.         0.         0.        ]\n",
      " [0.         0.         0.         0.         0.         0.\n",
      "  0.         0.         0.         0.         0.         0.01622378\n",
      "  0.24897876 0.32790981 0.10191096 0.         0.         0.\n",
      "  0.         0.         0.         0.         0.         0.\n",
      "  0.         0.         0.         0.        ]\n",
      " [0.         0.         0.         0.         0.         0.\n",
      "  0.         0.         0.         0.         0.         0.\n",
      "  0.04586451 0.31235677 0.32757096 0.23335172 0.14931733 0.00129164\n",
      "  0.         0.         0.         0.         0.         0.\n",
      "  0.         0.         0.         0.        ]\n",
      " [0.         0.         0.         0.         0.         0.\n",
      "  0.         0.         0.         0.         0.         0.\n",
      "  0.         0.10498298 0.34940902 0.3689874  0.34978968 0.15370495\n",
      "  0.04089933 0.         0.         0.         0.         0.\n",
      "  0.         0.         0.         0.        ]\n",
      " [0.         0.         0.         0.         0.         0.\n",
      "  0.         0.         0.         0.         0.         0.\n",
      "  0.         0.         0.06551419 0.27127137 0.34978968 0.32678448\n",
      "  0.245396   0.05882702 0.         0.         0.         0.\n",
      "  0.         0.         0.         0.        ]\n",
      " [0.         0.         0.         0.         0.         0.\n",
      "  0.         0.         0.         0.         0.         0.\n",
      "  0.         0.         0.         0.02333517 0.12857881 0.32549285\n",
      "  0.41390126 0.40743158 0.         0.         0.         0.\n",
      "  0.         0.         0.         0.        ]\n",
      " [0.         0.         0.         0.         0.         0.\n",
      "  0.         0.         0.         0.         0.         0.\n",
      "  0.         0.         0.         0.         0.         0.32161793\n",
      "  0.41390126 0.54251585 0.20001074 0.         0.         0.\n",
      "  0.         0.         0.         0.        ]\n",
      " [0.         0.         0.         0.         0.         0.\n",
      "  0.         0.         0.         0.         0.         0.\n",
      "  0.         0.         0.06697006 0.18959827 0.25300993 0.32678448\n",
      "  0.41390126 0.45100715 0.00625034 0.         0.         0.\n",
      "  0.         0.         0.         0.        ]\n",
      " [0.         0.         0.         0.         0.         0.\n",
      "  0.         0.         0.         0.         0.         0.\n",
      "  0.05110617 0.19182076 0.33339444 0.3689874  0.34978968 0.32678448\n",
      "  0.40899334 0.39653769 0.         0.         0.         0.\n",
      "  0.         0.         0.         0.        ]\n",
      " [0.         0.         0.         0.         0.         0.\n",
      "  0.         0.         0.         0.         0.04117838 0.16813739\n",
      "  0.28960162 0.32790981 0.36833534 0.3689874  0.34978968 0.25961929\n",
      "  0.12760592 0.         0.         0.         0.         0.\n",
      "  0.         0.         0.         0.        ]\n",
      " [0.         0.         0.         0.         0.         0.\n",
      "  0.         0.         0.04431706 0.11961607 0.36545809 0.37314701\n",
      "  0.33153488 0.32790981 0.36833534 0.28877275 0.111988   0.00258328\n",
      "  0.         0.         0.         0.         0.         0.\n",
      "  0.         0.         0.         0.        ]\n",
      " [0.         0.         0.         0.         0.         0.\n",
      "  0.05298497 0.42752138 0.4219755  0.45852825 0.43408872 0.37314701\n",
      "  0.33153488 0.25273681 0.11646967 0.01312603 0.         0.\n",
      "  0.         0.         0.         0.         0.         0.\n",
      "  0.         0.         0.         0.        ]\n",
      " [0.         0.         0.         0.         0.37491383 0.56222061\n",
      "  0.66525569 0.63253163 0.48748768 0.45852825 0.43408872 0.359873\n",
      "  0.17428513 0.01425695 0.         0.         0.         0.\n",
      "  0.         0.         0.         0.         0.         0.\n",
      "  0.         0.         0.         0.        ]\n",
      " [0.         0.         0.         0.         0.92705966 0.82698729\n",
      "  0.74473314 0.63253163 0.4084877  0.24466922 0.22648107 0.02359823\n",
      "  0.         0.         0.         0.         0.         0.\n",
      "  0.         0.         0.         0.         0.         0.\n",
      "  0.         0.         0.         0.        ]\n",
      " [0.         0.         0.         0.         0.         0.\n",
      "  0.         0.         0.         0.         0.         0.\n",
      "  0.         0.         0.         0.         0.         0.\n",
      "  0.         0.         0.         0.         0.         0.\n",
      "  0.         0.         0.         0.        ]\n",
      " [0.         0.         0.         0.         0.         0.\n",
      "  0.         0.         0.         0.         0.         0.\n",
      "  0.         0.         0.         0.         0.         0.\n",
      "  0.         0.         0.         0.         0.         0.\n",
      "  0.         0.         0.         0.        ]\n",
      " [0.         0.         0.         0.         0.         0.\n",
      "  0.         0.         0.         0.         0.         0.\n",
      "  0.         0.         0.         0.         0.         0.\n",
      "  0.         0.         0.         0.         0.         0.\n",
      "  0.         0.         0.         0.        ]]\n",
      "Testing  Data after normalizing is [[0.         0.         0.         0.         0.         0.\n",
      "  0.         0.         0.         0.         0.         0.\n",
      "  0.         0.         0.         0.         0.         0.\n",
      "  0.         0.         0.         0.         0.         0.\n",
      "  0.         0.         0.         0.        ]\n",
      " [0.         0.         0.         0.         0.         0.\n",
      "  0.         0.         0.         0.         0.         0.\n",
      "  0.         0.         0.         0.         0.         0.\n",
      "  0.         0.         0.         0.         0.         0.\n",
      "  0.         0.         0.         0.        ]\n",
      " [0.         0.         0.         0.         0.         0.\n",
      "  0.         0.         0.         0.         0.         0.\n",
      "  0.         0.         0.         0.         0.         0.\n",
      "  0.         0.         0.         0.         0.         0.\n",
      "  0.         0.         0.         0.        ]\n",
      " [0.         0.         0.         0.         0.         0.\n",
      "  0.         0.         0.         0.         0.         0.\n",
      "  0.         0.         0.         0.         0.         0.\n",
      "  0.         0.         0.         0.         0.         0.\n",
      "  0.         0.         0.         0.        ]\n",
      " [0.         0.         0.         0.         0.         0.\n",
      "  0.         0.         0.         0.         0.         0.\n",
      "  0.         0.         0.         0.         0.         0.\n",
      "  0.         0.         0.         0.         0.         0.\n",
      "  0.         0.         0.         0.        ]\n",
      " [0.         0.         0.         0.         0.         0.\n",
      "  0.         0.         0.         0.         0.         0.\n",
      "  0.         0.         0.         0.         0.         0.\n",
      "  0.         0.         0.         0.         0.         0.\n",
      "  0.         0.         0.         0.        ]\n",
      " [0.         0.         0.         0.         0.         0.\n",
      "  0.         0.         0.         0.         0.         0.\n",
      "  0.         0.         0.         0.         0.         0.\n",
      "  0.         0.         0.         0.         0.         0.\n",
      "  0.         0.         0.         0.        ]\n",
      " [0.         0.         0.         0.         0.         0.\n",
      "  0.34058377 0.55344342 0.51591571 0.47675838 0.16790986 0.06389561\n",
      "  0.         0.         0.         0.         0.         0.\n",
      "  0.         0.         0.         0.         0.         0.\n",
      "  0.         0.         0.         0.        ]\n",
      " [0.         0.         0.         0.         0.         0.\n",
      "  0.90011425 0.75986285 0.82416724 0.80196443 0.71081842 0.42774558\n",
      "  0.31460214 0.29919608 0.35451095 0.35818467 0.34876618 0.33626817\n",
      "  0.34967436 0.335178   0.37058415 0.28257531 0.         0.\n",
      "  0.         0.         0.         0.        ]\n",
      " [0.         0.         0.         0.         0.         0.\n",
      "  0.2716561  0.34104081 0.23362221 0.35993679 0.45615513 0.40289729\n",
      "  0.40358052 0.33999555 0.45477668 0.45948942 0.44740712 0.42458103\n",
      "  0.40442136 0.42997581 0.55369632 0.76077969 0.         0.\n",
      "  0.         0.         0.         0.        ]\n",
      " [0.         0.         0.         0.         0.         0.\n",
      "  0.         0.         0.         0.         0.         0.03017292\n",
      "  0.10486738 0.02115528 0.11996078 0.1212039  0.11801684 0.10020112\n",
      "  0.03708667 0.39950509 0.55369632 0.57601891 0.         0.\n",
      "  0.         0.         0.         0.        ]\n",
      " [0.         0.         0.         0.         0.         0.\n",
      "  0.         0.         0.         0.         0.         0.\n",
      "  0.         0.         0.         0.         0.         0.\n",
      "  0.14658067 0.42828299 0.45560051 0.09781453 0.         0.\n",
      "  0.         0.         0.         0.        ]\n",
      " [0.         0.         0.         0.         0.         0.\n",
      "  0.         0.         0.         0.         0.         0.\n",
      "  0.         0.         0.         0.         0.         0.03736313\n",
      "  0.41148549 0.43166863 0.18093226 0.         0.         0.\n",
      "  0.         0.         0.         0.        ]\n",
      " [0.         0.         0.         0.         0.         0.\n",
      "  0.         0.         0.         0.         0.         0.\n",
      "  0.         0.         0.         0.         0.         0.21908381\n",
      "  0.44857216 0.40289072 0.0959159  0.         0.         0.\n",
      "  0.         0.         0.         0.        ]\n",
      " [0.         0.         0.         0.         0.         0.\n",
      "  0.         0.         0.         0.         0.         0.\n",
      "  0.         0.         0.         0.         0.10392528 0.4228827\n",
      "  0.44857216 0.10495473 0.         0.         0.         0.\n",
      "  0.         0.         0.         0.        ]\n",
      " [0.         0.         0.         0.         0.         0.\n",
      "  0.         0.         0.         0.         0.         0.\n",
      "  0.         0.         0.         0.         0.23427223 0.43137432\n",
      "  0.33024801 0.00846409 0.         0.         0.         0.\n",
      "  0.         0.         0.         0.        ]\n",
      " [0.         0.         0.         0.         0.         0.\n",
      "  0.         0.         0.         0.         0.         0.\n",
      "  0.         0.         0.         0.01628112 0.3610963  0.42118438\n",
      "  0.10242986 0.         0.         0.         0.         0.\n",
      "  0.         0.         0.         0.        ]\n",
      " [0.         0.         0.         0.         0.         0.\n",
      "  0.         0.         0.         0.         0.         0.\n",
      "  0.         0.         0.         0.2279357  0.44740712 0.30909499\n",
      "  0.         0.         0.         0.         0.         0.\n",
      "  0.         0.         0.         0.        ]\n",
      " [0.         0.         0.         0.         0.         0.\n",
      "  0.         0.         0.         0.         0.         0.\n",
      "  0.         0.         0.13428445 0.45406238 0.42274688 0.09680447\n",
      "  0.         0.         0.         0.         0.         0.\n",
      "  0.         0.         0.         0.        ]\n",
      " [0.         0.         0.         0.         0.         0.\n",
      "  0.         0.         0.         0.         0.         0.\n",
      "  0.         0.02871073 0.39569152 0.45948942 0.29239993 0.\n",
      "  0.         0.         0.         0.         0.         0.\n",
      "  0.         0.         0.         0.        ]\n",
      " [0.         0.         0.         0.         0.         0.\n",
      "  0.         0.         0.         0.         0.         0.\n",
      "  0.0047667  0.30675154 0.45477668 0.39617395 0.06165059 0.\n",
      "  0.         0.         0.         0.         0.         0.\n",
      "  0.         0.         0.         0.        ]\n",
      " [0.         0.         0.         0.         0.         0.\n",
      "  0.         0.         0.         0.         0.         0.\n",
      "  0.06037819 0.38381719 0.45477668 0.13929404 0.         0.\n",
      "  0.         0.         0.         0.         0.         0.\n",
      "  0.         0.         0.         0.        ]\n",
      " [0.         0.         0.         0.         0.         0.\n",
      "  0.         0.         0.         0.         0.         0.05502122\n",
      "  0.35591353 0.38381719 0.20590283 0.00180901 0.         0.\n",
      "  0.         0.         0.         0.         0.         0.\n",
      "  0.         0.         0.         0.        ]\n",
      " [0.         0.         0.         0.         0.         0.\n",
      "  0.         0.         0.         0.         0.         0.23605877\n",
      "  0.40358052 0.38381719 0.09310389 0.         0.         0.\n",
      "  0.         0.         0.         0.         0.         0.\n",
      "  0.         0.         0.         0.        ]\n",
      " [0.         0.         0.         0.         0.         0.\n",
      "  0.         0.         0.         0.         0.17070836 0.42952046\n",
      "  0.40358052 0.38381719 0.09310389 0.         0.         0.\n",
      "  0.         0.         0.         0.         0.         0.\n",
      "  0.         0.         0.         0.        ]\n",
      " [0.         0.         0.         0.         0.         0.\n",
      "  0.         0.         0.         0.         0.33861822 0.450819\n",
      "  0.40358052 0.330929   0.07161837 0.         0.         0.\n",
      "  0.         0.         0.         0.         0.         0.\n",
      "  0.         0.         0.         0.        ]\n",
      " [0.         0.         0.         0.         0.         0.\n",
      "  0.         0.         0.         0.         0.33861822 0.450819\n",
      "  0.32890224 0.02719964 0.         0.         0.         0.\n",
      "  0.         0.         0.         0.         0.         0.\n",
      "  0.         0.         0.         0.        ]\n",
      " [0.         0.         0.         0.         0.         0.\n",
      "  0.         0.         0.         0.         0.         0.\n",
      "  0.         0.         0.         0.         0.         0.\n",
      "  0.         0.         0.         0.         0.         0.\n",
      "  0.         0.         0.         0.        ]]\n"
     ]
    }
   ],
   "source": [
    "x_train = tf.keras.utils.normalize(x_train, axis = 1)\n",
    "x_test = tf.keras.utils.normalize(x_test,axis = 1)\n",
    "\n",
    "print(\"Training Data after normalizing is {}\".format(x_train[0]))\n",
    "print(\"Testing  Data after normalizing is {}\".format(x_test[0]))"
   ]
  },
  {
   "cell_type": "markdown",
   "metadata": {
    "id": "8z0Au8KWnlIA"
   },
   "source": [
    "2. Train a neural network once using Adam and once using AdaGrad optimizer.\n",
    "Hint: Set epochs = 20, neurons of hidden layer = 100, activation function =\n",
    "ReLU for reproducibility. (2 points)"
   ]
  },
  {
   "cell_type": "code",
   "execution_count": null,
   "metadata": {
    "id": "O3A2AUErnlIB"
   },
   "outputs": [],
   "source": [
    "model_adam = tf.keras.models.Sequential()  # a basic feed-forward model\n",
    "model_adam.add(tf.keras.layers.Flatten())  # takes our 28x28 and makes it 1x784\n",
    "model_adam.add(tf.keras.layers.Dense(100, activation=tf.nn.relu))  # a simple fully-connected layer, 100 units, relu activation\n",
    "model_adam.add(tf.keras.layers.Dense(100, activation=tf.nn.relu))  # a simple fully-connected layer, 100 units, relu activation\n",
    "model_adam.add(tf.keras.layers.Dense(10, activation=tf.nn.softmax))  # our output layer. 10 units for 10 classes. Softmax for probability distribution\n",
    "\n",
    "model_adam.compile(optimizer='adam',  # Good default optimizer to start with\n",
    "              loss='sparse_categorical_crossentropy',  # how will we calculate our \"error.\" Neural network aims to minimize loss.\n",
    "              metrics=['accuracy'])  # what to track"
   ]
  },
  {
   "cell_type": "code",
   "execution_count": null,
   "metadata": {
    "colab": {
     "base_uri": "https://localhost:8080/"
    },
    "executionInfo": {
     "elapsed": 83689,
     "status": "ok",
     "timestamp": 1624838691352,
     "user": {
      "displayName": "Faiza Khurshid",
      "photoUrl": "https://lh3.googleusercontent.com/a-/AOh14GiQMg8YW9Vn-dmdh7YzAokK40kFWB3yOUQPXKFCNQ=s64",
      "userId": "09079498437295116932"
     },
     "user_tz": -120
    },
    "id": "7ZxzVlE4nlIB",
    "outputId": "0031115b-0a5a-48c6-f909-9485f07f7e0d"
   },
   "outputs": [
    {
     "name": "stdout",
     "output_type": "stream",
     "text": [
      "Epoch 1/20\n",
      "1875/1875 [==============================] - 4s 2ms/step - loss: 0.2838 - accuracy: 0.9168\n",
      "Epoch 2/20\n",
      "1875/1875 [==============================] - 3s 2ms/step - loss: 0.1198 - accuracy: 0.9633\n",
      "Epoch 3/20\n",
      "1875/1875 [==============================] - 3s 2ms/step - loss: 0.0816 - accuracy: 0.9746\n",
      "Epoch 4/20\n",
      "1875/1875 [==============================] - 3s 2ms/step - loss: 0.0619 - accuracy: 0.9798\n",
      "Epoch 5/20\n",
      "1875/1875 [==============================] - 4s 2ms/step - loss: 0.0472 - accuracy: 0.9850\n",
      "Epoch 6/20\n",
      "1875/1875 [==============================] - 3s 2ms/step - loss: 0.0374 - accuracy: 0.9878\n",
      "Epoch 7/20\n",
      "1875/1875 [==============================] - 3s 2ms/step - loss: 0.0309 - accuracy: 0.9894\n",
      "Epoch 8/20\n",
      "1875/1875 [==============================] - 4s 2ms/step - loss: 0.0253 - accuracy: 0.9914\n",
      "Epoch 9/20\n",
      "1875/1875 [==============================] - 3s 2ms/step - loss: 0.0199 - accuracy: 0.9936\n",
      "Epoch 10/20\n",
      "1875/1875 [==============================] - 4s 2ms/step - loss: 0.0195 - accuracy: 0.9930\n",
      "Epoch 11/20\n",
      "1875/1875 [==============================] - 4s 2ms/step - loss: 0.0142 - accuracy: 0.9954\n",
      "Epoch 12/20\n",
      "1875/1875 [==============================] - 4s 2ms/step - loss: 0.0140 - accuracy: 0.9953\n",
      "Epoch 13/20\n",
      "1875/1875 [==============================] - 3s 2ms/step - loss: 0.0120 - accuracy: 0.9960\n",
      "Epoch 14/20\n",
      "1875/1875 [==============================] - 4s 2ms/step - loss: 0.0116 - accuracy: 0.9960\n",
      "Epoch 15/20\n",
      "1875/1875 [==============================] - 3s 2ms/step - loss: 0.0102 - accuracy: 0.9965\n",
      "Epoch 16/20\n",
      "1875/1875 [==============================] - 4s 2ms/step - loss: 0.0096 - accuracy: 0.9966\n",
      "Epoch 17/20\n",
      "1875/1875 [==============================] - 3s 2ms/step - loss: 0.0088 - accuracy: 0.9970\n",
      "Epoch 18/20\n",
      "1875/1875 [==============================] - 4s 2ms/step - loss: 0.0091 - accuracy: 0.9966\n",
      "Epoch 19/20\n",
      "1875/1875 [==============================] - 3s 2ms/step - loss: 0.0068 - accuracy: 0.9977\n",
      "Epoch 20/20\n",
      "1875/1875 [==============================] - 3s 2ms/step - loss: 0.0091 - accuracy: 0.9970\n"
     ]
    }
   ],
   "source": [
    "adam=model_adam.fit(x_train, y_train, epochs=20)  # train the model"
   ]
  },
  {
   "cell_type": "code",
   "execution_count": null,
   "metadata": {
    "colab": {
     "base_uri": "https://localhost:8080/"
    },
    "executionInfo": {
     "elapsed": 66379,
     "status": "ok",
     "timestamp": 1624838920010,
     "user": {
      "displayName": "Faiza Khurshid",
      "photoUrl": "https://lh3.googleusercontent.com/a-/AOh14GiQMg8YW9Vn-dmdh7YzAokK40kFWB3yOUQPXKFCNQ=s64",
      "userId": "09079498437295116932"
     },
     "user_tz": -120
    },
    "id": "QbWB0mlJ7ips",
    "outputId": "a6523309-abec-46e0-b955-337059c31165"
   },
   "outputs": [
    {
     "name": "stdout",
     "output_type": "stream",
     "text": [
      "Epoch 1/20\n",
      "1875/1875 [==============================] - 3s 2ms/step - loss: 1.9802 - accuracy: 0.4672\n",
      "Epoch 2/20\n",
      "1875/1875 [==============================] - 3s 2ms/step - loss: 1.1274 - accuracy: 0.7869\n",
      "Epoch 3/20\n",
      "1875/1875 [==============================] - 3s 2ms/step - loss: 0.7154 - accuracy: 0.8376\n",
      "Epoch 4/20\n",
      "1875/1875 [==============================] - 3s 2ms/step - loss: 0.5700 - accuracy: 0.8589\n",
      "Epoch 5/20\n",
      "1875/1875 [==============================] - 3s 2ms/step - loss: 0.4979 - accuracy: 0.8721\n",
      "Epoch 6/20\n",
      "1875/1875 [==============================] - 3s 2ms/step - loss: 0.4543 - accuracy: 0.8798\n",
      "Epoch 7/20\n",
      "1875/1875 [==============================] - 3s 2ms/step - loss: 0.4248 - accuracy: 0.8855\n",
      "Epoch 8/20\n",
      "1875/1875 [==============================] - 3s 2ms/step - loss: 0.4032 - accuracy: 0.8898\n",
      "Epoch 9/20\n",
      "1875/1875 [==============================] - 3s 2ms/step - loss: 0.3865 - accuracy: 0.8938\n",
      "Epoch 10/20\n",
      "1875/1875 [==============================] - 3s 2ms/step - loss: 0.3730 - accuracy: 0.8968\n",
      "Epoch 11/20\n",
      "1875/1875 [==============================] - 3s 2ms/step - loss: 0.3620 - accuracy: 0.8993\n",
      "Epoch 12/20\n",
      "1875/1875 [==============================] - 3s 2ms/step - loss: 0.3527 - accuracy: 0.9015\n",
      "Epoch 13/20\n",
      "1875/1875 [==============================] - 3s 2ms/step - loss: 0.3446 - accuracy: 0.9037\n",
      "Epoch 14/20\n",
      "1875/1875 [==============================] - 3s 2ms/step - loss: 0.3376 - accuracy: 0.9050\n",
      "Epoch 15/20\n",
      "1875/1875 [==============================] - 3s 2ms/step - loss: 0.3312 - accuracy: 0.9064\n",
      "Epoch 16/20\n",
      "1875/1875 [==============================] - 3s 2ms/step - loss: 0.3256 - accuracy: 0.9078\n",
      "Epoch 17/20\n",
      "1875/1875 [==============================] - 3s 2ms/step - loss: 0.3204 - accuracy: 0.9093\n",
      "Epoch 18/20\n",
      "1875/1875 [==============================] - 3s 2ms/step - loss: 0.3157 - accuracy: 0.9104\n",
      "Epoch 19/20\n",
      "1875/1875 [==============================] - 3s 2ms/step - loss: 0.3114 - accuracy: 0.9116\n",
      "Epoch 20/20\n",
      "1875/1875 [==============================] - 3s 2ms/step - loss: 0.3072 - accuracy: 0.9129\n"
     ]
    }
   ],
   "source": [
    "model_grad = tf.keras.models.Sequential()  # a basic feed-forward model\n",
    "model_grad.add(tf.keras.layers.Flatten())  # takes our 28x28 and makes it 1x784\n",
    "model_grad.add(tf.keras.layers.Dense(100, activation=tf.nn.relu))  # a simple fully-connected layer, 100 units, relu activation\n",
    "model_grad.add(tf.keras.layers.Dense(100, activation=tf.nn.relu))  # a simple fully-connected layer, 100 units, relu activation\n",
    "model_grad.add(tf.keras.layers.Dense(10, activation=tf.nn.softmax))  # our output layer. 10 units for 10 classes. Softmax for probability distribution\n",
    "\n",
    "model_grad.compile(optimizer='adagrad',  # Good default optimizer to start with\n",
    "              loss='sparse_categorical_crossentropy',  # how will we calculate our \"error.\" Neural network aims to minimize loss.\n",
    "              metrics=['accuracy'])  # what to track\n",
    "\n",
    "adagrad=model_grad.fit(x_train, y_train, epochs=20)  # train the model"
   ]
  },
  {
   "cell_type": "markdown",
   "metadata": {
    "id": "fKoa5EfMnlIC"
   },
   "source": [
    "3. Plot the SparseCategoricalCrossentropy loss for both models. Plot the computed\n",
    "accuracy for both models. Which model performed better while training?\n",
    "(2 points)\n"
   ]
  },
  {
   "cell_type": "code",
   "execution_count": null,
   "metadata": {
    "colab": {
     "base_uri": "https://localhost:8080/",
     "height": 334
    },
    "executionInfo": {
     "elapsed": 420,
     "status": "ok",
     "timestamp": 1624839300112,
     "user": {
      "displayName": "Faiza Khurshid",
      "photoUrl": "https://lh3.googleusercontent.com/a-/AOh14GiQMg8YW9Vn-dmdh7YzAokK40kFWB3yOUQPXKFCNQ=s64",
      "userId": "09079498437295116932"
     },
     "user_tz": -120
    },
    "id": "vBO3-anknlIC",
    "outputId": "78182883-5927-43dc-c4b8-79cad06be842"
   },
   "outputs": [
    {
     "data": {
      "image/png": "[encoded data removed]",
      "text/plain": [
       "<Figure size 576x360 with 1 Axes>"
      ]
     },
     "metadata": {
      "needs_background": "light",
      "tags": []
     },
     "output_type": "display_data"
    }
   ],
   "source": [
    "# plot accuracy\n",
    "\n",
    "import pandas as pd\n",
    "import matplotlib.pyplot as plt\n",
    "\n",
    "ep=np.arange(1,11,1)\n",
    "ada=adam.history['accuracy']\n",
    "adagrd=adagrad.history['accuracy']\n",
    "list_of_tuples = list(zip(ep,ada,adagrd )) \n",
    "\n",
    "df = pd.DataFrame(list_of_tuples, columns = ['Epoch','Adam','Adagrad'])\n",
    "df.index = df['Epoch']\n",
    "df.plot(figsize=(8, 5))\n",
    "plt.grid(True)\n",
    " \n",
    "plt.show()"
   ]
  },
  {
   "cell_type": "code",
   "execution_count": null,
   "metadata": {
    "colab": {
     "base_uri": "https://localhost:8080/",
     "height": 334
    },
    "executionInfo": {
     "elapsed": 484,
     "status": "ok",
     "timestamp": 1624839281972,
     "user": {
      "displayName": "Faiza Khurshid",
      "photoUrl": "https://lh3.googleusercontent.com/a-/AOh14GiQMg8YW9Vn-dmdh7YzAokK40kFWB3yOUQPXKFCNQ=s64",
      "userId": "09079498437295116932"
     },
     "user_tz": -120
    },
    "id": "TLt5U3Dv9Vyr",
    "outputId": "4be8faf2-60b7-4d3e-d601-1c5cf5e0ecd4"
   },
   "outputs": [
    {
     "data": {
      "image/png": "[encoded data removed]",
      "text/plain": [
       "<Figure size 576x360 with 1 Axes>"
      ]
     },
     "metadata": {
      "needs_background": "light",
      "tags": []
     },
     "output_type": "display_data"
    }
   ],
   "source": [
    "# plot loss\n",
    "ep=np.arange(1,11,1)\n",
    "ada=adam.history['loss']\n",
    "adagrd=adagrad.history['loss']\n",
    "list_of_tuples = list(zip(ep,ada,adagrd )) \n",
    "\n",
    "df = pd.DataFrame(list_of_tuples, columns = ['Epoch','Adam','Adagrad'])\n",
    "\n",
    "df.index = df['Epoch']\n",
    "df.plot(figsize=(8, 5))\n",
    "plt.grid(True)\n",
    " \n",
    "plt.show()"
   ]
  },
  {
   "cell_type": "markdown",
   "metadata": {
    "id": "usX1htwbnlID"
   },
   "source": [
    "4. Compute the model accuracy on the test set for both optimizers. Which model\n",
    "performed better? (1 point)\n"
   ]
  },
  {
   "cell_type": "code",
   "execution_count": null,
   "metadata": {
    "colab": {
     "base_uri": "https://localhost:8080/"
    },
    "executionInfo": {
     "elapsed": 923,
     "status": "ok",
     "timestamp": 1624839342381,
     "user": {
      "displayName": "Faiza Khurshid",
      "photoUrl": "https://lh3.googleusercontent.com/a-/AOh14GiQMg8YW9Vn-dmdh7YzAokK40kFWB3yOUQPXKFCNQ=s64",
      "userId": "09079498437295116932"
     },
     "user_tz": -120
    },
    "id": "e8Q_iyixnlID",
    "outputId": "31594dcf-47a2-45a1-bfc4-62d0ef75d6f7"
   },
   "outputs": [
    {
     "name": "stdout",
     "output_type": "stream",
     "text": [
      "313/313 [==============================] - 1s 1ms/step - loss: 0.1429 - accuracy: 0.9748\n",
      "0.14294207096099854\n",
      "0.9747999906539917\n"
     ]
    }
   ],
   "source": [
    "#adam\n",
    "val_loss, val_acc = model_adam.evaluate(x_test, y_test)   \n",
    "print(val_loss)  # model's loss (error)\n",
    "print(val_acc)  # model's accuracy"
   ]
  },
  {
   "cell_type": "code",
   "execution_count": null,
   "metadata": {
    "colab": {
     "base_uri": "https://localhost:8080/"
    },
    "executionInfo": {
     "elapsed": 1304,
     "status": "ok",
     "timestamp": 1624839678632,
     "user": {
      "displayName": "Faiza Khurshid",
      "photoUrl": "https://lh3.googleusercontent.com/a-/AOh14GiQMg8YW9Vn-dmdh7YzAokK40kFWB3yOUQPXKFCNQ=s64",
      "userId": "09079498437295116932"
     },
     "user_tz": -120
    },
    "id": "Gggreghv-QK5",
    "outputId": "68a683b1-0b60-4d47-cd3e-151fb9551658"
   },
   "outputs": [
    {
     "name": "stdout",
     "output_type": "stream",
     "text": [
      "313/313 [==============================] - 0s 1ms/step - loss: 0.2975 - accuracy: 0.9179\n",
      "0.29745998978614807\n",
      "0.917900025844574\n"
     ]
    }
   ],
   "source": [
    "#adagrad\n",
    "val_loss, val_acc = model_grad.evaluate(x_test, y_test)   \n",
    "print(val_loss)  # model's loss (error)\n",
    "print(val_acc)  # model's accuracy"
   ]
  },
  {
   "cell_type": "markdown",
   "metadata": {
    "id": "R0StWSVcnlIE"
   },
   "source": [
    "5. Familiarize yourself with Layer Normalization and explain how it works. (1 point)"
   ]
  },
  {
   "cell_type": "markdown",
   "metadata": {
    "id": "3sMIRs0c_nkJ"
   },
   "source": [
    "- layer normalization normalizes input across the features instead of normalizing input features across the batch dimension in batch normalization\n",
    "\n",
    "\n",
    "\n",
    "- layer normalization is very effective at stabilizing the hidden state dynamics in recurrent networks. Empirically, we show that layer normalization can substantially reduce the training time compared with previously published techniques.\n",
    "\n",
    "\n",
    "\n",
    "\n",
    "- Layer Normalization directly estimates the normalization statistics from the summed inputs to the neurons within a hidden layer so the normalization does not introduce any new dependencies between training cases\n"
   ]
  },
  {
   "cell_type": "code",
   "execution_count": null,
   "metadata": {
    "id": "3i-Z71U_nlIE"
   },
   "outputs": [],
   "source": []
  },
  {
   "cell_type": "markdown",
   "metadata": {
    "id": "nvaUTra1nlIF"
   },
   "source": [
    "6. Using the same dataset to train a neural network with Layer Normalization. Hint:\n",
    "Set epochs = 20, neurons of hidden layer = 100, activation function = ReLU for\n",
    "reproducibility.\n",
    "\n",
    "\n",
    "a. Compute the SparseCategoricalCrossentropy loss and model accuracy.\n",
    "(1 point)\n",
    "\n",
    "\n",
    "b. Evaluate the model performance using the test dataset. (1 point)"
   ]
  },
  {
   "cell_type": "code",
   "execution_count": null,
   "metadata": {
    "id": "B8aspb39nlIF"
   },
   "outputs": [],
   "source": []
  },
  {
   "cell_type": "code",
   "execution_count": null,
   "metadata": {
    "id": "H7OeYGH_nlIG"
   },
   "outputs": [],
   "source": []
  },
  {
   "cell_type": "markdown",
   "metadata": {
    "id": "Kjglio3OnlIH"
   },
   "source": [
    "# Exercise 2 - Hyper Parameter Optimization (9 points)"
   ]
  },
  {
   "cell_type": "markdown",
   "metadata": {
    "id": "p_CgeFTynlII"
   },
   "source": [
    "1. What are the main challenges with hyper-parameter optimization for neural\n",
    "networks? (1 point)"
   ]
  },
  {
   "cell_type": "markdown",
   "metadata": {
    "id": "4Dn7UY5rnlII"
   },
   "source": [
    "<b>Challenges with hyper-parameter optimization for neural networks:</b>\n",
    "\n",
    "\n",
    "\n",
    "1.) Overfitting is the issue in which our model performs extremely well during training and optimization, and very poorly out of sample\n",
    "\n",
    "\n",
    "\n",
    "2.)It is recommended that you optimize all hyperparameters of your model, including architecture parameters and model parameters, at the same time.\n",
    "\n",
    "\n",
    "\n",
    "3.) One of the drawbacks of grid search is that when it comes to dimensionality, it suffers when evaluating the number of hyperparameters grows exponentially. However, there is no guarantee that the search will produce the perfect solution, as it usually finds one by aliasing around the right set."
   ]
  },
  {
   "cell_type": "code",
   "execution_count": null,
   "metadata": {
    "id": "SGrFXDzXnlIJ"
   },
   "outputs": [],
   "source": []
  },
  {
   "cell_type": "markdown",
   "metadata": {
    "id": "8Yl_cTlNnlIJ"
   },
   "source": [
    "2. Inform yourself about variants of Bayesian-HPO and explain them in detail\n",
    "(2 points)"
   ]
  },
  {
   "cell_type": "markdown",
   "metadata": {
    "id": "CHRYyke-nlIK"
   },
   "source": [
    "The aim of Bayesian reasoning is to become “less wrong” with more data which these approaches do by continually updating the surrogate probability model after each evaluation of the objective function. The basic idea is: spend a little more time selecting the next hyperparameters in order to make fewer calls to the objective function.\n",
    "\n",
    "\n",
    "\n",
    "Sequential model-based optimization (SMBO) methods (SMBO) are a formalization of Bayesian optimization. The sequential refers to running trials one after another, each time trying better hyperparameters by applying Bayesian reasoning and updating a probability model (surrogate).\n",
    "\n",
    "\n",
    "\n",
    "There are five aspects of model-based hyperparameter optimization:\n",
    "\n",
    "\n",
    "\n",
    "A domain of hyperparameters over which to search\n",
    "An objective function which takes in hyperparameters and outputs a score that we want to minimize (or maximize)\n",
    "The surrogate model of the objective function\n",
    "A criteria, called a selection function, for evaluating which hyperparameters to choose next from the surrogate model\n",
    "\n",
    "\n",
    "\n",
    "A history consisting of (score, hyperparameter) pairs used by the algorithm to update the surrogate model"
   ]
  },
  {
   "cell_type": "code",
   "execution_count": null,
   "metadata": {
    "id": "G93_qvG1nlIK"
   },
   "outputs": [],
   "source": []
  },
  {
   "cell_type": "markdown",
   "metadata": {
    "id": "RsenfGu5nlIL"
   },
   "source": [
    "3. Using the same MNIST dataset, optimize the activation function for the output\n",
    "layer and the number of dropout units in the NN model using the following\n",
    "methods. (6 points)\n",
    "\n",
    "a. Grid search"
   ]
  },
  {
   "cell_type": "code",
   "execution_count": 6,
   "metadata": {
    "ExecuteTime": {
     "end_time": "2021-06-28T23:13:45.568013Z",
     "start_time": "2021-06-28T23:13:45.562222Z"
    },
    "id": "_F2-YypRnlIL"
   },
   "outputs": [],
   "source": [
    "from keras.layers import Dense, Dropout\n",
    "from keras.wrappers.scikit_learn import KerasClassifier\n",
    "from sklearn.model_selection import GridSearchCV\n",
    "from sklearn.model_selection import RandomizedSearchCV\n",
    "from skopt import BayesSearchCV"
   ]
  },
  {
   "cell_type": "code",
   "execution_count": 7,
   "metadata": {
    "ExecuteTime": {
     "end_time": "2021-06-28T23:13:46.990461Z",
     "start_time": "2021-06-28T23:13:46.978147Z"
    }
   },
   "outputs": [],
   "source": [
    "def build_model(activation,dropout_rate):\n",
    "    model_adam = tf.keras.models.Sequential()  \n",
    "    model_adam.add(tf.keras.layers.Flatten())  \n",
    "    model_adam.add(tf.keras.layers.Dense(100, activation=activation))  \n",
    "    model_adam.add(tf.keras.layers.Dense(100, activation=activation))  \n",
    "    model_adam.add(tf.keras.layers.Dense(10, activation=activation))  \n",
    "    model_adam.add(tf.keras.layers.Dropout(dropout_rate))\n",
    "    model_adam.compile(optimizer='adam',  \n",
    "                  loss='sparse_categorical_crossentropy',  \n",
    "                  metrics=['accuracy']) \n",
    "    return model_adam\n",
    "\n",
    "model = KerasClassifier(build_fn = build_model, verbose=0)\n",
    "parameters = {'dropout_rate' : [0.0, 0.1, 0.2, 0.3, 0.4, 0.5],'activation' : ['relu', 'tanh', 'sigmoid', 'linear']}"
   ]
  },
  {
   "cell_type": "code",
   "execution_count": 8,
   "metadata": {
    "ExecuteTime": {
     "end_time": "2021-06-28T23:20:41.650602Z",
     "start_time": "2021-06-28T23:13:48.672771Z"
    }
   },
   "outputs": [
    {
     "name": "stderr",
     "output_type": "stream",
     "text": [
      "/Users/rohitha/opt/anaconda3/lib/python3.8/site-packages/tensorflow/python/keras/engine/sequential.py:455: UserWarning: `model.predict_classes()` is deprecated and will be removed after 2021-01-01. Please use instead:* `np.argmax(model.predict(x), axis=-1)`,   if your model does multi-class classification   (e.g. if it uses a `softmax` last-layer activation).* `(model.predict(x) > 0.5).astype(\"int32\")`,   if your model does binary classification   (e.g. if it uses a `sigmoid` last-layer activation).\n",
      "  warnings.warn('`model.predict_classes()` is deprecated and '\n"
     ]
    },
    {
     "name": "stdout",
     "output_type": "stream",
     "text": [
      "Best parameters by GridSearchCV: {'activation': 'sigmoid', 'dropout_rate': 0.0}\n"
     ]
    }
   ],
   "source": [
    "models = GridSearchCV(estimator = model, param_grid = parameters, n_jobs=1,scoring=\"accuracy\")\n",
    "best_model = models.fit(x_train,y_train)\n",
    "print(\"Best parameters by GridSearchCV:\", best_model.best_params_)"
   ]
  },
  {
   "cell_type": "markdown",
   "metadata": {
    "id": "2o8SwiFdnlIM"
   },
   "source": [
    "b. Random search"
   ]
  },
  {
   "cell_type": "code",
   "execution_count": 9,
   "metadata": {
    "ExecuteTime": {
     "end_time": "2021-06-28T23:23:12.800427Z",
     "start_time": "2021-06-28T23:20:53.156230Z"
    },
    "id": "Up11CXlnnlIM"
   },
   "outputs": [
    {
     "name": "stdout",
     "output_type": "stream",
     "text": [
      "Best parameters by Random search: {'dropout_rate': 0.1, 'activation': 'sigmoid'}\n"
     ]
    }
   ],
   "source": [
    "random_search = RandomizedSearchCV(estimator=model, param_distributions=parameters,n_jobs=-1)\n",
    "random_search.fit(x_train,y_train)\n",
    "print(\"Best parameters by Random search:\",random_search.best_params_)"
   ]
  },
  {
   "cell_type": "markdown",
   "metadata": {
    "id": "Y49DBGcZnlIM"
   },
   "source": [
    "c. Bayesian Hyper-parameter optimization"
   ]
  },
  {
   "cell_type": "code",
   "execution_count": 10,
   "metadata": {
    "ExecuteTime": {
     "end_time": "2021-06-28T23:38:06.235301Z",
     "start_time": "2021-06-28T23:24:02.421943Z"
    },
    "id": "o4a9GhuvnlIM"
   },
   "outputs": [
    {
     "name": "stderr",
     "output_type": "stream",
     "text": [
      "/Users/rohitha/opt/anaconda3/lib/python3.8/site-packages/skopt/optimizer/optimizer.py:449: UserWarning: The objective has been evaluated at this point before.\n",
      "  warnings.warn(\"The objective has been evaluated \"\n",
      "/Users/rohitha/opt/anaconda3/lib/python3.8/site-packages/skopt/optimizer/optimizer.py:449: UserWarning: The objective has been evaluated at this point before.\n",
      "  warnings.warn(\"The objective has been evaluated \"\n",
      "/Users/rohitha/opt/anaconda3/lib/python3.8/site-packages/skopt/optimizer/optimizer.py:449: UserWarning: The objective has been evaluated at this point before.\n",
      "  warnings.warn(\"The objective has been evaluated \"\n",
      "/Users/rohitha/opt/anaconda3/lib/python3.8/site-packages/skopt/optimizer/optimizer.py:449: UserWarning: The objective has been evaluated at this point before.\n",
      "  warnings.warn(\"The objective has been evaluated \"\n",
      "/Users/rohitha/opt/anaconda3/lib/python3.8/site-packages/skopt/optimizer/optimizer.py:449: UserWarning: The objective has been evaluated at this point before.\n",
      "  warnings.warn(\"The objective has been evaluated \"\n",
      "/Users/rohitha/opt/anaconda3/lib/python3.8/site-packages/skopt/optimizer/optimizer.py:449: UserWarning: The objective has been evaluated at this point before.\n",
      "  warnings.warn(\"The objective has been evaluated \"\n",
      "/Users/rohitha/opt/anaconda3/lib/python3.8/site-packages/skopt/optimizer/optimizer.py:449: UserWarning: The objective has been evaluated at this point before.\n",
      "  warnings.warn(\"The objective has been evaluated \"\n",
      "/Users/rohitha/opt/anaconda3/lib/python3.8/site-packages/skopt/optimizer/optimizer.py:449: UserWarning: The objective has been evaluated at this point before.\n",
      "  warnings.warn(\"The objective has been evaluated \"\n",
      "/Users/rohitha/opt/anaconda3/lib/python3.8/site-packages/skopt/optimizer/optimizer.py:449: UserWarning: The objective has been evaluated at this point before.\n",
      "  warnings.warn(\"The objective has been evaluated \"\n",
      "/Users/rohitha/opt/anaconda3/lib/python3.8/site-packages/skopt/optimizer/optimizer.py:449: UserWarning: The objective has been evaluated at this point before.\n",
      "  warnings.warn(\"The objective has been evaluated \"\n",
      "/Users/rohitha/opt/anaconda3/lib/python3.8/site-packages/skopt/optimizer/optimizer.py:449: UserWarning: The objective has been evaluated at this point before.\n",
      "  warnings.warn(\"The objective has been evaluated \"\n",
      "/Users/rohitha/opt/anaconda3/lib/python3.8/site-packages/skopt/optimizer/optimizer.py:449: UserWarning: The objective has been evaluated at this point before.\n",
      "  warnings.warn(\"The objective has been evaluated \"\n",
      "/Users/rohitha/opt/anaconda3/lib/python3.8/site-packages/skopt/optimizer/optimizer.py:449: UserWarning: The objective has been evaluated at this point before.\n",
      "  warnings.warn(\"The objective has been evaluated \"\n",
      "/Users/rohitha/opt/anaconda3/lib/python3.8/site-packages/skopt/optimizer/optimizer.py:449: UserWarning: The objective has been evaluated at this point before.\n",
      "  warnings.warn(\"The objective has been evaluated \"\n",
      "/Users/rohitha/opt/anaconda3/lib/python3.8/site-packages/skopt/optimizer/optimizer.py:449: UserWarning: The objective has been evaluated at this point before.\n",
      "  warnings.warn(\"The objective has been evaluated \"\n",
      "/Users/rohitha/opt/anaconda3/lib/python3.8/site-packages/skopt/optimizer/optimizer.py:449: UserWarning: The objective has been evaluated at this point before.\n",
      "  warnings.warn(\"The objective has been evaluated \"\n",
      "/Users/rohitha/opt/anaconda3/lib/python3.8/site-packages/skopt/optimizer/optimizer.py:449: UserWarning: The objective has been evaluated at this point before.\n",
      "  warnings.warn(\"The objective has been evaluated \"\n",
      "/Users/rohitha/opt/anaconda3/lib/python3.8/site-packages/skopt/optimizer/optimizer.py:449: UserWarning: The objective has been evaluated at this point before.\n",
      "  warnings.warn(\"The objective has been evaluated \"\n",
      "/Users/rohitha/opt/anaconda3/lib/python3.8/site-packages/skopt/optimizer/optimizer.py:449: UserWarning: The objective has been evaluated at this point before.\n",
      "  warnings.warn(\"The objective has been evaluated \"\n",
      "/Users/rohitha/opt/anaconda3/lib/python3.8/site-packages/skopt/optimizer/optimizer.py:449: UserWarning: The objective has been evaluated at this point before.\n",
      "  warnings.warn(\"The objective has been evaluated \"\n",
      "/Users/rohitha/opt/anaconda3/lib/python3.8/site-packages/skopt/optimizer/optimizer.py:449: UserWarning: The objective has been evaluated at this point before.\n",
      "  warnings.warn(\"The objective has been evaluated \"\n",
      "/Users/rohitha/opt/anaconda3/lib/python3.8/site-packages/skopt/optimizer/optimizer.py:449: UserWarning: The objective has been evaluated at this point before.\n",
      "  warnings.warn(\"The objective has been evaluated \"\n",
      "/Users/rohitha/opt/anaconda3/lib/python3.8/site-packages/skopt/optimizer/optimizer.py:449: UserWarning: The objective has been evaluated at this point before.\n",
      "  warnings.warn(\"The objective has been evaluated \"\n",
      "/Users/rohitha/opt/anaconda3/lib/python3.8/site-packages/skopt/optimizer/optimizer.py:449: UserWarning: The objective has been evaluated at this point before.\n",
      "  warnings.warn(\"The objective has been evaluated \"\n",
      "/Users/rohitha/opt/anaconda3/lib/python3.8/site-packages/skopt/optimizer/optimizer.py:449: UserWarning: The objective has been evaluated at this point before.\n",
      "  warnings.warn(\"The objective has been evaluated \"\n",
      "/Users/rohitha/opt/anaconda3/lib/python3.8/site-packages/skopt/optimizer/optimizer.py:449: UserWarning: The objective has been evaluated at this point before.\n",
      "  warnings.warn(\"The objective has been evaluated \"\n",
      "/Users/rohitha/opt/anaconda3/lib/python3.8/site-packages/skopt/optimizer/optimizer.py:449: UserWarning: The objective has been evaluated at this point before.\n",
      "  warnings.warn(\"The objective has been evaluated \"\n",
      "/Users/rohitha/opt/anaconda3/lib/python3.8/site-packages/skopt/optimizer/optimizer.py:449: UserWarning: The objective has been evaluated at this point before.\n",
      "  warnings.warn(\"The objective has been evaluated \"\n",
      "/Users/rohitha/opt/anaconda3/lib/python3.8/site-packages/skopt/optimizer/optimizer.py:449: UserWarning: The objective has been evaluated at this point before.\n",
      "  warnings.warn(\"The objective has been evaluated \"\n",
      "/Users/rohitha/opt/anaconda3/lib/python3.8/site-packages/skopt/optimizer/optimizer.py:449: UserWarning: The objective has been evaluated at this point before.\n",
      "  warnings.warn(\"The objective has been evaluated \"\n",
      "/Users/rohitha/opt/anaconda3/lib/python3.8/site-packages/skopt/optimizer/optimizer.py:449: UserWarning: The objective has been evaluated at this point before.\n",
      "  warnings.warn(\"The objective has been evaluated \"\n",
      "/Users/rohitha/opt/anaconda3/lib/python3.8/site-packages/skopt/optimizer/optimizer.py:449: UserWarning: The objective has been evaluated at this point before.\n",
      "  warnings.warn(\"The objective has been evaluated \"\n",
      "/Users/rohitha/opt/anaconda3/lib/python3.8/site-packages/skopt/optimizer/optimizer.py:449: UserWarning: The objective has been evaluated at this point before.\n",
      "  warnings.warn(\"The objective has been evaluated \"\n",
      "/Users/rohitha/opt/anaconda3/lib/python3.8/site-packages/skopt/optimizer/optimizer.py:449: UserWarning: The objective has been evaluated at this point before.\n",
      "  warnings.warn(\"The objective has been evaluated \"\n",
      "/Users/rohitha/opt/anaconda3/lib/python3.8/site-packages/skopt/optimizer/optimizer.py:449: UserWarning: The objective has been evaluated at this point before.\n",
      "  warnings.warn(\"The objective has been evaluated \"\n"
     ]
    },
    {
     "name": "stdout",
     "output_type": "stream",
     "text": [
      "Best parameters by Bayesian Hyper-parameter optimization: OrderedDict([('activation', 'sigmoid'), ('dropout_rate', 0.0)])\n"
     ]
    }
   ],
   "source": [
    "search = BayesSearchCV(estimator=model, search_spaces=parameters, n_jobs=-1)\n",
    "search.fit(x_train,y_train)\n",
    "print(\"Best parameters by Bayesian Hyper-parameter optimization:\", search.best_params_)"
   ]
  },
  {
   "cell_type": "code",
   "execution_count": null,
   "metadata": {
    "id": "gIk5QjRanlIN"
   },
   "outputs": [],
   "source": []
  },
  {
   "cell_type": "markdown",
   "metadata": {
    "id": "4pwvTqK3nlIN"
   },
   "source": [
    "# Exercise 3 - Transfer Learning & CNNs (7 points)"
   ]
  },
  {
   "cell_type": "markdown",
   "metadata": {
    "id": "lhKjg3lenlIN"
   },
   "source": [
    "1. Load the VGG16 pre-trained model using Keras Applications API. Use the model\n",
    "to classify the dog images in canines.zip after pre-processing each image by\n",
    "doing the following: (2 points)\n",
    "\n",
    "\n",
    "a. Load each image and set the size to 224 x 224 pixels\n",
    "\n",
    "\n",
    "b. Convert the image pixels to a numpy array and reshape it according to the\n",
    "model’s input requirements\n",
    "\n",
    "\n",
    "c. Use the model to print out the predicted class and its probability for each\n",
    "image"
   ]
  },
  {
   "cell_type": "code",
   "execution_count": 17,
   "metadata": {
    "id": "83pJLzrsnlIO"
   },
   "outputs": [],
   "source": [
    "import numpy as np\n",
    "from keras.models import Model\n",
    "from keras.preprocessing import image\n",
    "from keras.applications.vgg16 import VGG16\n",
    "from keras.applications.vgg16 import preprocess_input\n",
    "from keras.applications.vgg16 import decode_predictions\n",
    "import tensorflow.keras as keras\n",
    "from tensorflow.keras.preprocessing.image import load_img, img_to_array, ImageDataGenerator\n",
    "\n",
    "import os"
   ]
  },
  {
   "cell_type": "code",
   "execution_count": 18,
   "metadata": {
    "id": "khJGUZWxnlIO"
   },
   "outputs": [
    {
     "name": "stdout",
     "output_type": "stream",
     "text": [
      "Model: \"vgg16\"\n",
      "_________________________________________________________________\n",
      "Layer (type)                 Output Shape              Param #   \n",
      "=================================================================\n",
      "input_1 (InputLayer)         [(None, 224, 224, 3)]     0         \n",
      "_________________________________________________________________\n",
      "block1_conv1 (Conv2D)        (None, 224, 224, 64)      1792      \n",
      "_________________________________________________________________\n",
      "block1_conv2 (Conv2D)        (None, 224, 224, 64)      36928     \n",
      "_________________________________________________________________\n",
      "block1_pool (MaxPooling2D)   (None, 112, 112, 64)      0         \n",
      "_________________________________________________________________\n",
      "block2_conv1 (Conv2D)        (None, 112, 112, 128)     73856     \n",
      "_________________________________________________________________\n",
      "block2_conv2 (Conv2D)        (None, 112, 112, 128)     147584    \n",
      "_________________________________________________________________\n",
      "block2_pool (MaxPooling2D)   (None, 56, 56, 128)       0         \n",
      "_________________________________________________________________\n",
      "block3_conv1 (Conv2D)        (None, 56, 56, 256)       295168    \n",
      "_________________________________________________________________\n",
      "block3_conv2 (Conv2D)        (None, 56, 56, 256)       590080    \n",
      "_________________________________________________________________\n",
      "block3_conv3 (Conv2D)        (None, 56, 56, 256)       590080    \n",
      "_________________________________________________________________\n",
      "block3_pool (MaxPooling2D)   (None, 28, 28, 256)       0         \n",
      "_________________________________________________________________\n",
      "block4_conv1 (Conv2D)        (None, 28, 28, 512)       1180160   \n",
      "_________________________________________________________________\n",
      "block4_conv2 (Conv2D)        (None, 28, 28, 512)       2359808   \n",
      "_________________________________________________________________\n",
      "block4_conv3 (Conv2D)        (None, 28, 28, 512)       2359808   \n",
      "_________________________________________________________________\n",
      "block4_pool (MaxPooling2D)   (None, 14, 14, 512)       0         \n",
      "_________________________________________________________________\n",
      "block5_conv1 (Conv2D)        (None, 14, 14, 512)       2359808   \n",
      "_________________________________________________________________\n",
      "block5_conv2 (Conv2D)        (None, 14, 14, 512)       2359808   \n",
      "_________________________________________________________________\n",
      "block5_conv3 (Conv2D)        (None, 14, 14, 512)       2359808   \n",
      "_________________________________________________________________\n",
      "block5_pool (MaxPooling2D)   (None, 7, 7, 512)         0         \n",
      "_________________________________________________________________\n",
      "flatten (Flatten)            (None, 25088)             0         \n",
      "_________________________________________________________________\n",
      "fc1 (Dense)                  (None, 4096)              102764544 \n",
      "_________________________________________________________________\n",
      "fc2 (Dense)                  (None, 4096)              16781312  \n",
      "_________________________________________________________________\n",
      "predictions (Dense)          (None, 1000)              4097000   \n",
      "=================================================================\n",
      "Total params: 138,357,544\n",
      "Trainable params: 138,357,544\n",
      "Non-trainable params: 0\n",
      "_________________________________________________________________\n",
      "None\n"
     ]
    }
   ],
   "source": [
    "model = VGG16()\n",
    "print(model.summary())"
   ]
  },
  {
   "cell_type": "code",
   "execution_count": 19,
   "metadata": {},
   "outputs": [],
   "source": [
    "#Top 1% of the probability of classes"
   ]
  },
  {
   "cell_type": "code",
   "execution_count": 20,
   "metadata": {},
   "outputs": [
    {
     "name": "stdout",
     "output_type": "stream",
     "text": [
      "dog5.jpg\n",
      "Canines/dog5.jpg\n",
      "[[('n02109047', 'Great_Dane', 0.45382115)]]\n",
      "\n",
      "dog4.jpg\n",
      "Canines/dog4.jpg\n",
      "[[('n02106166', 'Border_collie', 0.735858)]]\n",
      "\n",
      "dog6.jpg\n",
      "Canines/dog6.jpg\n",
      "[[('n02109047', 'Great_Dane', 0.9088881)]]\n",
      "\n",
      "dog7.jpg\n",
      "Canines/dog7.jpg\n",
      "[[('n02109961', 'Eskimo_dog', 0.49961603)]]\n",
      "\n",
      "dog3.jpg\n",
      "Canines/dog3.jpg\n",
      "[[('n02099601', 'golden_retriever', 0.78778)]]\n",
      "\n",
      "dog2.jpg\n",
      "Canines/dog2.jpg\n",
      "[[('n02113023', 'Pembroke', 0.7457447)]]\n",
      "\n",
      "dog1.jpg\n",
      "Canines/dog1.jpg\n",
      "[[('n02107142', 'Doberman', 0.93426067)]]\n",
      "\n",
      "dog8.jpg\n",
      "Canines/dog8.jpg\n",
      "[[('n02107142', 'Doberman', 0.35419115)]]\n",
      "\n"
     ]
    }
   ],
   "source": [
    "for file in os.listdir(\"Canines\"):\n",
    "    print(file)\n",
    "    img_path = 'Canines/'+file\n",
    "    print(img_path)\n",
    "    image = load_img(img_path, target_size=(224,224,3))\n",
    "    image = img_to_array(image)\n",
    "    image= image.reshape((1, image.shape[0], image.shape[1], image.shape[2]))\n",
    "    image = preprocess_input(image)\n",
    "    y_pred = model.predict(image)\n",
    "    label = decode_predictions(y_pred, top=1)\n",
    "    print(label)\n",
    "    print()"
   ]
  },
  {
   "cell_type": "code",
   "execution_count": 21,
   "metadata": {},
   "outputs": [],
   "source": [
    "#Top 2% of the probability of classes"
   ]
  },
  {
   "cell_type": "code",
   "execution_count": 22,
   "metadata": {},
   "outputs": [
    {
     "name": "stdout",
     "output_type": "stream",
     "text": [
      "dog5.jpg\n",
      "Canines/dog5.jpg\n",
      "[[('n02109047', 'Great_Dane', 0.45382115), ('n02108422', 'bull_mastiff', 0.43687198)]]\n",
      "\n",
      "dog4.jpg\n",
      "Canines/dog4.jpg\n",
      "[[('n02106166', 'Border_collie', 0.735858), ('n02106030', 'collie', 0.23651241)]]\n",
      "\n",
      "dog6.jpg\n",
      "Canines/dog6.jpg\n",
      "[[('n02109047', 'Great_Dane', 0.9088881), ('n02087394', 'Rhodesian_ridgeback', 0.07475051)]]\n",
      "\n",
      "dog7.jpg\n",
      "Canines/dog7.jpg\n",
      "[[('n02109961', 'Eskimo_dog', 0.49961603), ('n02110185', 'Siberian_husky', 0.2902289)]]\n",
      "\n",
      "dog3.jpg\n",
      "Canines/dog3.jpg\n",
      "[[('n02099601', 'golden_retriever', 0.78778), ('n02104029', 'kuvasz', 0.022645768)]]\n",
      "\n",
      "dog2.jpg\n",
      "Canines/dog2.jpg\n",
      "[[('n02113023', 'Pembroke', 0.7457447), ('n02113186', 'Cardigan', 0.2151999)]]\n",
      "\n",
      "dog1.jpg\n",
      "Canines/dog1.jpg\n",
      "[[('n02107142', 'Doberman', 0.93426067), ('n02087046', 'toy_terrier', 0.048935466)]]\n",
      "\n",
      "dog8.jpg\n",
      "Canines/dog8.jpg\n",
      "[[('n02107142', 'Doberman', 0.35419115), ('n02105412', 'kelpie', 0.19439045)]]\n",
      "\n"
     ]
    }
   ],
   "source": [
    "for file in os.listdir(\"Canines\"):\n",
    "    print(file)\n",
    "    img_path = 'Canines/'+file\n",
    "    print(img_path)\n",
    "    image = load_img(img_path, target_size=(224,224,3))\n",
    "    image = img_to_array(image)\n",
    "    image= image.reshape((1, image.shape[0], image.shape[1], image.shape[2]))\n",
    "    image = preprocess_input(image)\n",
    "    y_pred = model.predict(image)\n",
    "    label = decode_predictions(y_pred, top=2)\n",
    "    print(label)\n",
    "    print()"
   ]
  },
  {
   "cell_type": "code",
   "execution_count": null,
   "metadata": {
    "id": "JdrLj_QBnlIO"
   },
   "outputs": [],
   "source": []
  },
  {
   "cell_type": "markdown",
   "metadata": {
    "id": "WJ5rAGGYnlIP"
   },
   "source": [
    "2. Downscale the given matrix by applying the following pooling operations:\n",
    "a. Max Pool (1 point)\n",
    "b. Average Pool (1 point)"
   ]
  },
  {
   "cell_type": "code",
   "execution_count": 23,
   "metadata": {
    "id": "Cped65WMnlIP"
   },
   "outputs": [
    {
     "data": {
      "text/plain": [
       "<tf.Tensor: shape=(1, 3, 3, 1), dtype=float32, numpy=\n",
       "array([[[[9.],\n",
       "         [9.],\n",
       "         [8.]],\n",
       "\n",
       "        [[9.],\n",
       "         [9.],\n",
       "         [8.]],\n",
       "\n",
       "        [[6.],\n",
       "         [7.],\n",
       "         [7.]]]], dtype=float32)>"
      ]
     },
     "execution_count": 23,
     "metadata": {},
     "output_type": "execute_result"
    }
   ],
   "source": [
    "import tensorflow as tf\n",
    "\n",
    "\n",
    "tf.keras.layers.MaxPooling2D(pool_size=(2, 2), strides=(1, 1), padding='valid')\n",
    "\n",
    "Matrix = tf.constant([[1., 4., 1., 5.],\n",
    "                  [4., 9., 4., 8.],\n",
    "                  [4., 5., 4., 3.],\n",
    "                  [6., 5., 7., 4.]])\n",
    "Matrix = tf.reshape(Matrix, [1, 4, 4, 1])\n",
    "max_pool_2d = tf.keras.layers.MaxPooling2D(pool_size=(2, 2),\n",
    "   strides=(1, 1), padding='valid')\n",
    "max_pool_2d(Matrix)"
   ]
  },
  {
   "cell_type": "code",
   "execution_count": 24,
   "metadata": {
    "id": "dE23W75InlIP"
   },
   "outputs": [
    {
     "data": {
      "text/plain": [
       "<tf.Tensor: shape=(1, 3, 3, 1), dtype=float32, numpy=\n",
       "array([[[[4.5 ],\n",
       "         [4.5 ],\n",
       "         [4.5 ]],\n",
       "\n",
       "        [[5.5 ],\n",
       "         [5.5 ],\n",
       "         [4.75]],\n",
       "\n",
       "        [[5.  ],\n",
       "         [5.25],\n",
       "         [4.5 ]]]], dtype=float32)>"
      ]
     },
     "execution_count": 24,
     "metadata": {},
     "output_type": "execute_result"
    }
   ],
   "source": [
    "tf.keras.layers.AveragePooling2D(pool_size=(2, 2), strides=(1, 1), padding='valid')\n",
    "\n",
    "Matrix = tf.constant([[1., 4., 1., 5.],\n",
    "                  [4., 9., 4., 8.],\n",
    "                  [4., 5., 4., 3.],\n",
    "                  [6., 5., 7., 4.]])\n",
    "Matrix = tf.reshape(Matrix, [1, 4, 4, 1])\n",
    "avg_pool_2d = tf.keras.layers.AveragePooling2D(pool_size=(2, 2),\n",
    "   strides=(1, 1), padding='valid')\n",
    "avg_pool_2d(Matrix)"
   ]
  },
  {
   "cell_type": "code",
   "execution_count": null,
   "metadata": {
    "id": "YG9wmBGxnlIQ"
   },
   "outputs": [],
   "source": []
  },
  {
   "cell_type": "code",
   "execution_count": null,
   "metadata": {
    "id": "lOwmoYK1nlIQ"
   },
   "outputs": [],
   "source": []
  },
  {
   "cell_type": "markdown",
   "metadata": {
    "id": "Bq7qzWZtnlIQ"
   },
   "source": [
    "3. Load the CIFAR10 dataset using Keras datasets API and normalize the images’\n",
    "pixel values. Train a convolutional neural network to classify the dataset images\n",
    "with the following architecture: (3 points)\n",
    "\n",
    "\n",
    "a. Convolutional Base:\n",
    "\n",
    "\n",
    "i. An input convolution layer with 32 filters and a kernel size of (3,3).\n",
    "\n",
    "\n",
    "Adjust your input shape to that of the CIFAR images’ format\n",
    "\n",
    "\n",
    "ii. 2 convolution layers, each with 64 filters and a kernel size of (3,3)\n",
    "\n",
    "\n",
    "iii. 2 Max Pool layers, with a pool size of 2x2"
   ]
  },
  {
   "cell_type": "markdown",
   "metadata": {
    "id": "1r2_5dKDnlIR"
   },
   "source": [
    "b. 2 dense layers, with 64 and 10 units respectively. Adjust the output of the\n",
    "convolutional base such that it satisfies the input requirements of the\n",
    "dense layers.\n"
   ]
  },
  {
   "cell_type": "markdown",
   "metadata": {
    "id": "y1IHD26hnlIT"
   },
   "source": [
    "c. Use the following parameters to train the network:\n",
    "i. Sparse categorical cross entropy as your loss function\n",
    "ii. Adam optimizer\n",
    "iii. 10 epochs\n",
    "iv. ReLU activation for your layers\n",
    "\n",
    "Compile your model, then plot the accuracy across each epoch"
   ]
  },
  {
   "cell_type": "code",
   "execution_count": null,
   "metadata": {
    "id": "3pCgD4H6nlIT"
   },
   "outputs": [],
   "source": [
    "import tensorflow as tf\n",
    "from keras.models import Sequential\n",
    "from keras.layers import Dense, Conv2D, MaxPooling2D, Dropout, Flatten\n",
    "from keras.callbacks import Callback\n",
    "from keras.utils import np_utils\n",
    "import numpy as np\n",
    "import matplotlib.pyplot as plt\n",
    "from keras import backend as K\n",
    "K.set_image_data_format('channels_last')"
   ]
  },
  {
   "cell_type": "code",
   "execution_count": null,
   "metadata": {
    "id": "QTAtIRqYnlIT"
   },
   "outputs": [],
   "source": [
    "data = tf.keras.datasets.cifar10.load_data()\n",
    "(Xtrain, ytrain), (Xtest, ytest) = data\n",
    "Xtrain = Xtrain.astype('float32')\n",
    "Xtest = Xtest.astype('float32')"
   ]
  },
  {
   "cell_type": "code",
   "execution_count": null,
   "metadata": {
    "id": "5HNpVA7HnlIU"
   },
   "outputs": [],
   "source": [
    "#Normalize image pixels\n",
    "\n",
    "mean = np.mean(Xtrain, axis = (0,1,2,3))\n",
    "std = np.std(Xtrain, axis = (0,1,2,3))\n",
    "Xtrain = (Xtrain - mean) / (std +1e-7)\n",
    "Xtest = (Xtest - mean) / (std +1e-7)"
   ]
  },
  {
   "cell_type": "code",
   "execution_count": null,
   "metadata": {
    "id": "r9DaMT1SnlIU"
   },
   "outputs": [],
   "source": [
    "n_classes = 10\n",
    "ytrain = np_utils.to_categorical(ytrain, n_classes)\n",
    "ytest = np_utils.to_categorical(ytest, n_classes)\n",
    "\n",
    "input_shape = (32, 32, 3)"
   ]
  },
  {
   "cell_type": "code",
   "execution_count": null,
   "metadata": {
    "id": "8-tmbF7_nlIU"
   },
   "outputs": [],
   "source": [
    "def CNN():\n",
    "    '''Function to create model with given layers for CNN training'''\n",
    "    model = Sequential([\n",
    "    Conv2D(32, (3,3,), padding = 'same', activation = 'relu', input_shape = input_shape),\n",
    "    Conv2D(64, (3,3,), activation = 'relu'),\n",
    "    Conv2D(64, (3,3,), activation = 'relu'),\n",
    "    MaxPooling2D(pool_size = (2,2)),\n",
    "    MaxPooling2D(pool_size = (2,2)),\n",
    "              \n",
    "    Flatten(),\n",
    "    Dense(64, activation = 'relu'),\n",
    "    Dense(10, activation = 'softmax')])\n",
    "    \n",
    "    return model"
   ]
  },
  {
   "cell_type": "code",
   "execution_count": null,
   "metadata": {
    "colab": {
     "base_uri": "https://localhost:8080/"
    },
    "executionInfo": {
     "elapsed": 206,
     "status": "ok",
     "timestamp": 1624805557090,
     "user": {
      "displayName": "Priya Kempanna",
      "photoUrl": "https://lh3.googleusercontent.com/a-/AOh14Ggpt26OmXFNJNbBMPrNopOcaEJVrWp4TvBjh0WjDtw=s64",
      "userId": "09701562998674055111"
     },
     "user_tz": -120
    },
    "id": "L89vSEyJogpT",
    "outputId": "191d6798-ac0c-4f50-f5dc-2f4d3d313c67"
   },
   "outputs": [
    {
     "name": "stdout",
     "output_type": "stream",
     "text": [
      "Model: \"sequential\"\n",
      "_________________________________________________________________\n",
      "Layer (type)                 Output Shape              Param #   \n",
      "=================================================================\n",
      "conv2d (Conv2D)              (None, 32, 32, 32)        896       \n",
      "_________________________________________________________________\n",
      "conv2d_1 (Conv2D)            (None, 30, 30, 64)        18496     \n",
      "_________________________________________________________________\n",
      "conv2d_2 (Conv2D)            (None, 28, 28, 64)        36928     \n",
      "_________________________________________________________________\n",
      "max_pooling2d (MaxPooling2D) (None, 14, 14, 64)        0         \n",
      "_________________________________________________________________\n",
      "max_pooling2d_1 (MaxPooling2 (None, 7, 7, 64)          0         \n",
      "_________________________________________________________________\n",
      "flatten (Flatten)            (None, 3136)              0         \n",
      "_________________________________________________________________\n",
      "dense (Dense)                (None, 64)                200768    \n",
      "_________________________________________________________________\n",
      "dense_1 (Dense)              (None, 10)                650       \n",
      "=================================================================\n",
      "Total params: 257,738\n",
      "Trainable params: 257,738\n",
      "Non-trainable params: 0\n",
      "_________________________________________________________________\n"
     ]
    }
   ],
   "source": [
    "K.clear_session()\n",
    "model = CNN()\n",
    "\n",
    "model.compile(optimizer='adam', loss='categorical_crossentropy', metrics=['accuracy'])\n",
    "\n",
    "model.summary()"
   ]
  },
  {
   "cell_type": "code",
   "execution_count": null,
   "metadata": {
    "colab": {
     "base_uri": "https://localhost:8080/"
    },
    "executionInfo": {
     "elapsed": 4461050,
     "status": "ok",
     "timestamp": 1624813860736,
     "user": {
      "displayName": "Priya Kempanna",
      "photoUrl": "https://lh3.googleusercontent.com/a-/AOh14Ggpt26OmXFNJNbBMPrNopOcaEJVrWp4TvBjh0WjDtw=s64",
      "userId": "09701562998674055111"
     },
     "user_tz": -120
    },
    "id": "t4kFbcU6LMZw",
    "outputId": "8c5b25a6-3b43-414b-efed-7d294a134d56"
   },
   "outputs": [
    {
     "name": "stdout",
     "output_type": "stream",
     "text": [
      "Epoch 1/10\n",
      "1563/1563 [==============================] - 483s 309ms/step - loss: 0.3395 - accuracy: 0.8792 - val_loss: 1.0522 - val_accuracy: 0.7217\n",
      "Epoch 2/10\n",
      "1563/1563 [==============================] - 443s 284ms/step - loss: 0.2933 - accuracy: 0.8950 - val_loss: 1.2021 - val_accuracy: 0.7061\n",
      "Epoch 3/10\n",
      "1563/1563 [==============================] - 442s 283ms/step - loss: 0.2574 - accuracy: 0.9087 - val_loss: 1.3103 - val_accuracy: 0.7057\n",
      "Epoch 4/10\n",
      "1563/1563 [==============================] - 441s 282ms/step - loss: 0.2317 - accuracy: 0.9165 - val_loss: 1.3325 - val_accuracy: 0.7088\n",
      "Epoch 5/10\n",
      "1563/1563 [==============================] - 441s 282ms/step - loss: 0.2171 - accuracy: 0.9215 - val_loss: 1.4119 - val_accuracy: 0.7057\n",
      "Epoch 6/10\n",
      "1563/1563 [==============================] - 442s 283ms/step - loss: 0.1978 - accuracy: 0.9294 - val_loss: 1.4937 - val_accuracy: 0.7059\n",
      "Epoch 7/10\n",
      "1563/1563 [==============================] - 442s 283ms/step - loss: 0.1828 - accuracy: 0.9342 - val_loss: 1.5788 - val_accuracy: 0.6950\n",
      "Epoch 8/10\n",
      "1563/1563 [==============================] - 441s 282ms/step - loss: 0.1735 - accuracy: 0.9378 - val_loss: 1.6260 - val_accuracy: 0.7047\n",
      "Epoch 9/10\n",
      "1563/1563 [==============================] - 443s 284ms/step - loss: 0.1534 - accuracy: 0.9441 - val_loss: 1.7186 - val_accuracy: 0.7062\n",
      "Epoch 10/10\n",
      "1563/1563 [==============================] - 441s 282ms/step - loss: 0.1539 - accuracy: 0.9454 - val_loss: 1.8894 - val_accuracy: 0.6984\n",
      "1:14:20.835258\n"
     ]
    }
   ],
   "source": [
    "from keras.callbacks import TensorBoard\n",
    "tbCallBack = TensorBoard(log_dir='./log', histogram_freq=1, write_graph=True, \n",
    "                         write_images=True)\n",
    "\n",
    "\n",
    "epochs = 10\n",
    "starttime = datetime.datetime.now()\n",
    "\n",
    "history = model.fit(Xtrain, ytrain, batch_size=32, \n",
    "                   epochs=epochs, verbose=1, \n",
    "                   validation_data=(Xtest, ytest))\n",
    "\n",
    "endtime = datetime.datetime.now()\n",
    "print (endtime - starttime)"
   ]
  },
  {
   "cell_type": "code",
   "execution_count": null,
   "metadata": {
    "colab": {
     "base_uri": "https://localhost:8080/",
     "height": 295
    },
    "executionInfo": {
     "elapsed": 704,
     "status": "ok",
     "timestamp": 1624813979928,
     "user": {
      "displayName": "Priya Kempanna",
      "photoUrl": "https://lh3.googleusercontent.com/a-/AOh14Ggpt26OmXFNJNbBMPrNopOcaEJVrWp4TvBjh0WjDtw=s64",
      "userId": "09701562998674055111"
     },
     "user_tz": -120
    },
    "id": "4mKGC7Pao8fn",
    "outputId": "4f555718-721d-44b0-9c78-d81b1c2d1e0a"
   },
   "outputs": [
    {
     "data": {
      "image/png": "[encoded data removed]",
      "text/plain": [
       "<Figure size 432x288 with 1 Axes>"
      ]
     },
     "metadata": {
      "needs_background": "light",
      "tags": []
     },
     "output_type": "display_data"
    }
   ],
   "source": [
    "plt.plot(history.history['accuracy'], 'black', linewidth = 3.0)\n",
    "plt.plot(history.history['val_accuracy'], 'black', ls = '--', linewidth = 3.0)\n",
    "plt.legend(['Training Accuracy', 'Validation Accuracy'], loc = 'center right')\n",
    "plt.xlabel('Epochs')\n",
    "plt.ylabel('Accuracy')\n",
    "plt.ylim(ymin=0)\n",
    "plt.title('Accuracy Curves')\n",
    "plt.show()"
   ]
  }
 ],
 "metadata": {
  "colab": {
   "collapsed_sections": [
    "Kjglio3OnlIH"
   ],
   "name": "Exercise_Sheet_9_Ravinder_Kempanna_Voleti_Khurshid_Ambast .ipynb",
   "provenance": []
  },
  "kernelspec": {
   "display_name": "Python 3",
   "language": "python",
   "name": "python3"
  },
  "language_info": {
   "codemirror_mode": {
    "name": "ipython",
    "version": 3
   },
   "file_extension": ".py",
   "mimetype": "text/x-python",
   "name": "python",
   "nbconvert_exporter": "python",
   "pygments_lexer": "ipython3",
   "version": "3.8.5"
  }
 },
 "nbformat": 4,
 "nbformat_minor": 1
}
