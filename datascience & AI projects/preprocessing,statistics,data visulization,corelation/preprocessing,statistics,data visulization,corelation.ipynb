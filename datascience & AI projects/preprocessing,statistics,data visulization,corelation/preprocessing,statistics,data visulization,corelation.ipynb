{
 "cells": [
  {
   "cell_type": "markdown",
   "metadata": {
    "id": "HGNTkDXCy99n"
   },
   "source": [
    "# Biomedical Data Science & AI"
   ]
  },
  {
   "cell_type": "markdown",
   "metadata": {
    "id": "atCvhQnuy99w"
   },
   "source": [
    "# Exercise sheet 1 - Introduction"
   ]
  },
  {
   "cell_type": "markdown",
   "metadata": {
    "id": "zfTJoDJky99x"
   },
   "source": [
    "Submitted to:\n",
    "\n",
    "Mohamed Aborageh : s0moabor@uni-bonn.de\n",
    "    \n",
    "Vinay Srinivas Bharadhwaj: s0vibhar@uni-bonn.de\n",
    "    \n",
    "Yasamin Salimi: yasisali@uni-bonn.de"
   ]
  },
  {
   "cell_type": "markdown",
   "metadata": {
    "id": "Dfxsz8XXy99y"
   },
   "source": [
    "# Exercise 1 - Descriptive Statistics & Data Visualization (total: 9 points)"
   ]
  },
  {
   "cell_type": "markdown",
   "metadata": {
    "id": "vM7UkVcIy99y"
   },
   "source": [
    "1. Load the Iris dataset into your notebook from Scikit-Learn. (2 points)"
   ]
  },
  {
   "cell_type": "code",
   "execution_count": null,
   "metadata": {
    "id": "pK02XDooy99z"
   },
   "outputs": [],
   "source": [
    "#Importing Scikit Library\n",
    "\n",
    "import sklearn\n",
    "from sklearn import datasets"
   ]
  },
  {
   "cell_type": "code",
   "execution_count": null,
   "metadata": {
    "id": "gYmm5MM_y99z",
    "outputId": "0360dd78-3f23-4206-e52d-7b77e84c4889"
   },
   "outputs": [
    {
     "data": {
      "text/plain": [
       "['__all__',\n",
       " '__builtins__',\n",
       " '__cached__',\n",
       " '__doc__',\n",
       " '__file__',\n",
       " '__loader__',\n",
       " '__name__',\n",
       " '__package__',\n",
       " '__path__',\n",
       " '__spec__',\n",
       " '_base',\n",
       " '_california_housing',\n",
       " '_covtype',\n",
       " '_kddcup99',\n",
       " '_lfw',\n",
       " '_olivetti_faces',\n",
       " '_openml',\n",
       " '_rcv1',\n",
       " '_samples_generator',\n",
       " '_species_distributions',\n",
       " '_svmlight_format_fast',\n",
       " '_svmlight_format_io',\n",
       " '_twenty_newsgroups',\n",
       " 'clear_data_home',\n",
       " 'dump_svmlight_file',\n",
       " 'fetch_20newsgroups',\n",
       " 'fetch_20newsgroups_vectorized',\n",
       " 'fetch_california_housing',\n",
       " 'fetch_covtype',\n",
       " 'fetch_kddcup99',\n",
       " 'fetch_lfw_pairs',\n",
       " 'fetch_lfw_people',\n",
       " 'fetch_olivetti_faces',\n",
       " 'fetch_openml',\n",
       " 'fetch_rcv1',\n",
       " 'fetch_species_distributions',\n",
       " 'get_data_home',\n",
       " 'load_boston',\n",
       " 'load_breast_cancer',\n",
       " 'load_diabetes',\n",
       " 'load_digits',\n",
       " 'load_files',\n",
       " 'load_iris',\n",
       " 'load_linnerud',\n",
       " 'load_sample_image',\n",
       " 'load_sample_images',\n",
       " 'load_svmlight_file',\n",
       " 'load_svmlight_files',\n",
       " 'load_wine',\n",
       " 'make_biclusters',\n",
       " 'make_blobs',\n",
       " 'make_checkerboard',\n",
       " 'make_circles',\n",
       " 'make_classification',\n",
       " 'make_friedman1',\n",
       " 'make_friedman2',\n",
       " 'make_friedman3',\n",
       " 'make_gaussian_quantiles',\n",
       " 'make_hastie_10_2',\n",
       " 'make_low_rank_matrix',\n",
       " 'make_moons',\n",
       " 'make_multilabel_classification',\n",
       " 'make_regression',\n",
       " 'make_s_curve',\n",
       " 'make_sparse_coded_signal',\n",
       " 'make_sparse_spd_matrix',\n",
       " 'make_sparse_uncorrelated',\n",
       " 'make_spd_matrix',\n",
       " 'make_swiss_roll']"
      ]
     },
     "execution_count": 3,
     "metadata": {
      "tags": []
     },
     "output_type": "execute_result"
    }
   ],
   "source": [
    "#calling all datasets\n",
    "dir(datasets)"
   ]
  },
  {
   "cell_type": "code",
   "execution_count": null,
   "metadata": {
    "id": "eJoW4Ip8y990",
    "outputId": "8d890c2f-83e3-4ee0-d0b3-bdbc99abe802",
    "scrolled": false
   },
   "outputs": [
    {
     "name": "stdout",
     "output_type": "stream",
     "text": [
      "Feature Names:\n",
      "\n",
      "\n",
      "['sepal length (cm)', 'sepal width (cm)', 'petal length (cm)', 'petal width (cm)']\n",
      "\n",
      "\n",
      "Iris Data:\n",
      "\n",
      "\n",
      "[[5.1 3.5 1.4 0.2]\n",
      " [4.9 3.  1.4 0.2]\n",
      " [4.7 3.2 1.3 0.2]\n",
      " [4.6 3.1 1.5 0.2]\n",
      " [5.  3.6 1.4 0.2]\n",
      " [5.4 3.9 1.7 0.4]\n",
      " [4.6 3.4 1.4 0.3]\n",
      " [5.  3.4 1.5 0.2]\n",
      " [4.4 2.9 1.4 0.2]\n",
      " [4.9 3.1 1.5 0.1]\n",
      " [5.4 3.7 1.5 0.2]\n",
      " [4.8 3.4 1.6 0.2]\n",
      " [4.8 3.  1.4 0.1]\n",
      " [4.3 3.  1.1 0.1]\n",
      " [5.8 4.  1.2 0.2]\n",
      " [5.7 4.4 1.5 0.4]\n",
      " [5.4 3.9 1.3 0.4]\n",
      " [5.1 3.5 1.4 0.3]\n",
      " [5.7 3.8 1.7 0.3]\n",
      " [5.1 3.8 1.5 0.3]\n",
      " [5.4 3.4 1.7 0.2]\n",
      " [5.1 3.7 1.5 0.4]\n",
      " [4.6 3.6 1.  0.2]\n",
      " [5.1 3.3 1.7 0.5]\n",
      " [4.8 3.4 1.9 0.2]\n",
      " [5.  3.  1.6 0.2]\n",
      " [5.  3.4 1.6 0.4]\n",
      " [5.2 3.5 1.5 0.2]\n",
      " [5.2 3.4 1.4 0.2]\n",
      " [4.7 3.2 1.6 0.2]\n",
      " [4.8 3.1 1.6 0.2]\n",
      " [5.4 3.4 1.5 0.4]\n",
      " [5.2 4.1 1.5 0.1]\n",
      " [5.5 4.2 1.4 0.2]\n",
      " [4.9 3.1 1.5 0.2]\n",
      " [5.  3.2 1.2 0.2]\n",
      " [5.5 3.5 1.3 0.2]\n",
      " [4.9 3.6 1.4 0.1]\n",
      " [4.4 3.  1.3 0.2]\n",
      " [5.1 3.4 1.5 0.2]\n",
      " [5.  3.5 1.3 0.3]\n",
      " [4.5 2.3 1.3 0.3]\n",
      " [4.4 3.2 1.3 0.2]\n",
      " [5.  3.5 1.6 0.6]\n",
      " [5.1 3.8 1.9 0.4]\n",
      " [4.8 3.  1.4 0.3]\n",
      " [5.1 3.8 1.6 0.2]\n",
      " [4.6 3.2 1.4 0.2]\n",
      " [5.3 3.7 1.5 0.2]\n",
      " [5.  3.3 1.4 0.2]\n",
      " [7.  3.2 4.7 1.4]\n",
      " [6.4 3.2 4.5 1.5]\n",
      " [6.9 3.1 4.9 1.5]\n",
      " [5.5 2.3 4.  1.3]\n",
      " [6.5 2.8 4.6 1.5]\n",
      " [5.7 2.8 4.5 1.3]\n",
      " [6.3 3.3 4.7 1.6]\n",
      " [4.9 2.4 3.3 1. ]\n",
      " [6.6 2.9 4.6 1.3]\n",
      " [5.2 2.7 3.9 1.4]\n",
      " [5.  2.  3.5 1. ]\n",
      " [5.9 3.  4.2 1.5]\n",
      " [6.  2.2 4.  1. ]\n",
      " [6.1 2.9 4.7 1.4]\n",
      " [5.6 2.9 3.6 1.3]\n",
      " [6.7 3.1 4.4 1.4]\n",
      " [5.6 3.  4.5 1.5]\n",
      " [5.8 2.7 4.1 1. ]\n",
      " [6.2 2.2 4.5 1.5]\n",
      " [5.6 2.5 3.9 1.1]\n",
      " [5.9 3.2 4.8 1.8]\n",
      " [6.1 2.8 4.  1.3]\n",
      " [6.3 2.5 4.9 1.5]\n",
      " [6.1 2.8 4.7 1.2]\n",
      " [6.4 2.9 4.3 1.3]\n",
      " [6.6 3.  4.4 1.4]\n",
      " [6.8 2.8 4.8 1.4]\n",
      " [6.7 3.  5.  1.7]\n",
      " [6.  2.9 4.5 1.5]\n",
      " [5.7 2.6 3.5 1. ]\n",
      " [5.5 2.4 3.8 1.1]\n",
      " [5.5 2.4 3.7 1. ]\n",
      " [5.8 2.7 3.9 1.2]\n",
      " [6.  2.7 5.1 1.6]\n",
      " [5.4 3.  4.5 1.5]\n",
      " [6.  3.4 4.5 1.6]\n",
      " [6.7 3.1 4.7 1.5]\n",
      " [6.3 2.3 4.4 1.3]\n",
      " [5.6 3.  4.1 1.3]\n",
      " [5.5 2.5 4.  1.3]\n",
      " [5.5 2.6 4.4 1.2]\n",
      " [6.1 3.  4.6 1.4]\n",
      " [5.8 2.6 4.  1.2]\n",
      " [5.  2.3 3.3 1. ]\n",
      " [5.6 2.7 4.2 1.3]\n",
      " [5.7 3.  4.2 1.2]\n",
      " [5.7 2.9 4.2 1.3]\n",
      " [6.2 2.9 4.3 1.3]\n",
      " [5.1 2.5 3.  1.1]\n",
      " [5.7 2.8 4.1 1.3]\n",
      " [6.3 3.3 6.  2.5]\n",
      " [5.8 2.7 5.1 1.9]\n",
      " [7.1 3.  5.9 2.1]\n",
      " [6.3 2.9 5.6 1.8]\n",
      " [6.5 3.  5.8 2.2]\n",
      " [7.6 3.  6.6 2.1]\n",
      " [4.9 2.5 4.5 1.7]\n",
      " [7.3 2.9 6.3 1.8]\n",
      " [6.7 2.5 5.8 1.8]\n",
      " [7.2 3.6 6.1 2.5]\n",
      " [6.5 3.2 5.1 2. ]\n",
      " [6.4 2.7 5.3 1.9]\n",
      " [6.8 3.  5.5 2.1]\n",
      " [5.7 2.5 5.  2. ]\n",
      " [5.8 2.8 5.1 2.4]\n",
      " [6.4 3.2 5.3 2.3]\n",
      " [6.5 3.  5.5 1.8]\n",
      " [7.7 3.8 6.7 2.2]\n",
      " [7.7 2.6 6.9 2.3]\n",
      " [6.  2.2 5.  1.5]\n",
      " [6.9 3.2 5.7 2.3]\n",
      " [5.6 2.8 4.9 2. ]\n",
      " [7.7 2.8 6.7 2. ]\n",
      " [6.3 2.7 4.9 1.8]\n",
      " [6.7 3.3 5.7 2.1]\n",
      " [7.2 3.2 6.  1.8]\n",
      " [6.2 2.8 4.8 1.8]\n",
      " [6.1 3.  4.9 1.8]\n",
      " [6.4 2.8 5.6 2.1]\n",
      " [7.2 3.  5.8 1.6]\n",
      " [7.4 2.8 6.1 1.9]\n",
      " [7.9 3.8 6.4 2. ]\n",
      " [6.4 2.8 5.6 2.2]\n",
      " [6.3 2.8 5.1 1.5]\n",
      " [6.1 2.6 5.6 1.4]\n",
      " [7.7 3.  6.1 2.3]\n",
      " [6.3 3.4 5.6 2.4]\n",
      " [6.4 3.1 5.5 1.8]\n",
      " [6.  3.  4.8 1.8]\n",
      " [6.9 3.1 5.4 2.1]\n",
      " [6.7 3.1 5.6 2.4]\n",
      " [6.9 3.1 5.1 2.3]\n",
      " [5.8 2.7 5.1 1.9]\n",
      " [6.8 3.2 5.9 2.3]\n",
      " [6.7 3.3 5.7 2.5]\n",
      " [6.7 3.  5.2 2.3]\n",
      " [6.3 2.5 5.  1.9]\n",
      " [6.5 3.  5.2 2. ]\n",
      " [6.2 3.4 5.4 2.3]\n",
      " [5.9 3.  5.1 1.8]]\n",
      "\n",
      "\n",
      "Iris Target:\n",
      "\n",
      "\n",
      "[0 0 0 0 0 0 0 0 0 0 0 0 0 0 0 0 0 0 0 0 0 0 0 0 0 0 0 0 0 0 0 0 0 0 0 0 0\n",
      " 0 0 0 0 0 0 0 0 0 0 0 0 0 1 1 1 1 1 1 1 1 1 1 1 1 1 1 1 1 1 1 1 1 1 1 1 1\n",
      " 1 1 1 1 1 1 1 1 1 1 1 1 1 1 1 1 1 1 1 1 1 1 1 1 1 1 2 2 2 2 2 2 2 2 2 2 2\n",
      " 2 2 2 2 2 2 2 2 2 2 2 2 2 2 2 2 2 2 2 2 2 2 2 2 2 2 2 2 2 2 2 2 2 2 2 2 2\n",
      " 2 2]\n",
      "\n",
      "\n",
      "Iris Target Names:\n",
      "\n",
      "\n",
      "['setosa' 'versicolor' 'virginica']\n",
      "\n",
      "\n",
      "Iris Dataset Description:\n",
      "\n",
      "\n",
      ".. _iris_dataset:\n",
      "\n",
      "Iris plants dataset\n",
      "--------------------\n",
      "\n",
      "**Data Set Characteristics:**\n",
      "\n",
      "    :Number of Instances: 150 (50 in each of three classes)\n",
      "    :Number of Attributes: 4 numeric, predictive attributes and the class\n",
      "    :Attribute Information:\n",
      "        - sepal length in cm\n",
      "        - sepal width in cm\n",
      "        - petal length in cm\n",
      "        - petal width in cm\n",
      "        - class:\n",
      "                - Iris-Setosa\n",
      "                - Iris-Versicolour\n",
      "                - Iris-Virginica\n",
      "                \n",
      "    :Summary Statistics:\n",
      "\n",
      "    ============== ==== ==== ======= ===== ====================\n",
      "                    Min  Max   Mean    SD   Class Correlation\n",
      "    ============== ==== ==== ======= ===== ====================\n",
      "    sepal length:   4.3  7.9   5.84   0.83    0.7826\n",
      "    sepal width:    2.0  4.4   3.05   0.43   -0.4194\n",
      "    petal length:   1.0  6.9   3.76   1.76    0.9490  (high!)\n",
      "    petal width:    0.1  2.5   1.20   0.76    0.9565  (high!)\n",
      "    ============== ==== ==== ======= ===== ====================\n",
      "\n",
      "    :Missing Attribute Values: None\n",
      "    :Class Distribution: 33.3% for each of 3 classes.\n",
      "    :Creator: R.A. Fisher\n",
      "    :Donor: Michael Marshall (MARSHALL%PLU@io.arc.nasa.gov)\n",
      "    :Date: July, 1988\n",
      "\n",
      "The famous Iris database, first used by Sir R.A. Fisher. The dataset is taken\n",
      "from Fisher's paper. Note that it's the same as in R, but not as in the UCI\n",
      "Machine Learning Repository, which has two wrong data points.\n",
      "\n",
      "This is perhaps the best known database to be found in the\n",
      "pattern recognition literature.  Fisher's paper is a classic in the field and\n",
      "is referenced frequently to this day.  (See Duda & Hart, for example.)  The\n",
      "data set contains 3 classes of 50 instances each, where each class refers to a\n",
      "type of iris plant.  One class is linearly separable from the other 2; the\n",
      "latter are NOT linearly separable from each other.\n",
      "\n",
      ".. topic:: References\n",
      "\n",
      "   - Fisher, R.A. \"The use of multiple measurements in taxonomic problems\"\n",
      "     Annual Eugenics, 7, Part II, 179-188 (1936); also in \"Contributions to\n",
      "     Mathematical Statistics\" (John Wiley, NY, 1950).\n",
      "   - Duda, R.O., & Hart, P.E. (1973) Pattern Classification and Scene Analysis.\n",
      "     (Q327.D83) John Wiley & Sons.  ISBN 0-471-22361-1.  See page 218.\n",
      "   - Dasarathy, B.V. (1980) \"Nosing Around the Neighborhood: A New System\n",
      "     Structure and Classification Rule for Recognition in Partially Exposed\n",
      "     Environments\".  IEEE Transactions on Pattern Analysis and Machine\n",
      "     Intelligence, Vol. PAMI-2, No. 1, 67-71.\n",
      "   - Gates, G.W. (1972) \"The Reduced Nearest Neighbor Rule\".  IEEE Transactions\n",
      "     on Information Theory, May 1972, 431-433.\n",
      "   - See also: 1988 MLC Proceedings, 54-64.  Cheeseman et al\"s AUTOCLASS II\n",
      "     conceptual clustering system finds 3 classes in the data.\n",
      "   - Many, many more ...\n"
     ]
    }
   ],
   "source": [
    "#Loading Iris dataset and Iris-data\n",
    "\n",
    "iris=datasets.load_iris()\n",
    "print(\"Feature Names:\")\n",
    "print(\"\\n\")\n",
    "print(iris.feature_names)\n",
    "print(\"\\n\")\n",
    "print(\"Iris Data:\")\n",
    "print(\"\\n\")\n",
    "print(iris.data)\n",
    "print(\"\\n\")\n",
    "print(\"Iris Target:\")\n",
    "print(\"\\n\")\n",
    "print(iris.target)\n",
    "print(\"\\n\")\n",
    "print(\"Iris Target Names:\")\n",
    "print(\"\\n\")\n",
    "print(iris.target_names)\n",
    "print(\"\\n\")\n",
    "print(\"Iris Dataset Description:\")\n",
    "print(\"\\n\")\n",
    "print(iris.DESCR)"
   ]
  },
  {
   "cell_type": "markdown",
   "metadata": {
    "id": "52DseBLWy991"
   },
   "source": [
    "2. Report the descriptive statistics of the features of the iris dataset. (3 points)"
   ]
  },
  {
   "cell_type": "code",
   "execution_count": null,
   "metadata": {
    "id": "bvLE4GKRy991"
   },
   "outputs": [],
   "source": [
    "#Importing libraries\n",
    "\n",
    "import pandas as pd\n",
    "import numpy as np\n",
    "import seaborn as sns\n",
    "import scipy.stats as stats\n",
    "from scipy import stats\n",
    "from scipy.stats import iqr\n",
    "from collections import Counter"
   ]
  },
  {
   "cell_type": "markdown",
   "metadata": {
    "id": "yzN4Hw6Fy992"
   },
   "source": [
    "a. Mean, Median, Mode"
   ]
  },
  {
   "cell_type": "code",
   "execution_count": null,
   "metadata": {
    "id": "N1WayYury992",
    "outputId": "bdcaa000-fa26-43ce-a58a-5219363434f1"
   },
   "outputs": [
    {
     "name": "stdout",
     "output_type": "stream",
     "text": [
      "The column names are: Index(['sepal_length', 'sepal_width', 'petal_length', 'petal_width',\n",
      "       'species'],\n",
      "      dtype='object')\n"
     ]
    }
   ],
   "source": [
    "iris=sns.load_dataset(\"iris\")\n",
    "print(\"The column names are:\",iris.columns)"
   ]
  },
  {
   "cell_type": "code",
   "execution_count": null,
   "metadata": {
    "id": "0qKPRui8y992"
   },
   "outputs": [],
   "source": [
    "#Define Variable to calculate Total-Count, Mean, Median\n",
    "\n",
    "#For Sepal Length:\n",
    "Total_count_sl = iris[\"sepal_length\"].sum()\n",
    "mean_sl = iris[\"sepal_length\"].mean()\n",
    "median_sl = iris[\"sepal_length\"].median()\n",
    "\n",
    "#For Sepal Width:\n",
    "Total_count_sw = iris[\"sepal_width\"].sum()\n",
    "mean_sw = iris[\"sepal_width\"].mean()\n",
    "median_sw = iris[\"sepal_width\"].median()\n",
    "\n",
    "#For Petal Length:\n",
    "Total_count_pl = iris[\"petal_length\"].sum()\n",
    "mean_pl = iris[\"petal_length\"].mean()\n",
    "median_pl = iris[\"petal_length\"].median()\n",
    "\n",
    "#For Petal Width:\n",
    "Total_count_pw = iris[\"petal_width\"].sum()\n",
    "mean_pw = iris[\"petal_width\"].mean()\n",
    "median_pw = iris[\"petal_width\"].median()\n",
    "\n",
    "#define Mode Function:\n",
    "def Mode(column):\n",
    "    M = Counter(column)\n",
    "    return [i for i, k in c.items() if k == c.most_common(1)[0][1]]\n",
    "\n",
    "#Defining Variable for Mode:\n",
    "SL = np.array(iris[\"sepal_length\"])\n",
    "SW = np.array(iris[\"sepal_width\"])\n",
    "PL = np.array(iris[\"petal_length\"])\n",
    "PW = np.array(iris[\"petal_width\"])"
   ]
  },
  {
   "cell_type": "code",
   "execution_count": null,
   "metadata": {
    "id": "10AEBBzuy993",
    "outputId": "191576ab-301c-47f7-b7f5-dbd2e7232e3b"
   },
   "outputs": [
    {
     "name": "stdout",
     "output_type": "stream",
     "text": [
      "Sepal Length:\n",
      "Total count of Sepal Length: 876.5 \n",
      " Mean of Sepal Length: 5.8433 \n",
      " Median of Sepal Length: 5.8\n",
      "\n",
      "\n",
      "Sepal Width:\n",
      "Total count of Sepal Width: 458.6 \n",
      " Mean of Sepal Width: 3.0573 \n",
      " Median of Sepal Width: 3.0\n",
      "\n",
      "\n",
      "Petal Length:\n",
      "Total count of Petal Length: 563.7 \n",
      " Mean of Petal Length: 3.758 \n",
      " Median of Petal Length: 4.35\n",
      "\n",
      "\n",
      "Petal Width:\n",
      "Total count of Petal Width: 179.9 \n",
      " Mean of Petal Width: 1.1993 \n",
      " Median of Petal Width: 1.3\n",
      "\n",
      "\n",
      "Mode - Iris Dataset Columns:\n",
      "Mode of Sepal Length: ModeResult(mode=array([5.]), count=array([10]))\n",
      "Mode of Sepal Width: ModeResult(mode=array([3.]), count=array([26]))\n",
      "Mode of Petal Length: ModeResult(mode=array([1.4]), count=array([13]))\n",
      "Mode of Petal Width: ModeResult(mode=array([0.2]), count=array([29]))\n"
     ]
    }
   ],
   "source": [
    "print(\"Sepal Length:\")\n",
    "print(\"Total count of Sepal Length:\",round(Total_count_sl,4), \"\\n\", \"Mean of Sepal Length:\", round(mean_sl,4), \"\\n\", \"Median of Sepal Length:\",median_sl)\n",
    "print(\"\\n\")\n",
    "print(\"Sepal Width:\")\n",
    "print(\"Total count of Sepal Width:\",round(Total_count_sw,4), \"\\n\", \"Mean of Sepal Width:\", round(mean_sw,4), \"\\n\", \"Median of Sepal Width:\",median_sw)\n",
    "print(\"\\n\")\n",
    "print(\"Petal Length:\")\n",
    "print(\"Total count of Petal Length:\",round(Total_count_pl,4), \"\\n\", \"Mean of Petal Length:\", round(mean_pl,4), \"\\n\", \"Median of Petal Length:\",median_pl)\n",
    "print(\"\\n\")\n",
    "print(\"Petal Width:\")\n",
    "print(\"Total count of Petal Width:\",round(Total_count_pw,4), \"\\n\", \"Mean of Petal Width:\", round(mean_pw,4), \"\\n\", \"Median of Petal Width:\",median_pw)\n",
    "print(\"\\n\")\n",
    "print(\"Mode - Iris Dataset Columns:\")\n",
    "print(\"Mode of Sepal Length:\", stats.mode(SL))\n",
    "print(\"Mode of Sepal Width:\", stats.mode(SW))\n",
    "print(\"Mode of Petal Length:\", stats.mode(PL))\n",
    "print(\"Mode of Petal Width:\", stats.mode(PW))"
   ]
  },
  {
   "cell_type": "markdown",
   "metadata": {
    "id": "z7x2ey7Sy993"
   },
   "source": [
    "b. Variance, MAD, Standard deviation"
   ]
  },
  {
   "cell_type": "code",
   "execution_count": null,
   "metadata": {
    "id": "snYl5SETy994",
    "outputId": "a4c0f1b3-7601-4c6d-e19f-54c059817b89"
   },
   "outputs": [
    {
     "name": "stdout",
     "output_type": "stream",
     "text": [
      "Variance - Iris Dataset Columns:\n",
      "Sepal Length: 0.6811\n",
      "Sepal Width: 0.1887\n",
      "Petal Length: 3.0955\n",
      "Petal Width: 0.5771 \n",
      "\n",
      "Mean Absolute Deviation(MAD) - Iris Dataset Columns:\n",
      "Sepal Length: 0.7 \n",
      " Sepal Width: 0.3 \n",
      " Petal Length: 1.25 \n",
      " Petal Width: 0.7 \n",
      "\n",
      "Standard Deviation - Iris Dataset Columns:\n",
      "Sepal Length: 0.8253 \n",
      " Sepal Width: 0.4344 \n",
      " Petal Length: 1.7594 \n",
      " Petal Width: 0.7597 \n",
      "\n"
     ]
    }
   ],
   "source": [
    "print(\"Variance - Iris Dataset Columns:\")\n",
    "print(\"Sepal Length:\", round(np.var(SL),4))\n",
    "print(\"Sepal Width:\", round(np.var(SW),4))\n",
    "print(\"Petal Length:\", round(np.var(PL),4))\n",
    "print(\"Petal Width:\", round(np.var(PW),4), \"\\n\")\n",
    "print(\"Mean Absolute Deviation(MAD) - Iris Dataset Columns:\")\n",
    "print(\"Sepal Length:\", round(stats.median_abs_deviation(SL),4), \"\\n\", \"Sepal Width:\", round(stats.median_abs_deviation(SW),4), \"\\n\", \"Petal Length:\", round(stats.median_abs_deviation(PL),4), \"\\n\", \"Petal Width:\", round(stats.median_abs_deviation(PW),4), \"\\n\")\n",
    "print(\"Standard Deviation - Iris Dataset Columns:\")\n",
    "print(\"Sepal Length:\", round(SL.std(axis=0),4), \"\\n\", \"Sepal Width:\", round(SW.std(axis=0),4), \"\\n\", \"Petal Length:\", round(PL.std(axis=0),4), \"\\n\", \"Petal Width:\", round(PW.std(axis=0),4), \"\\n\")"
   ]
  },
  {
   "cell_type": "markdown",
   "metadata": {
    "id": "ftvuoeKay994"
   },
   "source": [
    "c. Quantiles, IQR"
   ]
  },
  {
   "cell_type": "code",
   "execution_count": null,
   "metadata": {
    "id": "5pkCOBQ4y994",
    "outputId": "a05da2c7-d8de-402f-d027-8ba02a390bfe"
   },
   "outputs": [
    {
     "name": "stdout",
     "output_type": "stream",
     "text": [
      "Quantile - Iris Dataset Columns: \n",
      "\n",
      "Sepal Legth:\n",
      "Q1: 5.1\n",
      "Q2: 5.8\n",
      "Q3: 6.4\n",
      "100th Quantile: 4.8 \n",
      "\n",
      "Sepal Width:\n",
      "Q1: 2.8\n",
      "Q2: 3.0\n",
      "Q3: 3.3\n",
      "100th Quantile: 2.5 \n",
      "\n",
      "Petal Legth:\n",
      "Q1: 1.6\n",
      "Q2: 4.35\n",
      "Q3: 5.1\n",
      "100th Quantile: 1.4 \n",
      "\n",
      "Petal Width:\n",
      "Q1: 0.3\n",
      "Q2: 1.3\n",
      "Q3: 1.8\n",
      "100th Quantile: 0.2 \n",
      "\n",
      "\n",
      "Inter Quantile Range - Iris Dataset Columns:\n",
      "Sepal Legth: 1.3000000000000007\n",
      "Sepal Width: 0.5\n",
      "Petal Legth: 3.4999999999999996\n",
      "Petal Width: 1.5\n"
     ]
    }
   ],
   "source": [
    "print(\"Quantile - Iris Dataset Columns:\", \"\\n\")\n",
    "print(\"Sepal Legth:\")\n",
    "print(\"Q1:\", np.quantile(SL, .25))\n",
    "print(\"Q2:\", np.quantile(SL, .50))\n",
    "print(\"Q3:\", np.quantile(SL, .75))\n",
    "print(\"100th Quantile:\", np.quantile(SL, .1), \"\\n\")\n",
    "print(\"Sepal Width:\")\n",
    "print(\"Q1:\", np.quantile(SW, .25))\n",
    "print(\"Q2:\", np.quantile(SW, .50))\n",
    "print(\"Q3:\", np.quantile(SW, .75))\n",
    "print(\"100th Quantile:\", np.quantile(SW, .1), \"\\n\")\n",
    "print(\"Petal Legth:\")\n",
    "print(\"Q1:\", np.quantile(PL, .25))\n",
    "print(\"Q2:\", np.quantile(PL, .50))\n",
    "print(\"Q3:\", np.quantile(PL, .75))\n",
    "print(\"100th Quantile:\", np.quantile(PL, .1), \"\\n\")\n",
    "print(\"Petal Width:\")\n",
    "print(\"Q1:\", np.quantile(PW, .25))\n",
    "print(\"Q2:\", np.quantile(PW, .50))\n",
    "print(\"Q3:\", np.quantile(PW, .75))\n",
    "print(\"100th Quantile:\", np.quantile(PW, .1), \"\\n\\n\")\n",
    "print(\"Inter Quantile Range - Iris Dataset Columns:\")\n",
    "print(\"Sepal Legth:\", iqr(SL))\n",
    "print(\"Sepal Width:\", iqr(SW))\n",
    "print(\"Petal Legth:\", iqr(PL))\n",
    "print(\"Petal Width:\", iqr(PW))"
   ]
  },
  {
   "cell_type": "markdown",
   "metadata": {
    "id": "tJwpZgNmy995"
   },
   "source": [
    "3. Plot a density plot for each of the variables. Interpret the plots. (2 points)"
   ]
  },
  {
   "cell_type": "code",
   "execution_count": null,
   "metadata": {
    "id": "Y6yjHCk7y996",
    "outputId": "fc95c92d-1fde-468a-87d5-acc4d2b55494"
   },
   "outputs": [
    {
     "data": {
      "image/png": "[encoded data removed]",
      "text/plain": [
       "<Figure size 432x288 with 1 Axes>"
      ]
     },
     "metadata": {
      "needs_background": "light",
      "tags": []
     },
     "output_type": "display_data"
    }
   ],
   "source": [
    "kg=sns.kdeplot(iris['petal_width'], shade=True, color=\"r\")\n"
   ]
  },
  {
   "cell_type": "code",
   "execution_count": null,
   "metadata": {
    "id": "DheeGkvNy996",
    "outputId": "c7c30004-7c31-4035-ea89-13474629042b"
   },
   "outputs": [
    {
     "data": {
      "image/png": "[encoded data removed]",
      "text/plain": [
       "<Figure size 432x288 with 1 Axes>"
      ]
     },
     "metadata": {
      "needs_background": "light",
      "tags": []
     },
     "output_type": "display_data"
    }
   ],
   "source": [
    "kg=sns.kdeplot(iris['sepal_length'], shade=True,color='b')"
   ]
  },
  {
   "cell_type": "code",
   "execution_count": null,
   "metadata": {
    "id": "hOkJYA6Y3BNj",
    "outputId": "a9a78c5f-dc29-4094-c58b-914c921bcab6"
   },
   "outputs": [
    {
     "data": {
      "image/png": "[encoded data removed]",
      "text/plain": [
       "<Figure size 432x288 with 1 Axes>"
      ]
     },
     "metadata": {
      "needs_background": "light",
      "tags": []
     },
     "output_type": "display_data"
    }
   ],
   "source": [
    "kg=sns.kdeplot(iris['sepal_width'], shade=True,color='b')"
   ]
  },
  {
   "cell_type": "code",
   "execution_count": null,
   "metadata": {
    "id": "IoF3xaN23BNj",
    "outputId": "66e5a78e-57ed-4a2c-b4cc-c9253f732fc1"
   },
   "outputs": [
    {
     "data": {
      "image/png": "[encoded data removed]",
      "text/plain": [
       "<Figure size 432x288 with 1 Axes>"
      ]
     },
     "metadata": {
      "needs_background": "light",
      "tags": []
     },
     "output_type": "display_data"
    }
   ],
   "source": [
    "kg=sns.kdeplot(iris['petal_length'], shade=True,color='b')"
   ]
  },
  {
   "cell_type": "markdown",
   "metadata": {
    "id": "eYwSrwT33BNk"
   },
   "source": [
    "The Density Plot shows the smoothed distribution of the points along the numeric axis. Area under the curve in a range of values indicates the proportion of values in that range. The peaks of a Density Plot help display where values are concentrated over the interval\n",
    "\n",
    "Several distribution shapes can be possible. In our data petal_lenght and petal_weidth plot is bimodal density plots but sepal_length,sepal_width shows normal plots"
   ]
  },
  {
   "cell_type": "markdown",
   "metadata": {
    "id": "hWd39Xfzy996"
   },
   "source": [
    "4. Create a violin plot for the sepal width feature for each class. What can be\n",
    "seen from the plots? (2 points)"
   ]
  },
  {
   "cell_type": "code",
   "execution_count": null,
   "metadata": {
    "id": "GIXuNprWy996",
    "outputId": "1de7f612-1cd1-4d0d-b8a2-a2ed7fcc00ba"
   },
   "outputs": [
    {
     "data": {
      "text/plain": [
       "<AxesSubplot:xlabel='species', ylabel='sepal_width'>"
      ]
     },
     "execution_count": 23,
     "metadata": {
      "tags": []
     },
     "output_type": "execute_result"
    },
    {
     "data": {
      "image/png": "[encoded data removed]",
      "text/plain": [
       "<Figure size 432x288 with 1 Axes>"
      ]
     },
     "metadata": {
      "needs_background": "light",
      "tags": []
     },
     "output_type": "display_data"
    }
   ],
   "source": [
    "sns.violinplot(x=\"species\", y=\"sepal_width\", data=iris, size=6)"
   ]
  },
  {
   "cell_type": "markdown",
   "metadata": {
    "id": "CQmkH1Mby996"
   },
   "source": [
    "1-the white dot represents the median 2-the thick gray bar in the center represents the interquartile range 3-the thin gray line represents the rest of the distribution, except for points that are determined to be “outliers” using a method that is a function of the interquartile range.\n",
    "\n",
    "This violin plot shows the relationship of classes to sepal width. Wider sections of the violin plot represent a higher probability the skinnier sections represent a lower probability."
   ]
  },
  {
   "cell_type": "markdown",
   "metadata": {
    "id": "9qs93u1dy996"
   },
   "source": [
    "# Exercise 2 - Data Pre-processing (total: 9 points)"
   ]
  },
  {
   "cell_type": "markdown",
   "metadata": {
    "id": "MYh7vodcy997"
   },
   "source": [
    "1. Load the heart dataset from the given heart.csv file. How many rows and\n",
    "columns does the dataset contain? (2 points)"
   ]
  },
  {
   "cell_type": "code",
   "execution_count": null,
   "metadata": {
    "id": "qgsqVeRZy998",
    "outputId": "60c44eae-fa18-446f-d22a-cd29a21f9e4d"
   },
   "outputs": [
    {
     "name": "stdout",
     "output_type": "stream",
     "text": [
      "Number of rows: 312\n",
      "Number of columns: 14\n"
     ]
    }
   ],
   "source": [
    "#Loading data\n",
    "import pandas as pd\n",
    "def load_dataset():\n",
    "    with open(\"heart.csv\") as file:\n",
    "        dataset = pd.read_csv(file)\n",
    "        return dataset\n",
    "    \n",
    "data = load_dataset()\n",
    "#print(data)\n",
    "\n",
    "#Dataset information\n",
    "print(\"Number of rows:\", len(data.index))\n",
    "print(\"Number of columns:\", len(data.columns))"
   ]
  },
  {
   "cell_type": "markdown",
   "metadata": {
    "id": "B0_2v8w2y998"
   },
   "source": [
    "2. How many unique values does each column contain? (1 point)"
   ]
  },
  {
   "cell_type": "code",
   "execution_count": null,
   "metadata": {
    "id": "5EBft2azy999",
    "outputId": "854cab3c-6588-4725-85bc-104dea2d3b55"
   },
   "outputs": [
    {
     "name": "stdout",
     "output_type": "stream",
     "text": [
      "Number of unique values in ï»¿age are 41\n",
      "Number of unique values in sex are 3\n",
      "Number of unique values in cp are 5\n",
      "Number of unique values in trestbps are 50\n",
      "Number of unique values in chol are 153\n",
      "Number of unique values in fbs are 3\n",
      "Number of unique values in restecg are 4\n",
      "Number of unique values in thalach are 92\n",
      "Number of unique values in exang are 2\n",
      "Number of unique values in oldpeak are 41\n",
      "Number of unique values in slope are 4\n",
      "Number of unique values in ca are 6\n",
      "Number of unique values in thal are 5\n",
      "Number of unique values in target are 2\n"
     ]
    }
   ],
   "source": [
    "col_names = list(data.columns)\n",
    "for col in col_names:\n",
    "    print(\"Number of unique values in {} are\".format(col),len(data[col].unique()))"
   ]
  },
  {
   "cell_type": "markdown",
   "metadata": {
    "id": "t74oqBTRy999"
   },
   "source": [
    "3. Count the number of duplicate rows in the dataset. How can you remove the\n",
    "duplicate rows? (2 points)"
   ]
  },
  {
   "cell_type": "code",
   "execution_count": null,
   "metadata": {
    "id": "Z_AWL_29y999",
    "outputId": "9d1fb293-2dd7-4afc-aa6e-32866fbf09db",
    "scrolled": true
   },
   "outputs": [
    {
     "name": "stdout",
     "output_type": "stream",
     "text": [
      "Number of duplicate rows are: 9\n"
     ]
    }
   ],
   "source": [
    "d = data[data.duplicated()]\n",
    "print(\"Number of duplicate rows are:\", len(d))"
   ]
  },
  {
   "cell_type": "markdown",
   "metadata": {
    "id": "3ARSApcTy999"
   },
   "source": [
    "### Answer: We can remove duplicates by using pandas function: drop_duplicates()"
   ]
  },
  {
   "cell_type": "code",
   "execution_count": null,
   "metadata": {
    "id": "dpfEXTNry99-",
    "outputId": "4bd3e4bb-87ce-4d9c-92e5-52ce8850e8f7"
   },
   "outputs": [
    {
     "data": {
      "text/html": [
       "<div>\n",
       "<style scoped>\n",
       "    .dataframe tbody tr th:only-of-type {\n",
       "        vertical-align: middle;\n",
       "    }\n",
       "\n",
       "    .dataframe tbody tr th {\n",
       "        vertical-align: top;\n",
       "    }\n",
       "\n",
       "    .dataframe thead th {\n",
       "        text-align: right;\n",
       "    }\n",
       "</style>\n",
       "<table border=\"1\" class=\"dataframe\">\n",
       "  <thead>\n",
       "    <tr style=\"text-align: right;\">\n",
       "      <th></th>\n",
       "      <th>ï»¿age</th>\n",
       "      <th>sex</th>\n",
       "      <th>cp</th>\n",
       "      <th>trestbps</th>\n",
       "      <th>chol</th>\n",
       "      <th>fbs</th>\n",
       "      <th>restecg</th>\n",
       "      <th>thalach</th>\n",
       "      <th>exang</th>\n",
       "      <th>oldpeak</th>\n",
       "      <th>slope</th>\n",
       "      <th>ca</th>\n",
       "      <th>thal</th>\n",
       "      <th>target</th>\n",
       "    </tr>\n",
       "  </thead>\n",
       "  <tbody>\n",
       "    <tr>\n",
       "      <th>0</th>\n",
       "      <td>63</td>\n",
       "      <td>1.0</td>\n",
       "      <td>3.0</td>\n",
       "      <td>145.0</td>\n",
       "      <td>233.0</td>\n",
       "      <td>1.0</td>\n",
       "      <td>0.0</td>\n",
       "      <td>150.0</td>\n",
       "      <td>0</td>\n",
       "      <td>2.3</td>\n",
       "      <td>0.0</td>\n",
       "      <td>0.0</td>\n",
       "      <td>1.0</td>\n",
       "      <td>1</td>\n",
       "    </tr>\n",
       "    <tr>\n",
       "      <th>2</th>\n",
       "      <td>37</td>\n",
       "      <td>1.0</td>\n",
       "      <td>2.0</td>\n",
       "      <td>130.0</td>\n",
       "      <td>250.0</td>\n",
       "      <td>0.0</td>\n",
       "      <td>1.0</td>\n",
       "      <td>187.0</td>\n",
       "      <td>0</td>\n",
       "      <td>3.5</td>\n",
       "      <td>0.0</td>\n",
       "      <td>0.0</td>\n",
       "      <td>2.0</td>\n",
       "      <td>1</td>\n",
       "    </tr>\n",
       "    <tr>\n",
       "      <th>3</th>\n",
       "      <td>41</td>\n",
       "      <td>0.0</td>\n",
       "      <td>1.0</td>\n",
       "      <td>130.0</td>\n",
       "      <td>204.0</td>\n",
       "      <td>0.0</td>\n",
       "      <td>0.0</td>\n",
       "      <td>172.0</td>\n",
       "      <td>0</td>\n",
       "      <td>1.4</td>\n",
       "      <td>2.0</td>\n",
       "      <td>0.0</td>\n",
       "      <td>2.0</td>\n",
       "      <td>1</td>\n",
       "    </tr>\n",
       "    <tr>\n",
       "      <th>4</th>\n",
       "      <td>56</td>\n",
       "      <td>1.0</td>\n",
       "      <td>1.0</td>\n",
       "      <td>120.0</td>\n",
       "      <td>236.0</td>\n",
       "      <td>0.0</td>\n",
       "      <td>1.0</td>\n",
       "      <td>178.0</td>\n",
       "      <td>0</td>\n",
       "      <td>0.8</td>\n",
       "      <td>2.0</td>\n",
       "      <td>0.0</td>\n",
       "      <td>2.0</td>\n",
       "      <td>1</td>\n",
       "    </tr>\n",
       "    <tr>\n",
       "      <th>5</th>\n",
       "      <td>57</td>\n",
       "      <td>0.0</td>\n",
       "      <td>0.0</td>\n",
       "      <td>120.0</td>\n",
       "      <td>354.0</td>\n",
       "      <td>0.0</td>\n",
       "      <td>1.0</td>\n",
       "      <td>163.0</td>\n",
       "      <td>1</td>\n",
       "      <td>0.6</td>\n",
       "      <td>2.0</td>\n",
       "      <td>0.0</td>\n",
       "      <td>2.0</td>\n",
       "      <td>1</td>\n",
       "    </tr>\n",
       "    <tr>\n",
       "      <th>...</th>\n",
       "      <td>...</td>\n",
       "      <td>...</td>\n",
       "      <td>...</td>\n",
       "      <td>...</td>\n",
       "      <td>...</td>\n",
       "      <td>...</td>\n",
       "      <td>...</td>\n",
       "      <td>...</td>\n",
       "      <td>...</td>\n",
       "      <td>...</td>\n",
       "      <td>...</td>\n",
       "      <td>...</td>\n",
       "      <td>...</td>\n",
       "      <td>...</td>\n",
       "    </tr>\n",
       "    <tr>\n",
       "      <th>307</th>\n",
       "      <td>57</td>\n",
       "      <td>0.0</td>\n",
       "      <td>0.0</td>\n",
       "      <td>140.0</td>\n",
       "      <td>241.0</td>\n",
       "      <td>0.0</td>\n",
       "      <td>1.0</td>\n",
       "      <td>123.0</td>\n",
       "      <td>1</td>\n",
       "      <td>0.2</td>\n",
       "      <td>1.0</td>\n",
       "      <td>0.0</td>\n",
       "      <td>3.0</td>\n",
       "      <td>0</td>\n",
       "    </tr>\n",
       "    <tr>\n",
       "      <th>308</th>\n",
       "      <td>45</td>\n",
       "      <td>1.0</td>\n",
       "      <td>3.0</td>\n",
       "      <td>110.0</td>\n",
       "      <td>264.0</td>\n",
       "      <td>0.0</td>\n",
       "      <td>1.0</td>\n",
       "      <td>132.0</td>\n",
       "      <td>0</td>\n",
       "      <td>1.2</td>\n",
       "      <td>1.0</td>\n",
       "      <td>0.0</td>\n",
       "      <td>3.0</td>\n",
       "      <td>0</td>\n",
       "    </tr>\n",
       "    <tr>\n",
       "      <th>309</th>\n",
       "      <td>68</td>\n",
       "      <td>1.0</td>\n",
       "      <td>0.0</td>\n",
       "      <td>144.0</td>\n",
       "      <td>193.0</td>\n",
       "      <td>1.0</td>\n",
       "      <td>1.0</td>\n",
       "      <td>141.0</td>\n",
       "      <td>0</td>\n",
       "      <td>3.4</td>\n",
       "      <td>1.0</td>\n",
       "      <td>2.0</td>\n",
       "      <td>3.0</td>\n",
       "      <td>0</td>\n",
       "    </tr>\n",
       "    <tr>\n",
       "      <th>310</th>\n",
       "      <td>57</td>\n",
       "      <td>1.0</td>\n",
       "      <td>0.0</td>\n",
       "      <td>130.0</td>\n",
       "      <td>131.0</td>\n",
       "      <td>0.0</td>\n",
       "      <td>1.0</td>\n",
       "      <td>115.0</td>\n",
       "      <td>1</td>\n",
       "      <td>1.2</td>\n",
       "      <td>1.0</td>\n",
       "      <td>1.0</td>\n",
       "      <td>3.0</td>\n",
       "      <td>0</td>\n",
       "    </tr>\n",
       "    <tr>\n",
       "      <th>311</th>\n",
       "      <td>57</td>\n",
       "      <td>0.0</td>\n",
       "      <td>1.0</td>\n",
       "      <td>130.0</td>\n",
       "      <td>236.0</td>\n",
       "      <td>0.0</td>\n",
       "      <td>0.0</td>\n",
       "      <td>174.0</td>\n",
       "      <td>0</td>\n",
       "      <td>0.0</td>\n",
       "      <td>1.0</td>\n",
       "      <td>1.0</td>\n",
       "      <td>2.0</td>\n",
       "      <td>0</td>\n",
       "    </tr>\n",
       "  </tbody>\n",
       "</table>\n",
       "<p>303 rows × 14 columns</p>\n",
       "</div>"
      ],
      "text/plain": [
       "     ï»¿age  sex   cp  trestbps   chol  fbs  restecg  thalach  exang  oldpeak  \\\n",
       "0        63  1.0  3.0     145.0  233.0  1.0      0.0    150.0      0      2.3   \n",
       "2        37  1.0  2.0     130.0  250.0  0.0      1.0    187.0      0      3.5   \n",
       "3        41  0.0  1.0     130.0  204.0  0.0      0.0    172.0      0      1.4   \n",
       "4        56  1.0  1.0     120.0  236.0  0.0      1.0    178.0      0      0.8   \n",
       "5        57  0.0  0.0     120.0  354.0  0.0      1.0    163.0      1      0.6   \n",
       "..      ...  ...  ...       ...    ...  ...      ...      ...    ...      ...   \n",
       "307      57  0.0  0.0     140.0  241.0  0.0      1.0    123.0      1      0.2   \n",
       "308      45  1.0  3.0     110.0  264.0  0.0      1.0    132.0      0      1.2   \n",
       "309      68  1.0  0.0     144.0  193.0  1.0      1.0    141.0      0      3.4   \n",
       "310      57  1.0  0.0     130.0  131.0  0.0      1.0    115.0      1      1.2   \n",
       "311      57  0.0  1.0     130.0  236.0  0.0      0.0    174.0      0      0.0   \n",
       "\n",
       "     slope   ca  thal  target  \n",
       "0      0.0  0.0   1.0       1  \n",
       "2      0.0  0.0   2.0       1  \n",
       "3      2.0  0.0   2.0       1  \n",
       "4      2.0  0.0   2.0       1  \n",
       "5      2.0  0.0   2.0       1  \n",
       "..     ...  ...   ...     ...  \n",
       "307    1.0  0.0   3.0       0  \n",
       "308    1.0  0.0   3.0       0  \n",
       "309    1.0  2.0   3.0       0  \n",
       "310    1.0  1.0   3.0       0  \n",
       "311    1.0  1.0   2.0       0  \n",
       "\n",
       "[303 rows x 14 columns]"
      ]
     },
     "execution_count": 13,
     "metadata": {
      "tags": []
     },
     "output_type": "execute_result"
    }
   ],
   "source": [
    "data.drop_duplicates()"
   ]
  },
  {
   "cell_type": "markdown",
   "metadata": {
    "id": "XAojIjK8y99-"
   },
   "source": [
    "4. Count the number of missing values in the dataset. (1 points)"
   ]
  },
  {
   "cell_type": "code",
   "execution_count": null,
   "metadata": {
    "id": "1zsOjQ5Uy99-",
    "outputId": "fe06d660-fb50-4983-d8e0-58b0320c493c"
   },
   "outputs": [
    {
     "name": "stdout",
     "output_type": "stream",
     "text": [
      "Total number of missing values in dataset: 17 \n",
      "\n",
      "Number of missing values per columns are: \n",
      " ï»¿age      0\n",
      "sex         3\n",
      "cp          1\n",
      "trestbps    1\n",
      "chol        1\n",
      "fbs         5\n",
      "restecg     1\n",
      "thalach     1\n",
      "exang       0\n",
      "oldpeak     1\n",
      "slope       1\n",
      "ca          1\n",
      "thal        1\n",
      "target      0\n",
      "dtype: int64\n"
     ]
    }
   ],
   "source": [
    "print(\"Total number of missing values in dataset:\", data.isnull().sum().sum(), \"\\n\")\n",
    "\n",
    "print(\"Number of missing values per columns are: \\n\",data.isnull().sum())"
   ]
  },
  {
   "cell_type": "markdown",
   "metadata": {
    "id": "OYdfwh0ry99-"
   },
   "source": [
    " 5. How can you deal with missing values in your dataset? Implement one of the possible methods"
   ]
  },
  {
   "cell_type": "markdown",
   "metadata": {
    "id": "sSDbgZ8py99_"
   },
   "source": [
    "### Answer: We can deal with missing values by replacing them with:\n",
    "+ Mean\n",
    "+ Median\n",
    "+ Most frequenct value \n",
    "+ Zero "
   ]
  },
  {
   "cell_type": "code",
   "execution_count": null,
   "metadata": {
    "id": "Zu1lZYSPy99_",
    "outputId": "59281116-7e5e-4d7b-a708-9cc1d45d4cb1"
   },
   "outputs": [
    {
     "data": {
      "text/plain": [
       "ï»¿age      0\n",
       "sex         0\n",
       "cp          0\n",
       "trestbps    0\n",
       "chol        0\n",
       "fbs         0\n",
       "restecg     0\n",
       "thalach     0\n",
       "exang       0\n",
       "oldpeak     0\n",
       "slope       0\n",
       "ca          0\n",
       "thal        0\n",
       "target      0\n",
       "dtype: int64"
      ]
     },
     "execution_count": 15,
     "metadata": {
      "tags": []
     },
     "output_type": "execute_result"
    }
   ],
   "source": [
    "#Replacing missing value with median\n",
    "\n",
    "for col in col_names:\n",
    "    median = data[col].median()\n",
    "    data[col] = data[col].fillna(median)\n",
    "    \n",
    "data.isnull().sum() #Re-check of missing values"
   ]
  },
  {
   "cell_type": "markdown",
   "metadata": {
    "id": "odn2s_1uy99_"
   },
   "source": [
    "# Exercise 3 - Correlation (total: 7 points)"
   ]
  },
  {
   "cell_type": "markdown",
   "metadata": {
    "id": "wfF5RDpJy99_"
   },
   "source": [
    "1. Load the dataset from the given dataset.tsv file. (1 points)"
   ]
  },
  {
   "cell_type": "code",
   "execution_count": null,
   "metadata": {
    "id": "pjyIGIVLy9-A",
    "outputId": "3dc48158-8e9f-4051-b440-8f30bdad1a1c"
   },
   "outputs": [
    {
     "name": "stdout",
     "output_type": "stream",
     "text": [
      "     Unnamed: 0  feature_1  feature_2  feature_3  feature_4\n",
      "0             0   0.006711   0.286672  -4.997212   0.178739\n",
      "1             1   0.013423   0.230586  -4.297285   0.351505\n",
      "2             2   0.020134   0.074979  -3.884994   0.879812\n",
      "3             3   0.026846   0.187541  -3.590439   0.226149\n",
      "4             4   0.033557   0.422490  -3.360375   0.424136\n",
      "..          ...        ...        ...        ...        ...\n",
      "143         143   0.966443   1.777039   3.360375   0.078540\n",
      "144         144   0.973154   2.158306   3.590439   0.998950\n",
      "145         145   0.979866   1.885833   3.884994   0.574135\n",
      "146         146   0.986577   1.993843   4.297285   0.812999\n",
      "147         147   0.993289   2.503264   4.997212   0.116215\n",
      "\n",
      "[148 rows x 5 columns]\n"
     ]
    },
    {
     "data": {
      "text/plain": [
       "(148, 5)"
      ]
     },
     "execution_count": 1,
     "metadata": {
      "tags": []
     },
     "output_type": "execute_result"
    }
   ],
   "source": [
    "import pandas as pd\n",
    "import csv\n",
    "\n",
    "path = r'C:\\Users\\Shubhi Ambast\\Desktop\\dataset.tsv'\n",
    "tsv_read = pd.read_csv(path, sep='\\t')\n",
    "print(tsv_read)\n",
    "tsv_read.shape"
   ]
  },
  {
   "cell_type": "markdown",
   "metadata": {
    "id": "CryATQG4y9-A"
   },
   "source": [
    "2. Plot the scatterplot matrix for the given dataset. What can be seen in the\n",
    "scatterplot matrix? (2 points)"
   ]
  },
  {
   "cell_type": "code",
   "execution_count": null,
   "metadata": {
    "id": "3en7c7wiy9-A",
    "outputId": "861cb779-80a9-419c-d1b7-3e8b4ea04482"
   },
   "outputs": [
    {
     "data": {
      "text/plain": [
       "feature_1    False\n",
       "feature_2    False\n",
       "feature_3    False\n",
       "feature_4    False\n",
       "dtype: bool"
      ]
     },
     "execution_count": 3,
     "metadata": {
      "tags": []
     },
     "output_type": "execute_result"
    }
   ],
   "source": [
    "tsv = tsv_read.iloc[:,1:]\n",
    "tsv.isna().any() #To check any NaN or NA is given dataset"
   ]
  },
  {
   "cell_type": "code",
   "execution_count": null,
   "metadata": {
    "id": "-4oLHkw9y9-A",
    "outputId": "56338dda-e97d-4349-c2ce-f35ee16b4fac"
   },
   "outputs": [
    {
     "data": {
      "text/plain": [
       "array([[<matplotlib.axes._subplots.AxesSubplot object at 0x0000021F9A8504F0>,\n",
       "        <matplotlib.axes._subplots.AxesSubplot object at 0x0000021F9AF43970>,\n",
       "        <matplotlib.axes._subplots.AxesSubplot object at 0x0000021F9AF71DC0>,\n",
       "        <matplotlib.axes._subplots.AxesSubplot object at 0x0000021F9AFAA280>],\n",
       "       [<matplotlib.axes._subplots.AxesSubplot object at 0x0000021F9AFD66D0>,\n",
       "        <matplotlib.axes._subplots.AxesSubplot object at 0x0000021F9B001A60>,\n",
       "        <matplotlib.axes._subplots.AxesSubplot object at 0x0000021F9B001B50>,\n",
       "        <matplotlib.axes._subplots.AxesSubplot object at 0x0000021F9B03A040>],\n",
       "       [<matplotlib.axes._subplots.AxesSubplot object at 0x0000021F9B093850>,\n",
       "        <matplotlib.axes._subplots.AxesSubplot object at 0x0000021F9B0BDCA0>,\n",
       "        <matplotlib.axes._subplots.AxesSubplot object at 0x0000021F9B0F9160>,\n",
       "        <matplotlib.axes._subplots.AxesSubplot object at 0x0000021F9B1235B0>],\n",
       "       [<matplotlib.axes._subplots.AxesSubplot object at 0x0000021F9B150A00>,\n",
       "        <matplotlib.axes._subplots.AxesSubplot object at 0x0000021F9B17BE50>,\n",
       "        <matplotlib.axes._subplots.AxesSubplot object at 0x0000021F9B1B52E0>,\n",
       "        <matplotlib.axes._subplots.AxesSubplot object at 0x0000021F9B1E0760>]],\n",
       "      dtype=object)"
      ]
     },
     "execution_count": 4,
     "metadata": {
      "tags": []
     },
     "output_type": "execute_result"
    },
    {
     "data": {
      "image/png": "[encoded data removed]",
      "text/plain": [
       "<Figure size 432x432 with 16 Axes>"
      ]
     },
     "metadata": {
      "needs_background": "light",
      "tags": []
     },
     "output_type": "display_data"
    }
   ],
   "source": [
    "pd.plotting.scatter_matrix(tsv, figsize = (6,6),diagonal=\"kde\")"
   ]
  },
  {
   "cell_type": "markdown",
   "metadata": {
    "id": "L8onJRC6y9-A"
   },
   "source": [
    "3. Which correlation would suit the comparison of feature_1 and feature_3?\n",
    "Calculate the relevant correlation coefficient for the 2 features. (2 points)"
   ]
  },
  {
   "cell_type": "markdown",
   "metadata": {
    "id": "gvsyZvA9y9-A"
   },
   "source": [
    "For comaprison of feature_1 and feature_3 , suitable correlation would be Spearman rank correlation test since it does not carry any assumptions about the distribution of the data."
   ]
  },
  {
   "cell_type": "code",
   "execution_count": null,
   "metadata": {
    "id": "tggq5DOKy9-B",
    "outputId": "9a1f0e25-3057-4aef-f3b3-6708c74cc031"
   },
   "outputs": [
    {
     "name": "stdout",
     "output_type": "stream",
     "text": [
      "Pearson Correlation:\n",
      "           feature_1  feature_3\n",
      "feature_1   1.000000   0.968507\n",
      "feature_3   0.968507   1.000000\n",
      "\n",
      "\n",
      "Spearman Correlation:\n",
      "           feature_1  feature_3\n",
      "feature_1        1.0        1.0\n",
      "feature_3        1.0        1.0\n",
      "\n",
      "\n",
      "Kendall Correlation:\n",
      "           feature_1  feature_3\n",
      "feature_1        1.0        1.0\n",
      "feature_3        1.0        1.0\n"
     ]
    }
   ],
   "source": [
    "#Three ways to calculate \n",
    "data = tsv[['feature_1','feature_3']]\n",
    "\n",
    "correlation_pearson = data.corr(method='pearson')\n",
    "print('Pearson Correlation:')\n",
    "print(correlation_pearson)\n",
    "\n",
    "print('\\n')\n",
    "\n",
    "correlation_spearman= data.corr(method='spearman')\n",
    "print('Spearman Correlation:')\n",
    "print(correlation_spearman)\n",
    "\n",
    "print('\\n')\n",
    "\n",
    "correlation_kendall= data.corr(method='kendall')\n",
    "print('Kendall Correlation:')\n",
    "print(correlation_kendall)"
   ]
  },
  {
   "cell_type": "markdown",
   "metadata": {
    "id": "KIds_P_3y9-B"
   },
   "source": [
    "4. Plot the correlation heatmap of the entire dataset. (2 points)"
   ]
  },
  {
   "cell_type": "code",
   "execution_count": null,
   "metadata": {
    "id": "HEIs0hk-y9-B",
    "outputId": "e9a80830-13ff-4ff3-b8d1-162e66f2b84e"
   },
   "outputs": [
    {
     "data": {
      "text/plain": [
       "<matplotlib.axes._subplots.AxesSubplot at 0x21f9d67daf0>"
      ]
     },
     "execution_count": 9,
     "metadata": {
      "tags": []
     },
     "output_type": "execute_result"
    },
    {
     "data": {
      "image/png": "[encoded data removed]",
      "text/plain": [
       "<Figure size 432x288 with 2 Axes>"
      ]
     },
     "metadata": {
      "needs_background": "light",
      "tags": []
     },
     "output_type": "display_data"
    }
   ],
   "source": [
    "import seaborn as sns\n",
    "\n",
    "Var_Corr = tsv.corr()\n",
    "# plot the heatmap and annotation on it\n",
    "sns.heatmap(Var_Corr, xticklabels=Var_Corr.columns, yticklabels=Var_Corr.columns, annot=True,vmax=1,vmin=-1)"
   ]
  }
 ],
 "metadata": {
  "colab": {
   "name": "Exercise Sheet 1_Ravinder_Kempanna_Voleti_Khurshid_Ambast.ipynb",
   "provenance": []
  },
  "kernelspec": {
   "display_name": "Python 3",
   "language": "python",
   "name": "python3"
  },
  "language_info": {
   "codemirror_mode": {
    "name": "ipython",
    "version": 3
   },
   "file_extension": ".py",
   "mimetype": "text/x-python",
   "name": "python",
   "nbconvert_exporter": "python",
   "pygments_lexer": "ipython3",
   "version": "3.8.5"
  }
 },
 "nbformat": 4,
 "nbformat_minor": 1
}
