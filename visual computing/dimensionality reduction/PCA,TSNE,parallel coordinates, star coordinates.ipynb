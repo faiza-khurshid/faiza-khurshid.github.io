{
 "cells": [
  {
   "cell_type": "markdown",
   "metadata": {},
   "source": [
    "# Visual Computing in the Life Sciences\n",
    "Assignment sheet 6"
   ]
  },
  {
   "cell_type": "markdown",
   "metadata": {},
   "source": [
    "## Exercise 1 (Parallel Coordinates Plot in Plotly, 11 Points)"
   ]
  },
  {
   "cell_type": "markdown",
   "metadata": {},
   "source": [
    "### a) Use pandas to read the file Data_Cortex_Nuclear.xls available via eCampus. Extract subgroups t-CS-s and c-CS-s. How many mice were measured for each class? (1P)"
   ]
  },
  {
   "cell_type": "code",
   "execution_count": 1,
   "metadata": {},
   "outputs": [],
   "source": [
    "import pandas as pd\n",
    "\n",
    "path=\"Data_Cortex_Nuclear.xls\"\n",
    "data=pd.read_excel(path)"
   ]
  },
  {
   "cell_type": "code",
   "execution_count": 11,
   "metadata": {},
   "outputs": [],
   "source": [
    "#data.info()"
   ]
  },
  {
   "cell_type": "code",
   "execution_count": 3,
   "metadata": {},
   "outputs": [
    {
     "data": {
      "text/html": [
       "<div>\n",
       "<style scoped>\n",
       "    .dataframe tbody tr th:only-of-type {\n",
       "        vertical-align: middle;\n",
       "    }\n",
       "\n",
       "    .dataframe tbody tr th {\n",
       "        vertical-align: top;\n",
       "    }\n",
       "\n",
       "    .dataframe thead th {\n",
       "        text-align: right;\n",
       "    }\n",
       "</style>\n",
       "<table border=\"1\" class=\"dataframe\">\n",
       "  <thead>\n",
       "    <tr style=\"text-align: right;\">\n",
       "      <th></th>\n",
       "      <th>MouseID</th>\n",
       "      <th>DYRK1A_N</th>\n",
       "      <th>ITSN1_N</th>\n",
       "      <th>BDNF_N</th>\n",
       "      <th>NR1_N</th>\n",
       "      <th>NR2A_N</th>\n",
       "      <th>pAKT_N</th>\n",
       "      <th>pBRAF_N</th>\n",
       "      <th>pCAMKII_N</th>\n",
       "      <th>pCREB_N</th>\n",
       "      <th>...</th>\n",
       "      <th>pCFOS_N</th>\n",
       "      <th>SYP_N</th>\n",
       "      <th>H3AcK18_N</th>\n",
       "      <th>EGR1_N</th>\n",
       "      <th>H3MeK4_N</th>\n",
       "      <th>CaNA_N</th>\n",
       "      <th>Genotype</th>\n",
       "      <th>Treatment</th>\n",
       "      <th>Behavior</th>\n",
       "      <th>class</th>\n",
       "    </tr>\n",
       "  </thead>\n",
       "  <tbody>\n",
       "    <tr>\n",
       "      <th>0</th>\n",
       "      <td>309_1</td>\n",
       "      <td>0.503644</td>\n",
       "      <td>0.747193</td>\n",
       "      <td>0.430175</td>\n",
       "      <td>2.816329</td>\n",
       "      <td>5.990152</td>\n",
       "      <td>0.218830</td>\n",
       "      <td>0.177565</td>\n",
       "      <td>2.373744</td>\n",
       "      <td>0.232224</td>\n",
       "      <td>...</td>\n",
       "      <td>0.108336</td>\n",
       "      <td>0.427099</td>\n",
       "      <td>0.114783</td>\n",
       "      <td>0.131790</td>\n",
       "      <td>0.128186</td>\n",
       "      <td>1.675652</td>\n",
       "      <td>Control</td>\n",
       "      <td>Memantine</td>\n",
       "      <td>C/S</td>\n",
       "      <td>c-CS-m</td>\n",
       "    </tr>\n",
       "    <tr>\n",
       "      <th>1</th>\n",
       "      <td>309_2</td>\n",
       "      <td>0.514617</td>\n",
       "      <td>0.689064</td>\n",
       "      <td>0.411770</td>\n",
       "      <td>2.789514</td>\n",
       "      <td>5.685038</td>\n",
       "      <td>0.211636</td>\n",
       "      <td>0.172817</td>\n",
       "      <td>2.292150</td>\n",
       "      <td>0.226972</td>\n",
       "      <td>...</td>\n",
       "      <td>0.104315</td>\n",
       "      <td>0.441581</td>\n",
       "      <td>0.111974</td>\n",
       "      <td>0.135103</td>\n",
       "      <td>0.131119</td>\n",
       "      <td>1.743610</td>\n",
       "      <td>Control</td>\n",
       "      <td>Memantine</td>\n",
       "      <td>C/S</td>\n",
       "      <td>c-CS-m</td>\n",
       "    </tr>\n",
       "    <tr>\n",
       "      <th>2</th>\n",
       "      <td>309_3</td>\n",
       "      <td>0.509183</td>\n",
       "      <td>0.730247</td>\n",
       "      <td>0.418309</td>\n",
       "      <td>2.687201</td>\n",
       "      <td>5.622059</td>\n",
       "      <td>0.209011</td>\n",
       "      <td>0.175722</td>\n",
       "      <td>2.283337</td>\n",
       "      <td>0.230247</td>\n",
       "      <td>...</td>\n",
       "      <td>0.106219</td>\n",
       "      <td>0.435777</td>\n",
       "      <td>0.111883</td>\n",
       "      <td>0.133362</td>\n",
       "      <td>0.127431</td>\n",
       "      <td>1.926427</td>\n",
       "      <td>Control</td>\n",
       "      <td>Memantine</td>\n",
       "      <td>C/S</td>\n",
       "      <td>c-CS-m</td>\n",
       "    </tr>\n",
       "    <tr>\n",
       "      <th>3</th>\n",
       "      <td>309_4</td>\n",
       "      <td>0.442107</td>\n",
       "      <td>0.617076</td>\n",
       "      <td>0.358626</td>\n",
       "      <td>2.466947</td>\n",
       "      <td>4.979503</td>\n",
       "      <td>0.222886</td>\n",
       "      <td>0.176463</td>\n",
       "      <td>2.152301</td>\n",
       "      <td>0.207004</td>\n",
       "      <td>...</td>\n",
       "      <td>0.111262</td>\n",
       "      <td>0.391691</td>\n",
       "      <td>0.130405</td>\n",
       "      <td>0.147444</td>\n",
       "      <td>0.146901</td>\n",
       "      <td>1.700563</td>\n",
       "      <td>Control</td>\n",
       "      <td>Memantine</td>\n",
       "      <td>C/S</td>\n",
       "      <td>c-CS-m</td>\n",
       "    </tr>\n",
       "    <tr>\n",
       "      <th>4</th>\n",
       "      <td>309_5</td>\n",
       "      <td>0.434940</td>\n",
       "      <td>0.617430</td>\n",
       "      <td>0.358802</td>\n",
       "      <td>2.365785</td>\n",
       "      <td>4.718679</td>\n",
       "      <td>0.213106</td>\n",
       "      <td>0.173627</td>\n",
       "      <td>2.134014</td>\n",
       "      <td>0.192158</td>\n",
       "      <td>...</td>\n",
       "      <td>0.110694</td>\n",
       "      <td>0.434154</td>\n",
       "      <td>0.118481</td>\n",
       "      <td>0.140314</td>\n",
       "      <td>0.148380</td>\n",
       "      <td>1.839730</td>\n",
       "      <td>Control</td>\n",
       "      <td>Memantine</td>\n",
       "      <td>C/S</td>\n",
       "      <td>c-CS-m</td>\n",
       "    </tr>\n",
       "  </tbody>\n",
       "</table>\n",
       "<p>5 rows × 82 columns</p>\n",
       "</div>"
      ],
      "text/plain": [
       "  MouseID  DYRK1A_N   ITSN1_N    BDNF_N     NR1_N    NR2A_N    pAKT_N  \\\n",
       "0   309_1  0.503644  0.747193  0.430175  2.816329  5.990152  0.218830   \n",
       "1   309_2  0.514617  0.689064  0.411770  2.789514  5.685038  0.211636   \n",
       "2   309_3  0.509183  0.730247  0.418309  2.687201  5.622059  0.209011   \n",
       "3   309_4  0.442107  0.617076  0.358626  2.466947  4.979503  0.222886   \n",
       "4   309_5  0.434940  0.617430  0.358802  2.365785  4.718679  0.213106   \n",
       "\n",
       "    pBRAF_N  pCAMKII_N   pCREB_N  ...   pCFOS_N     SYP_N  H3AcK18_N  \\\n",
       "0  0.177565   2.373744  0.232224  ...  0.108336  0.427099   0.114783   \n",
       "1  0.172817   2.292150  0.226972  ...  0.104315  0.441581   0.111974   \n",
       "2  0.175722   2.283337  0.230247  ...  0.106219  0.435777   0.111883   \n",
       "3  0.176463   2.152301  0.207004  ...  0.111262  0.391691   0.130405   \n",
       "4  0.173627   2.134014  0.192158  ...  0.110694  0.434154   0.118481   \n",
       "\n",
       "     EGR1_N  H3MeK4_N    CaNA_N  Genotype  Treatment  Behavior   class  \n",
       "0  0.131790  0.128186  1.675652   Control  Memantine       C/S  c-CS-m  \n",
       "1  0.135103  0.131119  1.743610   Control  Memantine       C/S  c-CS-m  \n",
       "2  0.133362  0.127431  1.926427   Control  Memantine       C/S  c-CS-m  \n",
       "3  0.147444  0.146901  1.700563   Control  Memantine       C/S  c-CS-m  \n",
       "4  0.140314  0.148380  1.839730   Control  Memantine       C/S  c-CS-m  \n",
       "\n",
       "[5 rows x 82 columns]"
      ]
     },
     "execution_count": 3,
     "metadata": {},
     "output_type": "execute_result"
    }
   ],
   "source": [
    "data.head()"
   ]
  },
  {
   "cell_type": "code",
   "execution_count": 4,
   "metadata": {},
   "outputs": [
    {
     "data": {
      "text/html": [
       "<div>\n",
       "<style scoped>\n",
       "    .dataframe tbody tr th:only-of-type {\n",
       "        vertical-align: middle;\n",
       "    }\n",
       "\n",
       "    .dataframe tbody tr th {\n",
       "        vertical-align: top;\n",
       "    }\n",
       "\n",
       "    .dataframe thead th {\n",
       "        text-align: right;\n",
       "    }\n",
       "</style>\n",
       "<table border=\"1\" class=\"dataframe\">\n",
       "  <thead>\n",
       "    <tr style=\"text-align: right;\">\n",
       "      <th></th>\n",
       "      <th>MouseID</th>\n",
       "      <th>DYRK1A_N</th>\n",
       "      <th>ITSN1_N</th>\n",
       "      <th>BDNF_N</th>\n",
       "      <th>NR1_N</th>\n",
       "      <th>NR2A_N</th>\n",
       "      <th>pAKT_N</th>\n",
       "      <th>pBRAF_N</th>\n",
       "      <th>pCAMKII_N</th>\n",
       "      <th>pCREB_N</th>\n",
       "      <th>...</th>\n",
       "      <th>pCFOS_N</th>\n",
       "      <th>SYP_N</th>\n",
       "      <th>H3AcK18_N</th>\n",
       "      <th>EGR1_N</th>\n",
       "      <th>H3MeK4_N</th>\n",
       "      <th>CaNA_N</th>\n",
       "      <th>Genotype</th>\n",
       "      <th>Treatment</th>\n",
       "      <th>Behavior</th>\n",
       "      <th>class</th>\n",
       "    </tr>\n",
       "  </thead>\n",
       "  <tbody>\n",
       "    <tr>\n",
       "      <th>0</th>\n",
       "      <td>309_1</td>\n",
       "      <td>0.503644</td>\n",
       "      <td>0.747193</td>\n",
       "      <td>0.430175</td>\n",
       "      <td>2.816329</td>\n",
       "      <td>5.990152</td>\n",
       "      <td>0.218830</td>\n",
       "      <td>0.177565</td>\n",
       "      <td>2.373744</td>\n",
       "      <td>0.232224</td>\n",
       "      <td>...</td>\n",
       "      <td>0.108336</td>\n",
       "      <td>0.427099</td>\n",
       "      <td>0.114783</td>\n",
       "      <td>0.131790</td>\n",
       "      <td>0.128186</td>\n",
       "      <td>1.675652</td>\n",
       "      <td>Control</td>\n",
       "      <td>Memantine</td>\n",
       "      <td>C/S</td>\n",
       "      <td>c-CS-m</td>\n",
       "    </tr>\n",
       "    <tr>\n",
       "      <th>1</th>\n",
       "      <td>309_2</td>\n",
       "      <td>0.514617</td>\n",
       "      <td>0.689064</td>\n",
       "      <td>0.411770</td>\n",
       "      <td>2.789514</td>\n",
       "      <td>5.685038</td>\n",
       "      <td>0.211636</td>\n",
       "      <td>0.172817</td>\n",
       "      <td>2.292150</td>\n",
       "      <td>0.226972</td>\n",
       "      <td>...</td>\n",
       "      <td>0.104315</td>\n",
       "      <td>0.441581</td>\n",
       "      <td>0.111974</td>\n",
       "      <td>0.135103</td>\n",
       "      <td>0.131119</td>\n",
       "      <td>1.743610</td>\n",
       "      <td>Control</td>\n",
       "      <td>Memantine</td>\n",
       "      <td>C/S</td>\n",
       "      <td>c-CS-m</td>\n",
       "    </tr>\n",
       "    <tr>\n",
       "      <th>2</th>\n",
       "      <td>309_3</td>\n",
       "      <td>0.509183</td>\n",
       "      <td>0.730247</td>\n",
       "      <td>0.418309</td>\n",
       "      <td>2.687201</td>\n",
       "      <td>5.622059</td>\n",
       "      <td>0.209011</td>\n",
       "      <td>0.175722</td>\n",
       "      <td>2.283337</td>\n",
       "      <td>0.230247</td>\n",
       "      <td>...</td>\n",
       "      <td>0.106219</td>\n",
       "      <td>0.435777</td>\n",
       "      <td>0.111883</td>\n",
       "      <td>0.133362</td>\n",
       "      <td>0.127431</td>\n",
       "      <td>1.926427</td>\n",
       "      <td>Control</td>\n",
       "      <td>Memantine</td>\n",
       "      <td>C/S</td>\n",
       "      <td>c-CS-m</td>\n",
       "    </tr>\n",
       "    <tr>\n",
       "      <th>3</th>\n",
       "      <td>309_4</td>\n",
       "      <td>0.442107</td>\n",
       "      <td>0.617076</td>\n",
       "      <td>0.358626</td>\n",
       "      <td>2.466947</td>\n",
       "      <td>4.979503</td>\n",
       "      <td>0.222886</td>\n",
       "      <td>0.176463</td>\n",
       "      <td>2.152301</td>\n",
       "      <td>0.207004</td>\n",
       "      <td>...</td>\n",
       "      <td>0.111262</td>\n",
       "      <td>0.391691</td>\n",
       "      <td>0.130405</td>\n",
       "      <td>0.147444</td>\n",
       "      <td>0.146901</td>\n",
       "      <td>1.700563</td>\n",
       "      <td>Control</td>\n",
       "      <td>Memantine</td>\n",
       "      <td>C/S</td>\n",
       "      <td>c-CS-m</td>\n",
       "    </tr>\n",
       "    <tr>\n",
       "      <th>4</th>\n",
       "      <td>309_5</td>\n",
       "      <td>0.434940</td>\n",
       "      <td>0.617430</td>\n",
       "      <td>0.358802</td>\n",
       "      <td>2.365785</td>\n",
       "      <td>4.718679</td>\n",
       "      <td>0.213106</td>\n",
       "      <td>0.173627</td>\n",
       "      <td>2.134014</td>\n",
       "      <td>0.192158</td>\n",
       "      <td>...</td>\n",
       "      <td>0.110694</td>\n",
       "      <td>0.434154</td>\n",
       "      <td>0.118481</td>\n",
       "      <td>0.140314</td>\n",
       "      <td>0.148380</td>\n",
       "      <td>1.839730</td>\n",
       "      <td>Control</td>\n",
       "      <td>Memantine</td>\n",
       "      <td>C/S</td>\n",
       "      <td>c-CS-m</td>\n",
       "    </tr>\n",
       "    <tr>\n",
       "      <th>...</th>\n",
       "      <td>...</td>\n",
       "      <td>...</td>\n",
       "      <td>...</td>\n",
       "      <td>...</td>\n",
       "      <td>...</td>\n",
       "      <td>...</td>\n",
       "      <td>...</td>\n",
       "      <td>...</td>\n",
       "      <td>...</td>\n",
       "      <td>...</td>\n",
       "      <td>...</td>\n",
       "      <td>...</td>\n",
       "      <td>...</td>\n",
       "      <td>...</td>\n",
       "      <td>...</td>\n",
       "      <td>...</td>\n",
       "      <td>...</td>\n",
       "      <td>...</td>\n",
       "      <td>...</td>\n",
       "      <td>...</td>\n",
       "      <td>...</td>\n",
       "    </tr>\n",
       "    <tr>\n",
       "      <th>1075</th>\n",
       "      <td>J3295_11</td>\n",
       "      <td>0.254860</td>\n",
       "      <td>0.463591</td>\n",
       "      <td>0.254860</td>\n",
       "      <td>2.092082</td>\n",
       "      <td>2.600035</td>\n",
       "      <td>0.211736</td>\n",
       "      <td>0.171262</td>\n",
       "      <td>2.483740</td>\n",
       "      <td>0.207317</td>\n",
       "      <td>...</td>\n",
       "      <td>0.183324</td>\n",
       "      <td>0.374088</td>\n",
       "      <td>0.318782</td>\n",
       "      <td>0.204660</td>\n",
       "      <td>0.328327</td>\n",
       "      <td>1.364823</td>\n",
       "      <td>Ts65Dn</td>\n",
       "      <td>Saline</td>\n",
       "      <td>S/C</td>\n",
       "      <td>t-SC-s</td>\n",
       "    </tr>\n",
       "    <tr>\n",
       "      <th>1076</th>\n",
       "      <td>J3295_12</td>\n",
       "      <td>0.272198</td>\n",
       "      <td>0.474163</td>\n",
       "      <td>0.251638</td>\n",
       "      <td>2.161390</td>\n",
       "      <td>2.801492</td>\n",
       "      <td>0.251274</td>\n",
       "      <td>0.182496</td>\n",
       "      <td>2.512737</td>\n",
       "      <td>0.216339</td>\n",
       "      <td>...</td>\n",
       "      <td>0.175674</td>\n",
       "      <td>0.375259</td>\n",
       "      <td>0.325639</td>\n",
       "      <td>0.200415</td>\n",
       "      <td>0.293435</td>\n",
       "      <td>1.364478</td>\n",
       "      <td>Ts65Dn</td>\n",
       "      <td>Saline</td>\n",
       "      <td>S/C</td>\n",
       "      <td>t-SC-s</td>\n",
       "    </tr>\n",
       "    <tr>\n",
       "      <th>1077</th>\n",
       "      <td>J3295_13</td>\n",
       "      <td>0.228700</td>\n",
       "      <td>0.395179</td>\n",
       "      <td>0.234118</td>\n",
       "      <td>1.733184</td>\n",
       "      <td>2.220852</td>\n",
       "      <td>0.220665</td>\n",
       "      <td>0.161435</td>\n",
       "      <td>1.989723</td>\n",
       "      <td>0.185164</td>\n",
       "      <td>...</td>\n",
       "      <td>0.158296</td>\n",
       "      <td>0.422121</td>\n",
       "      <td>0.321306</td>\n",
       "      <td>0.229193</td>\n",
       "      <td>0.355213</td>\n",
       "      <td>1.430825</td>\n",
       "      <td>Ts65Dn</td>\n",
       "      <td>Saline</td>\n",
       "      <td>S/C</td>\n",
       "      <td>t-SC-s</td>\n",
       "    </tr>\n",
       "    <tr>\n",
       "      <th>1078</th>\n",
       "      <td>J3295_14</td>\n",
       "      <td>0.221242</td>\n",
       "      <td>0.412894</td>\n",
       "      <td>0.243974</td>\n",
       "      <td>1.876347</td>\n",
       "      <td>2.384088</td>\n",
       "      <td>0.208897</td>\n",
       "      <td>0.173623</td>\n",
       "      <td>2.086028</td>\n",
       "      <td>0.192044</td>\n",
       "      <td>...</td>\n",
       "      <td>0.196296</td>\n",
       "      <td>0.397676</td>\n",
       "      <td>0.335936</td>\n",
       "      <td>0.251317</td>\n",
       "      <td>0.365353</td>\n",
       "      <td>1.404031</td>\n",
       "      <td>Ts65Dn</td>\n",
       "      <td>Saline</td>\n",
       "      <td>S/C</td>\n",
       "      <td>t-SC-s</td>\n",
       "    </tr>\n",
       "    <tr>\n",
       "      <th>1079</th>\n",
       "      <td>J3295_15</td>\n",
       "      <td>0.302626</td>\n",
       "      <td>0.461059</td>\n",
       "      <td>0.256564</td>\n",
       "      <td>2.092790</td>\n",
       "      <td>2.594348</td>\n",
       "      <td>0.251001</td>\n",
       "      <td>0.191811</td>\n",
       "      <td>2.361816</td>\n",
       "      <td>0.223632</td>\n",
       "      <td>...</td>\n",
       "      <td>0.187556</td>\n",
       "      <td>0.420347</td>\n",
       "      <td>0.335062</td>\n",
       "      <td>0.252995</td>\n",
       "      <td>0.365278</td>\n",
       "      <td>1.370999</td>\n",
       "      <td>Ts65Dn</td>\n",
       "      <td>Saline</td>\n",
       "      <td>S/C</td>\n",
       "      <td>t-SC-s</td>\n",
       "    </tr>\n",
       "  </tbody>\n",
       "</table>\n",
       "<p>1080 rows × 82 columns</p>\n",
       "</div>"
      ],
      "text/plain": [
       "       MouseID  DYRK1A_N   ITSN1_N    BDNF_N     NR1_N    NR2A_N    pAKT_N  \\\n",
       "0        309_1  0.503644  0.747193  0.430175  2.816329  5.990152  0.218830   \n",
       "1        309_2  0.514617  0.689064  0.411770  2.789514  5.685038  0.211636   \n",
       "2        309_3  0.509183  0.730247  0.418309  2.687201  5.622059  0.209011   \n",
       "3        309_4  0.442107  0.617076  0.358626  2.466947  4.979503  0.222886   \n",
       "4        309_5  0.434940  0.617430  0.358802  2.365785  4.718679  0.213106   \n",
       "...        ...       ...       ...       ...       ...       ...       ...   \n",
       "1075  J3295_11  0.254860  0.463591  0.254860  2.092082  2.600035  0.211736   \n",
       "1076  J3295_12  0.272198  0.474163  0.251638  2.161390  2.801492  0.251274   \n",
       "1077  J3295_13  0.228700  0.395179  0.234118  1.733184  2.220852  0.220665   \n",
       "1078  J3295_14  0.221242  0.412894  0.243974  1.876347  2.384088  0.208897   \n",
       "1079  J3295_15  0.302626  0.461059  0.256564  2.092790  2.594348  0.251001   \n",
       "\n",
       "       pBRAF_N  pCAMKII_N   pCREB_N  ...   pCFOS_N     SYP_N  H3AcK18_N  \\\n",
       "0     0.177565   2.373744  0.232224  ...  0.108336  0.427099   0.114783   \n",
       "1     0.172817   2.292150  0.226972  ...  0.104315  0.441581   0.111974   \n",
       "2     0.175722   2.283337  0.230247  ...  0.106219  0.435777   0.111883   \n",
       "3     0.176463   2.152301  0.207004  ...  0.111262  0.391691   0.130405   \n",
       "4     0.173627   2.134014  0.192158  ...  0.110694  0.434154   0.118481   \n",
       "...        ...        ...       ...  ...       ...       ...        ...   \n",
       "1075  0.171262   2.483740  0.207317  ...  0.183324  0.374088   0.318782   \n",
       "1076  0.182496   2.512737  0.216339  ...  0.175674  0.375259   0.325639   \n",
       "1077  0.161435   1.989723  0.185164  ...  0.158296  0.422121   0.321306   \n",
       "1078  0.173623   2.086028  0.192044  ...  0.196296  0.397676   0.335936   \n",
       "1079  0.191811   2.361816  0.223632  ...  0.187556  0.420347   0.335062   \n",
       "\n",
       "        EGR1_N  H3MeK4_N    CaNA_N  Genotype  Treatment  Behavior   class  \n",
       "0     0.131790  0.128186  1.675652   Control  Memantine       C/S  c-CS-m  \n",
       "1     0.135103  0.131119  1.743610   Control  Memantine       C/S  c-CS-m  \n",
       "2     0.133362  0.127431  1.926427   Control  Memantine       C/S  c-CS-m  \n",
       "3     0.147444  0.146901  1.700563   Control  Memantine       C/S  c-CS-m  \n",
       "4     0.140314  0.148380  1.839730   Control  Memantine       C/S  c-CS-m  \n",
       "...        ...       ...       ...       ...        ...       ...     ...  \n",
       "1075  0.204660  0.328327  1.364823    Ts65Dn     Saline       S/C  t-SC-s  \n",
       "1076  0.200415  0.293435  1.364478    Ts65Dn     Saline       S/C  t-SC-s  \n",
       "1077  0.229193  0.355213  1.430825    Ts65Dn     Saline       S/C  t-SC-s  \n",
       "1078  0.251317  0.365353  1.404031    Ts65Dn     Saline       S/C  t-SC-s  \n",
       "1079  0.252995  0.365278  1.370999    Ts65Dn     Saline       S/C  t-SC-s  \n",
       "\n",
       "[1080 rows x 82 columns]"
      ]
     },
     "execution_count": 4,
     "metadata": {},
     "output_type": "execute_result"
    }
   ],
   "source": [
    "df=pd.DataFrame(data)\n",
    "df"
   ]
  },
  {
   "cell_type": "code",
   "execution_count": 5,
   "metadata": {},
   "outputs": [
    {
     "data": {
      "text/html": [
       "<div>\n",
       "<style scoped>\n",
       "    .dataframe tbody tr th:only-of-type {\n",
       "        vertical-align: middle;\n",
       "    }\n",
       "\n",
       "    .dataframe tbody tr th {\n",
       "        vertical-align: top;\n",
       "    }\n",
       "\n",
       "    .dataframe thead th {\n",
       "        text-align: right;\n",
       "    }\n",
       "</style>\n",
       "<table border=\"1\" class=\"dataframe\">\n",
       "  <thead>\n",
       "    <tr style=\"text-align: right;\">\n",
       "      <th></th>\n",
       "      <th>MouseID</th>\n",
       "      <th>DYRK1A_N</th>\n",
       "      <th>ITSN1_N</th>\n",
       "      <th>BDNF_N</th>\n",
       "      <th>NR1_N</th>\n",
       "      <th>NR2A_N</th>\n",
       "      <th>pAKT_N</th>\n",
       "      <th>pBRAF_N</th>\n",
       "      <th>pCAMKII_N</th>\n",
       "      <th>pCREB_N</th>\n",
       "      <th>...</th>\n",
       "      <th>pCFOS_N</th>\n",
       "      <th>SYP_N</th>\n",
       "      <th>H3AcK18_N</th>\n",
       "      <th>EGR1_N</th>\n",
       "      <th>H3MeK4_N</th>\n",
       "      <th>CaNA_N</th>\n",
       "      <th>Genotype</th>\n",
       "      <th>Treatment</th>\n",
       "      <th>Behavior</th>\n",
       "      <th>class</th>\n",
       "    </tr>\n",
       "  </thead>\n",
       "  <tbody>\n",
       "    <tr>\n",
       "      <th>300</th>\n",
       "      <td>3477_1</td>\n",
       "      <td>0.591618</td>\n",
       "      <td>0.814980</td>\n",
       "      <td>0.414980</td>\n",
       "      <td>2.706108</td>\n",
       "      <td>5.256264</td>\n",
       "      <td>0.260990</td>\n",
       "      <td>0.187249</td>\n",
       "      <td>4.163798</td>\n",
       "      <td>0.265894</td>\n",
       "      <td>...</td>\n",
       "      <td>0.096318</td>\n",
       "      <td>0.400048</td>\n",
       "      <td>0.154416</td>\n",
       "      <td>0.135307</td>\n",
       "      <td>NaN</td>\n",
       "      <td>1.399615</td>\n",
       "      <td>Control</td>\n",
       "      <td>Saline</td>\n",
       "      <td>C/S</td>\n",
       "      <td>c-CS-s</td>\n",
       "    </tr>\n",
       "    <tr>\n",
       "      <th>301</th>\n",
       "      <td>3477_2</td>\n",
       "      <td>0.589807</td>\n",
       "      <td>0.840445</td>\n",
       "      <td>0.424325</td>\n",
       "      <td>2.803702</td>\n",
       "      <td>5.534373</td>\n",
       "      <td>0.269420</td>\n",
       "      <td>0.192834</td>\n",
       "      <td>4.284555</td>\n",
       "      <td>0.275985</td>\n",
       "      <td>...</td>\n",
       "      <td>0.112301</td>\n",
       "      <td>0.398866</td>\n",
       "      <td>0.163800</td>\n",
       "      <td>0.139480</td>\n",
       "      <td>NaN</td>\n",
       "      <td>1.410978</td>\n",
       "      <td>Control</td>\n",
       "      <td>Saline</td>\n",
       "      <td>C/S</td>\n",
       "      <td>c-CS-s</td>\n",
       "    </tr>\n",
       "    <tr>\n",
       "      <th>302</th>\n",
       "      <td>3477_3</td>\n",
       "      <td>0.598902</td>\n",
       "      <td>0.886041</td>\n",
       "      <td>0.444760</td>\n",
       "      <td>2.918261</td>\n",
       "      <td>5.717712</td>\n",
       "      <td>0.290435</td>\n",
       "      <td>0.197162</td>\n",
       "      <td>4.497666</td>\n",
       "      <td>0.282288</td>\n",
       "      <td>...</td>\n",
       "      <td>0.109363</td>\n",
       "      <td>0.378731</td>\n",
       "      <td>0.154110</td>\n",
       "      <td>0.143156</td>\n",
       "      <td>NaN</td>\n",
       "      <td>1.332266</td>\n",
       "      <td>Control</td>\n",
       "      <td>Saline</td>\n",
       "      <td>C/S</td>\n",
       "      <td>c-CS-s</td>\n",
       "    </tr>\n",
       "    <tr>\n",
       "      <th>303</th>\n",
       "      <td>3477_4</td>\n",
       "      <td>0.544844</td>\n",
       "      <td>0.726999</td>\n",
       "      <td>0.390846</td>\n",
       "      <td>2.521089</td>\n",
       "      <td>4.967323</td>\n",
       "      <td>0.275550</td>\n",
       "      <td>0.190962</td>\n",
       "      <td>4.576825</td>\n",
       "      <td>0.240209</td>\n",
       "      <td>...</td>\n",
       "      <td>0.099507</td>\n",
       "      <td>0.385510</td>\n",
       "      <td>0.177962</td>\n",
       "      <td>0.141927</td>\n",
       "      <td>NaN</td>\n",
       "      <td>1.394424</td>\n",
       "      <td>Control</td>\n",
       "      <td>Saline</td>\n",
       "      <td>C/S</td>\n",
       "      <td>c-CS-s</td>\n",
       "    </tr>\n",
       "    <tr>\n",
       "      <th>304</th>\n",
       "      <td>3477_5</td>\n",
       "      <td>0.512785</td>\n",
       "      <td>0.730650</td>\n",
       "      <td>0.389176</td>\n",
       "      <td>2.514047</td>\n",
       "      <td>5.070519</td>\n",
       "      <td>0.271872</td>\n",
       "      <td>0.188625</td>\n",
       "      <td>4.548217</td>\n",
       "      <td>0.238390</td>\n",
       "      <td>...</td>\n",
       "      <td>0.114604</td>\n",
       "      <td>0.385776</td>\n",
       "      <td>0.184140</td>\n",
       "      <td>0.154982</td>\n",
       "      <td>NaN</td>\n",
       "      <td>1.366823</td>\n",
       "      <td>Control</td>\n",
       "      <td>Saline</td>\n",
       "      <td>C/S</td>\n",
       "      <td>c-CS-s</td>\n",
       "    </tr>\n",
       "    <tr>\n",
       "      <th>...</th>\n",
       "      <td>...</td>\n",
       "      <td>...</td>\n",
       "      <td>...</td>\n",
       "      <td>...</td>\n",
       "      <td>...</td>\n",
       "      <td>...</td>\n",
       "      <td>...</td>\n",
       "      <td>...</td>\n",
       "      <td>...</td>\n",
       "      <td>...</td>\n",
       "      <td>...</td>\n",
       "      <td>...</td>\n",
       "      <td>...</td>\n",
       "      <td>...</td>\n",
       "      <td>...</td>\n",
       "      <td>...</td>\n",
       "      <td>...</td>\n",
       "      <td>...</td>\n",
       "      <td>...</td>\n",
       "      <td>...</td>\n",
       "      <td>...</td>\n",
       "    </tr>\n",
       "    <tr>\n",
       "      <th>940</th>\n",
       "      <td>50810E_11</td>\n",
       "      <td>0.419345</td>\n",
       "      <td>0.643689</td>\n",
       "      <td>0.290638</td>\n",
       "      <td>2.266884</td>\n",
       "      <td>3.724422</td>\n",
       "      <td>0.196864</td>\n",
       "      <td>0.139730</td>\n",
       "      <td>2.657817</td>\n",
       "      <td>0.206800</td>\n",
       "      <td>...</td>\n",
       "      <td>0.152683</td>\n",
       "      <td>0.412683</td>\n",
       "      <td>0.178415</td>\n",
       "      <td>0.174146</td>\n",
       "      <td>0.224878</td>\n",
       "      <td>1.625244</td>\n",
       "      <td>Ts65Dn</td>\n",
       "      <td>Saline</td>\n",
       "      <td>C/S</td>\n",
       "      <td>t-CS-s</td>\n",
       "    </tr>\n",
       "    <tr>\n",
       "      <th>941</th>\n",
       "      <td>50810E_12</td>\n",
       "      <td>0.439347</td>\n",
       "      <td>0.658009</td>\n",
       "      <td>0.296423</td>\n",
       "      <td>2.231571</td>\n",
       "      <td>3.676516</td>\n",
       "      <td>0.205599</td>\n",
       "      <td>0.141680</td>\n",
       "      <td>2.708087</td>\n",
       "      <td>0.206376</td>\n",
       "      <td>...</td>\n",
       "      <td>0.157266</td>\n",
       "      <td>0.432389</td>\n",
       "      <td>0.180172</td>\n",
       "      <td>0.170320</td>\n",
       "      <td>0.197537</td>\n",
       "      <td>1.618473</td>\n",
       "      <td>Ts65Dn</td>\n",
       "      <td>Saline</td>\n",
       "      <td>C/S</td>\n",
       "      <td>t-CS-s</td>\n",
       "    </tr>\n",
       "    <tr>\n",
       "      <th>942</th>\n",
       "      <td>50810E_13</td>\n",
       "      <td>0.435826</td>\n",
       "      <td>0.674054</td>\n",
       "      <td>0.278855</td>\n",
       "      <td>2.071468</td>\n",
       "      <td>3.322622</td>\n",
       "      <td>0.208864</td>\n",
       "      <td>0.187073</td>\n",
       "      <td>2.213850</td>\n",
       "      <td>0.216990</td>\n",
       "      <td>...</td>\n",
       "      <td>0.157608</td>\n",
       "      <td>0.419985</td>\n",
       "      <td>0.188796</td>\n",
       "      <td>0.190613</td>\n",
       "      <td>0.261771</td>\n",
       "      <td>1.611658</td>\n",
       "      <td>Ts65Dn</td>\n",
       "      <td>Saline</td>\n",
       "      <td>C/S</td>\n",
       "      <td>t-CS-s</td>\n",
       "    </tr>\n",
       "    <tr>\n",
       "      <th>943</th>\n",
       "      <td>50810E_14</td>\n",
       "      <td>0.424569</td>\n",
       "      <td>0.659863</td>\n",
       "      <td>0.276118</td>\n",
       "      <td>2.081833</td>\n",
       "      <td>3.193542</td>\n",
       "      <td>0.229356</td>\n",
       "      <td>0.164595</td>\n",
       "      <td>2.291705</td>\n",
       "      <td>0.209130</td>\n",
       "      <td>...</td>\n",
       "      <td>0.156085</td>\n",
       "      <td>0.448746</td>\n",
       "      <td>0.207959</td>\n",
       "      <td>0.214308</td>\n",
       "      <td>0.281511</td>\n",
       "      <td>1.688139</td>\n",
       "      <td>Ts65Dn</td>\n",
       "      <td>Saline</td>\n",
       "      <td>C/S</td>\n",
       "      <td>t-CS-s</td>\n",
       "    </tr>\n",
       "    <tr>\n",
       "      <th>944</th>\n",
       "      <td>50810E_15</td>\n",
       "      <td>0.478822</td>\n",
       "      <td>0.666287</td>\n",
       "      <td>0.290978</td>\n",
       "      <td>2.147198</td>\n",
       "      <td>3.268946</td>\n",
       "      <td>0.224122</td>\n",
       "      <td>0.166192</td>\n",
       "      <td>2.332004</td>\n",
       "      <td>0.209117</td>\n",
       "      <td>...</td>\n",
       "      <td>0.155734</td>\n",
       "      <td>0.452230</td>\n",
       "      <td>0.198487</td>\n",
       "      <td>0.208365</td>\n",
       "      <td>0.262849</td>\n",
       "      <td>1.614755</td>\n",
       "      <td>Ts65Dn</td>\n",
       "      <td>Saline</td>\n",
       "      <td>C/S</td>\n",
       "      <td>t-CS-s</td>\n",
       "    </tr>\n",
       "  </tbody>\n",
       "</table>\n",
       "<p>240 rows × 82 columns</p>\n",
       "</div>"
      ],
      "text/plain": [
       "       MouseID  DYRK1A_N   ITSN1_N    BDNF_N     NR1_N    NR2A_N    pAKT_N  \\\n",
       "300     3477_1  0.591618  0.814980  0.414980  2.706108  5.256264  0.260990   \n",
       "301     3477_2  0.589807  0.840445  0.424325  2.803702  5.534373  0.269420   \n",
       "302     3477_3  0.598902  0.886041  0.444760  2.918261  5.717712  0.290435   \n",
       "303     3477_4  0.544844  0.726999  0.390846  2.521089  4.967323  0.275550   \n",
       "304     3477_5  0.512785  0.730650  0.389176  2.514047  5.070519  0.271872   \n",
       "..         ...       ...       ...       ...       ...       ...       ...   \n",
       "940  50810E_11  0.419345  0.643689  0.290638  2.266884  3.724422  0.196864   \n",
       "941  50810E_12  0.439347  0.658009  0.296423  2.231571  3.676516  0.205599   \n",
       "942  50810E_13  0.435826  0.674054  0.278855  2.071468  3.322622  0.208864   \n",
       "943  50810E_14  0.424569  0.659863  0.276118  2.081833  3.193542  0.229356   \n",
       "944  50810E_15  0.478822  0.666287  0.290978  2.147198  3.268946  0.224122   \n",
       "\n",
       "      pBRAF_N  pCAMKII_N   pCREB_N  ...   pCFOS_N     SYP_N  H3AcK18_N  \\\n",
       "300  0.187249   4.163798  0.265894  ...  0.096318  0.400048   0.154416   \n",
       "301  0.192834   4.284555  0.275985  ...  0.112301  0.398866   0.163800   \n",
       "302  0.197162   4.497666  0.282288  ...  0.109363  0.378731   0.154110   \n",
       "303  0.190962   4.576825  0.240209  ...  0.099507  0.385510   0.177962   \n",
       "304  0.188625   4.548217  0.238390  ...  0.114604  0.385776   0.184140   \n",
       "..        ...        ...       ...  ...       ...       ...        ...   \n",
       "940  0.139730   2.657817  0.206800  ...  0.152683  0.412683   0.178415   \n",
       "941  0.141680   2.708087  0.206376  ...  0.157266  0.432389   0.180172   \n",
       "942  0.187073   2.213850  0.216990  ...  0.157608  0.419985   0.188796   \n",
       "943  0.164595   2.291705  0.209130  ...  0.156085  0.448746   0.207959   \n",
       "944  0.166192   2.332004  0.209117  ...  0.155734  0.452230   0.198487   \n",
       "\n",
       "       EGR1_N  H3MeK4_N    CaNA_N  Genotype  Treatment  Behavior   class  \n",
       "300  0.135307       NaN  1.399615   Control     Saline       C/S  c-CS-s  \n",
       "301  0.139480       NaN  1.410978   Control     Saline       C/S  c-CS-s  \n",
       "302  0.143156       NaN  1.332266   Control     Saline       C/S  c-CS-s  \n",
       "303  0.141927       NaN  1.394424   Control     Saline       C/S  c-CS-s  \n",
       "304  0.154982       NaN  1.366823   Control     Saline       C/S  c-CS-s  \n",
       "..        ...       ...       ...       ...        ...       ...     ...  \n",
       "940  0.174146  0.224878  1.625244    Ts65Dn     Saline       C/S  t-CS-s  \n",
       "941  0.170320  0.197537  1.618473    Ts65Dn     Saline       C/S  t-CS-s  \n",
       "942  0.190613  0.261771  1.611658    Ts65Dn     Saline       C/S  t-CS-s  \n",
       "943  0.214308  0.281511  1.688139    Ts65Dn     Saline       C/S  t-CS-s  \n",
       "944  0.208365  0.262849  1.614755    Ts65Dn     Saline       C/S  t-CS-s  \n",
       "\n",
       "[240 rows x 82 columns]"
      ]
     },
     "execution_count": 5,
     "metadata": {},
     "output_type": "execute_result"
    }
   ],
   "source": [
    "df=data.loc[(df['class']=='c-CS-s') | (df['class']=='t-CS-s')]\n",
    "df"
   ]
  },
  {
   "cell_type": "code",
   "execution_count": 6,
   "metadata": {},
   "outputs": [
    {
     "data": {
      "text/plain": [
       "c-CS-s    135\n",
       "t-CS-s    105\n",
       "Name: class, dtype: int64"
      ]
     },
     "execution_count": 6,
     "metadata": {},
     "output_type": "execute_result"
    }
   ],
   "source": [
    "df['class'].value_counts()"
   ]
  },
  {
   "cell_type": "markdown",
   "metadata": {},
   "source": [
    "Class c-CS-s has 135 mice and class t-CS-s has 105."
   ]
  },
  {
   "cell_type": "markdown",
   "metadata": {},
   "source": [
    "### b) Create a parallel coordinates plot with plotly from the following 5 proteins: (pPKCG N, pP70S6 N, pS6 N, pGSK3B N, ARC N). Assign different colors to the two selected classes. Annotate every axis with the correct protein name. (9P)"
   ]
  },
  {
   "cell_type": "code",
   "execution_count": 7,
   "metadata": {},
   "outputs": [],
   "source": [
    "import plotly.express as px"
   ]
  },
  {
   "cell_type": "code",
   "execution_count": 8,
   "metadata": {},
   "outputs": [
    {
     "data": {
      "text/html": [
       "<div>\n",
       "<style scoped>\n",
       "    .dataframe tbody tr th:only-of-type {\n",
       "        vertical-align: middle;\n",
       "    }\n",
       "\n",
       "    .dataframe tbody tr th {\n",
       "        vertical-align: top;\n",
       "    }\n",
       "\n",
       "    .dataframe thead th {\n",
       "        text-align: right;\n",
       "    }\n",
       "</style>\n",
       "<table border=\"1\" class=\"dataframe\">\n",
       "  <thead>\n",
       "    <tr style=\"text-align: right;\">\n",
       "      <th></th>\n",
       "      <th>index</th>\n",
       "      <th>pPKCG_N</th>\n",
       "      <th>pP70S6_N</th>\n",
       "      <th>pS6_N</th>\n",
       "      <th>pGSK3B_N</th>\n",
       "      <th>ARC_N</th>\n",
       "      <th>class</th>\n",
       "    </tr>\n",
       "  </thead>\n",
       "  <tbody>\n",
       "    <tr>\n",
       "      <th>0</th>\n",
       "      <td>300</td>\n",
       "      <td>1.661613</td>\n",
       "      <td>0.331342</td>\n",
       "      <td>0.121155</td>\n",
       "      <td>0.169434</td>\n",
       "      <td>0.121155</td>\n",
       "      <td>c-CS-s</td>\n",
       "    </tr>\n",
       "    <tr>\n",
       "      <th>1</th>\n",
       "      <td>301</td>\n",
       "      <td>1.678407</td>\n",
       "      <td>0.361780</td>\n",
       "      <td>0.125333</td>\n",
       "      <td>0.169711</td>\n",
       "      <td>0.125333</td>\n",
       "      <td>c-CS-s</td>\n",
       "    </tr>\n",
       "    <tr>\n",
       "      <th>2</th>\n",
       "      <td>302</td>\n",
       "      <td>1.578564</td>\n",
       "      <td>0.388650</td>\n",
       "      <td>0.118600</td>\n",
       "      <td>0.178248</td>\n",
       "      <td>0.118600</td>\n",
       "      <td>c-CS-s</td>\n",
       "    </tr>\n",
       "    <tr>\n",
       "      <th>3</th>\n",
       "      <td>303</td>\n",
       "      <td>1.950057</td>\n",
       "      <td>0.445886</td>\n",
       "      <td>0.117714</td>\n",
       "      <td>0.161904</td>\n",
       "      <td>0.117714</td>\n",
       "      <td>c-CS-s</td>\n",
       "    </tr>\n",
       "    <tr>\n",
       "      <th>4</th>\n",
       "      <td>304</td>\n",
       "      <td>2.005071</td>\n",
       "      <td>0.447196</td>\n",
       "      <td>0.124239</td>\n",
       "      <td>0.163666</td>\n",
       "      <td>0.124239</td>\n",
       "      <td>c-CS-s</td>\n",
       "    </tr>\n",
       "    <tr>\n",
       "      <th>...</th>\n",
       "      <td>...</td>\n",
       "      <td>...</td>\n",
       "      <td>...</td>\n",
       "      <td>...</td>\n",
       "      <td>...</td>\n",
       "      <td>...</td>\n",
       "      <td>...</td>\n",
       "    </tr>\n",
       "    <tr>\n",
       "      <th>235</th>\n",
       "      <td>940</td>\n",
       "      <td>2.106951</td>\n",
       "      <td>0.344512</td>\n",
       "      <td>0.096220</td>\n",
       "      <td>0.163293</td>\n",
       "      <td>0.096220</td>\n",
       "      <td>t-CS-s</td>\n",
       "    </tr>\n",
       "    <tr>\n",
       "      <th>236</th>\n",
       "      <td>941</td>\n",
       "      <td>2.083990</td>\n",
       "      <td>0.342146</td>\n",
       "      <td>0.100739</td>\n",
       "      <td>0.158251</td>\n",
       "      <td>0.100739</td>\n",
       "      <td>t-CS-s</td>\n",
       "    </tr>\n",
       "    <tr>\n",
       "      <th>237</th>\n",
       "      <td>942</td>\n",
       "      <td>2.045874</td>\n",
       "      <td>0.295476</td>\n",
       "      <td>0.098713</td>\n",
       "      <td>0.165026</td>\n",
       "      <td>0.098713</td>\n",
       "      <td>t-CS-s</td>\n",
       "    </tr>\n",
       "    <tr>\n",
       "      <th>238</th>\n",
       "      <td>943</td>\n",
       "      <td>2.128058</td>\n",
       "      <td>0.312860</td>\n",
       "      <td>0.102199</td>\n",
       "      <td>0.166305</td>\n",
       "      <td>0.102199</td>\n",
       "      <td>t-CS-s</td>\n",
       "    </tr>\n",
       "    <tr>\n",
       "      <th>239</th>\n",
       "      <td>944</td>\n",
       "      <td>2.160519</td>\n",
       "      <td>0.327255</td>\n",
       "      <td>0.106035</td>\n",
       "      <td>0.176725</td>\n",
       "      <td>0.106035</td>\n",
       "      <td>t-CS-s</td>\n",
       "    </tr>\n",
       "  </tbody>\n",
       "</table>\n",
       "<p>240 rows × 7 columns</p>\n",
       "</div>"
      ],
      "text/plain": [
       "     index   pPKCG_N  pP70S6_N     pS6_N  pGSK3B_N     ARC_N   class\n",
       "0      300  1.661613  0.331342  0.121155  0.169434  0.121155  c-CS-s\n",
       "1      301  1.678407  0.361780  0.125333  0.169711  0.125333  c-CS-s\n",
       "2      302  1.578564  0.388650  0.118600  0.178248  0.118600  c-CS-s\n",
       "3      303  1.950057  0.445886  0.117714  0.161904  0.117714  c-CS-s\n",
       "4      304  2.005071  0.447196  0.124239  0.163666  0.124239  c-CS-s\n",
       "..     ...       ...       ...       ...       ...       ...     ...\n",
       "235    940  2.106951  0.344512  0.096220  0.163293  0.096220  t-CS-s\n",
       "236    941  2.083990  0.342146  0.100739  0.158251  0.100739  t-CS-s\n",
       "237    942  2.045874  0.295476  0.098713  0.165026  0.098713  t-CS-s\n",
       "238    943  2.128058  0.312860  0.102199  0.166305  0.102199  t-CS-s\n",
       "239    944  2.160519  0.327255  0.106035  0.176725  0.106035  t-CS-s\n",
       "\n",
       "[240 rows x 7 columns]"
      ]
     },
     "execution_count": 8,
     "metadata": {},
     "output_type": "execute_result"
    }
   ],
   "source": [
    "new_df=df[['pPKCG_N', 'pP70S6_N','pS6_N', 'pGSK3B_N','ARC_N','class']]\n",
    "new_df.reset_index()"
   ]
  },
  {
   "cell_type": "code",
   "execution_count": 9,
   "metadata": {},
   "outputs": [
    {
     "name": "stderr",
     "output_type": "stream",
     "text": [
      "<ipython-input-9-2ac91cef82f9>:2: SettingWithCopyWarning: \n",
      "A value is trying to be set on a copy of a slice from a DataFrame.\n",
      "Try using .loc[row_indexer,col_indexer] = value instead\n",
      "\n",
      "See the caveats in the documentation: https://pandas.pydata.org/pandas-docs/stable/user_guide/indexing.html#returning-a-view-versus-a-copy\n",
      "  new_df['class']=new_df['class'].map(f)\n"
     ]
    },
    {
     "data": {
      "text/html": [
       "<div>\n",
       "<style scoped>\n",
       "    .dataframe tbody tr th:only-of-type {\n",
       "        vertical-align: middle;\n",
       "    }\n",
       "\n",
       "    .dataframe tbody tr th {\n",
       "        vertical-align: top;\n",
       "    }\n",
       "\n",
       "    .dataframe thead th {\n",
       "        text-align: right;\n",
       "    }\n",
       "</style>\n",
       "<table border=\"1\" class=\"dataframe\">\n",
       "  <thead>\n",
       "    <tr style=\"text-align: right;\">\n",
       "      <th></th>\n",
       "      <th>pPKCG_N</th>\n",
       "      <th>pP70S6_N</th>\n",
       "      <th>pS6_N</th>\n",
       "      <th>pGSK3B_N</th>\n",
       "      <th>ARC_N</th>\n",
       "      <th>class</th>\n",
       "    </tr>\n",
       "  </thead>\n",
       "  <tbody>\n",
       "    <tr>\n",
       "      <th>300</th>\n",
       "      <td>1.661613</td>\n",
       "      <td>0.331342</td>\n",
       "      <td>0.121155</td>\n",
       "      <td>0.169434</td>\n",
       "      <td>0.121155</td>\n",
       "      <td>1</td>\n",
       "    </tr>\n",
       "    <tr>\n",
       "      <th>301</th>\n",
       "      <td>1.678407</td>\n",
       "      <td>0.361780</td>\n",
       "      <td>0.125333</td>\n",
       "      <td>0.169711</td>\n",
       "      <td>0.125333</td>\n",
       "      <td>1</td>\n",
       "    </tr>\n",
       "    <tr>\n",
       "      <th>302</th>\n",
       "      <td>1.578564</td>\n",
       "      <td>0.388650</td>\n",
       "      <td>0.118600</td>\n",
       "      <td>0.178248</td>\n",
       "      <td>0.118600</td>\n",
       "      <td>1</td>\n",
       "    </tr>\n",
       "    <tr>\n",
       "      <th>303</th>\n",
       "      <td>1.950057</td>\n",
       "      <td>0.445886</td>\n",
       "      <td>0.117714</td>\n",
       "      <td>0.161904</td>\n",
       "      <td>0.117714</td>\n",
       "      <td>1</td>\n",
       "    </tr>\n",
       "    <tr>\n",
       "      <th>304</th>\n",
       "      <td>2.005071</td>\n",
       "      <td>0.447196</td>\n",
       "      <td>0.124239</td>\n",
       "      <td>0.163666</td>\n",
       "      <td>0.124239</td>\n",
       "      <td>1</td>\n",
       "    </tr>\n",
       "    <tr>\n",
       "      <th>...</th>\n",
       "      <td>...</td>\n",
       "      <td>...</td>\n",
       "      <td>...</td>\n",
       "      <td>...</td>\n",
       "      <td>...</td>\n",
       "      <td>...</td>\n",
       "    </tr>\n",
       "    <tr>\n",
       "      <th>940</th>\n",
       "      <td>2.106951</td>\n",
       "      <td>0.344512</td>\n",
       "      <td>0.096220</td>\n",
       "      <td>0.163293</td>\n",
       "      <td>0.096220</td>\n",
       "      <td>0</td>\n",
       "    </tr>\n",
       "    <tr>\n",
       "      <th>941</th>\n",
       "      <td>2.083990</td>\n",
       "      <td>0.342146</td>\n",
       "      <td>0.100739</td>\n",
       "      <td>0.158251</td>\n",
       "      <td>0.100739</td>\n",
       "      <td>0</td>\n",
       "    </tr>\n",
       "    <tr>\n",
       "      <th>942</th>\n",
       "      <td>2.045874</td>\n",
       "      <td>0.295476</td>\n",
       "      <td>0.098713</td>\n",
       "      <td>0.165026</td>\n",
       "      <td>0.098713</td>\n",
       "      <td>0</td>\n",
       "    </tr>\n",
       "    <tr>\n",
       "      <th>943</th>\n",
       "      <td>2.128058</td>\n",
       "      <td>0.312860</td>\n",
       "      <td>0.102199</td>\n",
       "      <td>0.166305</td>\n",
       "      <td>0.102199</td>\n",
       "      <td>0</td>\n",
       "    </tr>\n",
       "    <tr>\n",
       "      <th>944</th>\n",
       "      <td>2.160519</td>\n",
       "      <td>0.327255</td>\n",
       "      <td>0.106035</td>\n",
       "      <td>0.176725</td>\n",
       "      <td>0.106035</td>\n",
       "      <td>0</td>\n",
       "    </tr>\n",
       "  </tbody>\n",
       "</table>\n",
       "<p>240 rows × 6 columns</p>\n",
       "</div>"
      ],
      "text/plain": [
       "      pPKCG_N  pP70S6_N     pS6_N  pGSK3B_N     ARC_N  class\n",
       "300  1.661613  0.331342  0.121155  0.169434  0.121155      1\n",
       "301  1.678407  0.361780  0.125333  0.169711  0.125333      1\n",
       "302  1.578564  0.388650  0.118600  0.178248  0.118600      1\n",
       "303  1.950057  0.445886  0.117714  0.161904  0.117714      1\n",
       "304  2.005071  0.447196  0.124239  0.163666  0.124239      1\n",
       "..        ...       ...       ...       ...       ...    ...\n",
       "940  2.106951  0.344512  0.096220  0.163293  0.096220      0\n",
       "941  2.083990  0.342146  0.100739  0.158251  0.100739      0\n",
       "942  2.045874  0.295476  0.098713  0.165026  0.098713      0\n",
       "943  2.128058  0.312860  0.102199  0.166305  0.102199      0\n",
       "944  2.160519  0.327255  0.106035  0.176725  0.106035      0\n",
       "\n",
       "[240 rows x 6 columns]"
      ]
     },
     "execution_count": 9,
     "metadata": {},
     "output_type": "execute_result"
    }
   ],
   "source": [
    "f= lambda x: 1 if x=='c-CS-s' else 0  # setting class c-CS-s to 1 and t-CS-s to 0\n",
    "new_df['class']=new_df['class'].map(f)\n",
    "new_df"
   ]
  },
  {
   "cell_type": "code",
   "execution_count": 12,
   "metadata": {
    "scrolled": false
   },
   "outputs": [
    {
     "data": {
      "application/vnd.plotly.v1+json": {
       "config": {
        "plotlyServerURL": "https://plot.ly"
       },
       "data": [
        {
         "dimensions": [
          {
           "label": "pPKCG_N",
           "values": [
            1.661612515,
            1.678407054,
            1.578563803,
            1.950056897,
            2.005070994,
            1.989199029,
            2.169068204,
            2.127911938,
            2.151489859,
            2.462309779,
            2.451052997,
            2.444780466,
            2.619760036,
            2.684853776,
            2.668791614,
            1.657269545,
            1.679637656,
            1.661973781,
            1.974494123,
            1.980847819,
            1.897875058,
            2.211763787,
            2.062910368,
            2.09241288,
            2.086628078,
            2.124963014,
            2.10187747,
            2.190117848,
            2.111944523,
            2.100185264,
            2.07845453,
            1.956188022,
            2.001351884,
            2.209325704,
            2.166768432,
            2.145220588,
            2.540962158,
            2.446942801,
            2.467143141,
            2.645190445,
            2.606393733,
            2.547950357,
            2.730900243,
            2.745233399,
            2.689800551,
            1.412654052,
            1.315922875,
            1.265494792,
            1.64974133,
            1.624062945,
            1.58618798,
            1.895635981,
            1.854991634,
            1.808996593,
            1.895954921,
            1.922438234,
            1.887024273,
            1.962158809,
            1.905619335,
            1.829854369,
            1.335637651,
            1.246216275,
            1.243907818,
            1.458986175,
            1.45185506,
            1.418110795,
            1.598158653,
            1.595975667,
            1.580236565,
            1.477476504,
            1.543677391,
            1.578832703,
            1.551221666,
            1.612579359,
            1.750428683,
            0.636889909,
            0.617324673,
            0.643948172,
            0.686856174,
            0.681435299,
            0.680375229,
            0.682622268,
            0.67214708,
            0.680589681,
            0.687159905,
            0.642005003,
            0.667836727,
            0.669309762,
            0.648606203,
            0.634474328,
            1.245095989,
            1.234653628,
            1.305401662,
            1.651199412,
            1.560605289,
            1.586130875,
            2.070927514,
            1.96706794,
            1.925605302,
            2.096985342,
            2.096131088,
            2.058823529,
            2.132292616,
            2.143397091,
            2.130584192,
            2.097097097,
            2.059918021,
            2.128720799,
            2.285291762,
            2.312306549,
            2.342442624,
            2.218503633,
            2.231778656,
            2.271953081,
            2.196845851,
            2.191180794,
            2.26121909,
            2.086094288,
            2.125437643,
            2.149955969,
            0.886788814,
            0.882649033,
            0.913990256,
            0.940346936,
            0.980769231,
            0.948623151,
            0.97841484,
            1.041352725,
            0.957876712,
            0.968837914,
            0.971334792,
            0.947368421,
            1.020640144,
            1.069144076,
            1.004484305,
            1.371937429,
            1.360375587,
            1.377058178,
            1.372811406,
            1.35037037,
            1.378710216,
            1.430487053,
            1.372648552,
            1.430713857,
            1.303760648,
            1.342414082,
            1.298555377,
            1.405691057,
            1.44832075,
            1.436552275,
            2.797498383,
            2.769209735,
            2.689259866,
            2.924933539,
            2.84716493,
            2.874566634,
            2.905648774,
            2.86971587,
            2.90247325,
            3.244001863,
            3.143166781,
            3.057888254,
            3.271541686,
            3.100853711,
            3.199303237,
            2.75404157,
            2.678633784,
            2.644185919,
            2.817914936,
            2.847875515,
            2.846100181,
            2.635376192,
            2.630346144,
            2.619702277,
            2.366197183,
            2.404227783,
            2.423177938,
            2.088050314,
            2.111933669,
            2.117320114,
            0.964972569,
            0.925415533,
            0.931353919,
            0.985472732,
            0.976432052,
            0.96280927,
            1.013377216,
            1.011932666,
            0.957067511,
            0.943158471,
            0.954336043,
            0.942028986,
            0.975609756,
            0.947100527,
            0.950225428,
            0.838123298,
            0.819144315,
            0.759090909,
            0.803371553,
            0.803947719,
            0.786480827,
            0.753728011,
            0.766716589,
            0.766733223,
            0.702721166,
            0.712687832,
            0.71000559,
            0.680026543,
            0.684798131,
            0.697358197,
            2.183707398,
            2.044909836,
            2.015239668,
            2.234059098,
            2.131562974,
            2.080027528,
            2.198800518,
            2.156958797,
            2.123717482,
            2.022421949,
            2.053606329,
            1.926367713,
            2.014671362,
            2.017631365,
            1.966621098,
            2.369041517,
            2.264222433,
            2.249591459,
            2.306588775,
            2.266460678,
            2.186394271,
            2.210713942,
            2.102639575,
            2.147194719,
            2.101191192,
            2.10695122,
            2.083990148,
            2.045874338,
            2.128058222,
            2.160518599
           ]
          },
          {
           "label": "pP70S6_N",
           "values": [
            0.331341953,
            0.361779723,
            0.388649886,
            0.445886443,
            0.447196422,
            0.482791248,
            0.598103808,
            0.659340659,
            0.717144311,
            0.451937173,
            0.494765494,
            0.531072256,
            0.510257759,
            0.563142631,
            0.600463679,
            0.307146565,
            0.323365786,
            0.355199007,
            0.480150783,
            0.488667379,
            0.558500478,
            0.466044508,
            0.505072783,
            0.521732789,
            0.362918045,
            0.352336123,
            0.381985294,
            0.37206402,
            0.349478079,
            0.343058142,
            0.392127253,
            0.396697503,
            0.418728822,
            0.572590898,
            0.612436449,
            0.66027506,
            0.704218443,
            0.717694805,
            0.728020648,
            0.656180194,
            0.686293071,
            0.701021356,
            0.689747278,
            0.754378561,
            0.784359191,
            0.239126907,
            0.232268632,
            0.222576023,
            0.26614338,
            0.255969535,
            0.261993383,
            0.373931896,
            0.368745285,
            0.373867069,
            0.297341943,
            0.308020088,
            0.289645939,
            0.35086727,
            0.361567164,
            0.369905956,
            0.24524534,
            0.242903375,
            0.243681141,
            0.32185332,
            0.307996643,
            0.294997057,
            0.340634921,
            0.333385093,
            0.318626042,
            0.378920954,
            0.359530442,
            0.337688044,
            0.200523756,
            0.209477957,
            0.197200074,
            0.246821747,
            0.176868158,
            0.1933295,
            0.238736492,
            0.174703264,
            0.221136225,
            0.242916584,
            0.16686039,
            0.205839681,
            0.242236025,
            0.152069161,
            0.232216216,
            0.253194888,
            0.22367546,
            0.254917388,
            0.231301027,
            0.217962416,
            0.204290707,
            0.204569915,
            0.202480344,
            0.179013255,
            0.205133387,
            0.197093195,
            0.185490196,
            0.209836475,
            0.181279621,
            0.185609158,
            0.200211225,
            0.174332448,
            0.186998855,
            0.272322847,
            0.266347437,
            0.255926388,
            0.33416434,
            0.317760655,
            0.299822064,
            0.399424208,
            0.385628153,
            0.368490679,
            0.46037498,
            0.426862925,
            0.422795763,
            0.40609319,
            0.375649463,
            0.366380789,
            0.218793584,
            0.215272979,
            0.205847357,
            0.252071823,
            0.227508455,
            0.242192618,
            0.246001103,
            0.236016371,
            0.234432234,
            0.251154529,
            0.27077748,
            0.254960317,
            0.252412196,
            0.25846926,
            0.248867069,
            0.157004021,
            0.167183196,
            0.176391683,
            0.20332681,
            0.22065533,
            0.229162482,
            0.220375208,
            0.242446394,
            0.266682669,
            0.249683143,
            0.265365854,
            0.27792124,
            0.269314869,
            0.264144012,
            0.564937388,
            0.320257017,
            0.336240807,
            0.349047408,
            0.471417023,
            0.473177603,
            0.526543358,
            0.542930661,
            0.543187767,
            0.551747044,
            0.524337867,
            0.518225893,
            0.461237785,
            0.427373757,
            0.459393939,
            0.402628217,
            0.305824803,
            0.303202342,
            0.291468777,
            0.405588868,
            0.416294771,
            0.435813953,
            0.335080645,
            0.349927181,
            0.359267735,
            0.542022792,
            0.55082199,
            0.570095073,
            0.436614095,
            0.443121951,
            0.462184874,
            0.147007554,
            0.153142403,
            0.152908925,
            0.144701907,
            0.158338827,
            0.159016608,
            0.151046699,
            0.150439542,
            0.152268908,
            0.156148091,
            0.179581045,
            0.152966102,
            0.154326494,
            0.154099906,
            0.146743979,
            0.152610041,
            0.152532215,
            0.141763204,
            0.142653722,
            0.145118399,
            0.139845309,
            0.153619391,
            0.167682927,
            0.154587006,
            0.156851748,
            0.16188931,
            0.169273229,
            0.191141069,
            0.189953271,
            0.194690265,
            0.196414817,
            0.197558189,
            0.198556458,
            0.200833649,
            0.208022923,
            0.201883626,
            0.228199719,
            0.244333095,
            0.220799241,
            0.271652931,
            0.262266262,
            0.250797024,
            0.218840333,
            0.249351548,
            0.241252977,
            0.214336472,
            0.206596142,
            0.21087449,
            0.328341445,
            0.320239431,
            0.31472907,
            0.358427309,
            0.3618758,
            0.356726987,
            0.331192661,
            0.344511722,
            0.34214619,
            0.295475531,
            0.312859529,
            0.327255461
           ]
          },
          {
           "label": "pS6_N",
           "values": [
            0.121155235,
            0.125333075,
            0.118600009,
            0.117713997,
            0.124239351,
            0.117050971,
            0.1074142,
            0.115453537,
            0.105917703,
            0.115017105,
            0.110853969,
            0.108086918,
            0.104873352,
            0.104612251,
            0.100864145,
            0.125227538,
            0.132908002,
            0.128738922,
            0.127771719,
            0.132967368,
            0.12854157,
            0.116388064,
            0.121545274,
            0.115791795,
            0.10615128,
            0.107801558,
            0.102964427,
            0.107056652,
            0.099632041,
            0.102180419,
            0.119734548,
            0.118886212,
            0.116487354,
            0.120012372,
            0.115554877,
            0.113893995,
            0.117049114,
            0.115483235,
            0.113758189,
            0.122659781,
            0.115365176,
            0.113827253,
            0.113706407,
            0.118836292,
            0.113993838,
            0.120263893,
            0.124920793,
            0.115538194,
            0.118988312,
            0.116597485,
            0.114104596,
            0.115942029,
            0.10286033,
            0.115438216,
            0.112497484,
            0.112697448,
            0.116771551,
            0.101240695,
            0.099818731,
            0.107281553,
            0.114036058,
            0.110111867,
            0.112801852,
            0.109252038,
            0.107044897,
            0.108948864,
            0.104807961,
            0.101731399,
            0.105150414,
            0.090310036,
            0.095174263,
            0.095172572,
            0.094053577,
            0.099512771,
            0.105533905,
            0.114083242,
            0.116867959,
            0.117296956,
            0.108684313,
            0.109305565,
            0.107402624,
            0.116064996,
            0.11411679,
            0.10958231,
            0.09947494,
            0.097844911,
            0.10580684,
            0.101260887,
            0.093705012,
            0.102010323,
            0.138608892,
            0.140972964,
            0.133737983,
            0.13374626,
            0.132827228,
            0.126766209,
            0.125203713,
            0.121627231,
            0.119099148,
            0.115700194,
            0.111242604,
            0.112722715,
            0.110186873,
            0.108807697,
            0.105531538,
            0.12016562,
            0.125362686,
            0.116239638,
            0.112083308,
            0.114770336,
            0.111437684,
            0.111377338,
            0.117786561,
            0.107013738,
            0.107125685,
            0.107986281,
            0.107459041,
            0.099750623,
            0.094893155,
            0.1012706,
            0.109836066,
            0.11547572,
            0.118424978,
            0.108074379,
            0.113835829,
            0.110530342,
            0.103541315,
            0.111617312,
            0.108390411,
            0.094784679,
            0.100875274,
            0.10569634,
            0.108884236,
            0.104477612,
            0.118983558,
            0.122125895,
            0.12084507,
            0.124679839,
            0.124812406,
            0.117407407,
            0.123137442,
            0.122996301,
            0.129740221,
            0.121625675,
            0.114897154,
            0.115674769,
            0.097712681,
            0.146612466,
            0.109867222,
            0.112529928,
            0.123948674,
            0.119278097,
            0.115431349,
            0.118791101,
            0.115989653,
            0.116419359,
            0.111657735,
            0.110793486,
            0.111734783,
            0.116352201,
            0.111339265,
            0.110401971,
            0.112870672,
            0.106352192,
            0.104514443,
            0.130924887,
            0.128328241,
            0.130055424,
            0.109480166,
            0.11276112,
            0.110646016,
            0.102348993,
            0.104710679,
            0.104903678,
            0.08992416,
            0.091566005,
            0.101444517,
            0.089098532,
            0.095202843,
            0.097190927,
            0.117803099,
            0.121486854,
            0.116508314,
            0.122092562,
            0.114564193,
            0.113059818,
            0.122836819,
            0.111442574,
            0.107805907,
            0.108204356,
            0.103658537,
            0.102120236,
            0.111212232,
            0.113070351,
            0.104418395,
            0.118183334,
            0.125746552,
            0.129491342,
            0.113704614,
            0.116497733,
            0.11241984,
            0.103759264,
            0.113998767,
            0.113551524,
            0.083798247,
            0.092192973,
            0.09077697,
            0.105640345,
            0.104894197,
            0.105542606,
            0.123975775,
            0.126880815,
            0.11673736,
            0.117988595,
            0.116186141,
            0.109374232,
            0.108566755,
            0.109649711,
            0.105911167,
            0.1,
            0.107119591,
            0.105829596,
            0.095892019,
            0.102308317,
            0.104807473,
            0.118685574,
            0.113556583,
            0.108998802,
            0.114619537,
            0.116898404,
            0.113030048,
            0.108777339,
            0.106532472,
            0.110042433,
            0.096257971,
            0.096219512,
            0.100738916,
            0.098713096,
            0.102198823,
            0.106034882
           ]
          },
          {
           "label": "pGSK3B_N",
           "values": [
            0.169434416,
            0.16971077,
            0.178248155,
            0.16190416,
            0.163666329,
            0.166686893,
            0.164439787,
            0.159569929,
            0.16367582,
            0.167040226,
            0.166512381,
            0.170922939,
            0.159531921,
            0.1581551,
            0.1586627,
            0.185390898,
            0.196951249,
            0.198809084,
            0.175875439,
            0.181823727,
            0.18474222,
            0.165677238,
            0.164757978,
            0.169680929,
            0.160404199,
            0.165203669,
            0.165909091,
            0.158029249,
            0.167138409,
            0.164172723,
            0.161970643,
            0.162137935,
            0.167520982,
            0.156356325,
            0.155014502,
            0.159313725,
            0.159621578,
            0.155621302,
            0.156839389,
            0.166042608,
            0.164518575,
            0.166478626,
            0.160583942,
            0.162886259,
            0.161666937,
            0.171576488,
            0.173802842,
            0.15859375,
            0.164782525,
            0.15649588,
            0.151529928,
            0.154967209,
            0.146601864,
            0.147956024,
            0.151338297,
            0.148035642,
            0.145539906,
            0.142431762,
            0.136314199,
            0.141504854,
            0.218172768,
            0.212162755,
            0.213639872,
            0.194186459,
            0.192363216,
            0.186647727,
            0.192969404,
            0.186055218,
            0.177703269,
            0.158150589,
            0.159852547,
            0.160532049,
            0.164704151,
            0.175549978,
            0.175370226,
            0.158698473,
            0.162488582,
            0.166438428,
            0.153866215,
            0.158585926,
            0.166949901,
            0.15792844,
            0.160362841,
            0.158804259,
            0.147589499,
            0.149124495,
            0.160866513,
            0.161315482,
            0.161889805,
            0.17142081,
            0.253210088,
            0.244309311,
            0.227798599,
            0.226917222,
            0.214398533,
            0.21324782,
            0.211790548,
            0.199114432,
            0.190382795,
            0.197289573,
            0.186436049,
            0.181573999,
            0.179922516,
            0.178673691,
            0.179913535,
            0.222722723,
            0.221295998,
            0.216512811,
            0.20463368,
            0.203231398,
            0.199424676,
            0.194929665,
            0.19541502,
            0.196513216,
            0.188479662,
            0.19088682,
            0.188765646,
            0.183826149,
            0.180852348,
            0.180022644,
            0.167791707,
            0.173410975,
            0.176394551,
            0.180207163,
            0.192307692,
            0.181540031,
            0.196458685,
            0.204836166,
            0.205136986,
            0.203419173,
            0.214004376,
            0.205977908,
            0.243493868,
            0.222966799,
            0.22690583,
            0.166792311,
            0.175962441,
            0.181668496,
            0.170835418,
            0.173209877,
            0.169626892,
            0.170468557,
            0.169901463,
            0.176064787,
            0.172657386,
            0.222967309,
            0.170545746,
            0.173170732,
            0.173652695,
            0.186219739,
            0.211774854,
            0.197648346,
            0.196154049,
            0.188750525,
            0.176606306,
            0.183955069,
            0.172537995,
            0.162768538,
            0.169531661,
            0.20055905,
            0.191763632,
            0.179823088,
            0.198726906,
            0.179424106,
            0.175932646,
            0.203288244,
            0.186436054,
            0.187674916,
            0.173349563,
            0.164132443,
            0.1685503,
            0.163281526,
            0.158150429,
            0.15849387,
            0.138028169,
            0.140207075,
            0.148391333,
            0.144654088,
            0.141545751,
            0.150518251,
            0.173087358,
            0.161619825,
            0.157422803,
            0.166547591,
            0.16417672,
            0.166144692,
            0.174222317,
            0.174621777,
            0.171308017,
            0.181618956,
            0.172222222,
            0.172839506,
            0.182198762,
            0.176876931,
            0.175293057,
            0.162265829,
            0.171571289,
            0.173430736,
            0.159363909,
            0.165577487,
            0.159795838,
            0.14653094,
            0.1601621,
            0.156176751,
            0.116247296,
            0.145633262,
            0.150922303,
            0.146250829,
            0.152927431,
            0.163558664,
            0.196928314,
            0.184348559,
            0.177395743,
            0.177449456,
            0.170864947,
            0.167772698,
            0.175628706,
            0.168702188,
            0.154497915,
            0.161210974,
            0.169194974,
            0.154170404,
            0.173591549,
            0.172949774,
            0.157439052,
            0.196366536,
            0.188945228,
            0.17512801,
            0.187310508,
            0.175163687,
            0.180497051,
            0.176028519,
            0.176414736,
            0.177369165,
            0.160389845,
            0.163292683,
            0.158251232,
            0.165026495,
            0.166305358,
            0.176724803
           ]
          },
          {
           "label": "ARC_N",
           "values": [
            0.121155235,
            0.125333075,
            0.118600009,
            0.117713997,
            0.124239351,
            0.117050971,
            0.1074142,
            0.115453537,
            0.105917703,
            0.115017105,
            0.110853969,
            0.108086918,
            0.104873352,
            0.104612251,
            0.100864145,
            0.125227538,
            0.132908002,
            0.128738922,
            0.127771719,
            0.132967368,
            0.12854157,
            0.116388064,
            0.121545274,
            0.115791795,
            0.10615128,
            0.107801558,
            0.102964427,
            0.107056652,
            0.099632041,
            0.102180419,
            0.119734548,
            0.118886212,
            0.116487354,
            0.120012372,
            0.115554877,
            0.113893995,
            0.117049114,
            0.115483235,
            0.113758189,
            0.122659781,
            0.115365176,
            0.113827253,
            0.113706407,
            0.118836292,
            0.113993838,
            0.120263893,
            0.124920793,
            0.115538194,
            0.118988312,
            0.116597485,
            0.114104596,
            0.115942029,
            0.10286033,
            0.115438216,
            0.112497484,
            0.112697448,
            0.116771551,
            0.101240695,
            0.099818731,
            0.107281553,
            0.114036058,
            0.110111867,
            0.112801852,
            0.109252038,
            0.107044897,
            0.108948864,
            0.104807961,
            0.101731399,
            0.105150414,
            0.090310036,
            0.095174263,
            0.095172572,
            0.094053577,
            0.099512771,
            0.105533905,
            0.114083242,
            0.116867959,
            0.117296956,
            0.108684313,
            0.109305565,
            0.107402624,
            0.116064996,
            0.11411679,
            0.10958231,
            0.09947494,
            0.097844911,
            0.10580684,
            0.101260887,
            0.093705012,
            0.102010323,
            0.138608892,
            0.140972964,
            0.133737983,
            0.13374626,
            0.132827228,
            0.126766209,
            0.125203713,
            0.121627231,
            0.119099148,
            0.115700194,
            0.111242604,
            0.112722715,
            0.110186873,
            0.108807697,
            0.105531538,
            0.12016562,
            0.125362686,
            0.116239638,
            0.112083308,
            0.114770336,
            0.111437684,
            0.111377338,
            0.117786561,
            0.107013738,
            0.107125685,
            0.107986281,
            0.107459041,
            0.099750623,
            0.094893155,
            0.1012706,
            0.109836066,
            0.11547572,
            0.118424978,
            0.108074379,
            0.113835829,
            0.110530342,
            0.103541315,
            0.111617312,
            0.108390411,
            0.094784679,
            0.100875274,
            0.10569634,
            0.108884236,
            0.104477612,
            0.118983558,
            0.122125895,
            0.12084507,
            0.124679839,
            0.124812406,
            0.117407407,
            0.123137442,
            0.122996301,
            0.129740221,
            0.121625675,
            0.114897154,
            0.115674769,
            0.097712681,
            0.146612466,
            0.109867222,
            0.112529928,
            0.123948674,
            0.119278097,
            0.115431349,
            0.118791101,
            0.115989653,
            0.116419359,
            0.111657735,
            0.110793486,
            0.111734783,
            0.116352201,
            0.111339265,
            0.110401971,
            0.112870672,
            0.106352192,
            0.104514443,
            0.130924887,
            0.128328241,
            0.130055424,
            0.109480166,
            0.11276112,
            0.110646016,
            0.102348993,
            0.104710679,
            0.104903678,
            0.08992416,
            0.091566005,
            0.101444517,
            0.089098532,
            0.095202843,
            0.097190927,
            0.117803099,
            0.121486854,
            0.116508314,
            0.122092562,
            0.114564193,
            0.113059818,
            0.122836819,
            0.111442574,
            0.107805907,
            0.108204356,
            0.103658537,
            0.102120236,
            0.111212232,
            0.113070351,
            0.104418395,
            0.118183334,
            0.125746552,
            0.129491342,
            0.113704614,
            0.116497733,
            0.11241984,
            0.103759264,
            0.113998767,
            0.113551524,
            0.083798247,
            0.092192973,
            0.09077697,
            0.105640345,
            0.104894197,
            0.105542606,
            0.123975775,
            0.126880815,
            0.11673736,
            0.117988595,
            0.116186141,
            0.109374232,
            0.108566755,
            0.109649711,
            0.105911167,
            0.1,
            0.107119591,
            0.105829596,
            0.095892019,
            0.102308317,
            0.104807473,
            0.118685574,
            0.113556583,
            0.108998802,
            0.114619537,
            0.116898404,
            0.113030048,
            0.108777339,
            0.106532472,
            0.110042433,
            0.096257971,
            0.096219512,
            0.100738916,
            0.098713096,
            0.102198823,
            0.106034882
           ]
          }
         ],
         "domain": {
          "x": [
           0,
           1
          ],
          "y": [
           0,
           1
          ]
         },
         "line": {
          "color": [
           1,
           1,
           1,
           1,
           1,
           1,
           1,
           1,
           1,
           1,
           1,
           1,
           1,
           1,
           1,
           1,
           1,
           1,
           1,
           1,
           1,
           1,
           1,
           1,
           1,
           1,
           1,
           1,
           1,
           1,
           1,
           1,
           1,
           1,
           1,
           1,
           1,
           1,
           1,
           1,
           1,
           1,
           1,
           1,
           1,
           1,
           1,
           1,
           1,
           1,
           1,
           1,
           1,
           1,
           1,
           1,
           1,
           1,
           1,
           1,
           1,
           1,
           1,
           1,
           1,
           1,
           1,
           1,
           1,
           1,
           1,
           1,
           1,
           1,
           1,
           1,
           1,
           1,
           1,
           1,
           1,
           1,
           1,
           1,
           1,
           1,
           1,
           1,
           1,
           1,
           1,
           1,
           1,
           1,
           1,
           1,
           1,
           1,
           1,
           1,
           1,
           1,
           1,
           1,
           1,
           1,
           1,
           1,
           1,
           1,
           1,
           1,
           1,
           1,
           1,
           1,
           1,
           1,
           1,
           1,
           1,
           1,
           1,
           1,
           1,
           1,
           1,
           1,
           1,
           1,
           1,
           1,
           1,
           1,
           1,
           0,
           0,
           0,
           0,
           0,
           0,
           0,
           0,
           0,
           0,
           0,
           0,
           0,
           0,
           0,
           0,
           0,
           0,
           0,
           0,
           0,
           0,
           0,
           0,
           0,
           0,
           0,
           0,
           0,
           0,
           0,
           0,
           0,
           0,
           0,
           0,
           0,
           0,
           0,
           0,
           0,
           0,
           0,
           0,
           0,
           0,
           0,
           0,
           0,
           0,
           0,
           0,
           0,
           0,
           0,
           0,
           0,
           0,
           0,
           0,
           0,
           0,
           0,
           0,
           0,
           0,
           0,
           0,
           0,
           0,
           0,
           0,
           0,
           0,
           0,
           0,
           0,
           0,
           0,
           0,
           0,
           0,
           0,
           0,
           0,
           0,
           0,
           0,
           0,
           0,
           0,
           0,
           0,
           0,
           0,
           0,
           0,
           0,
           0,
           0,
           0,
           0,
           0,
           0,
           0
          ],
          "coloraxis": "coloraxis"
         },
         "name": "",
         "type": "parcoords"
        }
       ],
       "layout": {
        "coloraxis": {
         "cmid": 0.5,
         "colorbar": {
          "title": {
           "text": "class"
          }
         },
         "colorscale": [
          [
           0,
           "rgb(0, 147, 146)"
          ],
          [
           0.16666666666666666,
           "rgb(114, 170, 161)"
          ],
          [
           0.3333333333333333,
           "rgb(177, 199, 179)"
          ],
          [
           0.5,
           "rgb(241, 234, 200)"
          ],
          [
           0.6666666666666666,
           "rgb(229, 185, 173)"
          ],
          [
           0.8333333333333334,
           "rgb(217, 137, 148)"
          ],
          [
           1,
           "rgb(208, 88, 126)"
          ]
         ]
        },
        "legend": {
         "tracegroupgap": 0
        },
        "margin": {
         "t": 60
        },
        "template": {
         "data": {
          "bar": [
           {
            "error_x": {
             "color": "#2a3f5f"
            },
            "error_y": {
             "color": "#2a3f5f"
            },
            "marker": {
             "line": {
              "color": "#E5ECF6",
              "width": 0.5
             },
             "pattern": {
              "fillmode": "overlay",
              "size": 10,
              "solidity": 0.2
             }
            },
            "type": "bar"
           }
          ],
          "barpolar": [
           {
            "marker": {
             "line": {
              "color": "#E5ECF6",
              "width": 0.5
             },
             "pattern": {
              "fillmode": "overlay",
              "size": 10,
              "solidity": 0.2
             }
            },
            "type": "barpolar"
           }
          ],
          "carpet": [
           {
            "aaxis": {
             "endlinecolor": "#2a3f5f",
             "gridcolor": "white",
             "linecolor": "white",
             "minorgridcolor": "white",
             "startlinecolor": "#2a3f5f"
            },
            "baxis": {
             "endlinecolor": "#2a3f5f",
             "gridcolor": "white",
             "linecolor": "white",
             "minorgridcolor": "white",
             "startlinecolor": "#2a3f5f"
            },
            "type": "carpet"
           }
          ],
          "choropleth": [
           {
            "colorbar": {
             "outlinewidth": 0,
             "ticks": ""
            },
            "type": "choropleth"
           }
          ],
          "contour": [
           {
            "colorbar": {
             "outlinewidth": 0,
             "ticks": ""
            },
            "colorscale": [
             [
              0,
              "#0d0887"
             ],
             [
              0.1111111111111111,
              "#46039f"
             ],
             [
              0.2222222222222222,
              "#7201a8"
             ],
             [
              0.3333333333333333,
              "#9c179e"
             ],
             [
              0.4444444444444444,
              "#bd3786"
             ],
             [
              0.5555555555555556,
              "#d8576b"
             ],
             [
              0.6666666666666666,
              "#ed7953"
             ],
             [
              0.7777777777777778,
              "#fb9f3a"
             ],
             [
              0.8888888888888888,
              "#fdca26"
             ],
             [
              1,
              "#f0f921"
             ]
            ],
            "type": "contour"
           }
          ],
          "contourcarpet": [
           {
            "colorbar": {
             "outlinewidth": 0,
             "ticks": ""
            },
            "type": "contourcarpet"
           }
          ],
          "heatmap": [
           {
            "colorbar": {
             "outlinewidth": 0,
             "ticks": ""
            },
            "colorscale": [
             [
              0,
              "#0d0887"
             ],
             [
              0.1111111111111111,
              "#46039f"
             ],
             [
              0.2222222222222222,
              "#7201a8"
             ],
             [
              0.3333333333333333,
              "#9c179e"
             ],
             [
              0.4444444444444444,
              "#bd3786"
             ],
             [
              0.5555555555555556,
              "#d8576b"
             ],
             [
              0.6666666666666666,
              "#ed7953"
             ],
             [
              0.7777777777777778,
              "#fb9f3a"
             ],
             [
              0.8888888888888888,
              "#fdca26"
             ],
             [
              1,
              "#f0f921"
             ]
            ],
            "type": "heatmap"
           }
          ],
          "heatmapgl": [
           {
            "colorbar": {
             "outlinewidth": 0,
             "ticks": ""
            },
            "colorscale": [
             [
              0,
              "#0d0887"
             ],
             [
              0.1111111111111111,
              "#46039f"
             ],
             [
              0.2222222222222222,
              "#7201a8"
             ],
             [
              0.3333333333333333,
              "#9c179e"
             ],
             [
              0.4444444444444444,
              "#bd3786"
             ],
             [
              0.5555555555555556,
              "#d8576b"
             ],
             [
              0.6666666666666666,
              "#ed7953"
             ],
             [
              0.7777777777777778,
              "#fb9f3a"
             ],
             [
              0.8888888888888888,
              "#fdca26"
             ],
             [
              1,
              "#f0f921"
             ]
            ],
            "type": "heatmapgl"
           }
          ],
          "histogram": [
           {
            "marker": {
             "pattern": {
              "fillmode": "overlay",
              "size": 10,
              "solidity": 0.2
             }
            },
            "type": "histogram"
           }
          ],
          "histogram2d": [
           {
            "colorbar": {
             "outlinewidth": 0,
             "ticks": ""
            },
            "colorscale": [
             [
              0,
              "#0d0887"
             ],
             [
              0.1111111111111111,
              "#46039f"
             ],
             [
              0.2222222222222222,
              "#7201a8"
             ],
             [
              0.3333333333333333,
              "#9c179e"
             ],
             [
              0.4444444444444444,
              "#bd3786"
             ],
             [
              0.5555555555555556,
              "#d8576b"
             ],
             [
              0.6666666666666666,
              "#ed7953"
             ],
             [
              0.7777777777777778,
              "#fb9f3a"
             ],
             [
              0.8888888888888888,
              "#fdca26"
             ],
             [
              1,
              "#f0f921"
             ]
            ],
            "type": "histogram2d"
           }
          ],
          "histogram2dcontour": [
           {
            "colorbar": {
             "outlinewidth": 0,
             "ticks": ""
            },
            "colorscale": [
             [
              0,
              "#0d0887"
             ],
             [
              0.1111111111111111,
              "#46039f"
             ],
             [
              0.2222222222222222,
              "#7201a8"
             ],
             [
              0.3333333333333333,
              "#9c179e"
             ],
             [
              0.4444444444444444,
              "#bd3786"
             ],
             [
              0.5555555555555556,
              "#d8576b"
             ],
             [
              0.6666666666666666,
              "#ed7953"
             ],
             [
              0.7777777777777778,
              "#fb9f3a"
             ],
             [
              0.8888888888888888,
              "#fdca26"
             ],
             [
              1,
              "#f0f921"
             ]
            ],
            "type": "histogram2dcontour"
           }
          ],
          "mesh3d": [
           {
            "colorbar": {
             "outlinewidth": 0,
             "ticks": ""
            },
            "type": "mesh3d"
           }
          ],
          "parcoords": [
           {
            "line": {
             "colorbar": {
              "outlinewidth": 0,
              "ticks": ""
             }
            },
            "type": "parcoords"
           }
          ],
          "pie": [
           {
            "automargin": true,
            "type": "pie"
           }
          ],
          "scatter": [
           {
            "marker": {
             "colorbar": {
              "outlinewidth": 0,
              "ticks": ""
             }
            },
            "type": "scatter"
           }
          ],
          "scatter3d": [
           {
            "line": {
             "colorbar": {
              "outlinewidth": 0,
              "ticks": ""
             }
            },
            "marker": {
             "colorbar": {
              "outlinewidth": 0,
              "ticks": ""
             }
            },
            "type": "scatter3d"
           }
          ],
          "scattercarpet": [
           {
            "marker": {
             "colorbar": {
              "outlinewidth": 0,
              "ticks": ""
             }
            },
            "type": "scattercarpet"
           }
          ],
          "scattergeo": [
           {
            "marker": {
             "colorbar": {
              "outlinewidth": 0,
              "ticks": ""
             }
            },
            "type": "scattergeo"
           }
          ],
          "scattergl": [
           {
            "marker": {
             "colorbar": {
              "outlinewidth": 0,
              "ticks": ""
             }
            },
            "type": "scattergl"
           }
          ],
          "scattermapbox": [
           {
            "marker": {
             "colorbar": {
              "outlinewidth": 0,
              "ticks": ""
             }
            },
            "type": "scattermapbox"
           }
          ],
          "scatterpolar": [
           {
            "marker": {
             "colorbar": {
              "outlinewidth": 0,
              "ticks": ""
             }
            },
            "type": "scatterpolar"
           }
          ],
          "scatterpolargl": [
           {
            "marker": {
             "colorbar": {
              "outlinewidth": 0,
              "ticks": ""
             }
            },
            "type": "scatterpolargl"
           }
          ],
          "scatterternary": [
           {
            "marker": {
             "colorbar": {
              "outlinewidth": 0,
              "ticks": ""
             }
            },
            "type": "scatterternary"
           }
          ],
          "surface": [
           {
            "colorbar": {
             "outlinewidth": 0,
             "ticks": ""
            },
            "colorscale": [
             [
              0,
              "#0d0887"
             ],
             [
              0.1111111111111111,
              "#46039f"
             ],
             [
              0.2222222222222222,
              "#7201a8"
             ],
             [
              0.3333333333333333,
              "#9c179e"
             ],
             [
              0.4444444444444444,
              "#bd3786"
             ],
             [
              0.5555555555555556,
              "#d8576b"
             ],
             [
              0.6666666666666666,
              "#ed7953"
             ],
             [
              0.7777777777777778,
              "#fb9f3a"
             ],
             [
              0.8888888888888888,
              "#fdca26"
             ],
             [
              1,
              "#f0f921"
             ]
            ],
            "type": "surface"
           }
          ],
          "table": [
           {
            "cells": {
             "fill": {
              "color": "#EBF0F8"
             },
             "line": {
              "color": "white"
             }
            },
            "header": {
             "fill": {
              "color": "#C8D4E3"
             },
             "line": {
              "color": "white"
             }
            },
            "type": "table"
           }
          ]
         },
         "layout": {
          "annotationdefaults": {
           "arrowcolor": "#2a3f5f",
           "arrowhead": 0,
           "arrowwidth": 1
          },
          "autotypenumbers": "strict",
          "coloraxis": {
           "colorbar": {
            "outlinewidth": 0,
            "ticks": ""
           }
          },
          "colorscale": {
           "diverging": [
            [
             0,
             "#8e0152"
            ],
            [
             0.1,
             "#c51b7d"
            ],
            [
             0.2,
             "#de77ae"
            ],
            [
             0.3,
             "#f1b6da"
            ],
            [
             0.4,
             "#fde0ef"
            ],
            [
             0.5,
             "#f7f7f7"
            ],
            [
             0.6,
             "#e6f5d0"
            ],
            [
             0.7,
             "#b8e186"
            ],
            [
             0.8,
             "#7fbc41"
            ],
            [
             0.9,
             "#4d9221"
            ],
            [
             1,
             "#276419"
            ]
           ],
           "sequential": [
            [
             0,
             "#0d0887"
            ],
            [
             0.1111111111111111,
             "#46039f"
            ],
            [
             0.2222222222222222,
             "#7201a8"
            ],
            [
             0.3333333333333333,
             "#9c179e"
            ],
            [
             0.4444444444444444,
             "#bd3786"
            ],
            [
             0.5555555555555556,
             "#d8576b"
            ],
            [
             0.6666666666666666,
             "#ed7953"
            ],
            [
             0.7777777777777778,
             "#fb9f3a"
            ],
            [
             0.8888888888888888,
             "#fdca26"
            ],
            [
             1,
             "#f0f921"
            ]
           ],
           "sequentialminus": [
            [
             0,
             "#0d0887"
            ],
            [
             0.1111111111111111,
             "#46039f"
            ],
            [
             0.2222222222222222,
             "#7201a8"
            ],
            [
             0.3333333333333333,
             "#9c179e"
            ],
            [
             0.4444444444444444,
             "#bd3786"
            ],
            [
             0.5555555555555556,
             "#d8576b"
            ],
            [
             0.6666666666666666,
             "#ed7953"
            ],
            [
             0.7777777777777778,
             "#fb9f3a"
            ],
            [
             0.8888888888888888,
             "#fdca26"
            ],
            [
             1,
             "#f0f921"
            ]
           ]
          },
          "colorway": [
           "#636efa",
           "#EF553B",
           "#00cc96",
           "#ab63fa",
           "#FFA15A",
           "#19d3f3",
           "#FF6692",
           "#B6E880",
           "#FF97FF",
           "#FECB52"
          ],
          "font": {
           "color": "#2a3f5f"
          },
          "geo": {
           "bgcolor": "white",
           "lakecolor": "white",
           "landcolor": "#E5ECF6",
           "showlakes": true,
           "showland": true,
           "subunitcolor": "white"
          },
          "hoverlabel": {
           "align": "left"
          },
          "hovermode": "closest",
          "mapbox": {
           "style": "light"
          },
          "paper_bgcolor": "white",
          "plot_bgcolor": "#E5ECF6",
          "polar": {
           "angularaxis": {
            "gridcolor": "white",
            "linecolor": "white",
            "ticks": ""
           },
           "bgcolor": "#E5ECF6",
           "radialaxis": {
            "gridcolor": "white",
            "linecolor": "white",
            "ticks": ""
           }
          },
          "scene": {
           "xaxis": {
            "backgroundcolor": "#E5ECF6",
            "gridcolor": "white",
            "gridwidth": 2,
            "linecolor": "white",
            "showbackground": true,
            "ticks": "",
            "zerolinecolor": "white"
           },
           "yaxis": {
            "backgroundcolor": "#E5ECF6",
            "gridcolor": "white",
            "gridwidth": 2,
            "linecolor": "white",
            "showbackground": true,
            "ticks": "",
            "zerolinecolor": "white"
           },
           "zaxis": {
            "backgroundcolor": "#E5ECF6",
            "gridcolor": "white",
            "gridwidth": 2,
            "linecolor": "white",
            "showbackground": true,
            "ticks": "",
            "zerolinecolor": "white"
           }
          },
          "shapedefaults": {
           "line": {
            "color": "#2a3f5f"
           }
          },
          "ternary": {
           "aaxis": {
            "gridcolor": "white",
            "linecolor": "white",
            "ticks": ""
           },
           "baxis": {
            "gridcolor": "white",
            "linecolor": "white",
            "ticks": ""
           },
           "bgcolor": "#E5ECF6",
           "caxis": {
            "gridcolor": "white",
            "linecolor": "white",
            "ticks": ""
           }
          },
          "title": {
           "x": 0.05
          },
          "xaxis": {
           "automargin": true,
           "gridcolor": "white",
           "linecolor": "white",
           "ticks": "",
           "title": {
            "standoff": 15
           },
           "zerolinecolor": "white",
           "zerolinewidth": 2
          },
          "yaxis": {
           "automargin": true,
           "gridcolor": "white",
           "linecolor": "white",
           "ticks": "",
           "title": {
            "standoff": 15
           },
           "zerolinecolor": "white",
           "zerolinewidth": 2
          }
         }
        }
       }
      },
      "text/html": [
       "<div>                            <div id=\"8a978869-1f8f-4c8e-a45f-38b2512da442\" class=\"plotly-graph-div\" style=\"height:525px; width:100%;\"></div>            <script type=\"text/javascript\">                require([\"plotly\"], function(Plotly) {                    window.PLOTLYENV=window.PLOTLYENV || {};                                    if (document.getElementById(\"8a978869-1f8f-4c8e-a45f-38b2512da442\")) {                    Plotly.newPlot(                        \"8a978869-1f8f-4c8e-a45f-38b2512da442\",                        [{\"dimensions\":[{\"label\":\"pPKCG_N\",\"values\":[1.661612515,1.678407054,1.578563803,1.950056897,2.005070994,1.989199029,2.169068204,2.127911938,2.151489859,2.462309779,2.451052997,2.444780466,2.619760036,2.684853776,2.668791614,1.657269545,1.679637656,1.661973781,1.974494123,1.980847819,1.897875058,2.211763787,2.062910368,2.09241288,2.086628078,2.124963014,2.10187747,2.190117848,2.111944523,2.100185264,2.07845453,1.956188022,2.001351884,2.209325704,2.166768432,2.145220588,2.540962158,2.446942801,2.467143141,2.645190445,2.606393733,2.547950357,2.730900243,2.745233399,2.689800551,1.412654052,1.315922875,1.265494792,1.64974133,1.624062945,1.58618798,1.895635981,1.854991634,1.808996593,1.895954921,1.922438234,1.887024273,1.962158809,1.905619335,1.829854369,1.335637651,1.246216275,1.243907818,1.458986175,1.45185506,1.418110795,1.598158653,1.595975667,1.580236565,1.477476504,1.543677391,1.578832703,1.551221666,1.612579359,1.750428683,0.636889909,0.617324673,0.643948172,0.686856174,0.681435299,0.680375229,0.682622268,0.67214708,0.680589681,0.687159905,0.642005003,0.667836727,0.669309762,0.648606203,0.634474328,1.245095989,1.234653628,1.305401662,1.651199412,1.560605289,1.586130875,2.070927514,1.96706794,1.925605302,2.096985342,2.096131088,2.058823529,2.132292616,2.143397091,2.130584192,2.097097097,2.059918021,2.128720799,2.285291762,2.312306549,2.342442624,2.218503633,2.231778656,2.271953081,2.196845851,2.191180794,2.26121909,2.086094288,2.125437643,2.149955969,0.886788814,0.882649033,0.913990256,0.940346936,0.980769231,0.948623151,0.97841484,1.041352725,0.957876712,0.968837914,0.971334792,0.947368421,1.020640144,1.069144076,1.004484305,1.371937429,1.360375587,1.377058178,1.372811406,1.35037037,1.378710216,1.430487053,1.372648552,1.430713857,1.303760648,1.342414082,1.298555377,1.405691057,1.44832075,1.436552275,2.797498383,2.769209735,2.689259866,2.924933539,2.84716493,2.874566634,2.905648774,2.86971587,2.90247325,3.244001863,3.143166781,3.057888254,3.271541686,3.100853711,3.199303237,2.75404157,2.678633784,2.644185919,2.817914936,2.847875515,2.846100181,2.635376192,2.630346144,2.619702277,2.366197183,2.404227783,2.423177938,2.088050314,2.111933669,2.117320114,0.964972569,0.925415533,0.931353919,0.985472732,0.976432052,0.96280927,1.013377216,1.011932666,0.957067511,0.943158471,0.954336043,0.942028986,0.975609756,0.947100527,0.950225428,0.838123298,0.819144315,0.759090909,0.803371553,0.803947719,0.786480827,0.753728011,0.766716589,0.766733223,0.702721166,0.712687832,0.71000559,0.680026543,0.684798131,0.697358197,2.183707398,2.044909836,2.015239668,2.234059098,2.131562974,2.080027528,2.198800518,2.156958797,2.123717482,2.022421949,2.053606329,1.926367713,2.014671362,2.017631365,1.966621098,2.369041517,2.264222433,2.249591459,2.306588775,2.266460678,2.186394271,2.210713942,2.102639575,2.147194719,2.101191192,2.10695122,2.083990148,2.045874338,2.128058222,2.160518599]},{\"label\":\"pP70S6_N\",\"values\":[0.331341953,0.361779723,0.388649886,0.445886443,0.447196422,0.482791248,0.598103808,0.659340659,0.717144311,0.451937173,0.494765494,0.531072256,0.510257759,0.563142631,0.600463679,0.307146565,0.323365786,0.355199007,0.480150783,0.488667379,0.558500478,0.466044508,0.505072783,0.521732789,0.362918045,0.352336123,0.381985294,0.37206402,0.349478079,0.343058142,0.392127253,0.396697503,0.418728822,0.572590898,0.612436449,0.66027506,0.704218443,0.717694805,0.728020648,0.656180194,0.686293071,0.701021356,0.689747278,0.754378561,0.784359191,0.239126907,0.232268632,0.222576023,0.26614338,0.255969535,0.261993383,0.373931896,0.368745285,0.373867069,0.297341943,0.308020088,0.289645939,0.35086727,0.361567164,0.369905956,0.24524534,0.242903375,0.243681141,0.32185332,0.307996643,0.294997057,0.340634921,0.333385093,0.318626042,0.378920954,0.359530442,0.337688044,0.200523756,0.209477957,0.197200074,0.246821747,0.176868158,0.1933295,0.238736492,0.174703264,0.221136225,0.242916584,0.16686039,0.205839681,0.242236025,0.152069161,0.232216216,0.253194888,0.22367546,0.254917388,0.231301027,0.217962416,0.204290707,0.204569915,0.202480344,0.179013255,0.205133387,0.197093195,0.185490196,0.209836475,0.181279621,0.185609158,0.200211225,0.174332448,0.186998855,0.272322847,0.266347437,0.255926388,0.33416434,0.317760655,0.299822064,0.399424208,0.385628153,0.368490679,0.46037498,0.426862925,0.422795763,0.40609319,0.375649463,0.366380789,0.218793584,0.215272979,0.205847357,0.252071823,0.227508455,0.242192618,0.246001103,0.236016371,0.234432234,0.251154529,0.27077748,0.254960317,0.252412196,0.25846926,0.248867069,0.157004021,0.167183196,0.176391683,0.20332681,0.22065533,0.229162482,0.220375208,0.242446394,0.266682669,0.249683143,0.265365854,0.27792124,0.269314869,0.264144012,0.564937388,0.320257017,0.336240807,0.349047408,0.471417023,0.473177603,0.526543358,0.542930661,0.543187767,0.551747044,0.524337867,0.518225893,0.461237785,0.427373757,0.459393939,0.402628217,0.305824803,0.303202342,0.291468777,0.405588868,0.416294771,0.435813953,0.335080645,0.349927181,0.359267735,0.542022792,0.55082199,0.570095073,0.436614095,0.443121951,0.462184874,0.147007554,0.153142403,0.152908925,0.144701907,0.158338827,0.159016608,0.151046699,0.150439542,0.152268908,0.156148091,0.179581045,0.152966102,0.154326494,0.154099906,0.146743979,0.152610041,0.152532215,0.141763204,0.142653722,0.145118399,0.139845309,0.153619391,0.167682927,0.154587006,0.156851748,0.16188931,0.169273229,0.191141069,0.189953271,0.194690265,0.196414817,0.197558189,0.198556458,0.200833649,0.208022923,0.201883626,0.228199719,0.244333095,0.220799241,0.271652931,0.262266262,0.250797024,0.218840333,0.249351548,0.241252977,0.214336472,0.206596142,0.21087449,0.328341445,0.320239431,0.31472907,0.358427309,0.3618758,0.356726987,0.331192661,0.344511722,0.34214619,0.295475531,0.312859529,0.327255461]},{\"label\":\"pS6_N\",\"values\":[0.121155235,0.125333075,0.118600009,0.117713997,0.124239351,0.117050971,0.1074142,0.115453537,0.105917703,0.115017105,0.110853969,0.108086918,0.104873352,0.104612251,0.100864145,0.125227538,0.132908002,0.128738922,0.127771719,0.132967368,0.12854157,0.116388064,0.121545274,0.115791795,0.10615128,0.107801558,0.102964427,0.107056652,0.099632041,0.102180419,0.119734548,0.118886212,0.116487354,0.120012372,0.115554877,0.113893995,0.117049114,0.115483235,0.113758189,0.122659781,0.115365176,0.113827253,0.113706407,0.118836292,0.113993838,0.120263893,0.124920793,0.115538194,0.118988312,0.116597485,0.114104596,0.115942029,0.10286033,0.115438216,0.112497484,0.112697448,0.116771551,0.101240695,0.099818731,0.107281553,0.114036058,0.110111867,0.112801852,0.109252038,0.107044897,0.108948864,0.104807961,0.101731399,0.105150414,0.090310036,0.095174263,0.095172572,0.094053577,0.099512771,0.105533905,0.114083242,0.116867959,0.117296956,0.108684313,0.109305565,0.107402624,0.116064996,0.11411679,0.10958231,0.09947494,0.097844911,0.10580684,0.101260887,0.093705012,0.102010323,0.138608892,0.140972964,0.133737983,0.13374626,0.132827228,0.126766209,0.125203713,0.121627231,0.119099148,0.115700194,0.111242604,0.112722715,0.110186873,0.108807697,0.105531538,0.12016562,0.125362686,0.116239638,0.112083308,0.114770336,0.111437684,0.111377338,0.117786561,0.107013738,0.107125685,0.107986281,0.107459041,0.099750623,0.094893155,0.1012706,0.109836066,0.11547572,0.118424978,0.108074379,0.113835829,0.110530342,0.103541315,0.111617312,0.108390411,0.094784679,0.100875274,0.10569634,0.108884236,0.104477612,0.118983558,0.122125895,0.12084507,0.124679839,0.124812406,0.117407407,0.123137442,0.122996301,0.129740221,0.121625675,0.114897154,0.115674769,0.097712681,0.146612466,0.109867222,0.112529928,0.123948674,0.119278097,0.115431349,0.118791101,0.115989653,0.116419359,0.111657735,0.110793486,0.111734783,0.116352201,0.111339265,0.110401971,0.112870672,0.106352192,0.104514443,0.130924887,0.128328241,0.130055424,0.109480166,0.11276112,0.110646016,0.102348993,0.104710679,0.104903678,0.08992416,0.091566005,0.101444517,0.089098532,0.095202843,0.097190927,0.117803099,0.121486854,0.116508314,0.122092562,0.114564193,0.113059818,0.122836819,0.111442574,0.107805907,0.108204356,0.103658537,0.102120236,0.111212232,0.113070351,0.104418395,0.118183334,0.125746552,0.129491342,0.113704614,0.116497733,0.11241984,0.103759264,0.113998767,0.113551524,0.083798247,0.092192973,0.09077697,0.105640345,0.104894197,0.105542606,0.123975775,0.126880815,0.11673736,0.117988595,0.116186141,0.109374232,0.108566755,0.109649711,0.105911167,0.1,0.107119591,0.105829596,0.095892019,0.102308317,0.104807473,0.118685574,0.113556583,0.108998802,0.114619537,0.116898404,0.113030048,0.108777339,0.106532472,0.110042433,0.096257971,0.096219512,0.100738916,0.098713096,0.102198823,0.106034882]},{\"label\":\"pGSK3B_N\",\"values\":[0.169434416,0.16971077,0.178248155,0.16190416,0.163666329,0.166686893,0.164439787,0.159569929,0.16367582,0.167040226,0.166512381,0.170922939,0.159531921,0.1581551,0.1586627,0.185390898,0.196951249,0.198809084,0.175875439,0.181823727,0.18474222,0.165677238,0.164757978,0.169680929,0.160404199,0.165203669,0.165909091,0.158029249,0.167138409,0.164172723,0.161970643,0.162137935,0.167520982,0.156356325,0.155014502,0.159313725,0.159621578,0.155621302,0.156839389,0.166042608,0.164518575,0.166478626,0.160583942,0.162886259,0.161666937,0.171576488,0.173802842,0.15859375,0.164782525,0.15649588,0.151529928,0.154967209,0.146601864,0.147956024,0.151338297,0.148035642,0.145539906,0.142431762,0.136314199,0.141504854,0.218172768,0.212162755,0.213639872,0.194186459,0.192363216,0.186647727,0.192969404,0.186055218,0.177703269,0.158150589,0.159852547,0.160532049,0.164704151,0.175549978,0.175370226,0.158698473,0.162488582,0.166438428,0.153866215,0.158585926,0.166949901,0.15792844,0.160362841,0.158804259,0.147589499,0.149124495,0.160866513,0.161315482,0.161889805,0.17142081,0.253210088,0.244309311,0.227798599,0.226917222,0.214398533,0.21324782,0.211790548,0.199114432,0.190382795,0.197289573,0.186436049,0.181573999,0.179922516,0.178673691,0.179913535,0.222722723,0.221295998,0.216512811,0.20463368,0.203231398,0.199424676,0.194929665,0.19541502,0.196513216,0.188479662,0.19088682,0.188765646,0.183826149,0.180852348,0.180022644,0.167791707,0.173410975,0.176394551,0.180207163,0.192307692,0.181540031,0.196458685,0.204836166,0.205136986,0.203419173,0.214004376,0.205977908,0.243493868,0.222966799,0.22690583,0.166792311,0.175962441,0.181668496,0.170835418,0.173209877,0.169626892,0.170468557,0.169901463,0.176064787,0.172657386,0.222967309,0.170545746,0.173170732,0.173652695,0.186219739,0.211774854,0.197648346,0.196154049,0.188750525,0.176606306,0.183955069,0.172537995,0.162768538,0.169531661,0.20055905,0.191763632,0.179823088,0.198726906,0.179424106,0.175932646,0.203288244,0.186436054,0.187674916,0.173349563,0.164132443,0.1685503,0.163281526,0.158150429,0.15849387,0.138028169,0.140207075,0.148391333,0.144654088,0.141545751,0.150518251,0.173087358,0.161619825,0.157422803,0.166547591,0.16417672,0.166144692,0.174222317,0.174621777,0.171308017,0.181618956,0.172222222,0.172839506,0.182198762,0.176876931,0.175293057,0.162265829,0.171571289,0.173430736,0.159363909,0.165577487,0.159795838,0.14653094,0.1601621,0.156176751,0.116247296,0.145633262,0.150922303,0.146250829,0.152927431,0.163558664,0.196928314,0.184348559,0.177395743,0.177449456,0.170864947,0.167772698,0.175628706,0.168702188,0.154497915,0.161210974,0.169194974,0.154170404,0.173591549,0.172949774,0.157439052,0.196366536,0.188945228,0.17512801,0.187310508,0.175163687,0.180497051,0.176028519,0.176414736,0.177369165,0.160389845,0.163292683,0.158251232,0.165026495,0.166305358,0.176724803]},{\"label\":\"ARC_N\",\"values\":[0.121155235,0.125333075,0.118600009,0.117713997,0.124239351,0.117050971,0.1074142,0.115453537,0.105917703,0.115017105,0.110853969,0.108086918,0.104873352,0.104612251,0.100864145,0.125227538,0.132908002,0.128738922,0.127771719,0.132967368,0.12854157,0.116388064,0.121545274,0.115791795,0.10615128,0.107801558,0.102964427,0.107056652,0.099632041,0.102180419,0.119734548,0.118886212,0.116487354,0.120012372,0.115554877,0.113893995,0.117049114,0.115483235,0.113758189,0.122659781,0.115365176,0.113827253,0.113706407,0.118836292,0.113993838,0.120263893,0.124920793,0.115538194,0.118988312,0.116597485,0.114104596,0.115942029,0.10286033,0.115438216,0.112497484,0.112697448,0.116771551,0.101240695,0.099818731,0.107281553,0.114036058,0.110111867,0.112801852,0.109252038,0.107044897,0.108948864,0.104807961,0.101731399,0.105150414,0.090310036,0.095174263,0.095172572,0.094053577,0.099512771,0.105533905,0.114083242,0.116867959,0.117296956,0.108684313,0.109305565,0.107402624,0.116064996,0.11411679,0.10958231,0.09947494,0.097844911,0.10580684,0.101260887,0.093705012,0.102010323,0.138608892,0.140972964,0.133737983,0.13374626,0.132827228,0.126766209,0.125203713,0.121627231,0.119099148,0.115700194,0.111242604,0.112722715,0.110186873,0.108807697,0.105531538,0.12016562,0.125362686,0.116239638,0.112083308,0.114770336,0.111437684,0.111377338,0.117786561,0.107013738,0.107125685,0.107986281,0.107459041,0.099750623,0.094893155,0.1012706,0.109836066,0.11547572,0.118424978,0.108074379,0.113835829,0.110530342,0.103541315,0.111617312,0.108390411,0.094784679,0.100875274,0.10569634,0.108884236,0.104477612,0.118983558,0.122125895,0.12084507,0.124679839,0.124812406,0.117407407,0.123137442,0.122996301,0.129740221,0.121625675,0.114897154,0.115674769,0.097712681,0.146612466,0.109867222,0.112529928,0.123948674,0.119278097,0.115431349,0.118791101,0.115989653,0.116419359,0.111657735,0.110793486,0.111734783,0.116352201,0.111339265,0.110401971,0.112870672,0.106352192,0.104514443,0.130924887,0.128328241,0.130055424,0.109480166,0.11276112,0.110646016,0.102348993,0.104710679,0.104903678,0.08992416,0.091566005,0.101444517,0.089098532,0.095202843,0.097190927,0.117803099,0.121486854,0.116508314,0.122092562,0.114564193,0.113059818,0.122836819,0.111442574,0.107805907,0.108204356,0.103658537,0.102120236,0.111212232,0.113070351,0.104418395,0.118183334,0.125746552,0.129491342,0.113704614,0.116497733,0.11241984,0.103759264,0.113998767,0.113551524,0.083798247,0.092192973,0.09077697,0.105640345,0.104894197,0.105542606,0.123975775,0.126880815,0.11673736,0.117988595,0.116186141,0.109374232,0.108566755,0.109649711,0.105911167,0.1,0.107119591,0.105829596,0.095892019,0.102308317,0.104807473,0.118685574,0.113556583,0.108998802,0.114619537,0.116898404,0.113030048,0.108777339,0.106532472,0.110042433,0.096257971,0.096219512,0.100738916,0.098713096,0.102198823,0.106034882]}],\"domain\":{\"x\":[0.0,1.0],\"y\":[0.0,1.0]},\"line\":{\"color\":[1,1,1,1,1,1,1,1,1,1,1,1,1,1,1,1,1,1,1,1,1,1,1,1,1,1,1,1,1,1,1,1,1,1,1,1,1,1,1,1,1,1,1,1,1,1,1,1,1,1,1,1,1,1,1,1,1,1,1,1,1,1,1,1,1,1,1,1,1,1,1,1,1,1,1,1,1,1,1,1,1,1,1,1,1,1,1,1,1,1,1,1,1,1,1,1,1,1,1,1,1,1,1,1,1,1,1,1,1,1,1,1,1,1,1,1,1,1,1,1,1,1,1,1,1,1,1,1,1,1,1,1,1,1,1,0,0,0,0,0,0,0,0,0,0,0,0,0,0,0,0,0,0,0,0,0,0,0,0,0,0,0,0,0,0,0,0,0,0,0,0,0,0,0,0,0,0,0,0,0,0,0,0,0,0,0,0,0,0,0,0,0,0,0,0,0,0,0,0,0,0,0,0,0,0,0,0,0,0,0,0,0,0,0,0,0,0,0,0,0,0,0,0,0,0,0,0,0,0,0,0,0,0,0,0,0,0,0,0,0],\"coloraxis\":\"coloraxis\"},\"name\":\"\",\"type\":\"parcoords\"}],                        {\"coloraxis\":{\"cmid\":0.5,\"colorbar\":{\"title\":{\"text\":\"class\"}},\"colorscale\":[[0.0,\"rgb(0, 147, 146)\"],[0.16666666666666666,\"rgb(114, 170, 161)\"],[0.3333333333333333,\"rgb(177, 199, 179)\"],[0.5,\"rgb(241, 234, 200)\"],[0.6666666666666666,\"rgb(229, 185, 173)\"],[0.8333333333333334,\"rgb(217, 137, 148)\"],[1.0,\"rgb(208, 88, 126)\"]]},\"legend\":{\"tracegroupgap\":0},\"margin\":{\"t\":60},\"template\":{\"data\":{\"bar\":[{\"error_x\":{\"color\":\"#2a3f5f\"},\"error_y\":{\"color\":\"#2a3f5f\"},\"marker\":{\"line\":{\"color\":\"#E5ECF6\",\"width\":0.5},\"pattern\":{\"fillmode\":\"overlay\",\"size\":10,\"solidity\":0.2}},\"type\":\"bar\"}],\"barpolar\":[{\"marker\":{\"line\":{\"color\":\"#E5ECF6\",\"width\":0.5},\"pattern\":{\"fillmode\":\"overlay\",\"size\":10,\"solidity\":0.2}},\"type\":\"barpolar\"}],\"carpet\":[{\"aaxis\":{\"endlinecolor\":\"#2a3f5f\",\"gridcolor\":\"white\",\"linecolor\":\"white\",\"minorgridcolor\":\"white\",\"startlinecolor\":\"#2a3f5f\"},\"baxis\":{\"endlinecolor\":\"#2a3f5f\",\"gridcolor\":\"white\",\"linecolor\":\"white\",\"minorgridcolor\":\"white\",\"startlinecolor\":\"#2a3f5f\"},\"type\":\"carpet\"}],\"choropleth\":[{\"colorbar\":{\"outlinewidth\":0,\"ticks\":\"\"},\"type\":\"choropleth\"}],\"contour\":[{\"colorbar\":{\"outlinewidth\":0,\"ticks\":\"\"},\"colorscale\":[[0.0,\"#0d0887\"],[0.1111111111111111,\"#46039f\"],[0.2222222222222222,\"#7201a8\"],[0.3333333333333333,\"#9c179e\"],[0.4444444444444444,\"#bd3786\"],[0.5555555555555556,\"#d8576b\"],[0.6666666666666666,\"#ed7953\"],[0.7777777777777778,\"#fb9f3a\"],[0.8888888888888888,\"#fdca26\"],[1.0,\"#f0f921\"]],\"type\":\"contour\"}],\"contourcarpet\":[{\"colorbar\":{\"outlinewidth\":0,\"ticks\":\"\"},\"type\":\"contourcarpet\"}],\"heatmap\":[{\"colorbar\":{\"outlinewidth\":0,\"ticks\":\"\"},\"colorscale\":[[0.0,\"#0d0887\"],[0.1111111111111111,\"#46039f\"],[0.2222222222222222,\"#7201a8\"],[0.3333333333333333,\"#9c179e\"],[0.4444444444444444,\"#bd3786\"],[0.5555555555555556,\"#d8576b\"],[0.6666666666666666,\"#ed7953\"],[0.7777777777777778,\"#fb9f3a\"],[0.8888888888888888,\"#fdca26\"],[1.0,\"#f0f921\"]],\"type\":\"heatmap\"}],\"heatmapgl\":[{\"colorbar\":{\"outlinewidth\":0,\"ticks\":\"\"},\"colorscale\":[[0.0,\"#0d0887\"],[0.1111111111111111,\"#46039f\"],[0.2222222222222222,\"#7201a8\"],[0.3333333333333333,\"#9c179e\"],[0.4444444444444444,\"#bd3786\"],[0.5555555555555556,\"#d8576b\"],[0.6666666666666666,\"#ed7953\"],[0.7777777777777778,\"#fb9f3a\"],[0.8888888888888888,\"#fdca26\"],[1.0,\"#f0f921\"]],\"type\":\"heatmapgl\"}],\"histogram\":[{\"marker\":{\"pattern\":{\"fillmode\":\"overlay\",\"size\":10,\"solidity\":0.2}},\"type\":\"histogram\"}],\"histogram2d\":[{\"colorbar\":{\"outlinewidth\":0,\"ticks\":\"\"},\"colorscale\":[[0.0,\"#0d0887\"],[0.1111111111111111,\"#46039f\"],[0.2222222222222222,\"#7201a8\"],[0.3333333333333333,\"#9c179e\"],[0.4444444444444444,\"#bd3786\"],[0.5555555555555556,\"#d8576b\"],[0.6666666666666666,\"#ed7953\"],[0.7777777777777778,\"#fb9f3a\"],[0.8888888888888888,\"#fdca26\"],[1.0,\"#f0f921\"]],\"type\":\"histogram2d\"}],\"histogram2dcontour\":[{\"colorbar\":{\"outlinewidth\":0,\"ticks\":\"\"},\"colorscale\":[[0.0,\"#0d0887\"],[0.1111111111111111,\"#46039f\"],[0.2222222222222222,\"#7201a8\"],[0.3333333333333333,\"#9c179e\"],[0.4444444444444444,\"#bd3786\"],[0.5555555555555556,\"#d8576b\"],[0.6666666666666666,\"#ed7953\"],[0.7777777777777778,\"#fb9f3a\"],[0.8888888888888888,\"#fdca26\"],[1.0,\"#f0f921\"]],\"type\":\"histogram2dcontour\"}],\"mesh3d\":[{\"colorbar\":{\"outlinewidth\":0,\"ticks\":\"\"},\"type\":\"mesh3d\"}],\"parcoords\":[{\"line\":{\"colorbar\":{\"outlinewidth\":0,\"ticks\":\"\"}},\"type\":\"parcoords\"}],\"pie\":[{\"automargin\":true,\"type\":\"pie\"}],\"scatter\":[{\"marker\":{\"colorbar\":{\"outlinewidth\":0,\"ticks\":\"\"}},\"type\":\"scatter\"}],\"scatter3d\":[{\"line\":{\"colorbar\":{\"outlinewidth\":0,\"ticks\":\"\"}},\"marker\":{\"colorbar\":{\"outlinewidth\":0,\"ticks\":\"\"}},\"type\":\"scatter3d\"}],\"scattercarpet\":[{\"marker\":{\"colorbar\":{\"outlinewidth\":0,\"ticks\":\"\"}},\"type\":\"scattercarpet\"}],\"scattergeo\":[{\"marker\":{\"colorbar\":{\"outlinewidth\":0,\"ticks\":\"\"}},\"type\":\"scattergeo\"}],\"scattergl\":[{\"marker\":{\"colorbar\":{\"outlinewidth\":0,\"ticks\":\"\"}},\"type\":\"scattergl\"}],\"scattermapbox\":[{\"marker\":{\"colorbar\":{\"outlinewidth\":0,\"ticks\":\"\"}},\"type\":\"scattermapbox\"}],\"scatterpolar\":[{\"marker\":{\"colorbar\":{\"outlinewidth\":0,\"ticks\":\"\"}},\"type\":\"scatterpolar\"}],\"scatterpolargl\":[{\"marker\":{\"colorbar\":{\"outlinewidth\":0,\"ticks\":\"\"}},\"type\":\"scatterpolargl\"}],\"scatterternary\":[{\"marker\":{\"colorbar\":{\"outlinewidth\":0,\"ticks\":\"\"}},\"type\":\"scatterternary\"}],\"surface\":[{\"colorbar\":{\"outlinewidth\":0,\"ticks\":\"\"},\"colorscale\":[[0.0,\"#0d0887\"],[0.1111111111111111,\"#46039f\"],[0.2222222222222222,\"#7201a8\"],[0.3333333333333333,\"#9c179e\"],[0.4444444444444444,\"#bd3786\"],[0.5555555555555556,\"#d8576b\"],[0.6666666666666666,\"#ed7953\"],[0.7777777777777778,\"#fb9f3a\"],[0.8888888888888888,\"#fdca26\"],[1.0,\"#f0f921\"]],\"type\":\"surface\"}],\"table\":[{\"cells\":{\"fill\":{\"color\":\"#EBF0F8\"},\"line\":{\"color\":\"white\"}},\"header\":{\"fill\":{\"color\":\"#C8D4E3\"},\"line\":{\"color\":\"white\"}},\"type\":\"table\"}]},\"layout\":{\"annotationdefaults\":{\"arrowcolor\":\"#2a3f5f\",\"arrowhead\":0,\"arrowwidth\":1},\"autotypenumbers\":\"strict\",\"coloraxis\":{\"colorbar\":{\"outlinewidth\":0,\"ticks\":\"\"}},\"colorscale\":{\"diverging\":[[0,\"#8e0152\"],[0.1,\"#c51b7d\"],[0.2,\"#de77ae\"],[0.3,\"#f1b6da\"],[0.4,\"#fde0ef\"],[0.5,\"#f7f7f7\"],[0.6,\"#e6f5d0\"],[0.7,\"#b8e186\"],[0.8,\"#7fbc41\"],[0.9,\"#4d9221\"],[1,\"#276419\"]],\"sequential\":[[0.0,\"#0d0887\"],[0.1111111111111111,\"#46039f\"],[0.2222222222222222,\"#7201a8\"],[0.3333333333333333,\"#9c179e\"],[0.4444444444444444,\"#bd3786\"],[0.5555555555555556,\"#d8576b\"],[0.6666666666666666,\"#ed7953\"],[0.7777777777777778,\"#fb9f3a\"],[0.8888888888888888,\"#fdca26\"],[1.0,\"#f0f921\"]],\"sequentialminus\":[[0.0,\"#0d0887\"],[0.1111111111111111,\"#46039f\"],[0.2222222222222222,\"#7201a8\"],[0.3333333333333333,\"#9c179e\"],[0.4444444444444444,\"#bd3786\"],[0.5555555555555556,\"#d8576b\"],[0.6666666666666666,\"#ed7953\"],[0.7777777777777778,\"#fb9f3a\"],[0.8888888888888888,\"#fdca26\"],[1.0,\"#f0f921\"]]},\"colorway\":[\"#636efa\",\"#EF553B\",\"#00cc96\",\"#ab63fa\",\"#FFA15A\",\"#19d3f3\",\"#FF6692\",\"#B6E880\",\"#FF97FF\",\"#FECB52\"],\"font\":{\"color\":\"#2a3f5f\"},\"geo\":{\"bgcolor\":\"white\",\"lakecolor\":\"white\",\"landcolor\":\"#E5ECF6\",\"showlakes\":true,\"showland\":true,\"subunitcolor\":\"white\"},\"hoverlabel\":{\"align\":\"left\"},\"hovermode\":\"closest\",\"mapbox\":{\"style\":\"light\"},\"paper_bgcolor\":\"white\",\"plot_bgcolor\":\"#E5ECF6\",\"polar\":{\"angularaxis\":{\"gridcolor\":\"white\",\"linecolor\":\"white\",\"ticks\":\"\"},\"bgcolor\":\"#E5ECF6\",\"radialaxis\":{\"gridcolor\":\"white\",\"linecolor\":\"white\",\"ticks\":\"\"}},\"scene\":{\"xaxis\":{\"backgroundcolor\":\"#E5ECF6\",\"gridcolor\":\"white\",\"gridwidth\":2,\"linecolor\":\"white\",\"showbackground\":true,\"ticks\":\"\",\"zerolinecolor\":\"white\"},\"yaxis\":{\"backgroundcolor\":\"#E5ECF6\",\"gridcolor\":\"white\",\"gridwidth\":2,\"linecolor\":\"white\",\"showbackground\":true,\"ticks\":\"\",\"zerolinecolor\":\"white\"},\"zaxis\":{\"backgroundcolor\":\"#E5ECF6\",\"gridcolor\":\"white\",\"gridwidth\":2,\"linecolor\":\"white\",\"showbackground\":true,\"ticks\":\"\",\"zerolinecolor\":\"white\"}},\"shapedefaults\":{\"line\":{\"color\":\"#2a3f5f\"}},\"ternary\":{\"aaxis\":{\"gridcolor\":\"white\",\"linecolor\":\"white\",\"ticks\":\"\"},\"baxis\":{\"gridcolor\":\"white\",\"linecolor\":\"white\",\"ticks\":\"\"},\"bgcolor\":\"#E5ECF6\",\"caxis\":{\"gridcolor\":\"white\",\"linecolor\":\"white\",\"ticks\":\"\"}},\"title\":{\"x\":0.05},\"xaxis\":{\"automargin\":true,\"gridcolor\":\"white\",\"linecolor\":\"white\",\"ticks\":\"\",\"title\":{\"standoff\":15},\"zerolinecolor\":\"white\",\"zerolinewidth\":2},\"yaxis\":{\"automargin\":true,\"gridcolor\":\"white\",\"linecolor\":\"white\",\"ticks\":\"\",\"title\":{\"standoff\":15},\"zerolinecolor\":\"white\",\"zerolinewidth\":2}}}},                        {\"responsive\": true}                    ).then(function(){\n",
       "                            \n",
       "var gd = document.getElementById('8a978869-1f8f-4c8e-a45f-38b2512da442');\n",
       "var x = new MutationObserver(function (mutations, observer) {{\n",
       "        var display = window.getComputedStyle(gd).display;\n",
       "        if (!display || display === 'none') {{\n",
       "            console.log([gd, 'removed!']);\n",
       "            Plotly.purge(gd);\n",
       "            observer.disconnect();\n",
       "        }}\n",
       "}});\n",
       "\n",
       "// Listen for the removal of the full notebook cells\n",
       "var notebookContainer = gd.closest('#notebook-container');\n",
       "if (notebookContainer) {{\n",
       "    x.observe(notebookContainer, {childList: true});\n",
       "}}\n",
       "\n",
       "// Listen for the clearing of the current output cell\n",
       "var outputEl = gd.closest('.output');\n",
       "if (outputEl) {{\n",
       "    x.observe(outputEl, {childList: true});\n",
       "}}\n",
       "\n",
       "                        })                };                });            </script>        </div>"
      ]
     },
     "metadata": {},
     "output_type": "display_data"
    }
   ],
   "source": [
    "fig = px.parallel_coordinates(new_df, color=\"class\", \n",
    "                              dimensions=['pPKCG_N', 'pP70S6_N','pS6_N', 'pGSK3B_N','ARC_N'],\n",
    "                             color_continuous_scale=px.colors.diverging.Tealrose,\n",
    "                             color_continuous_midpoint=0.5)\n",
    "fig.show()"
   ]
  },
  {
   "cell_type": "markdown",
   "metadata": {},
   "source": [
    "### c) Explore the data by interacting with the parallel coordinates plot. Do you find anything suspicious about the data set? (1P)"
   ]
  },
  {
   "cell_type": "markdown",
   "metadata": {},
   "source": [
    "I don't know, there may be some repeating data in the data set?"
   ]
  },
  {
   "cell_type": "markdown",
   "metadata": {},
   "source": [
    "## Exercise 2 (Comparing RadViz and Star Coordinates, 14 Points)\n",
    "### a) As we mentioned in the lecture, the star coordinates, and RadViz are two popular multidimensional data visualization techniques. Why can they also be interpreted as dimensionality reduction techniques? (1P)"
   ]
  },
  {
   "cell_type": "markdown",
   "metadata": {},
   "source": [
    "In order to present high dimensional data as graphs, many multidimensional data visualization techniques (like the star coordinates and RadViz) define procedures that can map numerical multivariate data onto low dimention form. So they can also be interpreted as dimensionality reduction techniques"
   ]
  },
  {
   "cell_type": "markdown",
   "metadata": {},
   "source": [
    "### b) In general, the authors of this paper prefer star coordinates over RadViz. Briefly explain two reasons for their preference. (2P)"
   ]
  },
  {
   "cell_type": "markdown",
   "metadata": {},
   "source": [
    "* The normalization step in RadViz introduces nonlinear distotions when dealing with data. These nonlinear distortions can interrupt outlier detections, make it difficult to associate the plots with other useful linear mappings and affect the accuracy of estimating original data attributes.\n",
    "* Also, there is less flexibility when choosing different layouts and views in RadViz."
   ]
  },
  {
   "cell_type": "markdown",
   "metadata": {},
   "source": [
    "### c) Despite this, the authors mention a specific use case where they consider RadViz to be superior to star coordinates. Briefly explain what this use case is and why they prefer RadViz in this case. (2P)"
   ]
  },
  {
   "cell_type": "markdown",
   "metadata": {},
   "source": [
    "The use case is when the data samples contains only a few related attributes which are larger than the other attributes. Because of the extra normalization step in RadViz, it is superior to star coordinates when using in this kind of cases."
   ]
  },
  {
   "cell_type": "markdown",
   "metadata": {},
   "source": [
    "### d) Neither RadViz nor star coordinates provide a one-to-one mapping between a data point's high-dimensional location and its two-dimensional projection. Interactively modifying the anchor points or axes, respectively, can reduce the resulting ambiguities. However, the paper mentions two examples in which, unlike star coordinates, RadViz introduces ambiguities that cannot be resolved with any rearrangement of the anchor points. Point out these two examples. Could the extended RadViz that we learned about in the lecture resolve them? (3P)"
   ]
  },
  {
   "cell_type": "markdown",
   "metadata": {},
   "source": [
    "* RadViz introduces ambiguities in the estimation of original data attributes and arbitrary layouts. \n",
    "* The extended RadViz can't solve these problems. Because those ambiguities are caused by the normalization step in RadViz, the extended RadViz doesn't solve the problems brought by the extr normalization."
   ]
  },
  {
   "cell_type": "markdown",
   "metadata": {},
   "source": [
    "### e) Several methods have been proposed to optimize the locations of anchor points in RadViz to obtain an improved separation of classes in the resulting projection. How did two such algorithms compare to supervised linear dimensionality reduction techniques in the experiments reported in this paper, in terms of (i) computational effort and (ii) achieved class separation? (2P)"
   ]
  },
  {
   "cell_type": "markdown",
   "metadata": {},
   "source": [
    "The computational effort is much larger when using these two algorithms and regular configurations are often not enough to get a satisfied class seperation. On the contrary, other dimensionality reduction methods that can generate linear mappings can seperate classes optimally."
   ]
  },
  {
   "cell_type": "markdown",
   "metadata": {},
   "source": [
    "### f) The authors propose that star coordinates could be combined with Linear Discriminant Analysis in order to perform a manual feature selection. Briefly explain how that approach works. (2P)"
   ]
  },
  {
   "cell_type": "markdown",
   "metadata": {},
   "source": [
    "To correctly select features is time-consuming and complex,it is also not enough to only use regular configurations of star coordinates. Combining other linear dimensionality reduction methods can generate linear mappings. Matrices related to the mappings can be computed automatically and thus specifies the axis vectors that can be used."
   ]
  },
  {
   "cell_type": "markdown",
   "metadata": {},
   "source": [
    "### g) Briefly explain why anchor points in RadViz are commonly chosen such that they form a corner of the overall convex hull. Is this property also met for the star coordinate axis configuration in Fig. 12 (a)? Is it true in Fig. 12 (b)? (2P)"
   ]
  },
  {
   "cell_type": "markdown",
   "metadata": {},
   "source": [
    "The anchor points are chosen in this way in order to analyze sparse data effectively. This property isn't met for the star coordinate axis configuration in Fig. 12 (a) but I think it is true in Fig. 12 (b)."
   ]
  },
  {
   "cell_type": "markdown",
   "metadata": {},
   "source": [
    "## Exercise 3 (Principal Component Analysis, 17 Points)"
   ]
  },
  {
   "cell_type": "code",
   "execution_count": 12,
   "metadata": {},
   "outputs": [],
   "source": [
    "import pandas as pd\n",
    "import numpy as np\n",
    "import scipy\n",
    "import scipy.interpolate\n",
    "import scipy.stats\n",
    "import matplotlib.pyplot as plt\n",
    "import matplotlib.ticker as ticker\n",
    "import seaborn as sns\n",
    "from sklearn.decomposition import PCA\n",
    "from sklearn.manifold import Isomap\n",
    "from sklearn.manifold import TSNE\n",
    "from pandas.core.frame import DataFrame\n",
    "from pandas.core.series import Series\n",
    "pd.options.mode.chained_assignment = None"
   ]
  },
  {
   "cell_type": "markdown",
   "metadata": {},
   "source": [
    "### a) Write a program to read the breast-cancer-wisconsin.xlsx file again. Interpolate missing values as before, but keep all variables this time. Perform a Principal Component Analysis (PCA) on the values. (2P) Make a plot that, for any number n, shows what fraction of the overall variance in the data is contained in the first n principal components. (2P) How many components do we need to cover >= 90% of the variance? (1P)"
   ]
  },
  {
   "cell_type": "code",
   "execution_count": 13,
   "metadata": {},
   "outputs": [
    {
     "data": {
      "text/html": [
       "<div>\n",
       "<style scoped>\n",
       "    .dataframe tbody tr th:only-of-type {\n",
       "        vertical-align: middle;\n",
       "    }\n",
       "\n",
       "    .dataframe tbody tr th {\n",
       "        vertical-align: top;\n",
       "    }\n",
       "\n",
       "    .dataframe thead th {\n",
       "        text-align: right;\n",
       "    }\n",
       "</style>\n",
       "<table border=\"1\" class=\"dataframe\">\n",
       "  <thead>\n",
       "    <tr style=\"text-align: right;\">\n",
       "      <th></th>\n",
       "      <th>code</th>\n",
       "      <th>thickness</th>\n",
       "      <th>uniCelS</th>\n",
       "      <th>uniCelShape</th>\n",
       "      <th>marAdh</th>\n",
       "      <th>epiCelSize</th>\n",
       "      <th>bareNuc</th>\n",
       "      <th>blaChroma</th>\n",
       "      <th>normNuc</th>\n",
       "      <th>mitoses</th>\n",
       "      <th>class</th>\n",
       "    </tr>\n",
       "  </thead>\n",
       "  <tbody>\n",
       "    <tr>\n",
       "      <th>0</th>\n",
       "      <td>1000025</td>\n",
       "      <td>5</td>\n",
       "      <td>1</td>\n",
       "      <td>1</td>\n",
       "      <td>1</td>\n",
       "      <td>2</td>\n",
       "      <td>1.0</td>\n",
       "      <td>3</td>\n",
       "      <td>1</td>\n",
       "      <td>1</td>\n",
       "      <td>2</td>\n",
       "    </tr>\n",
       "    <tr>\n",
       "      <th>1</th>\n",
       "      <td>1002945</td>\n",
       "      <td>5</td>\n",
       "      <td>4</td>\n",
       "      <td>4</td>\n",
       "      <td>5</td>\n",
       "      <td>7</td>\n",
       "      <td>10.0</td>\n",
       "      <td>3</td>\n",
       "      <td>2</td>\n",
       "      <td>1</td>\n",
       "      <td>2</td>\n",
       "    </tr>\n",
       "    <tr>\n",
       "      <th>2</th>\n",
       "      <td>1015425</td>\n",
       "      <td>3</td>\n",
       "      <td>1</td>\n",
       "      <td>1</td>\n",
       "      <td>1</td>\n",
       "      <td>2</td>\n",
       "      <td>2.0</td>\n",
       "      <td>3</td>\n",
       "      <td>1</td>\n",
       "      <td>1</td>\n",
       "      <td>2</td>\n",
       "    </tr>\n",
       "    <tr>\n",
       "      <th>3</th>\n",
       "      <td>1016277</td>\n",
       "      <td>6</td>\n",
       "      <td>8</td>\n",
       "      <td>8</td>\n",
       "      <td>1</td>\n",
       "      <td>3</td>\n",
       "      <td>4.0</td>\n",
       "      <td>3</td>\n",
       "      <td>7</td>\n",
       "      <td>1</td>\n",
       "      <td>2</td>\n",
       "    </tr>\n",
       "    <tr>\n",
       "      <th>4</th>\n",
       "      <td>1017023</td>\n",
       "      <td>4</td>\n",
       "      <td>1</td>\n",
       "      <td>1</td>\n",
       "      <td>3</td>\n",
       "      <td>2</td>\n",
       "      <td>1.0</td>\n",
       "      <td>3</td>\n",
       "      <td>1</td>\n",
       "      <td>1</td>\n",
       "      <td>2</td>\n",
       "    </tr>\n",
       "  </tbody>\n",
       "</table>\n",
       "</div>"
      ],
      "text/plain": [
       "      code  thickness  uniCelS  uniCelShape  marAdh  epiCelSize  bareNuc  \\\n",
       "0  1000025          5        1            1       1           2      1.0   \n",
       "1  1002945          5        4            4       5           7     10.0   \n",
       "2  1015425          3        1            1       1           2      2.0   \n",
       "3  1016277          6        8            8       1           3      4.0   \n",
       "4  1017023          4        1            1       3           2      1.0   \n",
       "\n",
       "   blaChroma  normNuc  mitoses  class  \n",
       "0          3        1        1      2  \n",
       "1          3        2        1      2  \n",
       "2          3        1        1      2  \n",
       "3          3        7        1      2  \n",
       "4          3        1        1      2  "
      ]
     },
     "execution_count": 13,
     "metadata": {},
     "output_type": "execute_result"
    }
   ],
   "source": [
    "data = pd.read_excel('breast-cancer-wisconsin.xlsx')\n",
    "data.head()"
   ]
  },
  {
   "cell_type": "code",
   "execution_count": 14,
   "metadata": {},
   "outputs": [],
   "source": [
    "def interpolate_column(data: DataFrame, column: str) -> Series:\n",
    "    samples_with_missing_values_list = data[data.loc[:, column].isna()].index.tolist()\n",
    "    data_subset = data.drop(samples_with_missing_values_list)\n",
    "    predictor = scipy.interpolate.NearestNDInterpolator(data_subset.drop(column,axis=1), data_subset[column])\n",
    "    predicted_column = predictor(data.drop(columns=column, axis=1))\n",
    "    result_column = data[column]\n",
    "    result_column[samples_with_missing_values_list] =predicted_column[samples_with_missing_values_list]\n",
    "    return result_column\n",
    "def show_pca_variance_plot(explained_variance_ratio: np.ndarray) -> None:\n",
    "    components_nums = range(len(explained_variance_ratio))\n",
    "    fig, ax = plt.subplots(1, 1)\n",
    "    ax.plot(components_nums, explained_variance_ratio, marker=\".\", markersize=10)\n",
    "    ax.xaxis.set_major_locator(ticker.MultipleLocator(1))\n",
    "    ax.set_xlabel(\"Number of components\")\n",
    "    ax.set_ylabel(\"Variance\")\n",
    "    ax.axvline(4, linestyle='--', color='red')\n",
    "    ax.axhline(.9, linestyle='--', color='red')\n",
    "    ax.grid()"
   ]
  },
  {
   "cell_type": "code",
   "execution_count": 15,
   "metadata": {},
   "outputs": [
    {
     "data": {
      "text/plain": [
       "0"
      ]
     },
     "execution_count": 15,
     "metadata": {},
     "output_type": "execute_result"
    }
   ],
   "source": [
    "data_cut = data.drop(columns = \"code\")\n",
    "data[\"bareNuc\"] = interpolate_column(data_cut, \"bareNuc\")\n",
    "data[\"bareNuc\"].isna().sum()"
   ]
  },
  {
   "cell_type": "code",
   "execution_count": 16,
   "metadata": {},
   "outputs": [
    {
     "data": {
      "image/png": "[encoded data removed]",
      "text/plain": [
       "<Figure size 432x288 with 1 Axes>"
      ]
     },
     "metadata": {
      "needs_background": "light"
     },
     "output_type": "display_data"
    }
   ],
   "source": [
    "pca = PCA()\n",
    "pca.fit(data.drop(columns=\"code\"))\n",
    "explained_variance_ratio = pca.explained_variance_ratio_.cumsum()\n",
    "show_pca_variance_plot(explained_variance_ratio)"
   ]
  },
  {
   "cell_type": "markdown",
   "metadata": {},
   "source": [
    "We need at least 5 components to cover ≥ 90% of the variance."
   ]
  },
  {
   "cell_type": "markdown",
   "metadata": {},
   "source": [
    "### b) Each sample is now characterized by a point in PCA space. Create a scatter plot matrix that shows the first five principal components. Each diagonal cell should contain two overlaid density plots, one for the benign and one for the malignant class. Use different colors to distinguish between the classes, and add a legend that clearly states which samples are benign or malignant. (3P)"
   ]
  },
  {
   "cell_type": "code",
   "execution_count": 17,
   "metadata": {},
   "outputs": [],
   "source": [
    "def run_pca(data: DataFrame, n_components: int, class_attr: str = \"class\")->DataFrame:\n",
    "    data_cut = data.drop(columns=class_attr)\n",
    "    pca = PCA(n_components=n_components)\n",
    "    transformed_data = pca.fit(data_cut).transform(data_cut)\n",
    "    transformed_data = pd.DataFrame(data=transformed_data)\n",
    "    transformed_data[class_attr] = data[class_attr].reset_index()[class_attr]\n",
    "    loadings = pca.components_\n",
    "    header = [\"PC{0}\".format(x + 1) for x in range(loadings.shape[0])]\n",
    "    df_loadings = pd.DataFrame(data=loadings, index=header, columns=data_cut.columns)\n",
    "    return (transformed_data, df_loadings)\n",
    "def show_pairplot(data: DataFrame, class_labels=None) -> None:\n",
    "    g = sns.pairplot(data, hue=\"class\")\n",
    "    \n",
    "    if class_labels:\n",
    "        for t in g._legend.texts:\n",
    "            t.set_text(class_labels[t.get_text()])\n",
    "    g._legend.set_bbox_to_anchor((1.1, 1))"
   ]
  },
  {
   "cell_type": "code",
   "execution_count": 18,
   "metadata": {},
   "outputs": [],
   "source": [
    "transformed_data = run_pca(data_cut, 5)[0]\n",
    "# transformed_data.head()"
   ]
  },
  {
   "cell_type": "code",
   "execution_count": 19,
   "metadata": {},
   "outputs": [
    {
     "data": {
      "image/png": "[encoded data removed]",
      "text/plain": [
       "<Figure size 942.375x900 with 30 Axes>"
      ]
     },
     "metadata": {
      "needs_background": "light"
     },
     "output_type": "display_data"
    }
   ],
   "source": [
    "CLASS_LABELS = {\n",
    "\"2\": \"benign\",\n",
    "\"4\": \"malignant\"\n",
    "}\n",
    "show_pairplot(transformed_data, CLASS_LABELS)"
   ]
  },
  {
   "cell_type": "markdown",
   "metadata": {},
   "source": [
    "### c) Which PCA mode shows the strongest difference between the benign and the malignant samples? Name the original variables that have the highest and lowest weights in its definition, respectively. (3P)"
   ]
  },
  {
   "cell_type": "markdown",
   "metadata": {},
   "source": [
    "The PCA mode “0” shows the strongest difference between the benign and the malignant samples. The original variables that have the highest and lowest wights: “bareNuc” and “mitoses” respectively."
   ]
  },
  {
   "cell_type": "code",
   "execution_count": 20,
   "metadata": {},
   "outputs": [
    {
     "data": {
      "text/html": [
       "<div>\n",
       "<style scoped>\n",
       "    .dataframe tbody tr th:only-of-type {\n",
       "        vertical-align: middle;\n",
       "    }\n",
       "\n",
       "    .dataframe tbody tr th {\n",
       "        vertical-align: top;\n",
       "    }\n",
       "\n",
       "    .dataframe thead th {\n",
       "        text-align: right;\n",
       "    }\n",
       "</style>\n",
       "<table border=\"1\" class=\"dataframe\">\n",
       "  <thead>\n",
       "    <tr style=\"text-align: right;\">\n",
       "      <th></th>\n",
       "      <th>thickness</th>\n",
       "      <th>uniCelS</th>\n",
       "      <th>uniCelShape</th>\n",
       "      <th>marAdh</th>\n",
       "      <th>epiCelSize</th>\n",
       "      <th>bareNuc</th>\n",
       "      <th>blaChroma</th>\n",
       "      <th>normNuc</th>\n",
       "      <th>mitoses</th>\n",
       "    </tr>\n",
       "  </thead>\n",
       "  <tbody>\n",
       "    <tr>\n",
       "      <th>PC1</th>\n",
       "      <td>0.297623</td>\n",
       "      <td>0.40339</td>\n",
       "      <td>0.391298</td>\n",
       "      <td>0.330883</td>\n",
       "      <td>0.249457</td>\n",
       "      <td>0.443425</td>\n",
       "      <td>0.29176</td>\n",
       "      <td>0.356387</td>\n",
       "      <td>0.122922</td>\n",
       "    </tr>\n",
       "  </tbody>\n",
       "</table>\n",
       "</div>"
      ],
      "text/plain": [
       "     thickness  uniCelS  uniCelShape    marAdh  epiCelSize   bareNuc  \\\n",
       "PC1   0.297623  0.40339     0.391298  0.330883    0.249457  0.443425   \n",
       "\n",
       "     blaChroma   normNuc   mitoses  \n",
       "PC1    0.29176  0.356387  0.122922  "
      ]
     },
     "execution_count": 20,
     "metadata": {},
     "output_type": "execute_result"
    }
   ],
   "source": [
    "run_pca(data_cut, 5)[1].head(1)"
   ]
  },
  {
   "cell_type": "markdown",
   "metadata": {},
   "source": [
    "### d) Scatterplot matrices often reveal outliers in the data. Visually identify at least one sample that is far away from the others, remove it from the dataset, and re-generate the scatterplot matrix without it. (3P)"
   ]
  },
  {
   "cell_type": "markdown",
   "metadata": {},
   "source": [
    "Visually, there is 1 outlier for the component “3” which have unusual values exceeding 8."
   ]
  },
  {
   "cell_type": "code",
   "execution_count": 21,
   "metadata": {},
   "outputs": [
    {
     "data": {
      "text/html": [
       "<div>\n",
       "<style scoped>\n",
       "    .dataframe tbody tr th:only-of-type {\n",
       "        vertical-align: middle;\n",
       "    }\n",
       "\n",
       "    .dataframe tbody tr th {\n",
       "        vertical-align: top;\n",
       "    }\n",
       "\n",
       "    .dataframe thead th {\n",
       "        text-align: right;\n",
       "    }\n",
       "</style>\n",
       "<table border=\"1\" class=\"dataframe\">\n",
       "  <thead>\n",
       "    <tr style=\"text-align: right;\">\n",
       "      <th></th>\n",
       "      <th>0</th>\n",
       "      <th>1</th>\n",
       "      <th>2</th>\n",
       "      <th>3</th>\n",
       "      <th>4</th>\n",
       "      <th>class</th>\n",
       "    </tr>\n",
       "  </thead>\n",
       "  <tbody>\n",
       "    <tr>\n",
       "      <th>167</th>\n",
       "      <td>8.478326</td>\n",
       "      <td>4.32948</td>\n",
       "      <td>-2.026009</td>\n",
       "      <td>10.099392</td>\n",
       "      <td>-4.017767</td>\n",
       "      <td>4</td>\n",
       "    </tr>\n",
       "  </tbody>\n",
       "</table>\n",
       "</div>"
      ],
      "text/plain": [
       "            0        1         2          3         4  class\n",
       "167  8.478326  4.32948 -2.026009  10.099392 -4.017767      4"
      ]
     },
     "execution_count": 21,
     "metadata": {},
     "output_type": "execute_result"
    }
   ],
   "source": [
    "outlier = transformed_data.loc[transformed_data[3] > 8, :]\n",
    "outlier"
   ]
  },
  {
   "cell_type": "code",
   "execution_count": 22,
   "metadata": {},
   "outputs": [
    {
     "data": {
      "image/png": "[encoded data removed]",
      "text/plain": [
       "<Figure size 942.375x900 with 30 Axes>"
      ]
     },
     "metadata": {
      "needs_background": "light"
     },
     "output_type": "display_data"
    }
   ],
   "source": [
    "transformed_data_without_outlier = transformed_data.drop(outlier.index)\n",
    "show_pairplot(transformed_data_without_outlier, CLASS_LABELS)"
   ]
  },
  {
   "cell_type": "markdown",
   "metadata": {},
   "source": [
    "### e) In the breast cancer dataset, all variables xi have a similar range, xi ∈ [1; 10]. If the variables of a dataset have very different ranges, for example one variable x1 ∈ [1000; 2000] and another one x2 ∈ [1; 5], how would this affect the PCA? Could it make sense to pre-process the data in such cases? Why and how? (3P)"
   ]
  },
  {
   "cell_type": "markdown",
   "metadata": {},
   "source": [
    "If the variables of a dataset have very different ranges, then one of these variables will not affect the principal component value, and the principal component will reflect only the value of the other variable. In this case it can be very useful to normalize values onto the same values range (e.g. [0; 1])."
   ]
  },
  {
   "cell_type": "markdown",
   "metadata": {},
   "source": [
    "## Exercise 4 (Pitfalls in t-SNE, 8 Points)"
   ]
  },
  {
   "cell_type": "markdown",
   "metadata": {},
   "source": [
    "### a) Pick the \"three clusters with equal numbers of points\" data set. Set the number of points per class to 10, and number of dimensions to 50. Run the demo once with perplexity=29, and once with perplexity=30. Explain why there is a big difference in the final 2D embedding? (2P)"
   ]
  },
  {
   "cell_type": "markdown",
   "metadata": {},
   "source": [
    "Perplexity is greater than number of points per class. Slightly changing of the perplexity may have huge effect on the reault as it is a global parameter. Still, the points are too few while the dimension is large, this may also be a reason for the big difference."
   ]
  },
  {
   "cell_type": "markdown",
   "metadata": {},
   "source": [
    "### b) Try the example \"a square grid with equal spacing between points\", with 20 points per side. In the resulting plot with perplexity=100, why are distances between points in the middle of the square larger than near the boundary? (3P)"
   ]
  },
  {
   "cell_type": "markdown",
   "metadata": {},
   "source": [
    "Distance of well-seperated points may mean nothing in a t-SNE plot.T-SNE tends to expand the denser regions of a group of data. Although we know the points are evenly distributed, t-SNE recognizes the middles of the clusters have less empty space around them than the ends. So the it magnifies those in the middle."
   ]
  },
  {
   "cell_type": "markdown",
   "metadata": {},
   "source": [
    "### c) Pick \"a square grid with equal spacing between points\" data set, with 20 points per side, and perplexity=2. Run t-SNE multiple times. You will observe that the square grid sometimes breaks down into separate smaller clusters. Why? (3P)"
   ]
  },
  {
   "cell_type": "markdown",
   "metadata": {},
   "source": [
    "We can sometimes see patterns in what is really just random data, those \"clumps\" are not meaningful. particularly, low perplexity values often lead to this kind of distribution. When at low perplexity, local effects and meaningless “clumping” take center stage of the plot, resulting misleadings."
   ]
  }
 ],
 "metadata": {
  "kernelspec": {
   "display_name": "Python 3",
   "language": "python",
   "name": "python3"
  },
  "language_info": {
   "codemirror_mode": {
    "name": "ipython",
    "version": 3
   },
   "file_extension": ".py",
   "mimetype": "text/x-python",
   "name": "python",
   "nbconvert_exporter": "python",
   "pygments_lexer": "ipython3",
   "version": "3.8.3"
  }
 },
 "nbformat": 4,
 "nbformat_minor": 4
}
