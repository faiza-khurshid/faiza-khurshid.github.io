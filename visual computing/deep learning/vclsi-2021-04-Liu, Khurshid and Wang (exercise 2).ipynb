{
 "cells": [
  {
   "cell_type": "markdown",
   "metadata": {},
   "source": [
    "# vclsi-04 exercise 2"
   ]
  },
  {
   "cell_type": "code",
   "execution_count": 1,
   "metadata": {},
   "outputs": [],
   "source": [
    "%matplotlib inline"
   ]
  },
  {
   "cell_type": "markdown",
   "metadata": {},
   "source": [
    "\n",
    "PyTorch Transfer Learning Tutorial\n",
    "==============================================\n",
    "**Original Author**: `Sasank Chilamkurthy <https://chsasank.github.io>`\n",
    "\n",
    "**Modifications**: `Simon Mueller <simue@uni-bonn.de>`\n",
    "\n",
    "Link to original tutorial: [Link](https://pytorch.org/tutorials/beginner/transfer_learning_tutorial.html)\n",
    "\n",
    "\n",
    "In this tutorial, you will learn how to train a convolutional neural network for\n",
    "image classification using transfer learning and a toy dataset.\n",
    "Additional References:\n",
    "* [PyTorch Documentation](https://pytorch.org/tutorials)\n",
    "* [Deep transfer learning tutorial](https://towardsdatascience.com/a-comprehensive-hands-on-guide-to-transfer-learning-with-real-world-applications-in-deep-learning-212bf3b2f27a)\n",
    "\n",
    "In practice, very few people train an entire Convolutional Network\n",
    "from scratch (with random initialization), because it is relatively\n",
    "rare to have a dataset of sufficient size. Instead, it is common to\n",
    "pretrain a ConvNet on a very large dataset (e.g. ImageNet, which\n",
    "contains 1.2 million images with 1000 categories), and then use the\n",
    "ConvNet either as an initialization or a fixed feature extractor for\n",
    "the task of interest.\n",
    "\n",
    "There are two major transfer learning scenarios finetuning and feature extraction.\n",
    "\n",
    "**Finetuning a convnet**: Instead of random weight and bias generation, we\n",
    "initialize the model with a pretrained network, for example one optimized for \n",
    "the imagenet 1000 challenge dataset. The rest of the finetuning process showcases\n",
    "how a convoulaitonal network can be trained.\n",
    "\n",
    "**Features extraction**: Here, we will freeze the weights of a certain amount of layers and only train the remaining ones."
   ]
  },
  {
   "cell_type": "code",
   "execution_count": 4,
   "metadata": {},
   "outputs": [],
   "source": [
    "import torch\n",
    "import torch.nn as nn\n",
    "import torch.optim as optim\n",
    "from torch.optim import lr_scheduler\n",
    "import numpy as np\n",
    "import torchvision\n",
    "from torchvision import datasets, models, transforms\n",
    "import matplotlib.pyplot as plt\n",
    "import time\n",
    "import os\n",
    "import copy\n",
    "from tqdm import tqdm_notebook as tqdm\n",
    "\n",
    "plt.ion()   # interactive mode"
   ]
  },
  {
   "cell_type": "markdown",
   "metadata": {},
   "source": [
    "Exercise 1 (9 Points)\n",
    "---------\n",
    "\n",
    "We will use torchvision and torch.utils.data packages for loading the\n",
    "data.\n",
    "\n",
    "The problem we're going to solve today is to train a model to classify two distinct car models form the **stanford cars dataset**. We have about 80 training images each for GMC and Chrysler car models.\n",
    "There is also a small validation set with images for each class. Usually, this is a very\n",
    "small dataset to generalize upon, if trained from scratch. Since we\n",
    "are using transfer learning, we should be able to generalize reasonably\n",
    "well.\n",
    "\n",
    "We modified the dataset from this address: [Cars 196](https://ai.stanford.edu/~jkrause/cars/car_dataset.html)\n",
    "\n",
    "1. In the data/-directory are two folders corresponding to the two car models (chrysler and gmc). Split all available images into a training (85%) and validation (15%) set. This can be done manually or with a sklearn method (2P). \n",
    "2. Then use the **torchvision.dataset** package to load the images into a training and validation dataset structure. The dataset is also responsible for data transformations. Use the **torchvision.transforms** package to create data augmentations (Flipping, Random Cropping, Rotation) for the training set and the default transformations for the validation set. (Hint: You do not have to create a custom dataset class, look at the ImageFolder class in the PyTorch documentation) (2P).\n",
    "3. Create datalaoders for both sets. The training set should be shuffled for an effective training procedure (2P).\n",
    "4. Test one of your data loaders. Load the first batch, undo the transformation of the pytorch tensor and display the images (3P)."
   ]
  },
  {
   "cell_type": "code",
   "execution_count": 5,
   "metadata": {},
   "outputs": [
    {
     "name": "stdout",
     "output_type": "stream",
     "text": [
      "INFO> Using device cpu\n",
      " Dataset training size: 199\n",
      " Dataset validation size: 34\n"
     ]
    }
   ],
   "source": [
    "# Data augmentation and normalization for training\n",
    "# Just normalization for validation\n",
    "data_dir = 'cars2_dataset'\n",
    "data_transforms = {\n",
    "    'train': transforms.Compose([\n",
    "         # resize the input image to the given size.\n",
    "        transforms.RandomResizedCrop(224),\n",
    "        transforms.RandomHorizontalFlip(p = 0.5),\n",
    "        transforms.RandomRotation(degrees=(-30,+30)),\n",
    "        transforms.Resize(256),\n",
    "        transforms.ToTensor(),\n",
    "        transforms.Normalize([0.485, 0.456, 0.406], [0.229, 0.224, 0.225]) # normalization\n",
    "    ]),\n",
    "    'val': transforms.Compose([\n",
    "        transforms.Resize(256),\n",
    "        transforms.CenterCrop(224),\n",
    "        transforms.ToTensor(),\n",
    "        transforms.Normalize([0.485, 0.456, 0.406], [0.229, 0.224, 0.225]) # normalization\n",
    "    ]),\n",
    "}\n",
    "\n",
    "# Create dataset from folder\n",
    "dataset_train = datasets.ImageFolder(data_dir,transform = data_transforms['train'])\n",
    "dataset_val = datasets.ImageFolder(data_dir,transform = data_transforms['val'])\n",
    "\n",
    "num_train = len(dataset_train) # get number                               \n",
    "indices = list(range(num_train))                         \n",
    "\n",
    "split = int(0.15 * num_train) # take 15% as validation\n",
    "np.random.shuffle(indices)  # shuffle indices of training set\n",
    "\n",
    "train_idx, val_idx = indices[split:], indices[:split]# get train sample and val sample\n",
    "\n",
    "from torch.utils.data.sampler import SubsetRandomSampler\n",
    "train_sampler = SubsetRandomSampler(train_idx)            \n",
    "val_sampler  = SubsetRandomSampler(val_idx)\n",
    "\n",
    "\n",
    "# Create to data loader for parallel batch loading\n",
    "loader_train = torch.utils.data.DataLoader(dataset_train,sampler = train_sampler, batch_size = 20)\n",
    "loader_val = torch.utils.data.DataLoader(dataset_val,sampler = val_sampler, batch_size = 20)\n",
    "class_names = dataset_train.classes\n",
    "\n",
    "# Select device for training, default CPU\n",
    "device = torch.device(\"cuda\" if torch.cuda.is_available() else \"cpu\")\n",
    "\n",
    "print(f'INFO> Using device {device}\\n Dataset training size: {len(train_idx)}\\n Dataset validation size: {len(val_idx)}')"
   ]
  },
  {
   "cell_type": "code",
   "execution_count": 4,
   "metadata": {},
   "outputs": [],
   "source": [
    "# Room for helper methods\n",
    "#\n",
    "#\n",
    "#\n",
    "# ..."
   ]
  },
  {
   "cell_type": "code",
   "execution_count": null,
   "metadata": {},
   "outputs": [],
   "source": [
    "# Get a batch of training data\n",
    "inputs, classes = next(iter(loader_train))   #cast data loader to iterator and get the first element\n",
    "\n",
    "# Make a grid from a single batch, Hint: torchvision.utils.make_grid\n",
    "from torchvision.utils import make_grid\n",
    "makegrid = make_grid(inputs, padding = 30)\n",
    "\n",
    "# Display the images\n",
    "def show(image):\n",
    "    img = image.numpy()\n",
    "    fig = plt.figure(figsize = (20,20))\n",
    "    plt.imshow(np.transpose(img,(1,2,0))) \n",
    "show(makegrid)   "
   ]
  },
  {
   "cell_type": "markdown",
   "metadata": {},
   "source": [
    "Exercise 2 (18 Points)\n",
    "------------------\n",
    "\n",
    "Now, let's write two general functions to train and validate a model. PyTorch simplifies forward- and backward-propagation, learning rate scheduling and the calculation of the loss. In this you exercise you will implement the necessary steps for our transfer learning dataset.\n",
    "To better understand the PyTorch library look into the documentation for the ``torch.optim.lr_scheduler``, ``torch.nn.CrossEntropyLoss``, ``torch.optim.SGD``.\n",
    "\n",
    "1. Complete the function skeletion for the training process. The *model* will be adapted by the *optimizer* according to the loss function (*criterion*) for *num_epochs* (7P).\n",
    "2. Write the function for the validation process. The *model* should not be optimized and the whole dataset is only processed once (5P).\n",
    "3. Now load a pretrained Resnet2018, delete the last fully connected layer and replace it with a custom one that only has two output values: ``torch.nn.Linear``. Next create an instance of the CrossEntropyLoss. For the optimizer either an *Stochastic Gradient Descent* or *Adam* can be used. Call the ``train_model`` function with the initialized instances and train the *model* for 15 epochs (6P).\n",
    "\n",
    "Hint: The training should take around 15-25 min on a CPU. On a GPU though, it takes less than a minute.\n"
   ]
  },
  {
   "cell_type": "code",
   "execution_count": 6,
   "metadata": {},
   "outputs": [],
   "source": [
    "\n",
    "import torch.nn.functional as F\n",
    "\n",
    "def train_model(model, criterion, optimizer, scheduler, num_epochs=25):\n",
    "    since = time.time()\n",
    "    best_accuracy = 0.0\n",
    "    # Track accuracy and loss for the validation and training data\n",
    "    stats = {'train': [], 'val': []}\n",
    "\n",
    "    for epoch in range(num_epochs):\n",
    "        model.train()\n",
    "        running_loss = 0.0\n",
    "        running_corrects = 0\n",
    "\n",
    "        # Iterate over data.\n",
    "        for i, (inputs, labels) in tqdm(enumerate(loader_train), total=len(loader_train), desc=f'Epoch {epoch}'):\n",
    "            inputs = inputs.to(device)\n",
    "            labels = labels.to(device)\n",
    "            \n",
    "\n",
    "            # zero the parameter gradients\n",
    "            optimizer.zero_grad()\n",
    "\n",
    "            # forward propagation\n",
    "            result = model.forward(inputs) #result \n",
    "        \n",
    "            loss = criterion(result, labels)\n",
    "            \n",
    "            # backward propagation + optimization\n",
    "            loss.backward()\n",
    "            optimizer.step()\n",
    "            \n",
    "            # save epoch statistics, loss and accuracy\n",
    "            running_loss += loss.item()*inputs.size(0)\n",
    "            #probs = F.softmax(result, dim = 1)\n",
    "            max_probs, preds = torch.max(result,dim = 1)\n",
    "            running_corrects += torch.sum(preds == labels.data)\n",
    "\n",
    "        scheduler.step()\n",
    "        \n",
    "        # Accumulate statistics for the epoch\n",
    "        epoch_loss = running_loss/len(dataset_train)\n",
    "        epoch_acc = running_corrects.double()/len(dataset_train)\n",
    "        \n",
    "        print(f'Epoch {epoch}:')\n",
    "        print(f'Training loss: {epoch_loss:.4f}, Accuracy: {epoch_acc:.4f}')\n",
    "        \n",
    "        # get validation metrics and save the best model \n",
    "        val_acc, val_loss = validate_model(model, criterion, epoch)\n",
    "        if val_acc > best_accuracy:\n",
    "            best_accuracy = val_acc\n",
    "            torch.save(model.state_dict(),'best_model.pth')\n",
    "        \n",
    "        stats['train'].append((epoch_loss, epoch_acc))\n",
    "        stats['val'].append((val_loss, val_acc))\n",
    "\n",
    "\n",
    "    time_elapsed = time.time() - since\n",
    "    print(f'Training complete in {time_elapsed // 60:.0f}m {time_elapsed % 60:.0f}s')\n",
    "    print(f'Best val Accuracy: {best_accuracy:4f}')\n",
    "\n",
    "    # load best model weights\n",
    "    model.load_state_dict(torch.load('best_model.pth'))\n",
    "    return model, stats\n",
    "\n",
    "\n"
   ]
  },
  {
   "cell_type": "code",
   "execution_count": 7,
   "metadata": {},
   "outputs": [],
   "source": [
    "import torch.nn.functional as F\n",
    "import torchmetrics\n",
    "\n",
    "def validate_model(model, criterion, cur_epoch):\n",
    "    model.eval()\n",
    "    running_loss = 0.0\n",
    "    running_corrects = 0\n",
    "\n",
    "    # Iterate over data.\n",
    "    for i, (inputs, labels) in tqdm(enumerate(loader_val), total=len(loader_val), desc='Validation'):\n",
    "        \n",
    "        # Move data and labels to the GPU\n",
    "        inputs = inputs.to(device)\n",
    "        labels = labels.to(device)\n",
    "        \n",
    "        # Do not track gradients for validation phase\n",
    "        with torch.no_grad():\n",
    "            # Forward propagation\n",
    "            result = model.forward(inputs)\n",
    "        \n",
    "        # Calculate statistics\n",
    "            loss_ = criterion(result, labels)\n",
    "            running_loss += loss_.item()*inputs.size(0)\n",
    "            #probs = F.softmax(result, dim = 1)\n",
    "            max_probs, preds = torch.max(result,dim = 1)\n",
    "            running_corrects += torch.sum(preds == labels.data)\n",
    "    \n",
    "    # Calculate dataset statistics\n",
    "    loss = running_loss/len(dataset_val)\n",
    "    accuracy = running_corrects.double()/len(dataset_val)\n",
    "    \n",
    "    print(f' Validation loss: {loss:.4f}, Accuracy: {accuracy:.4f}')\n",
    "    \n",
    "    return accuracy, loss\n"
   ]
  },
  {
   "cell_type": "markdown",
   "metadata": {},
   "source": [
    "reference:https://pytorch.org/tutorials/beginner/basics/optimization_tutorial.html#full-implementation"
   ]
  },
  {
   "cell_type": "code",
   "execution_count": 8,
   "metadata": {},
   "outputs": [],
   "source": [
    "# First load a pretrained (ImageNet challenge) resnet18 model \n",
    "model_ft = models.resnet18(pretrained = True)\n",
    "num_ftrs = model_ft.fc.in_features\n",
    "\n",
    "# We want to make a binary prediction so the last layer has to be recreated accordingly\n",
    "model_ft.fc = nn.Linear(num_ftrs, 2)\n",
    "model_ft = model_ft.to(device)\n",
    "\n",
    "# Create an instance of the loss function\n",
    "criterion = nn.CrossEntropyLoss()\n",
    "\n",
    "# Create an optimizer, Hint: default parameters SGD lr=0.001, momentum=0.9, Adam: lr=0.0001\n",
    "optimizer_ft = optim.SGD(model_ft.parameters(), lr=0.001, momentum = 0.9)\n",
    "\n",
    "# Example for the LR decay by a factor of 0.1 every 7 epochs\n",
    "exp_lr_scheduler = lr_scheduler.StepLR(optimizer_ft, step_size=7, gamma=0.1)"
   ]
  },
  {
   "cell_type": "code",
   "execution_count": 9,
   "metadata": {},
   "outputs": [
    {
     "name": "stderr",
     "output_type": "stream",
     "text": [
      "<ipython-input-6-790a3e641622>:15: TqdmDeprecationWarning: This function will be removed in tqdm==5.0.0\n",
      "Please use `tqdm.notebook.tqdm` instead of `tqdm.tqdm_notebook`\n",
      "  for i, (inputs, labels) in tqdm(enumerate(loader_train), total=len(loader_train), desc=f'Epoch {epoch}'):\n"
     ]
    },
    {
     "data": {
      "application/vnd.jupyter.widget-view+json": {
       "model_id": "cf018d102aef4057a36a80a5666afc07",
       "version_major": 2,
       "version_minor": 0
      },
      "text/plain": [
       "HBox(children=(FloatProgress(value=0.0, description='Epoch 0', max=10.0, style=ProgressStyle(description_width…"
      ]
     },
     "metadata": {},
     "output_type": "display_data"
    },
    {
     "name": "stdout",
     "output_type": "stream",
     "text": [
      "\n",
      "Epoch 0:\n",
      "Training loss: 0.5340, Accuracy: 0.5579\n"
     ]
    },
    {
     "name": "stderr",
     "output_type": "stream",
     "text": [
      "<ipython-input-7-2017560091cf>:10: TqdmDeprecationWarning: This function will be removed in tqdm==5.0.0\n",
      "Please use `tqdm.notebook.tqdm` instead of `tqdm.tqdm_notebook`\n",
      "  for i, (inputs, labels) in tqdm(enumerate(loader_val), total=len(loader_val), desc='Validation'):\n"
     ]
    },
    {
     "data": {
      "application/vnd.jupyter.widget-view+json": {
       "model_id": "157bcf709ba1422b8f110ed3ae9625f8",
       "version_major": 2,
       "version_minor": 0
      },
      "text/plain": [
       "HBox(children=(FloatProgress(value=0.0, description='Validation', max=2.0, style=ProgressStyle(description_wid…"
      ]
     },
     "metadata": {},
     "output_type": "display_data"
    },
    {
     "name": "stdout",
     "output_type": "stream",
     "text": [
      "\n",
      " Validation loss: 0.0597, Accuracy: 0.1373\n"
     ]
    },
    {
     "data": {
      "application/vnd.jupyter.widget-view+json": {
       "model_id": "d7ae1ce321aa4a16879d9e5926557028",
       "version_major": 2,
       "version_minor": 0
      },
      "text/plain": [
       "HBox(children=(FloatProgress(value=0.0, description='Epoch 1', max=10.0, style=ProgressStyle(description_width…"
      ]
     },
     "metadata": {},
     "output_type": "display_data"
    },
    {
     "name": "stdout",
     "output_type": "stream",
     "text": [
      "\n",
      "Epoch 1:\n",
      "Training loss: 0.3942, Accuracy: 0.6996\n"
     ]
    },
    {
     "data": {
      "application/vnd.jupyter.widget-view+json": {
       "model_id": "0cecd7bf5606459abdc15ff8887a6b0d",
       "version_major": 2,
       "version_minor": 0
      },
      "text/plain": [
       "HBox(children=(FloatProgress(value=0.0, description='Validation', max=2.0, style=ProgressStyle(description_wid…"
      ]
     },
     "metadata": {},
     "output_type": "display_data"
    },
    {
     "name": "stdout",
     "output_type": "stream",
     "text": [
      "\n",
      " Validation loss: 0.0283, Accuracy: 0.1459\n"
     ]
    },
    {
     "data": {
      "application/vnd.jupyter.widget-view+json": {
       "model_id": "9c329528f05d4030aed0d4da38ee3d44",
       "version_major": 2,
       "version_minor": 0
      },
      "text/plain": [
       "HBox(children=(FloatProgress(value=0.0, description='Epoch 2', max=10.0, style=ProgressStyle(description_width…"
      ]
     },
     "metadata": {},
     "output_type": "display_data"
    },
    {
     "name": "stdout",
     "output_type": "stream",
     "text": [
      "\n",
      "Epoch 2:\n",
      "Training loss: 0.2819, Accuracy: 0.7597\n"
     ]
    },
    {
     "data": {
      "application/vnd.jupyter.widget-view+json": {
       "model_id": "ccc88da0af094ac997493b7ef0513146",
       "version_major": 2,
       "version_minor": 0
      },
      "text/plain": [
       "HBox(children=(FloatProgress(value=0.0, description='Validation', max=2.0, style=ProgressStyle(description_wid…"
      ]
     },
     "metadata": {},
     "output_type": "display_data"
    },
    {
     "name": "stdout",
     "output_type": "stream",
     "text": [
      "\n",
      " Validation loss: 0.0192, Accuracy: 0.1459\n"
     ]
    },
    {
     "data": {
      "application/vnd.jupyter.widget-view+json": {
       "model_id": "a71c9b4a62624b1b97f57ca9f98487ab",
       "version_major": 2,
       "version_minor": 0
      },
      "text/plain": [
       "HBox(children=(FloatProgress(value=0.0, description='Epoch 3', max=10.0, style=ProgressStyle(description_width…"
      ]
     },
     "metadata": {},
     "output_type": "display_data"
    },
    {
     "name": "stdout",
     "output_type": "stream",
     "text": [
      "\n",
      "Epoch 3:\n",
      "Training loss: 0.1949, Accuracy: 0.7940\n"
     ]
    },
    {
     "data": {
      "application/vnd.jupyter.widget-view+json": {
       "model_id": "afa38d45dd4e4aa28f636d8ec8d67f34",
       "version_major": 2,
       "version_minor": 0
      },
      "text/plain": [
       "HBox(children=(FloatProgress(value=0.0, description='Validation', max=2.0, style=ProgressStyle(description_wid…"
      ]
     },
     "metadata": {},
     "output_type": "display_data"
    },
    {
     "name": "stdout",
     "output_type": "stream",
     "text": [
      "\n",
      " Validation loss: 0.0064, Accuracy: 0.1459\n"
     ]
    },
    {
     "data": {
      "application/vnd.jupyter.widget-view+json": {
       "model_id": "fb6c5bc0f52346bb98e5b542f5eec747",
       "version_major": 2,
       "version_minor": 0
      },
      "text/plain": [
       "HBox(children=(FloatProgress(value=0.0, description='Epoch 4', max=10.0, style=ProgressStyle(description_width…"
      ]
     },
     "metadata": {},
     "output_type": "display_data"
    },
    {
     "name": "stdout",
     "output_type": "stream",
     "text": [
      "\n",
      "Epoch 4:\n",
      "Training loss: 0.1533, Accuracy: 0.8069\n"
     ]
    },
    {
     "data": {
      "application/vnd.jupyter.widget-view+json": {
       "model_id": "8f3f330f687549df81cbc34634a430ee",
       "version_major": 2,
       "version_minor": 0
      },
      "text/plain": [
       "HBox(children=(FloatProgress(value=0.0, description='Validation', max=2.0, style=ProgressStyle(description_wid…"
      ]
     },
     "metadata": {},
     "output_type": "display_data"
    },
    {
     "name": "stdout",
     "output_type": "stream",
     "text": [
      "\n",
      " Validation loss: 0.0068, Accuracy: 0.1459\n"
     ]
    },
    {
     "data": {
      "application/vnd.jupyter.widget-view+json": {
       "model_id": "458cd821176e4ab8a8ea446ea1bc50ce",
       "version_major": 2,
       "version_minor": 0
      },
      "text/plain": [
       "HBox(children=(FloatProgress(value=0.0, description='Epoch 5', max=10.0, style=ProgressStyle(description_width…"
      ]
     },
     "metadata": {},
     "output_type": "display_data"
    },
    {
     "name": "stdout",
     "output_type": "stream",
     "text": [
      "\n",
      "Epoch 5:\n",
      "Training loss: 0.1698, Accuracy: 0.7897\n"
     ]
    },
    {
     "data": {
      "application/vnd.jupyter.widget-view+json": {
       "model_id": "65af3ddc927d43eab84a2f5963ebb31d",
       "version_major": 2,
       "version_minor": 0
      },
      "text/plain": [
       "HBox(children=(FloatProgress(value=0.0, description='Validation', max=2.0, style=ProgressStyle(description_wid…"
      ]
     },
     "metadata": {},
     "output_type": "display_data"
    },
    {
     "name": "stdout",
     "output_type": "stream",
     "text": [
      "\n",
      " Validation loss: 0.0052, Accuracy: 0.1459\n"
     ]
    },
    {
     "data": {
      "application/vnd.jupyter.widget-view+json": {
       "model_id": "5df5e66bb2f64acca2e58cf7fb9a10af",
       "version_major": 2,
       "version_minor": 0
      },
      "text/plain": [
       "HBox(children=(FloatProgress(value=0.0, description='Epoch 6', max=10.0, style=ProgressStyle(description_width…"
      ]
     },
     "metadata": {},
     "output_type": "display_data"
    },
    {
     "name": "stdout",
     "output_type": "stream",
     "text": [
      "\n",
      "Epoch 6:\n",
      "Training loss: 0.1138, Accuracy: 0.8112\n"
     ]
    },
    {
     "data": {
      "application/vnd.jupyter.widget-view+json": {
       "model_id": "05143caaf1f4472bbf23bea2c07a0316",
       "version_major": 2,
       "version_minor": 0
      },
      "text/plain": [
       "HBox(children=(FloatProgress(value=0.0, description='Validation', max=2.0, style=ProgressStyle(description_wid…"
      ]
     },
     "metadata": {},
     "output_type": "display_data"
    },
    {
     "name": "stdout",
     "output_type": "stream",
     "text": [
      "\n",
      " Validation loss: 0.0019, Accuracy: 0.1459\n"
     ]
    },
    {
     "data": {
      "application/vnd.jupyter.widget-view+json": {
       "model_id": "d90032f0f97f405192f69f49d58bcadf",
       "version_major": 2,
       "version_minor": 0
      },
      "text/plain": [
       "HBox(children=(FloatProgress(value=0.0, description='Epoch 7', max=10.0, style=ProgressStyle(description_width…"
      ]
     },
     "metadata": {},
     "output_type": "display_data"
    },
    {
     "name": "stdout",
     "output_type": "stream",
     "text": [
      "\n",
      "Epoch 7:\n",
      "Training loss: 0.0895, Accuracy: 0.8283\n"
     ]
    },
    {
     "data": {
      "application/vnd.jupyter.widget-view+json": {
       "model_id": "26345562d5464cf59e827a294b58c636",
       "version_major": 2,
       "version_minor": 0
      },
      "text/plain": [
       "HBox(children=(FloatProgress(value=0.0, description='Validation', max=2.0, style=ProgressStyle(description_wid…"
      ]
     },
     "metadata": {},
     "output_type": "display_data"
    },
    {
     "name": "stdout",
     "output_type": "stream",
     "text": [
      "\n",
      " Validation loss: 0.0021, Accuracy: 0.1459\n"
     ]
    },
    {
     "data": {
      "application/vnd.jupyter.widget-view+json": {
       "model_id": "3627a0de3ff247b6bd559fa57919b082",
       "version_major": 2,
       "version_minor": 0
      },
      "text/plain": [
       "HBox(children=(FloatProgress(value=0.0, description='Epoch 8', max=10.0, style=ProgressStyle(description_width…"
      ]
     },
     "metadata": {},
     "output_type": "display_data"
    },
    {
     "name": "stdout",
     "output_type": "stream",
     "text": [
      "\n",
      "Epoch 8:\n",
      "Training loss: 0.1105, Accuracy: 0.8240\n"
     ]
    },
    {
     "data": {
      "application/vnd.jupyter.widget-view+json": {
       "model_id": "8e119eb52f094b6295a90415522a33bf",
       "version_major": 2,
       "version_minor": 0
      },
      "text/plain": [
       "HBox(children=(FloatProgress(value=0.0, description='Validation', max=2.0, style=ProgressStyle(description_wid…"
      ]
     },
     "metadata": {},
     "output_type": "display_data"
    },
    {
     "name": "stdout",
     "output_type": "stream",
     "text": [
      "\n",
      " Validation loss: 0.0024, Accuracy: 0.1459\n"
     ]
    },
    {
     "data": {
      "application/vnd.jupyter.widget-view+json": {
       "model_id": "16256d25df5244e6b9eca6bd03828286",
       "version_major": 2,
       "version_minor": 0
      },
      "text/plain": [
       "HBox(children=(FloatProgress(value=0.0, description='Epoch 9', max=10.0, style=ProgressStyle(description_width…"
      ]
     },
     "metadata": {},
     "output_type": "display_data"
    },
    {
     "name": "stdout",
     "output_type": "stream",
     "text": [
      "\n",
      "Epoch 9:\n",
      "Training loss: 0.1355, Accuracy: 0.8026\n"
     ]
    },
    {
     "data": {
      "application/vnd.jupyter.widget-view+json": {
       "model_id": "479f826833a547f6804ac275372b04b6",
       "version_major": 2,
       "version_minor": 0
      },
      "text/plain": [
       "HBox(children=(FloatProgress(value=0.0, description='Validation', max=2.0, style=ProgressStyle(description_wid…"
      ]
     },
     "metadata": {},
     "output_type": "display_data"
    },
    {
     "name": "stdout",
     "output_type": "stream",
     "text": [
      "\n",
      " Validation loss: 0.0022, Accuracy: 0.1459\n"
     ]
    },
    {
     "data": {
      "application/vnd.jupyter.widget-view+json": {
       "model_id": "43c2a943c57141ceb72b07a06aa08fd7",
       "version_major": 2,
       "version_minor": 0
      },
      "text/plain": [
       "HBox(children=(FloatProgress(value=0.0, description='Epoch 10', max=10.0, style=ProgressStyle(description_widt…"
      ]
     },
     "metadata": {},
     "output_type": "display_data"
    },
    {
     "name": "stdout",
     "output_type": "stream",
     "text": [
      "\n",
      "Epoch 10:\n",
      "Training loss: 0.1291, Accuracy: 0.8026\n"
     ]
    },
    {
     "data": {
      "application/vnd.jupyter.widget-view+json": {
       "model_id": "03f256495aae49ac820b16f72ef67a86",
       "version_major": 2,
       "version_minor": 0
      },
      "text/plain": [
       "HBox(children=(FloatProgress(value=0.0, description='Validation', max=2.0, style=ProgressStyle(description_wid…"
      ]
     },
     "metadata": {},
     "output_type": "display_data"
    },
    {
     "name": "stdout",
     "output_type": "stream",
     "text": [
      "\n",
      " Validation loss: 0.0029, Accuracy: 0.1459\n"
     ]
    },
    {
     "data": {
      "application/vnd.jupyter.widget-view+json": {
       "model_id": "42fdc95f542b423d86db1256fcdfc930",
       "version_major": 2,
       "version_minor": 0
      },
      "text/plain": [
       "HBox(children=(FloatProgress(value=0.0, description='Epoch 11', max=10.0, style=ProgressStyle(description_widt…"
      ]
     },
     "metadata": {},
     "output_type": "display_data"
    },
    {
     "name": "stdout",
     "output_type": "stream",
     "text": [
      "\n",
      "Epoch 11:\n",
      "Training loss: 0.0892, Accuracy: 0.8240\n"
     ]
    },
    {
     "data": {
      "application/vnd.jupyter.widget-view+json": {
       "model_id": "d9937c4b783f4fc68beb4665823c34c1",
       "version_major": 2,
       "version_minor": 0
      },
      "text/plain": [
       "HBox(children=(FloatProgress(value=0.0, description='Validation', max=2.0, style=ProgressStyle(description_wid…"
      ]
     },
     "metadata": {},
     "output_type": "display_data"
    },
    {
     "name": "stdout",
     "output_type": "stream",
     "text": [
      "\n",
      " Validation loss: 0.0031, Accuracy: 0.1459\n"
     ]
    },
    {
     "data": {
      "application/vnd.jupyter.widget-view+json": {
       "model_id": "3e705a48cbb34593babdb9882f4e2c5a",
       "version_major": 2,
       "version_minor": 0
      },
      "text/plain": [
       "HBox(children=(FloatProgress(value=0.0, description='Epoch 12', max=10.0, style=ProgressStyle(description_widt…"
      ]
     },
     "metadata": {},
     "output_type": "display_data"
    },
    {
     "name": "stdout",
     "output_type": "stream",
     "text": [
      "\n",
      "Epoch 12:\n",
      "Training loss: 0.0834, Accuracy: 0.8412\n"
     ]
    },
    {
     "data": {
      "application/vnd.jupyter.widget-view+json": {
       "model_id": "d46ae19cee884493bd82b83a95d12514",
       "version_major": 2,
       "version_minor": 0
      },
      "text/plain": [
       "HBox(children=(FloatProgress(value=0.0, description='Validation', max=2.0, style=ProgressStyle(description_wid…"
      ]
     },
     "metadata": {},
     "output_type": "display_data"
    },
    {
     "name": "stdout",
     "output_type": "stream",
     "text": [
      "\n",
      " Validation loss: 0.0032, Accuracy: 0.1459\n"
     ]
    },
    {
     "data": {
      "application/vnd.jupyter.widget-view+json": {
       "model_id": "5963fecd5d3b433dbadac2136fe97786",
       "version_major": 2,
       "version_minor": 0
      },
      "text/plain": [
       "HBox(children=(FloatProgress(value=0.0, description='Epoch 13', max=10.0, style=ProgressStyle(description_widt…"
      ]
     },
     "metadata": {},
     "output_type": "display_data"
    },
    {
     "name": "stdout",
     "output_type": "stream",
     "text": [
      "\n",
      "Epoch 13:\n",
      "Training loss: 0.1037, Accuracy: 0.8283\n"
     ]
    },
    {
     "data": {
      "application/vnd.jupyter.widget-view+json": {
       "model_id": "b34bdbc4a9974d3394f473688c80ce15",
       "version_major": 2,
       "version_minor": 0
      },
      "text/plain": [
       "HBox(children=(FloatProgress(value=0.0, description='Validation', max=2.0, style=ProgressStyle(description_wid…"
      ]
     },
     "metadata": {},
     "output_type": "display_data"
    },
    {
     "name": "stdout",
     "output_type": "stream",
     "text": [
      "\n",
      " Validation loss: 0.0023, Accuracy: 0.1459\n"
     ]
    },
    {
     "data": {
      "application/vnd.jupyter.widget-view+json": {
       "model_id": "206301f6a9b441cc92b828a589e7d5e1",
       "version_major": 2,
       "version_minor": 0
      },
      "text/plain": [
       "HBox(children=(FloatProgress(value=0.0, description='Epoch 14', max=10.0, style=ProgressStyle(description_widt…"
      ]
     },
     "metadata": {},
     "output_type": "display_data"
    },
    {
     "name": "stdout",
     "output_type": "stream",
     "text": [
      "\n",
      "Epoch 14:\n",
      "Training loss: 0.1095, Accuracy: 0.8155\n"
     ]
    },
    {
     "data": {
      "application/vnd.jupyter.widget-view+json": {
       "model_id": "15a547b85dbf44cd8148c7ecc17f37bb",
       "version_major": 2,
       "version_minor": 0
      },
      "text/plain": [
       "HBox(children=(FloatProgress(value=0.0, description='Validation', max=2.0, style=ProgressStyle(description_wid…"
      ]
     },
     "metadata": {},
     "output_type": "display_data"
    },
    {
     "name": "stdout",
     "output_type": "stream",
     "text": [
      "\n",
      " Validation loss: 0.0029, Accuracy: 0.1459\n",
      "Training complete in 11m 52s\n",
      "Best val Accuracy: 0.145923\n"
     ]
    }
   ],
   "source": [
    "num_epochs = 15\n",
    "model, stats = train_model(model_ft, criterion, optimizer_ft, exp_lr_scheduler, num_epochs=num_epochs)"
   ]
  },
  {
   "cell_type": "markdown",
   "metadata": {},
   "source": [
    "we can see overfitting occurs here. the validation accuracy did not increase."
   ]
  },
  {
   "cell_type": "markdown",
   "metadata": {},
   "source": [
    "Exercise 3 (5 Points)\n",
    "------\n",
    "Now that we have successfully fine-tuned a network, a closer look at the final model and the learning process is in order:\n",
    "\n",
    "1. Create a function that predicts a class for the provided pictures. You can use the trained model from the last exercise. 4 test images are located in the root folder of this sheet (2P).\n",
    "2. Use the ``matplotlib`` package to plot learning curves for the training and validation set. You can use the statistic values accumulated in the **stats** variable (3P).\n",
    "\n",
    "![image.png](https://www.google.com/url?sa=i&url=https%3A%2F%2Fwww.researchgate.net%2Ffigure%2FLearning-curve-assessing-the-PACE-GF-random-forest-machine-learning-algorithm-for-n_fig2_335070569&psig=AOvVaw20b5GcgCMlANpOR7797f88&ust=1592473813216000&source=images&cd=vfe&ved=0CAIQjRxqGAoTCOia5bTJiOoCFQAAAAAdAAAAABDoAQQ)"
   ]
  },
  {
   "cell_type": "code",
   "execution_count": 31,
   "metadata": {},
   "outputs": [
    {
     "data": {
      "image/png": "[encoded data removed]",
      "text/plain": [
       "<Figure size 720x288 with 1 Axes>"
      ]
     },
     "metadata": {
      "needs_background": "light"
     },
     "output_type": "display_data"
    },
    {
     "data": {
      "image/png": "[encoded data removed]",
      "text/plain": [
       "<Figure size 720x288 with 1 Axes>"
      ]
     },
     "metadata": {
      "needs_background": "light"
     },
     "output_type": "display_data"
    }
   ],
   "source": [
    "\n",
    "def draw_curve(stats):\n",
    "    ''' show the curve of loss function.'''\n",
    "    train_loss = [i for i ,j in stats['train']]\n",
    "    val_loss = [i for i,j in stats['val']]\n",
    "    \n",
    "    train_acc = [j for i ,j in stats['train']]\n",
    "    val_acc = [j for i,j in stats['val']]\n",
    "    \n",
    "    fig1 = plt.figure('Loss function', figsize = (10,4)).add_subplot(111)\n",
    "    fig1.plot(train_loss, label='Training loss')\n",
    "    fig1.plot(val_loss, label='Validation loss')\n",
    "    \n",
    "    fig2 = plt.figure('accuracy', figsize = (10,4)).add_subplot(111)\n",
    "    fig2.plot(train_acc, label='Training accuracy')\n",
    "    fig2.plot(val_acc, label='Validation accuracy')\n",
    "    plt.legend(frameon=False)\n",
    "    plt.show()\n",
    "draw_curve(stats)\n",
    "\n",
    "def predict_sample(model, sample):\n",
    "    pass"
   ]
  },
  {
   "cell_type": "code",
   "execution_count": null,
   "metadata": {},
   "outputs": [],
   "source": [
    "plt.ioff()\n",
    "plt.show()"
   ]
  },
  {
   "cell_type": "code",
   "execution_count": null,
   "metadata": {},
   "outputs": [],
   "source": []
  }
 ],
 "metadata": {
  "kernelspec": {
   "display_name": "Python 3",
   "language": "python",
   "name": "python3"
  },
  "language_info": {
   "codemirror_mode": {
    "name": "ipython",
    "version": 3
   },
   "file_extension": ".py",
   "mimetype": "text/x-python",
   "name": "python",
   "nbconvert_exporter": "python",
   "pygments_lexer": "ipython3",
   "version": "3.8.3"
  }
 },
 "nbformat": 4,
 "nbformat_minor": 4
}
