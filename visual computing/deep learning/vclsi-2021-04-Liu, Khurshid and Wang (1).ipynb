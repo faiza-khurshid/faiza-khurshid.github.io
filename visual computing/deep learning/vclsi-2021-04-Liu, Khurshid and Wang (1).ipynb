{
 "cells": [
  {
   "cell_type": "markdown",
   "metadata": {},
   "source": [
    "# Visual Computing in the Life Sciences¶\n",
    "Assignment sheet 4"
   ]
  },
  {
   "cell_type": "markdown",
   "metadata": {},
   "source": [
    "## Exercise 1 (Deep Learning, 8 Points)"
   ]
  },
  {
   "cell_type": "markdown",
   "metadata": {},
   "source": [
    "### a) During training, the validation error typically decreases for a while, but often starts to increase again after a certain number of epochs. Briefly explain why. (2P)"
   ]
  },
  {
   "cell_type": "markdown",
   "metadata": {},
   "source": [
    "it happens because it starts to overfit the data."
   ]
  },
  {
   "cell_type": "markdown",
   "metadata": {},
   "source": [
    "### b) Briefly explain two strategies that can be used to combat the effect you described in part a). (2P)"
   ]
  },
  {
   "cell_type": "markdown",
   "metadata": {},
   "source": [
    "• treat the number of training epochs as a hyperparameter and train the model multiple times\n",
    "with different values, then select the number of epochs that result in the best performance\n",
    "on the train or a holdout test dataset.\n",
    "\n",
    "• train the model once for a large number of training epochs. During training, the model is\n",
    "evaluated on a holdout validation dataset after each epoch. If the performance of the model\n",
    "on the validation dataset starts to degrade, then the training process is stopped."
   ]
  },
  {
   "cell_type": "markdown",
   "metadata": {},
   "source": [
    "### c) Finding a good learning rate is a practical challenge when training a CNN. Describe a strategy for establishing one that works well. (2P)"
   ]
  },
  {
   "cell_type": "markdown",
   "metadata": {},
   "source": [
    "First, we need to train the model several times with different learning rates. For each training, we\n",
    "need to calculate the loss. Then, we can plot the losses against the corresponding learning rates.\n",
    "As we are interested in finding a good order of magnitude of learning rate, we can plot it with a\n",
    "log scale. The plot usually goes downwards and then goes upwards. We choose a learning rate\n",
    "which is approximately in the middle of the sharpest downward slope"
   ]
  },
  {
   "cell_type": "markdown",
   "metadata": {},
   "source": [
    "### d) When training a neural network with stochastic gradient descent and a suitably chosen learning rate, should we expect that the training loss will decrease monotonically? Why?"
   ]
  },
  {
   "cell_type": "markdown",
   "metadata": {},
   "source": [
    "No, the training loss will not necessarily decrease monotonically, because the stochastic nature of\n",
    "the stochastic gradient descent sometimes causes picking not very suitable sample. As the result,\n",
    "it sometimes does not approximate true gradient well and causes the training loss to increase."
   ]
  },
  {
   "cell_type": "markdown",
   "metadata": {},
   "source": [
    "## Exercise 2 (Transfer Learning with PyTorch, 32 Points)"
   ]
  },
  {
   "cell_type": "markdown",
   "metadata": {},
   "source": [
    "#### The answer is in another .ipynb file."
   ]
  },
  {
   "cell_type": "markdown",
   "metadata": {},
   "source": [
    "## Exercise 3 (Natural Pre-Images for Visualizing CNNs, 10 Points)"
   ]
  },
  {
   "cell_type": "markdown",
   "metadata": {},
   "source": [
    "### a) Briefly explain the respective roles of the three terms in the objective function presented in the paper’s Eq. (1)."
   ]
  },
  {
   "cell_type": "markdown",
   "metadata": {},
   "source": [
    "• Ra(x) - is a regularizer. Its role is to cause the intensity of pixels to stay bounded.\n",
    "• RTVb(x) - is another regularizer called “total variation”. Its role is to encourage image reconstructions to consist of piece-wise constant patches.\n",
    "• Cl(F(x), F0) - is the loss function multiplied by the constant C. Its role is to compare the image representation with its reference image and see how different they are."
   ]
  },
  {
   "cell_type": "markdown",
   "metadata": {},
   "source": [
    "### b) What is the role of the constant C in Eq. (1)? What happens when it is set to very large or very small values? Based on the experimental results that are reported in the paper, name a factor that affects what is a sensible value of C. "
   ]
  },
  {
   "cell_type": "markdown",
   "metadata": {},
   "source": [
    "The role of the constant C is to trade off loss and regularizers.\n",
    "Choosing very large value of C results into more sophisticated reconstruction and cause the model\n",
    "to be prone to overfitting. Choosing very small value of C results into more simplified reconstrunction and cause the model to be prone to underfitting.\n",
    "The factor which affects a sensible value of C is how detailed and complex the image is."
   ]
  },
  {
   "cell_type": "markdown",
   "metadata": {},
   "source": [
    "### c) The authors mention that, in Fig. 13, \\the effective receptive field of the neurons is in some cases significantly smaller than the theoretical one\". Highlight some specific subfigures in which that is the case. How can you tell? What could be the reason for this? (2P)"
   ]
  },
  {
   "cell_type": "markdown",
   "metadata": {},
   "source": [
    "That is the case on deeper convolution layers (conv3, conv4, conv5). We can tell this when we see\n",
    "that not all pixels of the previous layer affect pixels on the following layer. The reason is that the\n",
    "neurons on deeper layers reconstruct the image which is already detailed enough, and not all of\n",
    "the details (like background) are needed to make other details (like monkey’s face) more detailed"
   ]
  },
  {
   "cell_type": "markdown",
   "metadata": {},
   "source": [
    "### d) Assume you are considering to use a cloud service that offers to apply a set of neat artistic filters to your personal photos. Their service is for free, but they require your permission to share the activations from the CNNs on which their filters are based with their advertising clients. They assure you that your images themselves will never be shared. Would you have any privacy concerns about using such a service? Briefly justify your answer. Would it change if they promised to only share activations from the second fully connected layer onwards? Why"
   ]
  },
  {
   "cell_type": "markdown",
   "metadata": {},
   "source": [
    "Yes, there will be privacy concerns, because the activations from the CNNs allow us to reconstruct\n",
    "the image with quite high accuracy.\n",
    "It would not change if they promised to only share activations from the seconds fully connected\n",
    "layer onwards, because it will result only into worse quality of the reconstructed photos, since\n",
    "only one convolution is lost."
   ]
  },
  {
   "cell_type": "code",
   "execution_count": null,
   "metadata": {},
   "outputs": [],
   "source": []
  }
 ],
 "metadata": {
  "kernelspec": {
   "display_name": "Python 3",
   "language": "python",
   "name": "python3"
  },
  "language_info": {
   "codemirror_mode": {
    "name": "ipython",
    "version": 3
   },
   "file_extension": ".py",
   "mimetype": "text/x-python",
   "name": "python",
   "nbconvert_exporter": "python",
   "pygments_lexer": "ipython3",
   "version": "3.8.3"
  }
 },
 "nbformat": 4,
 "nbformat_minor": 4
}
