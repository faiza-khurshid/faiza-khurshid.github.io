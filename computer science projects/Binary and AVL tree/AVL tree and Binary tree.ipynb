{
 "cells": [
  {
   "cell_type": "markdown",
   "metadata": {},
   "source": [
    "# Assignment Sheet 08\n",
    "\n",
    "Marie Keller, Faiza Khurshid, Lara Schmalenstroer\n",
    "\n",
    "### Excercise 1 (Binary Search Trees, 14 P)\n",
    "\n",
    "In this exercise, you will create, edit, and print a Binary Search Tree (BST).\n",
    "\n",
    "#### a) Define a TreeNode class that has all data attributes that are required for a node in a binary search tree. (1P)\n",
    "\n",
    "#### b) Define a BinaryTree class with all required data attributes (1P), as well as with the following methods:\n",
    "\n",
    "- insert(n): to insert a node with integer value n into the tree. (1P)\n",
    "\n",
    "- delete(n): to delete the node with value n from the tree. (3P)\n",
    "\n",
    "- search(n): to check if n is an element in the tree. (1P)\n",
    "\n",
    "#### d) Trees in general can be traversed in different ways. Add a traverse(order) method to your class that recursively traverses the tree as specified by order and prints node values accordingly. Yourmethod must support the following orders:\n",
    "\n",
    "- preorder : First print the value of the root, then the leftChild and then the rightChild (both recursively). (2P)\n",
    "\n",
    "- inorder : First print the value of the leftChild, then root and then the rightChild (again, both recursively). (1P)\n",
    "\n",
    "- postorder : First print the value of the leftChild, then the rightChild (again, both recursively) and then the root. (1P)"
   ]
  },
  {
   "cell_type": "code",
   "execution_count": 8,
   "metadata": {},
   "outputs": [],
   "source": [
    "class TreeNode:\n",
    "    \"\"\"The TreeNode class creates a node object for a binary tree. Each object has an integer value and a parent node. \\\n",
    "    It can have two child nodes; left and right.\"\"\"\n",
    "    \n",
    "    def __init__(self,value):\n",
    "        assert type(value) is int, \"The type of the input value have to be of type int: %r\" % value\n",
    "        self.value=value\n",
    "        self.left=None\n",
    "        self.right=None\n",
    "        self.parent=None\n",
    "\n",
    "        \n",
    "class BinaryTree:\n",
    "    \"\"\"The BinaryTree class creates a binary search tree of multiple TreeNode objects. It provides methods to insert, and \\\n",
    "    delete nodes and to search the tree for a node with a certain value. The traverse_tree method performs the traversal \\\n",
    "    of the tree (inorder, preorder or postorder).\"\"\"\n",
    "    \n",
    "    def __init__(self,value):\n",
    "        self.root=TreeNode(value) \n",
    "        self.values=[value]\n",
    "        self.nodes=[self.root] \n",
    "        \n",
    "    def insert_node(self,n, root):\n",
    "        \"\"\"The insert_node method inserts a node with a given value n in the tree. It requires a value n and a root as\\\n",
    "         input. It checks the availability of the child nodes of the root recursively.\"\"\"\n",
    "        assert n not in self.values, \"The number is already contained in the tree: %r\" % n\n",
    "        node=TreeNode(n) \n",
    "        root=root \n",
    "        if n<root.value: \n",
    "            if root.left==None: \n",
    "                node.parent=root \n",
    "                root.left=node\n",
    "                self.values.append(n) \n",
    "                self.nodes.append(node) \n",
    "            else:\n",
    "                self.insert_node(n,root.left) \n",
    "        elif n>root.value: \n",
    "            if root.right==None:\n",
    "                node.parent=root\n",
    "                root.right=node\n",
    "                self.values.append(n)\n",
    "                self.nodes.append(node)\n",
    "            else:\n",
    "                self.insert_node(n,root.right)\n",
    "                \n",
    "    def search_node(self,n):\n",
    "        \"\"\"The method looks for a node with a certain value in the BST. It returns a dictionary with the value of the \\\n",
    "        left and the right child of that node.\"\"\"\n",
    "        if n not in self.values:\n",
    "            raise ValueError(\"The value {} doesn't occur in the tree.\".format(n))\n",
    "        else:\n",
    "            print('The value occurs in the tree')\n",
    "            for node in self.nodes:\n",
    "                if node.value==n:\n",
    "                    if node.left==None and node.right==None:\n",
    "                        return {'left':None, 'right':None}\n",
    "                    elif node.left==None and node.right!=None:\n",
    "                        return {'left':None, 'right':node.right.value}\n",
    "                    elif node.left!=None and node.right==None:\n",
    "                        return {'left':node.left.value, 'right':None}\n",
    "                    else:\n",
    "                        return {'left':node.left.value, 'right':node.right.value}\n",
    "                \n",
    "    def get_leftest_child (self, root):\n",
    "        root=root\n",
    "        if root.left!=None:\n",
    "            return self.get_leftest_child(root.left)\n",
    "        if root.left==None:\n",
    "            return root\n",
    "    \n",
    "    def delete_node(self,n):            \n",
    "        if n in self.values:\n",
    "            index=self.values.index(n) \n",
    "            node=self.nodes[index] \n",
    "            if node.left==None and node.right==None: \n",
    "                if node.value>node.parent.value:\n",
    "                    node.parent.right=None \n",
    "                else:\n",
    "                    node.parent.left=None\n",
    "            elif node.left!=None and node.right==None: \n",
    "                if node.value>node.parent.value:\n",
    "                    node.parent.right=node.left \n",
    "                else:\n",
    "                    node.parent.left=node.left\n",
    "            elif node.right!=None and node.left==None:\n",
    "                if node.value>node.parent.value:\n",
    "                    node.parent.right=node.right\n",
    "                else:\n",
    "                    node.parent.left=node.right\n",
    "            else: \n",
    "                if node.parent==None:\n",
    "                    newroot=self.get_leftest_child(self.root)\n",
    "                    newindex=self.values.index(newroot.value)\n",
    "                    self.root=TreeNode(newroot.value)\n",
    "                    memory_list=self.values\n",
    "                    #for i in range (1, len(self.values)-1):\n",
    "                     #   if i!=newindex:\n",
    "                      #      self.delete_node(self.values[i])\n",
    "                    #for i in range (1, len(self.values)):\n",
    "                     #   if i!=newindex:\n",
    "                      #      self.insert_node(memory_list[i], newroot.value)\n",
    "                    \n",
    "                elif node.value>node.parent.value:\n",
    "                    if node.left.left==None and node.left.right==None:\n",
    "                        node.parent.right=node.left\n",
    "                        node.left.right=node.right\n",
    "                    elif node.left.left!=None and node.left.right==None:\n",
    "                        node.parent.right=node.left\n",
    "                        node.left.right=node.right\n",
    "                    elif node.left.left==None and node.left.right!=None:\n",
    "                        movevalue=node.left.right.value\n",
    "                        self.delete_node(node.left.right.value)\n",
    "                        node.parent.right=node.left\n",
    "                        node.left.right=node.right\n",
    "                        self.insert_node(movevalue, self.root)\n",
    "                    elif node.left.left!=None and node.left.right!=None:\n",
    "                        movevalue=node.left.right.value\n",
    "                        self.delete_node(node.left.right.value)\n",
    "                        node.parent.right=node.left\n",
    "                        node.left.right=node.right\n",
    "                        self.insert_node(movevalue, self.root)\n",
    "\n",
    "                elif node.value<node.parent.value: \n",
    "                    if node.left.left==None and node.left.right==None:\n",
    "                        node.parent.left=node.left\n",
    "                        node.left.right=node.right\n",
    "                    elif node.left.left!=None and node.left.right==None:\n",
    "                        node.parent.left=node.left\n",
    "                        node.left.right=node.right\n",
    "                    elif node.left.left==None and node.left.right!=None:\n",
    "                        movevalue=node.left.right.value\n",
    "                        self.delete_node(node.left.right.value)\n",
    "                        node.parent.left=node.left\n",
    "                        node.left.right=node.right\n",
    "                        self.insert_node(movevalue, self.root)\n",
    "                    elif node.left.left!=None and node.left.right!=None:\n",
    "                        movevalue=node.left.right.value\n",
    "                        self.delete_node(node.left.right.value)\n",
    "                        node.parent.left=node.left\n",
    "                        node.left.right=node.right\n",
    "                        self.insert_node(movevalue, self.root)\n",
    "                        \n",
    "            self.values.pop(index)\n",
    "            self.nodes.pop(index)    \n",
    "        else:\n",
    "            raise ValueError(\"The value {} doesn't occur in the tree.\".format(n))\n",
    "        return\n",
    "    \n",
    "    def traverse_tree(self,order,root):\n",
    "        if order==\"preorder\":\n",
    "            if root.left:\n",
    "                print(root.value)\n",
    "                self.traverse_tree(\"preorder\",root.left)\n",
    "            elif root.left==None and root.right:\n",
    "                self.traverse_tree(\"preorder\",root.right)\n",
    "                \n",
    "        if order==\"inorder\":\n",
    "            if root:\n",
    "                self.traverse_tree(\"inorder\",root.left)\n",
    "                print(root.value)\n",
    "                self.traverse_tree(\"inorder\",root.right)\n",
    "                \n",
    "        elif order==\"postorder\":\n",
    "            if root:\n",
    "                self.traverse_tree(\"postorder\",root.left)\n",
    "                self.traverse_tree(\"postorder\",root.right)\n",
    "                print(root.value)\n",
    "        else:\n",
    "            raise ValueError(\"Invalid input, choose order from 'preorder', 'inorder', and 'postorder'.\")\n",
    "        return\n",
    "        "
   ]
  },
  {
   "cell_type": "markdown",
   "metadata": {},
   "source": [
    "#### c) Is deleting node x and then node y from a tree equivalent to first deleting node y and then node x? Argue why it is or give a counter example. (2P)"
   ]
  },
  {
   "cell_type": "markdown",
   "metadata": {},
   "source": [
    "Inside a binary tree deleting two values does not depend on the order they were deleted. By deleting a node, if present, one of the children become the new parent. No rotations occur inside a normal binary tree. Inside the binary tree of exercise e), if you delete 5, 1 gets lifted up to this position and the 3 becomes the left child of 6. If you then delete the 7, 6 gets lifted up to its position and left still points to the 3 and right to the 9. If you would first delete the 7, the 6 would get lifted up to its position pointing to the right to 9 and left to None. Then deleting the 5, the 1 would get uplifted to this position and the 3 moves to the left child of the 6, resulting in the same tree."
   ]
  },
  {
   "cell_type": "code",
   "execution_count": 43,
   "metadata": {},
   "outputs": [],
   "source": [
    "values=[10,5,7,1,15,3,6,9,8,11]\n",
    "BST=BinaryTree(values[0])\n",
    "\n",
    "for i in range(1,len(values)):\n",
    "    BST.insert_node(values[i],BST.root)"
   ]
  },
  {
   "cell_type": "code",
   "execution_count": 44,
   "metadata": {},
   "outputs": [],
   "source": [
    "BST.delete_node(7)"
   ]
  },
  {
   "cell_type": "code",
   "execution_count": 45,
   "metadata": {},
   "outputs": [],
   "source": [
    "BST.delete_node(5)"
   ]
  },
  {
   "cell_type": "code",
   "execution_count": 46,
   "metadata": {},
   "outputs": [
    {
     "name": "stdout",
     "output_type": "stream",
     "text": [
      "The value occurs in the tree\n"
     ]
    },
    {
     "data": {
      "text/plain": [
       "{'left': 1, 'right': 15}"
      ]
     },
     "execution_count": 46,
     "metadata": {},
     "output_type": "execute_result"
    }
   ],
   "source": [
    "BST.search_node(10)"
   ]
  },
  {
   "cell_type": "code",
   "execution_count": 47,
   "metadata": {},
   "outputs": [
    {
     "name": "stdout",
     "output_type": "stream",
     "text": [
      "The value occurs in the tree\n"
     ]
    },
    {
     "data": {
      "text/plain": [
       "{'left': None, 'right': 7}"
      ]
     },
     "execution_count": 47,
     "metadata": {},
     "output_type": "execute_result"
    }
   ],
   "source": [
    "BST.search_node(1)"
   ]
  },
  {
   "cell_type": "code",
   "execution_count": 48,
   "metadata": {},
   "outputs": [
    {
     "name": "stdout",
     "output_type": "stream",
     "text": [
      "The value occurs in the tree\n"
     ]
    },
    {
     "data": {
      "text/plain": [
       "{'left': 3, 'right': 9}"
      ]
     },
     "execution_count": 48,
     "metadata": {},
     "output_type": "execute_result"
    }
   ],
   "source": [
    "BST.search_node(6)"
   ]
  },
  {
   "cell_type": "code",
   "execution_count": null,
   "metadata": {},
   "outputs": [],
   "source": []
  },
  {
   "cell_type": "markdown",
   "metadata": {},
   "source": [
    "#### e) Generate a tree and insert values [10, 5, 7, 1, 15, 3, 6, 9, 8, 11] into it. Use a suitable variant of traverse to output the values in sorted order. Delete the node with value 7 and output the tree again, to double-check that deletion worked correctly. (1P)"
   ]
  },
  {
   "cell_type": "code",
   "execution_count": 55,
   "metadata": {},
   "outputs": [],
   "source": [
    "values=[10,5,7,1,15,3,6,9,8,11]\n",
    "BST=BinaryTree(values[0])\n",
    "\n",
    "for i in range(1,len(values)):\n",
    "    BST.insert_node(values[i],BST.root)"
   ]
  },
  {
   "cell_type": "code",
   "execution_count": 56,
   "metadata": {},
   "outputs": [
    {
     "data": {
      "text/plain": [
       "[10, 5, 7, 1, 15, 3, 6, 9, 8, 11]"
      ]
     },
     "execution_count": 56,
     "metadata": {},
     "output_type": "execute_result"
    }
   ],
   "source": [
    "BST.values"
   ]
  },
  {
   "cell_type": "code",
   "execution_count": 57,
   "metadata": {},
   "outputs": [
    {
     "name": "stdout",
     "output_type": "stream",
     "text": [
      "The value occurs in the tree\n"
     ]
    },
    {
     "data": {
      "text/plain": [
       "{'left': 5, 'right': 15}"
      ]
     },
     "execution_count": 57,
     "metadata": {},
     "output_type": "execute_result"
    }
   ],
   "source": [
    "BST.search_node(10)"
   ]
  },
  {
   "cell_type": "code",
   "execution_count": 58,
   "metadata": {},
   "outputs": [
    {
     "name": "stdout",
     "output_type": "stream",
     "text": [
      "The value occurs in the tree\n"
     ]
    },
    {
     "data": {
      "text/plain": [
       "{'left': None, 'right': 3}"
      ]
     },
     "execution_count": 58,
     "metadata": {},
     "output_type": "execute_result"
    }
   ],
   "source": [
    "BST.search_node(1)"
   ]
  },
  {
   "cell_type": "code",
   "execution_count": 59,
   "metadata": {},
   "outputs": [
    {
     "name": "stdout",
     "output_type": "stream",
     "text": [
      "The value occurs in the tree\n"
     ]
    },
    {
     "data": {
      "text/plain": [
       "{'left': 6, 'right': 9}"
      ]
     },
     "execution_count": 59,
     "metadata": {},
     "output_type": "execute_result"
    }
   ],
   "source": [
    "BST.search_node(7)"
   ]
  },
  {
   "cell_type": "code",
   "execution_count": 60,
   "metadata": {},
   "outputs": [
    {
     "data": {
      "text/plain": [
       "10"
      ]
     },
     "execution_count": 60,
     "metadata": {},
     "output_type": "execute_result"
    }
   ],
   "source": [
    "BST.root.value"
   ]
  },
  {
   "cell_type": "code",
   "execution_count": 61,
   "metadata": {},
   "outputs": [
    {
     "data": {
      "text/plain": [
       "5"
      ]
     },
     "execution_count": 61,
     "metadata": {},
     "output_type": "execute_result"
    }
   ],
   "source": [
    "BST.root.left.value"
   ]
  },
  {
   "cell_type": "markdown",
   "metadata": {},
   "source": [
    "The traverse tree Inorder gives out the binary tree values in a sorted order:"
   ]
  },
  {
   "cell_type": "code",
   "execution_count": 63,
   "metadata": {},
   "outputs": [
    {
     "name": "stdout",
     "output_type": "stream",
     "text": [
      "1\n",
      "3\n",
      "5\n",
      "6\n",
      "7\n",
      "8\n",
      "9\n",
      "10\n",
      "11\n",
      "15\n"
     ]
    }
   ],
   "source": [
    "BST.traverse_tree(\"inorder\",BST.root)"
   ]
  },
  {
   "cell_type": "code",
   "execution_count": 65,
   "metadata": {},
   "outputs": [],
   "source": [
    "BST.delete_node(7)"
   ]
  },
  {
   "cell_type": "code",
   "execution_count": 66,
   "metadata": {},
   "outputs": [
    {
     "name": "stdout",
     "output_type": "stream",
     "text": [
      "The value occurs in the tree\n"
     ]
    },
    {
     "data": {
      "text/plain": [
       "{'left': 1, 'right': 6}"
      ]
     },
     "execution_count": 66,
     "metadata": {},
     "output_type": "execute_result"
    }
   ],
   "source": [
    "BST.search_node(5)"
   ]
  },
  {
   "cell_type": "code",
   "execution_count": 67,
   "metadata": {},
   "outputs": [
    {
     "name": "stdout",
     "output_type": "stream",
     "text": [
      "The value occurs in the tree\n"
     ]
    },
    {
     "data": {
      "text/plain": [
       "{'left': None, 'right': 9}"
      ]
     },
     "execution_count": 67,
     "metadata": {},
     "output_type": "execute_result"
    }
   ],
   "source": [
    "BST.search_node(6)"
   ]
  },
  {
   "cell_type": "code",
   "execution_count": 68,
   "metadata": {},
   "outputs": [
    {
     "name": "stdout",
     "output_type": "stream",
     "text": [
      "1\n",
      "3\n",
      "5\n",
      "6\n",
      "8\n",
      "9\n",
      "10\n",
      "11\n",
      "15\n"
     ]
    }
   ],
   "source": [
    "BST.traverse_tree(\"inorder\",BST.root)"
   ]
  },
  {
   "cell_type": "markdown",
   "metadata": {},
   "source": [
    "### Excercise 2 (AVL Tree operations, 4 P)\n",
    "\n",
    "Do the following tasks manually and submit a sketch showing every step. You can make the figures on\n",
    "your computer or on paper. Make sure to include all figures in your final notebook.\n",
    "\n",
    "\n",
    "#### a) Insert the following numbers, in the given order, into an AVL tree that should be empty initially: 10, 15, 20, 23, 25, 18 (2P)"
   ]
  },
  {
   "cell_type": "code",
   "execution_count": 86,
   "metadata": {},
   "outputs": [
    {
     "data": {
      "text/html": [
       "\n",
       "        <iframe\n",
       "            width=\"800\"\n",
       "            height=\"580\"\n",
       "            src=\"Assignment 8 Ex2a.pdf\"\n",
       "            frameborder=\"0\"\n",
       "            allowfullscreen\n",
       "        ></iframe>\n",
       "        "
      ],
      "text/plain": [
       "<IPython.lib.display.IFrame at 0x295df512850>"
      ]
     },
     "execution_count": 86,
     "metadata": {},
     "output_type": "execute_result"
    }
   ],
   "source": [
    "from IPython.display import IFrame, display\n",
    "filepath = \"Assignment 8 Ex2a.pdf\"\n",
    "IFrame(filepath, width=800, height=580)"
   ]
  },
  {
   "cell_type": "markdown",
   "metadata": {},
   "source": [
    "#### b) Delete the items 6 and 13 from the AVL tree given in Figure 1. Does it make a difference in which order you remove them? (2P)"
   ]
  },
  {
   "cell_type": "code",
   "execution_count": 81,
   "metadata": {},
   "outputs": [
    {
     "data": {
      "text/html": [
       "\n",
       "        <iframe\n",
       "            width=\"1000\"\n",
       "            height=\"450\"\n",
       "            src=\"Assignment 8 Ex2b.pdf\"\n",
       "            frameborder=\"0\"\n",
       "            allowfullscreen\n",
       "        ></iframe>\n",
       "        "
      ],
      "text/plain": [
       "<IPython.lib.display.IFrame at 0x295df65c250>"
      ]
     },
     "execution_count": 81,
     "metadata": {},
     "output_type": "execute_result"
    }
   ],
   "source": [
    "from IPython.display import IFrame, display\n",
    "filepath = \"Assignment 8 Ex2b.pdf\"\n",
    "IFrame(filepath, width=1000, height=450)"
   ]
  },
  {
   "cell_type": "markdown",
   "metadata": {},
   "source": [
    "First deleting 6 or 13 and then the other number creates two different resulting AVL-trees. By first deleting the 6, the AVL conditions get violated and the tree must undergo a Right-Left rotation. The 13 becomes then the \n",
    "root and by deleting it, the left-most element of the right branch becomes the new root. By swapping this element to the root, the AVL conditions are maintained.\n",
    "\n",
    "By first deleting the 13, the AVL conditions are maintained. Deleting then the 6, the AVL conditions are still maintained. Consequently the overall effort is higher by first deleting 6 and 13 because here the tree must undergo \n",
    "a RL-rotation and then swap the root, whereas deleting first 6 than 13 means just deleting the node and moving each one children node up."
   ]
  },
  {
   "cell_type": "markdown",
   "metadata": {},
   "source": [
    "### Excercise 3 (Priority Queues, 7 P)\n",
    "\n",
    "In the lecture, heaps were presented as a possible implementation for priority queues. Another option\n",
    "is to use AVL trees.\n",
    "\n",
    "#### a) Assume that the operations insert, delete, search for an AVL tree are implemented. How would you implement the operations insert, maximum, extract-max, increase-key, decrease-key that a priority queue should support? You only need to provide the pseudocode. (4P)\n"
   ]
  },
  {
   "cell_type": "code",
   "execution_count": null,
   "metadata": {},
   "outputs": [],
   "source": [
    "#insert:\n",
    "\n",
    "insert(self,root,key)\n",
    "if key<root.value: \n",
    "    root.left = self.insert(root.left, key) \n",
    "else: \n",
    "    root.right = self.insert(root.right, key) \n",
    "# update tree hight\n",
    "    root.height = 1+max(self.hight(root.left),self.hight(root.right))\n",
    "#find the balance  \n",
    "balance= self.getBlnc(root) \n",
    "#If the node is unbalanced\n",
    "\n",
    "#Right Right \n",
    "if balance<-1 and key>root.right.val: \n",
    "    return self.leftRot(root) \n",
    "#Left Left \n",
    "if balance>1 and key<root.left.val: \n",
    "    return self.rightRot(root) \n",
    "#Right Left \n",
    "if balance<-1 and key<root.right.val: \n",
    "    root.right = self.rightRot(root.right) \n",
    "    return self.leftRot(root)\n",
    "#Left Right \n",
    "if balance>1 and key>root.left.val: \n",
    "    root.left = self.leftRot(root.left) \n",
    "    return self.rightRot(root) \n",
    "return root\n"
   ]
  },
  {
   "cell_type": "code",
   "execution_count": null,
   "metadata": {},
   "outputs": [],
   "source": [
    "#maximum:\n",
    "\n",
    "checkmaximum(node v, root)\n",
    "if root!=None:\n",
    "    while(root.right!=None)\n",
    "      root=root.right\n",
    "    return root.key\n",
    "  "
   ]
  },
  {
   "cell_type": "code",
   "execution_count": null,
   "metadata": {},
   "outputs": [],
   "source": [
    "#extract maximum:\n",
    "\n",
    "'''find maximum delete it from tree and then rebalance tree'''\n",
    "extractmaximum(node v, root):\n",
    "    if root!=None:\n",
    "    while(root.right!=None)\n",
    "      root=root.right\n",
    "        root=None\n",
    "# update tree hight\n",
    "root.height = 1+max(hight(root.left),hight(root.right))\n",
    "#find the balance  \n",
    "balance= self.getBlnc(root) \n",
    "#If the node is unbalanced\n",
    "\n",
    "#Right Right \n",
    "if balance<-1 and key>root.right.val: \n",
    "    self.leftRot(root) \n",
    "#Left Left \n",
    "if balance>1 and key<root.left.val: \n",
    "    self.rightRot(root) \n",
    "#Right Left \n",
    "if balance<-1 and key<root.right.val: \n",
    "    root.right = self.rightRot(root.right) \n",
    "    self.leftRot(root)\n",
    "#Left Right \n",
    "if balance>1 and key>root.left.val: \n",
    "    root.left = self.leftRot(root.left) \n",
    "    self.rightRot(root) \n",
    "return root"
   ]
  },
  {
   "cell_type": "code",
   "execution_count": null,
   "metadata": {},
   "outputs": [],
   "source": [
    "#increase key and decrease key:\n",
    "\n",
    "#For both, increase-key and decrease-key, the pseudocode will be the same, the only difference is for decrease key we will \n",
    "#decrease the value and for increase key we will increase it before reinsertion\n",
    "\n",
    "'''find the node iam interested in,delete it from tree,then reinsert it in tree after modification, \n",
    "   '''\n",
    "increasekey(root,oldkey,newkey):\n",
    "    deletenode(root,oldkey):\n",
    "# If the kye that i want to delete,is less than the root's key then it will be in left subtree\n",
    "        if oldkey < root.key:\n",
    "        root.left = deletenode(root.left, oldkey)\n",
    "# If the kye is greater than the root's key then it will be in right subtree\n",
    "        elif oldkey > root.key:\n",
    "        root.right = deletenode(root.right, oldkey)\n",
    "# node with no child\n",
    "        else:\n",
    "            if root.left==None and root.right==None:\n",
    "            return None\n",
    "#node with no left child\n",
    "        elif root.left==None:\n",
    "            tmp = root.right\n",
    "            root = None\n",
    "            return tmp\n",
    "#node with no right child\n",
    "        elif root.right==None:\n",
    "            temp = root.left\n",
    "            root = None\n",
    "            return temp\n",
    "# Node with two children, find smallest in the right subtree\n",
    "        tmp = findmin(root.right)\n",
    "# Copy the inorder successor's content to this node\n",
    "        root.key = tmp.key\n",
    "# Delete the inorder successor\n",
    "        root.right = deletenode(root.right, tmp.key)\n",
    "\n",
    "    \n",
    "'''reinsert the key after increasing value it'''\n",
    "insert(self,root,key)\n",
    "if key<root.value: \n",
    "    root.left = self.insert(root.left, key) \n",
    "else: \n",
    "    root.right = self.insert(root.right, key) \n",
    "# update tree hight\n",
    "    root.height = 1+max(self.hight(root.left),self.hight(root.right))\n",
    "#find the balance  \n",
    "balance= self.getBlnc(root) \n",
    "#If the node is unbalanced\n",
    "\n",
    "#Right Right \n",
    "if balance<-1 and key>root.right.val: \n",
    "    return self.leftRot(root) \n",
    "#Left Left \n",
    "if balance>1 and key<root.left.val: \n",
    "    return self.rightRot(root) \n",
    "#Right Left \n",
    "if balance<-1 and key<root.right.val: \n",
    "    root.right = self.rightRot(root.right) \n",
    "    return self.leftRot(root)\n",
    "#Left Right \n",
    "if balance>1 and key>root.left.val: \n",
    "    root.left = self.leftRot(root.left) \n",
    "    return self.rightRot(root) \n",
    "\n"
   ]
  },
  {
   "cell_type": "markdown",
   "metadata": {},
   "source": [
    "\n",
    "#### b) What are the asymptotic running times for these operations? How do they compare to those with a heap implementation of priority queues? (3P)\n"
   ]
  },
  {
   "cell_type": "markdown",
   "metadata": {},
   "source": [
    "Asymptotic running time for all operations (insertion,maximum,extract-maximum,increase-key,decrease key) in AVl Tree is O(logn).\n",
    "in heap implementation, time complexity for all these operations is same as AVl tree(O(logn)) \n",
    "except maximum opertion, in heap we can get maximum in Θ(1).\n"
   ]
  }
 ],
 "metadata": {
  "kernelspec": {
   "display_name": "Python 3",
   "language": "python",
   "name": "python3"
  },
  "language_info": {
   "codemirror_mode": {
    "name": "ipython",
    "version": 3
   },
   "file_extension": ".py",
   "mimetype": "text/x-python",
   "name": "python",
   "nbconvert_exporter": "python",
   "pygments_lexer": "ipython3",
   "version": "3.8.3"
  }
 },
 "nbformat": 4,
 "nbformat_minor": 2
}
