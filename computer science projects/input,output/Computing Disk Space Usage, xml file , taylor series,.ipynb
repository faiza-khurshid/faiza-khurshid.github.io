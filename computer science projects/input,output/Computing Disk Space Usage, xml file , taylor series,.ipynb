{
 "cells": [
  {
   "cell_type": "markdown",
   "metadata": {},
   "source": [
    "faiza khurshid faiza.khurshid@uni-bonn.de\n",
    "\n",
    "# Exercise 1 (Computing Disk Space Usage, 6 Points)\n",
    "a) The overall size (in bytes) of files in the specified directory, including its complete directory tree\n",
    "\n",
    "(It must return one overall size which include all subdirectories and their subdirectories, etc.)\n",
    "\n",
    "b) The overall size (in bytes) of those files (within the same tree) that end in the given file extension.\n",
    "\n",
    "c) The percentage of space that is taken up by files with the given extension.\n",
    "Take special care to make your code robust. In particular, when the user specifies a non-existing\n",
    "directory or some other error occurs while traversing it, do not print the above-mentioned information.\n",
    "Instead, output a clear error message that indicates what went wrong. Also take care to correctly deal\n",
    "with empty directories. Include several calls to your function that illustrate its correct behavior in the different cases."
   ]
  },
  {
   "cell_type": "code",
   "execution_count": 85,
   "metadata": {},
   "outputs": [
    {
     "name": "stdout",
     "output_type": "stream",
     "text": [
      "the overall size of directory: 10424379\n",
      "file size in given extention: 14920\n",
      "space_percentage : 0.1431260317760895%\n"
     ]
    }
   ],
   "source": [
    "import os \n",
    "def size(directory,file_extention):\n",
    "    file_size=0\n",
    "    directory_size = 0\n",
    "    if not os.path.isdir(directory):\n",
    "        raise Exception (\"Invalid directory\")\n",
    "    else:\n",
    "        for path, dirs, files in os.walk(directory):\n",
    "            for file in files:\n",
    "                joinn = os.path.join(path, file)\n",
    "                directory_size += os.path.getsize(joinn)\n",
    "# file overall size of files in given extention\n",
    "                if file.endswith(file_extention):\n",
    "                   p=os.path.join(path,file)\n",
    "                   f_size=os.path.getsize(p)\n",
    "                   file_size+=f_size\n",
    "            \n",
    "                \n",
    "    if directory_size== 0:\n",
    "        print('empty directory')\n",
    "    \n",
    "    if file_size==0:\n",
    "        print('file not exist')\n",
    "        \n",
    "        \n",
    "    print('the overall size of directory:',directory_size)\n",
    "    print('file size in given extention:',file_size)\n",
    "\n",
    "# find the percentage space taken up by files\n",
    "    space_percentage= file_size/directory_size*100\n",
    "    print('space_percentage :',str(space_percentage) + '%')\n",
    "    \n",
    "size('C:\\\\Users\\\\toqee\\\\music','.txt')\n",
    "            \n",
    "    "
   ]
  },
  {
   "cell_type": "markdown",
   "metadata": {},
   "source": [
    "# • Write function AtlasDict(input) that takes atlas xml file path and returns the dictionary of index to structural name. For example in ”Harvard-Oxford Cortical Structural Atlas”, the index of ”Postcentral Gyrus” is 16. (8p)"
   ]
  },
  {
   "cell_type": "code",
   "execution_count": 1,
   "metadata": {},
   "outputs": [
    {
     "name": "stdout",
     "output_type": "stream",
     "text": [
      "{'0': 'Left Cerebral White Matter', '1': 'Left Cerebral Cortex ', '2': 'Left Lateral Ventrical', '3': 'Left Thalamus', '4': 'Left Caudate', '5': 'Left Putamen', '6': 'Left Pallidum', '7': 'Brain-Stem', '8': 'Left Hippocampus', '9': 'Left Amygdala', '10': 'Left Accumbens', '11': 'Right Cerebral White Matter', '12': 'Right Cerebral Cortex ', '13': 'Right Lateral Ventricle', '14': 'Right Thalamus', '15': 'Right Caudate', '16': 'Right Putamen', '17': 'Right Pallidum', '18': 'Right Hippocampus', '19': 'Right Amygdala', '20': 'Right Accumbens'}\n"
     ]
    }
   ],
   "source": [
    "def AtlasDict(inputt):\n",
    "    with open (inputt,'r') as f:\n",
    "        lis=[]\n",
    "        file_split=f.read().split('/')[18:]\n",
    "    for i in range(len(file_split)):\n",
    "        file_rep = file_split[i].replace('>','').replace('<','')\n",
    "        S=file_rep.split('\"')\n",
    "        lis.append(S)\n",
    "    lis_slic=lis[:-3]\n",
    "    dictionary={j[1]:j[8] for j in lis_slic}\n",
    "    return dictionary\n",
    "\n",
    "print(AtlasDict('C:\\\\Users\\\\toqee\\\\Desktop\\\\HarvardOxford-Subcortical.xml'))"
   ]
  },
  {
   "cell_type": "code",
   "execution_count": 2,
   "metadata": {},
   "outputs": [
    {
     "name": "stdout",
     "output_type": "stream",
     "text": [
      "{'0': 'Frontal Pole', '1': 'Insular Cortex', '2': 'Superior Frontal Gyrus', '3': 'Middle Frontal Gyrus', '4': 'Inferior Frontal Gyrus, pars triangularis', '5': 'Inferior Frontal Gyrus, pars opercularis', '6': 'Precentral Gyrus', '7': 'Temporal Pole', '8': 'Superior Temporal Gyrus, anterior division', '9': 'Superior Temporal Gyrus, posterior division', '10': 'Middle Temporal Gyrus, anterior division', '11': 'Middle Temporal Gyrus, posterior division', '12': 'Middle Temporal Gyrus, temporooccipital part', '13': 'Inferior Temporal Gyrus, anterior division', '14': 'Inferior Temporal Gyrus, posterior division', '15': 'Inferior Temporal Gyrus, temporooccipital part', '16': 'Postcentral Gyrus', '17': 'Superior Parietal Lobule', '18': 'Supramarginal Gyrus, anterior division', '19': 'Supramarginal Gyrus, posterior division', '20': 'Angular Gyrus', '21': 'Lateral Occipital Cortex, superior division', '22': 'Lateral Occipital Cortex, inferior division', '23': 'Intracalcarine Cortex', '24': 'Frontal Medial Cortex', '25': 'Juxtapositional Lobule Cortex (formerly Supplementary Motor Cortex)', '26': 'Subcallosal Cortex', '27': 'Paracingulate Gyrus', '28': 'Cingulate Gyrus, anterior division', '29': 'Cingulate Gyrus, posterior division', '30': 'Precuneous Cortex', '31': 'Cuneal Cortex', '32': 'Frontal Orbital Cortex', '33': 'Parahippocampal Gyrus, anterior division', '34': 'Parahippocampal Gyrus, posterior division', '35': 'Lingual Gyrus', '36': 'Temporal Fusiform Cortex, anterior division', '37': 'Temporal Fusiform Cortex, posterior division', '38': 'Temporal Occipital Fusiform Cortex', '39': 'Occipital Fusiform Gyrus', '40': 'Frontal Operculum Cortex', '41': 'Central Opercular Cortex', '42': 'Parietal Operculum Cortex', '43': 'Planum Polare', '44': \"Heschl's Gyrus (includes H1 and H2)\", '45': 'Planum Temporale', '46': 'Supracalcarine Cortex', '47': 'Occipital Pole'}\n"
     ]
    }
   ],
   "source": [
    "print(AtlasDict('C:\\\\Users\\\\toqee\\\\Desktop\\\\HarvardOxford-Cortical.xml')) "
   ]
  },
  {
   "cell_type": "markdown",
   "metadata": {},
   "source": [
    "# • Write function summarize(input, output) that takes atlas xml file path and output path and produces a new file that contains the name of atlas, the short name, structures name and corresponding index and the total number of structural region. (5p)"
   ]
  },
  {
   "cell_type": "code",
   "execution_count": 3,
   "metadata": {},
   "outputs": [],
   "source": [
    "def summarize(inputt,output):\n",
    "    with open (inputt,'r') as f1:\n",
    "        l=[]\n",
    "        Slice=f1.read().split('<')[4:7:2]\n",
    "        for i in range(len(Slice)):\n",
    "            R= Slice[i].replace('/','')\n",
    "            new_split=R.split('>')\n",
    "            l.append(new_split)\n",
    "            AD=AtlasDict(inputt)\n",
    "        with open (output,'w') as f2:\n",
    "            atlx_dic={item[0]:item[1] for item in l}\n",
    "            atlx_dic.update(AD)\n",
    "            atlx_dic['number of structures in atlas']=len(AD)\n",
    "            x=f2.write(str(atlx_dic))\n",
    "        \n",
    "summarize('C:\\\\Users\\\\toqee\\\\Desktop\\\\HarvardOxford-Cortical.xml','C:\\\\Users\\\\toqee\\\\atlas_output1.txt')\n",
    "summarize('C:\\\\Users\\\\toqee\\\\Desktop\\\\HarvardOxford-Subcortical.xml','C:\\\\Users\\\\toqee\\\\atlas_output2.txt')"
   ]
  },
  {
   "cell_type": "code",
   "execution_count": 4,
   "metadata": {},
   "outputs": [
    {
     "name": "stdout",
     "output_type": "stream",
     "text": [
      "{'name': 'Harvard-Oxford Subcortical Structural Atlas'\n",
      " 'shortname': 'HOSPA'\n",
      " '0': 'Left Cerebral White Matter'\n",
      " '1': 'Left Cerebral Cortex '\n",
      " '2': 'Left Lateral Ventrical'\n",
      " '3': 'Left Thalamus'\n",
      " '4': 'Left Caudate'\n",
      " '5': 'Left Putamen'\n",
      " '6': 'Left Pallidum'\n",
      " '7': 'Brain-Stem'\n",
      " '8': 'Left Hippocampus'\n",
      " '9': 'Left Amygdala'\n",
      " '10': 'Left Accumbens'\n",
      " '11': 'Right Cerebral White Matter'\n",
      " '12': 'Right Cerebral Cortex '\n",
      " '13': 'Right Lateral Ventricle'\n",
      " '14': 'Right Thalamus'\n",
      " '15': 'Right Caudate'\n",
      " '16': 'Right Putamen'\n",
      " '17': 'Right Pallidum'\n",
      " '18': 'Right Hippocampus'\n",
      " '19': 'Right Amygdala'\n",
      " '20': 'Right Accumbens'\n",
      " 'number of structures in atlas': 21}\n"
     ]
    }
   ],
   "source": [
    "with open('C:\\\\Users\\\\toqee\\\\atlas_output2.txt') as output2:\n",
    "    x=output2.read()\n",
    "    print(x.replace(',','\\n'))"
   ]
  },
  {
   "cell_type": "code",
   "execution_count": 5,
   "metadata": {},
   "outputs": [
    {
     "name": "stdout",
     "output_type": "stream",
     "text": [
      "{'name': 'Harvard-Oxford Cortical Structural Atlas'\n",
      " 'shortname': 'HOCPA'\n",
      " '0': 'Frontal Pole'\n",
      " '1': 'Insular Cortex'\n",
      " '2': 'Superior Frontal Gyrus'\n",
      " '3': 'Middle Frontal Gyrus'\n",
      " '4': 'Inferior Frontal Gyrus\n",
      " pars triangularis'\n",
      " '5': 'Inferior Frontal Gyrus\n",
      " pars opercularis'\n",
      " '6': 'Precentral Gyrus'\n",
      " '7': 'Temporal Pole'\n",
      " '8': 'Superior Temporal Gyrus\n",
      " anterior division'\n",
      " '9': 'Superior Temporal Gyrus\n",
      " posterior division'\n",
      " '10': 'Middle Temporal Gyrus\n",
      " anterior division'\n",
      " '11': 'Middle Temporal Gyrus\n",
      " posterior division'\n",
      " '12': 'Middle Temporal Gyrus\n",
      " temporooccipital part'\n",
      " '13': 'Inferior Temporal Gyrus\n",
      " anterior division'\n",
      " '14': 'Inferior Temporal Gyrus\n",
      " posterior division'\n",
      " '15': 'Inferior Temporal Gyrus\n",
      " temporooccipital part'\n",
      " '16': 'Postcentral Gyrus'\n",
      " '17': 'Superior Parietal Lobule'\n",
      " '18': 'Supramarginal Gyrus\n",
      " anterior division'\n",
      " '19': 'Supramarginal Gyrus\n",
      " posterior division'\n",
      " '20': 'Angular Gyrus'\n",
      " '21': 'Lateral Occipital Cortex\n",
      " superior division'\n",
      " '22': 'Lateral Occipital Cortex\n",
      " inferior division'\n",
      " '23': 'Intracalcarine Cortex'\n",
      " '24': 'Frontal Medial Cortex'\n",
      " '25': 'Juxtapositional Lobule Cortex (formerly Supplementary Motor Cortex)'\n",
      " '26': 'Subcallosal Cortex'\n",
      " '27': 'Paracingulate Gyrus'\n",
      " '28': 'Cingulate Gyrus\n",
      " anterior division'\n",
      " '29': 'Cingulate Gyrus\n",
      " posterior division'\n",
      " '30': 'Precuneous Cortex'\n",
      " '31': 'Cuneal Cortex'\n",
      " '32': 'Frontal Orbital Cortex'\n",
      " '33': 'Parahippocampal Gyrus\n",
      " anterior division'\n",
      " '34': 'Parahippocampal Gyrus\n",
      " posterior division'\n",
      " '35': 'Lingual Gyrus'\n",
      " '36': 'Temporal Fusiform Cortex\n",
      " anterior division'\n",
      " '37': 'Temporal Fusiform Cortex\n",
      " posterior division'\n",
      " '38': 'Temporal Occipital Fusiform Cortex'\n",
      " '39': 'Occipital Fusiform Gyrus'\n",
      " '40': 'Frontal Operculum Cortex'\n",
      " '41': 'Central Opercular Cortex'\n",
      " '42': 'Parietal Operculum Cortex'\n",
      " '43': 'Planum Polare'\n",
      " '44': \"Heschl's Gyrus (includes H1 and H2)\"\n",
      " '45': 'Planum Temporale'\n",
      " '46': 'Supracalcarine Cortex'\n",
      " '47': 'Occipital Pole'\n",
      " 'number of structures in atlas': 48}\n"
     ]
    }
   ],
   "source": [
    "with open('C:\\\\Users\\\\toqee\\\\atlas_output1.txt') as output1:\n",
    "    f=output1.read()\n",
    "    print(f.replace(',','\\n'))"
   ]
  },
  {
   "cell_type": "markdown",
   "metadata": {},
   "source": [
    "# Exercise 3 (Taylor Series, 6 Points)\n",
    " • Write a generator function that takes as input x and computes partial sums of the Taylor series\n",
    "shown above. Each new value that is generated should result from adding one more term to the previously computed sum. (4P)\n",
    "\n",
    "\n",
    "• The Taylor series shown above only converges if |x| < 1. Modify the generator function so that it\n",
    "raises an exception when this condition is violated. When using the function, make sure that you\n",
    "handle this exception by displaying a meaningful error message. (2P)"
   ]
  },
  {
   "cell_type": "code",
   "execution_count": 91,
   "metadata": {},
   "outputs": [
    {
     "name": "stdout",
     "output_type": "stream",
     "text": [
      "1.8\n",
      "2.4400000000000004\n",
      "2.9520000000000004\n"
     ]
    }
   ],
   "source": [
    "def genrator(x):\n",
    "    if not abs(x)<1:\n",
    "         raise Exception(\"Enter the value of x that |x|<1 otherwise this series will not converge\")\n",
    "    else:\n",
    "        partial_sum=1\n",
    "        i=1\n",
    "        while True:\n",
    "            partial_sum+=x**i\n",
    "            i+=1\n",
    "            yield partial_sum\n",
    "            \n",
    "y=genrator(0.8)\n",
    "print(next(y))\n",
    "print(next(y))\n",
    "print(next(y))"
   ]
  }
 ],
 "metadata": {
  "kernelspec": {
   "display_name": "Python 3",
   "language": "python",
   "name": "python3"
  },
  "language_info": {
   "codemirror_mode": {
    "name": "ipython",
    "version": 3
   },
   "file_extension": ".py",
   "mimetype": "text/x-python",
   "name": "python",
   "nbconvert_exporter": "python",
   "pygments_lexer": "ipython3",
   "version": "3.8.3"
  }
 },
 "nbformat": 4,
 "nbformat_minor": 4
}
