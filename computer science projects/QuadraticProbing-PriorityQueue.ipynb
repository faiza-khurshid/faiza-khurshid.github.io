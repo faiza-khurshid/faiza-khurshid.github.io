{
 "cells": [
  {
   "cell_type": "markdown",
   "metadata": {},
   "source": [
    "# Assignment Sheet 09\n",
    "\n",
    "Marie Keller, Faiza Khurshid, Lara Schmalenstroer\n",
    "\n",
    "### Excercise 1 (Priority Queue based on Max-Heap Implementation, 13 P)\n",
    "\n",
    "In this exercise we want to implement a Priority Queue based on a Max-Heap. Since we want to improve\n",
    "our understanding of the Max-Heap we are not going to use any existing Max-Heap implementation,\n",
    "but we are going to implement it ourselves.\n",
    "\n",
    "#### a) Implement a Max-Heap as a class MaxHeap() in Python. The Heap should work on arbitrary objects which allow for a comparison with the < operator.\n",
    "\n",
    "- Implement the attribute maximum which returns the maximum in the heap without removing it from the heap (0.5 Points) and the attribute size which returns the number of elements in the heap (0.5 Points)\n",
    "\n",
    "- Your class should support inserting elements by implementing the functions insert() and _upheap(). (3 Points)\n",
    "\n",
    "- Your class should support the extraction of the maxium from the heap by implementing pop_max() and _downheap(). (3 Points)\n",
    "\n",
    "- In case you are trying to extract the maximum from an empty Heap, your class should raise an appropriate Error with a helpful error message. (1 Point)\n",
    "\n"
   ]
  },
  {
   "cell_type": "code",
   "execution_count": 1,
   "metadata": {},
   "outputs": [],
   "source": [
    "from math import floor"
   ]
  },
  {
   "cell_type": "code",
   "execution_count": 121,
   "metadata": {},
   "outputs": [],
   "source": [
    "class MaxHeap:\n",
    "    def __init__(self):\n",
    "        self.value_list=[]\n",
    "        \n",
    "    def maximum(self):\n",
    "        self.maximum=self.value_list[0]\n",
    "        return self.maximum\n",
    "    \n",
    "    def size(self):\n",
    "        self.size=len(self.value_list)\n",
    "        return self.size\n",
    "    \n",
    "    \n",
    "    def insert_n(self, n):\n",
    "        self.value_list.append(n)\n",
    "        n_index=self.value_list.index(n)\n",
    "        self._upheap(n)\n",
    "        return '{} was inserted at position {}'.format(n,self.value_list.index(n))\n",
    "        \n",
    "    def _upheap(self, element):\n",
    "        el_index=self.value_list.index(element)\n",
    "        if len(self.value_list)==1:\n",
    "            return\n",
    "        elif len(self.value_list)==2:\n",
    "            if self.value_list[0]<self.value_list[1]:\n",
    "                self.value_list[0],self.value_list[1]=self.value_list[1],self.value_list[0]\n",
    "                return\n",
    "            else:\n",
    "                return\n",
    "        else:\n",
    "            par_index=floor((el_index-1)/2)\n",
    "            if el_index>0 and element>self.value_list[(floor((el_index-1)/2))]:\n",
    "                self.value_list[el_index],self.value_list[par_index] = self.value_list[par_index],self.value_list[el_index]\n",
    "                el_index=self.value_list.index(element)\n",
    "                self._upheap(element)\n",
    "            return \n",
    "    \n",
    "    def pop_max(self):\n",
    "        if len(self.value_list)==0:\n",
    "            raise ValueError('The Max-Heap array does not contain any elements. To extract a maximum value, \\\n",
    "            insert at least one element into the array.')\n",
    "        else:\n",
    "            self.max=self.value_list[0]\n",
    "            last=self.value_list.pop()\n",
    "            self.value_list[0]=last\n",
    "            last_index=self.value_list.index(last)\n",
    "            self._downheap(last)\n",
    "            return 'The maximum value {} was extracted.'.format(self.max)\n",
    "            \n",
    "        \n",
    "    def _downheap(self, element):\n",
    "        el_index=self.value_list.index(element)\n",
    "        if len(self.value_list)==1 or len(self.value_list)==2:\n",
    "                return\n",
    "        else:\n",
    "            l_index=2*el_index+1\n",
    "            r_index=2*el_index+2\n",
    "            if (2*el_index+2)<(len(self.value_list)):\n",
    "                if element<self.value_list[(2*el_index+1)] or element<self.value_list[(2*el_index+2)]:\n",
    "                    if self.value_list[l_index]<self.value_list[r_index]:\n",
    "                        largest=r_index\n",
    "                    elif self.value_list[l_index]>self.value_list[r_index]:\n",
    "                        largest=l_index \n",
    "                    self.value_list[el_index],self.value_list[largest]=self.value_list[largest],self.value_list[el_index]\n",
    "                    self._downheap(element)\n",
    "            return \n",
    "        "
   ]
  },
  {
   "cell_type": "code",
   "execution_count": 122,
   "metadata": {},
   "outputs": [],
   "source": [
    "Mh=MaxHeap()"
   ]
  },
  {
   "cell_type": "code",
   "execution_count": 123,
   "metadata": {},
   "outputs": [
    {
     "data": {
      "text/plain": [
       "'5 was inserted at position 0'"
      ]
     },
     "execution_count": 123,
     "metadata": {},
     "output_type": "execute_result"
    }
   ],
   "source": [
    "Mh.insert_n(5)"
   ]
  },
  {
   "cell_type": "code",
   "execution_count": 124,
   "metadata": {},
   "outputs": [
    {
     "data": {
      "text/plain": [
       "'2 was inserted at position 1'"
      ]
     },
     "execution_count": 124,
     "metadata": {},
     "output_type": "execute_result"
    }
   ],
   "source": [
    "Mh.insert_n(2)"
   ]
  },
  {
   "cell_type": "code",
   "execution_count": 125,
   "metadata": {},
   "outputs": [
    {
     "data": {
      "text/plain": [
       "'11 was inserted at position 0'"
      ]
     },
     "execution_count": 125,
     "metadata": {},
     "output_type": "execute_result"
    }
   ],
   "source": [
    "Mh.insert_n(11)"
   ]
  },
  {
   "cell_type": "code",
   "execution_count": 126,
   "metadata": {},
   "outputs": [
    {
     "data": {
      "text/plain": [
       "'8 was inserted at position 1'"
      ]
     },
     "execution_count": 126,
     "metadata": {},
     "output_type": "execute_result"
    }
   ],
   "source": [
    "Mh.insert_n(8)"
   ]
  },
  {
   "cell_type": "code",
   "execution_count": 127,
   "metadata": {},
   "outputs": [
    {
     "data": {
      "text/plain": [
       "[11, 8, 5, 2]"
      ]
     },
     "execution_count": 127,
     "metadata": {},
     "output_type": "execute_result"
    }
   ],
   "source": [
    "Mh.value_list"
   ]
  },
  {
   "cell_type": "code",
   "execution_count": 128,
   "metadata": {},
   "outputs": [
    {
     "data": {
      "text/plain": [
       "11"
      ]
     },
     "execution_count": 128,
     "metadata": {},
     "output_type": "execute_result"
    }
   ],
   "source": [
    "Mh.maximum()"
   ]
  },
  {
   "cell_type": "code",
   "execution_count": 129,
   "metadata": {},
   "outputs": [
    {
     "data": {
      "text/plain": [
       "4"
      ]
     },
     "execution_count": 129,
     "metadata": {},
     "output_type": "execute_result"
    }
   ],
   "source": [
    "Mh.size()"
   ]
  },
  {
   "cell_type": "code",
   "execution_count": 130,
   "metadata": {},
   "outputs": [
    {
     "data": {
      "text/plain": [
       "'The maximum value 11 was extracted.'"
      ]
     },
     "execution_count": 130,
     "metadata": {},
     "output_type": "execute_result"
    }
   ],
   "source": [
    "Mh.pop_max()"
   ]
  },
  {
   "cell_type": "code",
   "execution_count": 131,
   "metadata": {},
   "outputs": [
    {
     "data": {
      "text/plain": [
       "[8, 2, 5]"
      ]
     },
     "execution_count": 131,
     "metadata": {},
     "output_type": "execute_result"
    }
   ],
   "source": [
    "Mh.value_list"
   ]
  },
  {
   "cell_type": "markdown",
   "metadata": {},
   "source": [
    "#### b) Based on your Implementation of the Max-Heap, implement a Priority Queue as a class PriorityQueue(). The priority queue should work on tuples where the first element in the tuple is the priority\n",
    "\n",
    "- Find a way to use your Max-Heap implementation as the backbone of your Priority Queue. (2 Points)\n",
    "\n",
    "- Support inserting elements with a function insert(). (1 Point)\n",
    "\n",
    "- Support peeking at the maximum priority item with a function peek() (0.5 Points)\n",
    "\n",
    "- Support extraction of the maximum with a function pop max() (0.5 Points)\n",
    "\n",
    "- Make the PriorityQueue class iterable. (1 Point)"
   ]
  },
  {
   "cell_type": "code",
   "execution_count": 204,
   "metadata": {},
   "outputs": [],
   "source": [
    "class PriorityQueue(MaxHeap):\n",
    "    def __init__(self):\n",
    "        super().__init__()\n",
    "        self.tup_list=[]\n",
    "        self.tup_dic={}\n",
    "        self.index=len(self.tup_list)\n",
    "        self.iter=-1\n",
    "        \n",
    "    def insert_tup(self, tup):\n",
    "        assert type(tup) is tuple, 'Input type must be tuple: %r' % tup\n",
    "        n=tup[0]\n",
    "        self.tup_list.append(tup)\n",
    "        self.tup_dic[n]=tup\n",
    "        self.insert_n(n)\n",
    "        self.key_list=list(self.tup_dic.keys())\n",
    "        for i in range (len(self.value_list)):\n",
    "            if self.value_list[i]!=self.key_list[i]:\n",
    "                move=self.value_list[i]\n",
    "                index_m=self.key_list.index(move)\n",
    "                self.key_list[i],self.key_list[index_m]=self.key_list[index_m],self.key_list[i]\n",
    "                self.tup_list[i],self.tup_list[index_m]=self.tup_list[index_m],self.tup_list[i]\n",
    "                \n",
    "            elif self.value_list==self.key_list:\n",
    "                self.tup_dic={}\n",
    "                for key in self.value_list:\n",
    "                    self.tup_dic[key]= self.tup_list[self.value_list.index(key)]\n",
    "        self.index=len(self.tup_list)\n",
    "        return\n",
    "    \n",
    "    def peek(self):\n",
    "        self.maximum=self.tup_list[0]\n",
    "        return self.maximum\n",
    "    \n",
    "    \n",
    "    def pop_max_tup(self):\n",
    "        self.pop_max()\n",
    "        self.max_tup=self.tup_dic[self.max]\n",
    "        self.tup_list.remove(self.tup_dic[self.max])\n",
    "        self.key_list=list(self.tup_dic.keys())\n",
    "        self.key_list.remove(self.max)\n",
    "        for i in range (len(self.value_list)):\n",
    "            if self.value_list[i]!=self.key_list[i]:\n",
    "                move=self.value_list[i]\n",
    "                index_m=self.key_list.index(move)\n",
    "                self.key_list[i],self.key_list[index_m]=self.key_list[index_m],self.key_list[i]\n",
    "                self.tup_list[i],self.tup_list[index_m]=self.tup_list[index_m],self.tup_list[i]\n",
    "                \n",
    "            elif self.value_list==self.key_list:\n",
    "                self.tup_dic={}\n",
    "                for key in self.value_list:\n",
    "                    self.tup_dic[key]= self.tup_list[self.value_list.index(key)]\n",
    "        self.index=len(self.tup_list)\n",
    "        return 'The maximum value {} was extracted.'.format(self.max_tup)\n",
    "        \n",
    "    def __iter__(self):\n",
    "        return self\n",
    "    \n",
    "    def __next__(self):\n",
    "        if self.iter==self.index-1:\n",
    "            raise StopIteration\n",
    "        self.iter=self.iter+1\n",
    "        return self.tup_list[self.iter]"
   ]
  },
  {
   "cell_type": "code",
   "execution_count": 205,
   "metadata": {},
   "outputs": [],
   "source": [
    "Pq=PriorityQueue()"
   ]
  },
  {
   "cell_type": "code",
   "execution_count": 206,
   "metadata": {},
   "outputs": [],
   "source": [
    "Pq.insert_tup((5,3))"
   ]
  },
  {
   "cell_type": "code",
   "execution_count": 207,
   "metadata": {},
   "outputs": [],
   "source": [
    "Pq.insert_tup((6,1))"
   ]
  },
  {
   "cell_type": "code",
   "execution_count": 208,
   "metadata": {},
   "outputs": [],
   "source": [
    "Pq.insert_tup((11,6))"
   ]
  },
  {
   "cell_type": "code",
   "execution_count": 209,
   "metadata": {},
   "outputs": [],
   "source": [
    "Pq.insert_tup((3,7))"
   ]
  },
  {
   "cell_type": "code",
   "execution_count": 210,
   "metadata": {},
   "outputs": [
    {
     "data": {
      "text/plain": [
       "[11, 5, 6, 3]"
      ]
     },
     "execution_count": 210,
     "metadata": {},
     "output_type": "execute_result"
    }
   ],
   "source": [
    "Pq.value_list"
   ]
  },
  {
   "cell_type": "code",
   "execution_count": 211,
   "metadata": {},
   "outputs": [
    {
     "data": {
      "text/plain": [
       "[(11, 6), (5, 3), (6, 1), (3, 7)]"
      ]
     },
     "execution_count": 211,
     "metadata": {},
     "output_type": "execute_result"
    }
   ],
   "source": [
    "Pq.tup_list"
   ]
  },
  {
   "cell_type": "code",
   "execution_count": 212,
   "metadata": {},
   "outputs": [
    {
     "data": {
      "text/plain": [
       "{11: (11, 6), 5: (5, 3), 6: (6, 1), 3: (3, 7)}"
      ]
     },
     "execution_count": 212,
     "metadata": {},
     "output_type": "execute_result"
    }
   ],
   "source": [
    "Pq.tup_dic"
   ]
  },
  {
   "cell_type": "code",
   "execution_count": 213,
   "metadata": {},
   "outputs": [
    {
     "data": {
      "text/plain": [
       "(11, 6)"
      ]
     },
     "execution_count": 213,
     "metadata": {},
     "output_type": "execute_result"
    }
   ],
   "source": [
    "Pq.peek()"
   ]
  },
  {
   "cell_type": "code",
   "execution_count": 214,
   "metadata": {},
   "outputs": [
    {
     "data": {
      "text/plain": [
       "'The maximum value (11, 6) was extracted.'"
      ]
     },
     "execution_count": 214,
     "metadata": {},
     "output_type": "execute_result"
    }
   ],
   "source": [
    "Pq.pop_max_tup()"
   ]
  },
  {
   "cell_type": "code",
   "execution_count": 215,
   "metadata": {},
   "outputs": [
    {
     "data": {
      "text/plain": [
       "[(6, 1), (5, 3), (3, 7)]"
      ]
     },
     "execution_count": 215,
     "metadata": {},
     "output_type": "execute_result"
    }
   ],
   "source": [
    "Pq.tup_list"
   ]
  },
  {
   "cell_type": "code",
   "execution_count": 216,
   "metadata": {},
   "outputs": [
    {
     "name": "stdout",
     "output_type": "stream",
     "text": [
      "(6, 1)\n",
      "(5, 3)\n",
      "(3, 7)\n"
     ]
    }
   ],
   "source": [
    "for tup in Pq:\n",
    "    print(tup)"
   ]
  },
  {
   "cell_type": "code",
   "execution_count": 177,
   "metadata": {},
   "outputs": [],
   "source": []
  },
  {
   "cell_type": "markdown",
   "metadata": {},
   "source": [
    "### Exercise 2 (Quadratic Probing, 8 Points)\n",
    "\n",
    "#### a) Show that this scheme is an instance of the general quadratic probing scheme by exhibiting the appropriate constants c1, c2 for h(k, i) = (h(k) + c1i + c2i2) mod m.\n"
   ]
  },
  {
   "cell_type": "code",
   "execution_count": null,
   "metadata": {},
   "outputs": [],
   "source": [
    "#step 1:\n",
    "    i1=T[h(k)]\n",
    "    j1=0\n",
    "#step 2:\n",
    "    i2=(T[h(k)]+j2)%m = (i1+1)%m\n",
    "    j2=j1+1=0+1\n",
    "    j2=1\n",
    "#then we update value of i from i1 to i2\n",
    "\n",
    "#step n:\n",
    "So,we get the general formula to calculate the position to probe at\n",
    "the nth operation\n",
    "      h(K,i)=(T[h(k)]+1+2+3+...+i)%m\n",
    "            =(T[h(k)]+i.(i+1)/2)%m\n",
    "comparing this formula to quadratic hashing equation:\n",
    "      h(k,i)= (T[h(k)]+i/2+i^2/2)%m\n",
    "            = (T[h(k)]+c1i+c2i^2)%m\n",
    "            = (h(k)+c1i+c2i^2)%m\n",
    "#here constant values : \n",
    "    c1=1/2,c2=1/2\n",
    "#so we showed that this scheme is an instance of general quadratic probing\n",
    "    "
   ]
  },
  {
   "cell_type": "markdown",
   "metadata": {},
   "source": [
    "#### b) Assuming that m is a power of 2, is the probing sequence generated by this function a permutation of h0, 1, . . . , m − 1i? Explain why it is in all cases, or provide a counter example."
   ]
  },
  {
   "cell_type": "markdown",
   "metadata": {},
   "source": [
    "Suppose fm(k):=T(k) mod 2^m is a permutation on { 0,...., 2^m-1}. \n",
    "Then the values of fm+1(k) = T(k) mod 2^m+1 must surely be pairwise distinct for 0 ≤ k < 2^m, \n",
    "since they’re already distinct mod 2^m.That means we only have to deal with the second half.\n",
    " \n",
    "      fm+1((2^m+1)-1-k)=T(2^m+1)-1-k ≡ Tk-2^m(mod 2^m+1)\n",
    "\n",
    "and letting k run from 0 to 2^m-1, we notice that mod 2m, these values are congruent to the values in the first half, \n",
    "but mod 2m+1. This implies that the values in the second half are pairwise distinct both from the first half and from each other. \n",
    "This proves that fm+1 is injective, and because its mapping the 2^m+1-element set { 0,...., 2^m+1 - 1} onto itself, \n",
    "it must be a permutation."
   ]
  },
  {
   "cell_type": "code",
   "execution_count": null,
   "metadata": {},
   "outputs": [],
   "source": []
  },
  {
   "cell_type": "markdown",
   "metadata": {},
   "source": [
    "### Exercise 3 (Hash Functions, 4 Points)\n",
    "\n",
    "#### a) Why might one prefer the second algorithm over the first one? (1P) In the second algorithm, what might be a reason for using 31 as the multiplying factor (rather than, say, 32)? (1P)\n",
    "\n",
    "The second algorithm is preferred over the first one because it has the prime number 31 in it. Due to this, the hash function leads to less collisions and the searching will be faster than when the first hash function is used. "
   ]
  },
  {
   "cell_type": "markdown",
   "metadata": {},
   "source": [
    "#### b) You have a universe of 30 numbers {0,1,...,29} and a hash-table of size 10. Which hash-function is better, h1(k) = k mod 10, or h2(k) = floor(k/10)? Why? (2P)"
   ]
  },
  {
   "cell_type": "code",
   "execution_count": 144,
   "metadata": {},
   "outputs": [],
   "source": [
    "import math\n",
    "list_k = [x for x in range(30)]\n",
    "list_mod= [x % 10 for x in range(len(list_k))]\n",
    "list_floor = [math.floor(x/10) for x in range(len(list_k))]"
   ]
  },
  {
   "cell_type": "code",
   "execution_count": 145,
   "metadata": {},
   "outputs": [
    {
     "data": {
      "text/html": [
       "<div>\n",
       "<style scoped>\n",
       "    .dataframe tbody tr th:only-of-type {\n",
       "        vertical-align: middle;\n",
       "    }\n",
       "\n",
       "    .dataframe tbody tr th {\n",
       "        vertical-align: top;\n",
       "    }\n",
       "\n",
       "    .dataframe thead th {\n",
       "        text-align: right;\n",
       "    }\n",
       "</style>\n",
       "<table border=\"1\" class=\"dataframe\">\n",
       "  <thead>\n",
       "    <tr style=\"text-align: right;\">\n",
       "      <th></th>\n",
       "      <th>k</th>\n",
       "      <th>h1(k)=k%10</th>\n",
       "      <th>h2(k)=floor(k/10)</th>\n",
       "    </tr>\n",
       "  </thead>\n",
       "  <tbody>\n",
       "    <tr>\n",
       "      <th>0</th>\n",
       "      <td>0</td>\n",
       "      <td>0</td>\n",
       "      <td>0</td>\n",
       "    </tr>\n",
       "    <tr>\n",
       "      <th>1</th>\n",
       "      <td>1</td>\n",
       "      <td>1</td>\n",
       "      <td>0</td>\n",
       "    </tr>\n",
       "    <tr>\n",
       "      <th>2</th>\n",
       "      <td>2</td>\n",
       "      <td>2</td>\n",
       "      <td>0</td>\n",
       "    </tr>\n",
       "    <tr>\n",
       "      <th>3</th>\n",
       "      <td>3</td>\n",
       "      <td>3</td>\n",
       "      <td>0</td>\n",
       "    </tr>\n",
       "    <tr>\n",
       "      <th>4</th>\n",
       "      <td>4</td>\n",
       "      <td>4</td>\n",
       "      <td>0</td>\n",
       "    </tr>\n",
       "    <tr>\n",
       "      <th>5</th>\n",
       "      <td>5</td>\n",
       "      <td>5</td>\n",
       "      <td>0</td>\n",
       "    </tr>\n",
       "    <tr>\n",
       "      <th>6</th>\n",
       "      <td>6</td>\n",
       "      <td>6</td>\n",
       "      <td>0</td>\n",
       "    </tr>\n",
       "    <tr>\n",
       "      <th>7</th>\n",
       "      <td>7</td>\n",
       "      <td>7</td>\n",
       "      <td>0</td>\n",
       "    </tr>\n",
       "    <tr>\n",
       "      <th>8</th>\n",
       "      <td>8</td>\n",
       "      <td>8</td>\n",
       "      <td>0</td>\n",
       "    </tr>\n",
       "    <tr>\n",
       "      <th>9</th>\n",
       "      <td>9</td>\n",
       "      <td>9</td>\n",
       "      <td>0</td>\n",
       "    </tr>\n",
       "    <tr>\n",
       "      <th>10</th>\n",
       "      <td>10</td>\n",
       "      <td>0</td>\n",
       "      <td>1</td>\n",
       "    </tr>\n",
       "    <tr>\n",
       "      <th>11</th>\n",
       "      <td>11</td>\n",
       "      <td>1</td>\n",
       "      <td>1</td>\n",
       "    </tr>\n",
       "    <tr>\n",
       "      <th>12</th>\n",
       "      <td>12</td>\n",
       "      <td>2</td>\n",
       "      <td>1</td>\n",
       "    </tr>\n",
       "    <tr>\n",
       "      <th>13</th>\n",
       "      <td>13</td>\n",
       "      <td>3</td>\n",
       "      <td>1</td>\n",
       "    </tr>\n",
       "    <tr>\n",
       "      <th>14</th>\n",
       "      <td>14</td>\n",
       "      <td>4</td>\n",
       "      <td>1</td>\n",
       "    </tr>\n",
       "    <tr>\n",
       "      <th>15</th>\n",
       "      <td>15</td>\n",
       "      <td>5</td>\n",
       "      <td>1</td>\n",
       "    </tr>\n",
       "    <tr>\n",
       "      <th>16</th>\n",
       "      <td>16</td>\n",
       "      <td>6</td>\n",
       "      <td>1</td>\n",
       "    </tr>\n",
       "    <tr>\n",
       "      <th>17</th>\n",
       "      <td>17</td>\n",
       "      <td>7</td>\n",
       "      <td>1</td>\n",
       "    </tr>\n",
       "    <tr>\n",
       "      <th>18</th>\n",
       "      <td>18</td>\n",
       "      <td>8</td>\n",
       "      <td>1</td>\n",
       "    </tr>\n",
       "    <tr>\n",
       "      <th>19</th>\n",
       "      <td>19</td>\n",
       "      <td>9</td>\n",
       "      <td>1</td>\n",
       "    </tr>\n",
       "    <tr>\n",
       "      <th>20</th>\n",
       "      <td>20</td>\n",
       "      <td>0</td>\n",
       "      <td>2</td>\n",
       "    </tr>\n",
       "    <tr>\n",
       "      <th>21</th>\n",
       "      <td>21</td>\n",
       "      <td>1</td>\n",
       "      <td>2</td>\n",
       "    </tr>\n",
       "    <tr>\n",
       "      <th>22</th>\n",
       "      <td>22</td>\n",
       "      <td>2</td>\n",
       "      <td>2</td>\n",
       "    </tr>\n",
       "    <tr>\n",
       "      <th>23</th>\n",
       "      <td>23</td>\n",
       "      <td>3</td>\n",
       "      <td>2</td>\n",
       "    </tr>\n",
       "    <tr>\n",
       "      <th>24</th>\n",
       "      <td>24</td>\n",
       "      <td>4</td>\n",
       "      <td>2</td>\n",
       "    </tr>\n",
       "    <tr>\n",
       "      <th>25</th>\n",
       "      <td>25</td>\n",
       "      <td>5</td>\n",
       "      <td>2</td>\n",
       "    </tr>\n",
       "    <tr>\n",
       "      <th>26</th>\n",
       "      <td>26</td>\n",
       "      <td>6</td>\n",
       "      <td>2</td>\n",
       "    </tr>\n",
       "    <tr>\n",
       "      <th>27</th>\n",
       "      <td>27</td>\n",
       "      <td>7</td>\n",
       "      <td>2</td>\n",
       "    </tr>\n",
       "    <tr>\n",
       "      <th>28</th>\n",
       "      <td>28</td>\n",
       "      <td>8</td>\n",
       "      <td>2</td>\n",
       "    </tr>\n",
       "    <tr>\n",
       "      <th>29</th>\n",
       "      <td>29</td>\n",
       "      <td>9</td>\n",
       "      <td>2</td>\n",
       "    </tr>\n",
       "  </tbody>\n",
       "</table>\n",
       "</div>"
      ],
      "text/plain": [
       "     k  h1(k)=k%10  h2(k)=floor(k/10)\n",
       "0    0           0                  0\n",
       "1    1           1                  0\n",
       "2    2           2                  0\n",
       "3    3           3                  0\n",
       "4    4           4                  0\n",
       "5    5           5                  0\n",
       "6    6           6                  0\n",
       "7    7           7                  0\n",
       "8    8           8                  0\n",
       "9    9           9                  0\n",
       "10  10           0                  1\n",
       "11  11           1                  1\n",
       "12  12           2                  1\n",
       "13  13           3                  1\n",
       "14  14           4                  1\n",
       "15  15           5                  1\n",
       "16  16           6                  1\n",
       "17  17           7                  1\n",
       "18  18           8                  1\n",
       "19  19           9                  1\n",
       "20  20           0                  2\n",
       "21  21           1                  2\n",
       "22  22           2                  2\n",
       "23  23           3                  2\n",
       "24  24           4                  2\n",
       "25  25           5                  2\n",
       "26  26           6                  2\n",
       "27  27           7                  2\n",
       "28  28           8                  2\n",
       "29  29           9                  2"
      ]
     },
     "execution_count": 145,
     "metadata": {},
     "output_type": "execute_result"
    }
   ],
   "source": [
    "import pandas as pd\n",
    "dict_k = {'k':list_k,'h1(k)=k%10':list_mod,'h2(k)=floor(k/10)':list_floor}\n",
    "df=pd.DataFrame(dict_k)\n",
    "df"
   ]
  },
  {
   "cell_type": "markdown",
   "metadata": {},
   "source": [
    "The two hash functions lead to different hash values. When running the first hash function h1(k)=k%10, each of the 10 possible hash values (hash table size of 10) occurs three times. When running the second hash function h2(k)=floor(k/10) the hash values are 0, 1 and 2, each occurs 10 times. In the second function each resulting value occurs 10 times. The more collisions result from the hash function the slower the accessing of the respective values is performed. Because of this, the first hash function is preferred over the second one. "
   ]
  },
  {
   "cell_type": "code",
   "execution_count": null,
   "metadata": {},
   "outputs": [],
   "source": []
  }
 ],
 "metadata": {
  "kernelspec": {
   "display_name": "Python 3",
   "language": "python",
   "name": "python3"
  },
  "language_info": {
   "codemirror_mode": {
    "name": "ipython",
    "version": 3
   },
   "file_extension": ".py",
   "mimetype": "text/x-python",
   "name": "python",
   "nbconvert_exporter": "python",
   "pygments_lexer": "ipython3",
   "version": "3.8.3"
  }
 },
 "nbformat": 4,
 "nbformat_minor": 4
}
