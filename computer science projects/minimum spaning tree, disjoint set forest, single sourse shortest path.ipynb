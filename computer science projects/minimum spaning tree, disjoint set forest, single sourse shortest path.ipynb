{
 "cells": [
  {
   "cell_type": "markdown",
   "metadata": {},
   "source": [
    "# Assignment Sheet 11\n",
    "\n",
    "Marie Keller, Faiza Khurshid, Lara Schmalenstroer\n",
    "\n",
    "### Excercise 1 (Disjoint Set Forests, 8 Points)\n",
    "\n",
    "In the lecture, we learned about disjoint set forests, a data structure that implements the disjoint set\n",
    "data type. We also learned about two heuristics that greatly improve their asymptotic running time:\n",
    "Union-by-rank and path compression. In this exercise, you will implement this data structure and\n",
    "experimentally observe the benefit from the heuristics.\n",
    "\n",
    "a) Convert the pseudocode implementation of disjoint set forests that is given in the lecture slides\n",
    "into valid Python code. Use it to make 1.000 sets, and perform a random mix of 500.000 union\n",
    "and find operations on them, with random parameters. Report the resulting running time. (4P)\n",
    "\n",
    "b) Remove the path compression. Repeat the experiment and report the resulting running time.\n",
    "(2P)\n",
    "\n",
    "c) Now, additionally remove the union-by-rank heuristic. Instead, Link should always make the\n",
    "representative of the second set a child of the first set’s representative. Repeat the experiment\n",
    "and report the resulting running time. (2P)\n"
   ]
  },
  {
   "cell_type": "code",
   "execution_count": 1,
   "metadata": {},
   "outputs": [],
   "source": [
    "class DisSetFor:\n",
    "    def __init__(self):\n",
    "        self.parent={}\n",
    "        self.rank={}\n",
    "        \n",
    "    def make_set(self, x):\n",
    "        self.parent[x]=x\n",
    "        self.rank[x]=0\n",
    "        return\n",
    "    \n",
    "    def find_set(self, x):\n",
    "        if x!=self.parent[x]:\n",
    "            self.parent[x]=self.find_set(self.parent[x])\n",
    "        return self.parent[x]\n",
    "    \n",
    "    def union(self, x, y):\n",
    "        self.link(self.find_set(x),self.find_set(y))\n",
    "        return\n",
    "    \n",
    "    def link(self, x, y):\n",
    "        if self.rank[x]>self.rank[y]:\n",
    "            self.parent[y]=x\n",
    "        else:\n",
    "            self.parent[x]=y\n",
    "            if self.rank[x]==self.rank[y]:\n",
    "                self.rank[y]+=1\n",
    "        return"
   ]
  },
  {
   "cell_type": "code",
   "execution_count": 2,
   "metadata": {},
   "outputs": [],
   "source": [
    "df=DisSetFor()\n",
    "df.make_set(6)\n",
    "df.make_set(4)\n",
    "df.make_set(3)\n",
    "df.make_set(1)"
   ]
  },
  {
   "cell_type": "code",
   "execution_count": 3,
   "metadata": {},
   "outputs": [
    {
     "data": {
      "text/plain": [
       "4"
      ]
     },
     "execution_count": 3,
     "metadata": {},
     "output_type": "execute_result"
    }
   ],
   "source": [
    "df.find_set(4)"
   ]
  },
  {
   "cell_type": "code",
   "execution_count": 4,
   "metadata": {},
   "outputs": [],
   "source": [
    "df.union(3,1)"
   ]
  },
  {
   "cell_type": "code",
   "execution_count": 5,
   "metadata": {},
   "outputs": [
    {
     "data": {
      "text/plain": [
       "6"
      ]
     },
     "execution_count": 5,
     "metadata": {},
     "output_type": "execute_result"
    }
   ],
   "source": [
    "df.find_set(6)"
   ]
  },
  {
   "cell_type": "code",
   "execution_count": 6,
   "metadata": {},
   "outputs": [],
   "source": [
    "df.union(6,1)"
   ]
  },
  {
   "cell_type": "code",
   "execution_count": 7,
   "metadata": {},
   "outputs": [],
   "source": [
    "df.union(6,3)"
   ]
  },
  {
   "cell_type": "code",
   "execution_count": 8,
   "metadata": {},
   "outputs": [
    {
     "data": {
      "text/plain": [
       "{6: 0, 4: 0, 3: 0, 1: 2}"
      ]
     },
     "execution_count": 8,
     "metadata": {},
     "output_type": "execute_result"
    }
   ],
   "source": [
    "df.rank"
   ]
  },
  {
   "cell_type": "code",
   "execution_count": 9,
   "metadata": {},
   "outputs": [
    {
     "data": {
      "text/plain": [
       "{6: 1, 4: 4, 3: 1, 1: 1}"
      ]
     },
     "execution_count": 9,
     "metadata": {},
     "output_type": "execute_result"
    }
   ],
   "source": [
    "df.parent"
   ]
  },
  {
   "cell_type": "code",
   "execution_count": 10,
   "metadata": {},
   "outputs": [
    {
     "name": "stdout",
     "output_type": "stream",
     "text": [
      "3000\n"
     ]
    }
   ],
   "source": [
    "import sys\n",
    "print(sys.getrecursionlimit())"
   ]
  },
  {
   "cell_type": "code",
   "execution_count": 11,
   "metadata": {},
   "outputs": [],
   "source": [
    "sys.setrecursionlimit(500000)"
   ]
  },
  {
   "cell_type": "code",
   "execution_count": 12,
   "metadata": {},
   "outputs": [],
   "source": [
    "sets=[]\n",
    "for i in range(1001):\n",
    "    sets.append(i)"
   ]
  },
  {
   "cell_type": "code",
   "execution_count": 13,
   "metadata": {},
   "outputs": [
    {
     "data": {
      "text/plain": [
       "2.6244218000000217"
      ]
     },
     "execution_count": 13,
     "metadata": {},
     "output_type": "execute_result"
    }
   ],
   "source": [
    "import timeit\n",
    "from random import randint\n",
    "\n",
    "start = timeit.default_timer()\n",
    "dsf1=DisSetFor()\n",
    "for x in sets:\n",
    "    dsf1.make_set(x)\n",
    "for i in range (500000):\n",
    "    dsf1.union(randint(0,1000),randint(0,1000))\n",
    "for i in range (500000):\n",
    "    dsf1.find_set(randint(0,1000))\n",
    "stop = timeit.default_timer()\n",
    "t_a = stop - start\n",
    "t_a"
   ]
  },
  {
   "cell_type": "code",
   "execution_count": 14,
   "metadata": {},
   "outputs": [],
   "source": [
    "#remove path compression\n",
    "\n",
    "class DisSetFor:\n",
    "    def __init__(self):\n",
    "        self.parent={}\n",
    "        self.rank={}\n",
    "        \n",
    "    def make_set(self, x):\n",
    "        self.parent[x]=x\n",
    "        self.rank[x]=0\n",
    "        return\n",
    "    \n",
    "    def find_set(self, x):\n",
    "        if x!=self.parent[x]:\n",
    "            self.find_set(self.parent[x])\n",
    "        return self.parent[x]\n",
    "    \n",
    "    def union(self, x, y):\n",
    "        self.link(self.find_set(x),self.find_set(y))\n",
    "        return\n",
    "    \n",
    "    def link(self, x, y):\n",
    "        if self.rank[x]>self.rank[y]:\n",
    "            self.parent[y]=x\n",
    "        else:\n",
    "            self.parent[x]=y\n",
    "            if self.rank[x]==self.rank[y]:\n",
    "                self.rank[y]+=1\n",
    "        return"
   ]
  },
  {
   "cell_type": "code",
   "execution_count": 15,
   "metadata": {},
   "outputs": [],
   "source": [
    "dsf=DisSetFor()\n",
    "dsf.make_set(4)\n",
    "dsf.make_set(3)\n",
    "dsf.make_set(1)\n",
    "dsf.make_set(8)\n",
    "dsf.make_set(5)\n",
    "dsf.union(8,3)\n",
    "dsf.union(5,1)\n",
    "dsf.union(5,3)"
   ]
  },
  {
   "cell_type": "code",
   "execution_count": 16,
   "metadata": {},
   "outputs": [
    {
     "data": {
      "text/plain": [
       "3"
      ]
     },
     "execution_count": 16,
     "metadata": {},
     "output_type": "execute_result"
    }
   ],
   "source": [
    "dsf.find_set(8)"
   ]
  },
  {
   "cell_type": "code",
   "execution_count": 17,
   "metadata": {},
   "outputs": [
    {
     "data": {
      "text/plain": [
       "{4: 4, 3: 3, 1: 3, 8: 3, 5: 1}"
      ]
     },
     "execution_count": 17,
     "metadata": {},
     "output_type": "execute_result"
    }
   ],
   "source": [
    "dsf.parent"
   ]
  },
  {
   "cell_type": "code",
   "execution_count": null,
   "metadata": {},
   "outputs": [],
   "source": [
    "import timeit\n",
    "\n",
    "start = timeit.default_timer()\n",
    "dsf2=DisSetFor()\n",
    "for x in sets:\n",
    "    dsf2.make_set(x)\n",
    "for i in range (500000):\n",
    "    dsf2.union(randint(0,1000),randint(0,1000))\n",
    "for i in range (500000):\n",
    "    dsf2.find_set(randint(0,1000))\n",
    "stop = timeit.default_timer()\n",
    "t_b = stop - start\n",
    "t_b"
   ]
  },
  {
   "cell_type": "code",
   "execution_count": null,
   "metadata": {},
   "outputs": [],
   "source": [
    "#remove path compression and union-by-rank heuristic\n",
    "\n",
    "class DisSetFor:\n",
    "    def __init__(self):\n",
    "        self.parent={}\n",
    "        self.rank={}\n",
    "        \n",
    "    def make_set(self, x):\n",
    "        self.parent[x]=x\n",
    "        self.rank[x]=0\n",
    "        return\n",
    "    \n",
    "    def find_set(self, x):\n",
    "        if x!=self.parent[x]:\n",
    "            self.find_set(self.parent[x])\n",
    "        return self.parent[x]\n",
    "    \n",
    "    def union(self, x, y):\n",
    "        self.link(self.find_set(x),self.find_set(y))\n",
    "        return\n",
    "    \n",
    "    def link(self, x, y):\n",
    "        self.parent[x]=y\n",
    "        return"
   ]
  },
  {
   "cell_type": "code",
   "execution_count": null,
   "metadata": {},
   "outputs": [],
   "source": [
    "import timeit\n",
    "start = timeit.default_timer()\n",
    "dsf3=DisSetFor()\n",
    "for x in sets:\n",
    "    dsf3.make_set(x)\n",
    "for i in range (500000):\n",
    "    dsf3.union(randint(0,1000),randint(0,1000))\n",
    "for i in range (500000):\n",
    "    dsf3.find_set(randint(0,1000))\n",
    "stop = timeit.default_timer()\n",
    "t_c = stop - start\n",
    "t_c"
   ]
  },
  {
   "cell_type": "code",
   "execution_count": null,
   "metadata": {},
   "outputs": [],
   "source": [
    "print(t_a)\n",
    "print(t_b)\n",
    "print(t_c)"
   ]
  },
  {
   "cell_type": "code",
   "execution_count": null,
   "metadata": {},
   "outputs": [],
   "source": [
    "print('Running times of the Disjoint Set Forest implementations:')\n",
    "print('Normal implementation:\\t\\t\\t\\t\\t ' + str(t_a))\n",
    "print('Without path compression:\\t\\t\\t\\t ' + str(t_b))\n",
    "print('Without path compression and union-by-rank heuristic:\\t ' + str(t_c))"
   ]
  },
  {
   "cell_type": "markdown",
   "metadata": {},
   "source": [
    "None of our laptops could run the third implementation on the disjoint set forest without path compression and union-by-rank heuristic. It was always announcing a dead kernel. The disjoint set forest implementation with path compression and union-by-rank heuristic runs for making 1000 sets, 500.000 unions and 500.000 find operations in around 2,5 or 2,6 seconds. For the implementation without path compressions we observed a running time around 3 seconds, but then it was not running again either. \n",
    "Consequently, the two approaches to make the disjoint set forest implementation faster have a huge effect when performing a lot of operations."
   ]
  },
  {
   "cell_type": "markdown",
   "metadata": {},
   "source": [
    "## Exercise 2 (Single Source Shortest Paths, 9 Points)\n",
    "\n",
    "a) Demonstrate that the distances δ(s, v) computed by Dijkstra’s algorithm might not be correct if the input graph contains negative edges, even if it does not contain a negative cycle. (2P)\n"
   ]
  },
  {
   "cell_type": "markdown",
   "metadata": {},
   "source": [
    "The algorithm calculates minimal distance to a given node in the graph. After visiting a node, the minimal distance to this root from the node is saved and afterwards assumed as minimal possible distance. By adding an arbitrary positive number to that number, the minimal distance cannot decrease. But hypthetically adding a negative number to that minimal distance would lead to a new minimal distance. But in Dijkstra's algorithm, the nodes for which a minimal distance was already calculated before, cannot be visited again (they are colored black) so that the negative edge which would decrease the minimal distance cannot be taken into account. An example is given below."
   ]
  },
  {
   "cell_type": "markdown",
   "metadata": {},
   "source": [
    "b) The Floyd-Warshall algorithm can be used on graphs that contain negative edges, but its Θ(|V^3|) running time is rather costly if we are only interested in single source shortest paths, especially when dealing with sparse graphs (|E| = o(|V^2|)). Propose an alternative algorithm that finds single source shortest paths in Θ (|V | · |E|), and that also works correctly when given negative edge weights, but no negative cycles. Argue why the proposed algorithm is correct. Can it detect the presence of negative cycles? (7P)"
   ]
  },
  {
   "cell_type": "markdown",
   "metadata": {},
   "source": [
    "As explained above, Dijkstra's algorithm cannot be used on graphs that contain negative edges. The negative edges can be taken into account by traversing each edge again after termination of the tree. After all vertices are colored black, each edge is visited again to check the graph for shortcuts from one vertex to another vertex. When the edges are visited more than once, the negative edges can decrease the minimal distance of a vertex. \n",
    "While every vertex is visited, each edge is visited to check if one of the edges could minimize the distance that is thought to be the minimal distance at that moment. After that, each edge is visited a last time to check the graph for negative cycles. When a distance changes/decreases in this last visiting of each edge, a negative cycle occurs in the graph. \n",
    "The actual implementation of that algorithm would work similarly to Dijkstra's algorithm. Instead of terminating the algorithm when each vertex is colored black, each edge is visited again. \n",
    "As found online on https://www.geeksforgeeks.org/bellman-ford-algorithm-dp-23/ and https://www.programiz.com/dsa/bellman-ford-algorithm, on Jan 21st, 2021, the algorithm is called Bellmann-Ford Algorithm.  "
   ]
  },
  {
   "cell_type": "markdown",
   "metadata": {},
   "source": [
    "def BellmanFord(G, s):\n",
    "  for v in G:\n",
    "    v.d = infinity\n",
    "      v.prev = None\n",
    "  s.d = 0\n",
    "\n",
    "  for v in G:\t\t\t\t\n",
    "    for e (u,v) in G:\n",
    "      distance = u.d + w(u,v)\n",
    "      if distance < v.d:\n",
    "        v.d = distance\n",
    "        v.prev = u\n",
    "\n",
    "  for e (u,v) in G:\n",
    "    if u.d + w(u,v) < v.d:\n",
    "      return Error('Negative cycle detected')\n",
    "      \n"
   ]
  },
  {
   "cell_type": "markdown",
   "metadata": {},
   "source": [
    "In the first part of the algorithm, all vertices except the source are intialized with an infinite distance and no predecessor. The source is initialized with a distance of 0. \n",
    "In lines 7 to 12, each vertix is visited. For each vertix, each edge is visited. If the distance from u + the cost of the edge from u to v is lower than current distance of v (v.d), v.d is updated and the predecessor of v is set to u (The node with which v has the lowest distance). By doing that for each vertex the algorithm makes sure that negative edge weigths are taken into account as well. \n",
    "After calculating the minimal distances for each vertex in lines 7 - 12, in lines 14 - 16 each edge is visited again. If the distance at vertex u + the cost of the edge from u to v is lower than the current distance of v, the algorithm detects a negative cycle and returns an error"
   ]
  },
  {
   "cell_type": "markdown",
   "metadata": {},
   "source": [
    "## Exercise 3 (Minimum Spanning Trees, 8 Points)\n",
    "\n",
    "a) What does it tell us about node v if, at the beginning of an iteration in line 7, v.π!=None? (1P)\n"
   ]
  },
  {
   "cell_type": "markdown",
   "metadata": {},
   "source": [
    "it will show that node v is connected to vetrice which is already placed in MST.and v has predecessor e.g(v1) so we will not add v1 in queue\n",
    "because we already have visited its neigbhoors (V1-Q).\n",
    "So, we will start iteration from node v and extract from Queue which have minimum key value.\n"
   ]
  },
  {
   "cell_type": "markdown",
   "metadata": {},
   "source": [
    "b) Specify an invariant for the values of v.key for vertices v with v.π!=None that should hold at the\n",
    "beginning of an iteration in line 7. Note that, in the pseudocode above, Q.Decrease-Key(v,w)\n",
    "sets v.key=w and updates the position of v in Q accordingly. (1P)\n"
   ]
  },
  {
   "cell_type": "markdown",
   "metadata": {},
   "source": [
    "For all v ∈ Q, if v.π !=None then v.key< ∞ and v.key is weight of\n",
    "a light edge(v, v.π) connecting v to some vertex already placed into MST."
   ]
  },
  {
   "cell_type": "markdown",
   "metadata": {},
   "source": [
    "c) Use the invariant above to argue why it is safe to add the node u that we extract in line 8 to the\n",
    "MST via the edge (u.π, u). (1P)\n"
   ]
  },
  {
   "cell_type": "markdown",
   "metadata": {},
   "source": [
    "the vertex u ∈ Q incident on a light edge crossing cut (V −Q, Q),\n",
    "expect in first iteration, in which u = r due to line 5.\n",
    "Removing u from Q adds it to set V − Q of vertices in the tree, adding\n",
    "(u, u.π) to A."
   ]
  },
  {
   "cell_type": "markdown",
   "metadata": {},
   "source": [
    "d) Does correctness of the result depend on the choice of starting node r? Could different starting\n",
    "nodes lead to different MSTs? Briefly justify your answers. (2P)\n"
   ]
  },
  {
   "cell_type": "markdown",
   "metadata": {},
   "source": [
    "Choosing a different starting node could give us a different spanning tree, \n",
    "but it will always have the same weight: the minimal possible.\n",
    "it means weight/cost of the Tree will be the same regardless of starting node/ however, \n",
    "the shape of the tree may differ.\n",
    "the order in which nodes are added and visited matters for the tie-breaking and \n",
    "thus the starting node can affect the shape."
   ]
  },
  {
   "cell_type": "markdown",
   "metadata": {},
   "source": [
    "e) State the asymptotic running time of the given algorithm, and explain how you arrived at your answer. (2P) How does your result compare to the asymptotic running time we derived for Kruskal’s\n",
    "algorithm? (1P)\n"
   ]
  },
  {
   "cell_type": "markdown",
   "metadata": {},
   "source": [
    "1-Build-Min-Heap for initialization in lines 1–6, time O(|V|)\n",
    "\n",
    "2-body of while loop is executed O(|V|) times, each Extract-Min takes O(log |V|)\n",
    "\n",
    "3-For loop iterates O(|E|) times\n",
    "    In for loop, need constant time to check for queue membership and\n",
    "    O(log |V|) time for decreasing key and updating heap\n",
    "    \n",
    "Total time O(|V|log|V| + |E|log|V|) = O(|E|log|V|)\n",
    "\n",
    "in Kruskal algorithm time complexity worst case is O(|E|log|E|),this is because we need \n",
    "to sort the edges. and the above algorithm time complexity worst case is O(|E|log|V|) with priority \n",
    "queue."
   ]
  },
  {
   "cell_type": "code",
   "execution_count": null,
   "metadata": {},
   "outputs": [],
   "source": []
  }
 ],
 "metadata": {
  "kernelspec": {
   "display_name": "Python 3",
   "language": "python",
   "name": "python3"
  },
  "language_info": {
   "codemirror_mode": {
    "name": "ipython",
    "version": 3
   },
   "file_extension": ".py",
   "mimetype": "text/x-python",
   "name": "python",
   "nbconvert_exporter": "python",
   "pygments_lexer": "ipython3",
   "version": "3.8.3"
  }
 },
 "nbformat": 4,
 "nbformat_minor": 4
}
