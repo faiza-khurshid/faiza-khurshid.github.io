{
 "cells": [
  {
   "cell_type": "markdown",
   "metadata": {},
   "source": [
    "faiza khurshid faiza.khurshid@uni-bonn.de"
   ]
  },
  {
   "cell_type": "markdown",
   "metadata": {},
   "source": [
    "# Computer Science for Life Scientists - Assignment 01"
   ]
  },
  {
   "cell_type": "markdown",
   "metadata": {},
   "source": [
    "## Exercise 1 (Central difference, 5 Points)\n",
    "A central difference is a mathematical expression of the form\n",
    "$${\\frac{f(x+h)-f(x-h)}{2h}}$$\n",
    "It is used to approximate the derivative of $f$ at point $x$ when analytical computation of $f'$ is very difficult or impossible. $h$ is a step size parameter."
   ]
  },
  {
   "cell_type": "markdown",
   "metadata": {},
   "source": [
    "### a) Write a function cdiff_x_squared(x,h) that uses the central difference formula to approximate the derivative of $f=x^2$ for input point $x$ with step $h$. (2P)"
   ]
  },
  {
   "cell_type": "code",
   "execution_count": 1,
   "metadata": {},
   "outputs": [
    {
     "name": "stdout",
     "output_type": "stream",
     "text": [
      "4.0\n"
     ]
    }
   ],
   "source": [
    "def cdiff_x_squared(x,h):\n",
    "    return ((x+h)**2-(x-h)**2)/(2*h)\n",
    "print(cdiff_x_squared(2.0,1.0))"
   ]
  },
  {
   "cell_type": "markdown",
   "metadata": {},
   "source": [
    "### b) Modify your implementation so that it uses separate functions x_squared(x) that simply implements $f=x^2$ and cdiff(f,x,h) that computes a central difference for any Python function $f$ that maps a single floating point input to a single floating point output. (1P)"
   ]
  },
  {
   "cell_type": "code",
   "execution_count": 2,
   "metadata": {},
   "outputs": [
    {
     "name": "stdout",
     "output_type": "stream",
     "text": [
      "4.0\n"
     ]
    }
   ],
   "source": [
    "def x_squared(x):\n",
    "    return x**2\n",
    "def cdiff(f,x,h):\n",
    "    return (f(x+h)-f(x-h))/(2*h)\n",
    "print(cdiff(x_squared,2.0,0.5))  "
   ]
  },
  {
   "cell_type": "markdown",
   "metadata": {},
   "source": [
    "### c) In our case, it is straightforward to analytically compute $f'(x)=2x$. Write a function that uses this formula for computing the derivative at point $x$. (1P)"
   ]
  },
  {
   "cell_type": "code",
   "execution_count": 3,
   "metadata": {},
   "outputs": [
    {
     "name": "stdout",
     "output_type": "stream",
     "text": [
      "4\n"
     ]
    }
   ],
   "source": [
    "def analytical(x):\n",
    "    return 2*x\n",
    "print(analytical(2))"
   ]
  },
  {
   "cell_type": "markdown",
   "metadata": {},
   "source": [
    "### d) Compute the difference between the central difference and the analytical derivative for different values of $x$ and $h$. Comment on how it depends on the step size $h$. (1P)"
   ]
  },
  {
   "cell_type": "code",
   "execution_count": 64,
   "metadata": {},
   "outputs": [
    {
     "name": "stdout",
     "output_type": "stream",
     "text": [
      "x=2.0 and h=0.1 difference is -8.881784197001252e-16\n",
      "x=2.0 and h=0.2 difference is -8.881784197001252e-16\n",
      "x=2.0 and h=0.5 difference is 0.0\n",
      "x=2.0 and h=1.0 difference is 0.0\n",
      "x=2.0 and h=2.0 difference is 0.0\n",
      "x=2.0 and h=2.5 difference is 0.0\n",
      "x=2.0 and h=10.0 difference is 0.0\n",
      "x=4.0 and h=0.1 difference is 1.7763568394002505e-15\n",
      "x=4.0 and h=0.2 difference is -1.7763568394002505e-15\n",
      "x=4.0 and h=0.5 difference is 0.0\n",
      "x=4.0 and h=1.0 difference is 0.0\n",
      "x=4.0 and h=2.0 difference is 0.0\n",
      "x=4.0 and h=2.5 difference is 0.0\n",
      "x=4.0 and h=10.0 difference is 0.0\n",
      "x=6.0 and h=0.1 difference is 4.263256414560601e-14\n",
      "x=6.0 and h=0.2 difference is -1.0658141036401503e-14\n",
      "x=6.0 and h=0.5 difference is 0.0\n",
      "x=6.0 and h=1.0 difference is 0.0\n",
      "x=6.0 and h=2.0 difference is 0.0\n",
      "x=6.0 and h=2.5 difference is 0.0\n",
      "x=6.0 and h=10.0 difference is 0.0\n"
     ]
    }
   ],
   "source": [
    "x=[2.0,4.0,6.0]\n",
    "h=[0.1,0.2,0.5,1.0,2.0,2.5,10.0]\n",
    "for i in x:\n",
    "    for j in h:\n",
    "        A=analytical(i)\n",
    "        C=cdiff_x_squared(i,j)\n",
    "        difference=A-C\n",
    "        print('x={} and h={} difference is {}'.format(i,j,difference))\n",
    "\n",
    "# i notice tiny variations in result when step size(h<0.5) but when h>=0.5 cental difference and anlytical derivative remain same for any value of x.\n",
    "        \n"
   ]
  },
  {
   "cell_type": "markdown",
   "metadata": {},
   "source": [
    "## Exercise 2 (Editing and Analyzing Text, 10 Points)"
   ]
  },
  {
   "cell_type": "markdown",
   "metadata": {},
   "source": [
    "Let $p$ be a Python string that represents the following paragraph:\n",
    "\n",
    "*Python is a widely used high-level programming language. Python has a design philosophy that emphasizes code readability. Syntax of python allows programmers to express concepts in fewer lines of code. The language provides constructs intended to enable writing clear programs on both a small and large scale.*"
   ]
  },
  {
   "cell_type": "code",
   "execution_count": null,
   "metadata": {},
   "outputs": [],
   "source": [
    "p = (\"Python is a widely used high-level programming language. Python has a design philosophy\"\n",
    "     \"that emphasizes code readability. Syntax of python allows programmers to express \"\n",
    "     \"concepts in fewer lines of code. The language provides constructs intended to enable \"\n",
    "     \"writing clear programs on both a small and large scale.\")"
   ]
  },
  {
   "cell_type": "markdown",
   "metadata": {},
   "source": [
    "### a) Write a function that gets a string $p$ as its input and returns the number of sentences in $p$. (2P)"
   ]
  },
  {
   "cell_type": "code",
   "execution_count": 34,
   "metadata": {},
   "outputs": [
    {
     "name": "stdout",
     "output_type": "stream",
     "text": [
      "4\n"
     ]
    }
   ],
   "source": [
    "def number(p):\n",
    "    string=p.split('.')[:-1]\n",
    "    return len(string)\n",
    "p = (\"Python is a widely used high-level programming language. Python has a design philosophy\"\n",
    "     \"that emphasizes code readability. Syntax of python allows programmers to express \"\n",
    "     \"concepts in fewer lines of code. The language provides constructs intended to enable \"\n",
    "     \"writing clear programs on both a small and large scale.\")\n",
    "print(number(p))"
   ]
  },
  {
   "cell_type": "markdown",
   "metadata": {},
   "source": [
    "### b) Write a function that gets two strings as input parameters, $p$ and $k$. It should check if word $k$ exists in $p$, and return $k+$\" is in the paragraph.'' if it does, $k$+\" is not in the paragraph.'' if it doesn't. Use k='language' and k='exclude' to test your function. (3P)"
   ]
  },
  {
   "cell_type": "code",
   "execution_count": 38,
   "metadata": {},
   "outputs": [
    {
     "name": "stdout",
     "output_type": "stream",
     "text": [
      "exclude is not in paragraph\n",
      "language is in the paragraph\n"
     ]
    }
   ],
   "source": [
    "def word_check(p,k):\n",
    "    if k in p:\n",
    "        return k +\" \" +\"is in the paragraph\"\n",
    "    else:\n",
    "        return k +\" \"+\"is not in paragraph\"\n",
    "\n",
    "p =(\"Python is a widely used high-level programming language. Python has a design philosophy\"\n",
    "     \"that emphasizes code readability. Syntax of python allows programmers to express \"\n",
    "     \"concepts in fewer lines of code. The language provides constructs intended to enable \"\n",
    "     \"writing clear programs on both a small and large scale.\")\n",
    "print(word_check(p,'exclude'))\n",
    "print(word_check(p,'language'))\n",
    "    "
   ]
  },
  {
   "cell_type": "markdown",
   "metadata": {},
   "source": [
    "### c) Write a function that gets string $p$ as input, automatically removes the last sentence from $p$, and returns the result. (5P)"
   ]
  },
  {
   "cell_type": "code",
   "execution_count": 71,
   "metadata": {},
   "outputs": [
    {
     "name": "stdout",
     "output_type": "stream",
     "text": [
      "Python is a widely used high-level programming language. Python has a design philosophythat emphasizes code readability. Syntax of python allows programmers to express concepts in fewer lines of code.\n"
     ]
    }
   ],
   "source": [
    "def remove(p):\n",
    "    result=('.'.join(p.split('.')[:-2]))\n",
    "    return result+'.'\n",
    "p= (\"Python is a widely used high-level programming language. Python has a design philosophy\"\n",
    "     \"that emphasizes code readability. Syntax of python allows programmers to express \"\n",
    "     \"concepts in fewer lines of code. The language provides constructs intended to enable \"\n",
    "     \"writing clear programs on both a small and large scale.\")\n",
    "print(remove(p))\n",
    "    "
   ]
  },
  {
   "cell_type": "markdown",
   "metadata": {},
   "source": [
    "## Exercise 3 (Body-Mass-Index, 10 Points)"
   ]
  },
  {
   "cell_type": "markdown",
   "metadata": {},
   "source": [
    "### a) Define $bmi(height, weight)$ function that gets two input parameters and computes the BMI formula and returns the result. (3P)"
   ]
  },
  {
   "cell_type": "code",
   "execution_count": 31,
   "metadata": {},
   "outputs": [
    {
     "name": "stdout",
     "output_type": "stream",
     "text": [
      "19\n"
     ]
    }
   ],
   "source": [
    "def bmi(height,weight):\n",
    "    BMI=weight/(height**2)\n",
    "    return round(BMI)\n",
    "print(bmi(1.85,65))"
   ]
  },
  {
   "cell_type": "markdown",
   "metadata": {},
   "source": [
    "# b) Use $bmi(height, weight)$ to compute the BMI for the following data-set. (1P) \n",
    "\n",
    "#height 1.74m, weight 75kg, male\n",
    "#height 1.85m, weight 69kg, male\n",
    "#height 1.71m, weight 128kg, female"
   ]
  },
  {
   "cell_type": "code",
   "execution_count": 41,
   "metadata": {},
   "outputs": [],
   "source": [
    "data = [(1.74, 75, \"m\"), (1.85, 69, \"m\"), (1.71, 128, \"f\")]"
   ]
  },
  {
   "cell_type": "code",
   "execution_count": 53,
   "metadata": {},
   "outputs": [
    {
     "name": "stdout",
     "output_type": "stream",
     "text": [
      "1st person bmi 25\n",
      " 2nd person bmi 20\n",
      " 3rd person bmi 44\n"
     ]
    }
   ],
   "source": [
    "bmi_l=[]\n",
    "data =[(1.74, 75, \"m\"), (1.85, 69, \"m\"), (1.71, 128, \"f\")]\n",
    "for i in data:\n",
    "    x=bmi(i[0],i[1])\n",
    "    bmi_l.append(x)\n",
    "print('1st person bmi {}\\n 2nd person bmi {}\\n 3rd person bmi {}'.format(bmi_l[0],bmi_l[1],bmi_l[2]))"
   ]
  },
  {
   "cell_type": "markdown",
   "metadata": {},
   "source": [
    "### b) Define $condition(height, weight, gender)$ function that, in addition to height and weight, gets gender as input and uses the information provided in the following table to return the condition of a person by calculating his/her BMI. Try to call the $bmi(height, weight)$ for BMI calculation in the $condition(height, weight, gender)$ function. (5P)\n",
    "\n",
    "Condition | Women | Men\n",
    ":--- | :---: | :---:\n",
    "underweight | <20 | <21\n",
    "normal | 20-26 | 21-27\n",
    "slight overweight | 26-30 | 27-31\n",
    "overweight | >30 | >31"
   ]
  },
  {
   "cell_type": "code",
   "execution_count": 61,
   "metadata": {},
   "outputs": [],
   "source": [
    "def condition(height,weight,gender):\n",
    "    b=bmi(height,weight)\n",
    "    if gender=='f' or gender=='women':\n",
    "        if b<20:\n",
    "            return ('bmi {} you are underweight'.format(b))\n",
    "        elif b>=20 and b<26:\n",
    "            return ('bmi {} you are normal'.format(b))\n",
    "        elif b>=26 and b<=30: \n",
    "            return ('bmi {} you are slight overweight'.format(b))\n",
    "        elif b>30:\n",
    "            return ('bmi {} you are overweight'.format(b))\n",
    "    elif gender=='m' or gender=='men':\n",
    "        if b<21:\n",
    "            return ('bmi {} you are underweight'.format(b))\n",
    "        elif b>=21 and b<27:\n",
    "            return ('bmi {} you are normal'.format(b))\n",
    "        elif b>=27 and b<=30:\n",
    "            return ('bmi {} you are slight overweight'.format(b))\n",
    "        elif b>31:\n",
    "            return ('bmi {} you are overweight'.format(b))\n",
    "    "
   ]
  },
  {
   "cell_type": "markdown",
   "metadata": {},
   "source": [
    "### c) Find the conditions for the data-set of part a). (1P)"
   ]
  },
  {
   "cell_type": "code",
   "execution_count": 59,
   "metadata": {},
   "outputs": [
    {
     "name": "stdout",
     "output_type": "stream",
     "text": [
      "bmi 25 you are normal\n",
      "bmi 20 you are underweight\n",
      "bmi 44 you are overweight\n"
     ]
    }
   ],
   "source": [
    "data = [(1.74, 75, \"m\"), (1.85, 69, \"m\"), (1.71, 128, \"f\")]\n",
    "for j in data:\n",
    "    c=condition(j[0],j[1],j[2])\n",
    "    print(c)"
   ]
  }
 ],
 "metadata": {
  "kernelspec": {
   "display_name": "Python 3",
   "language": "python",
   "name": "python3"
  },
  "language_info": {
   "codemirror_mode": {
    "name": "ipython",
    "version": 3
   },
   "file_extension": ".py",
   "mimetype": "text/x-python",
   "name": "python",
   "nbconvert_exporter": "python",
   "pygments_lexer": "ipython3",
   "version": "3.7.6"
  }
 },
 "nbformat": 4,
 "nbformat_minor": 2
}
