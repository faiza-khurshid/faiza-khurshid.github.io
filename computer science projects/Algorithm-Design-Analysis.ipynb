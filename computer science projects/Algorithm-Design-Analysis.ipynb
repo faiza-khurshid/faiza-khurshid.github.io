{
 "cells": [
  {
   "cell_type": "markdown",
   "metadata": {},
   "source": [
    "Marie Keller, Faiza Khurshid, Lara Schmalenstroer\n",
    "\n",
    "# Assignment sheet 07\n",
    "\n",
    "## Excercise 1 Function Classes (6 P)"
   ]
  },
  {
   "cell_type": "code",
   "execution_count": 1,
   "metadata": {},
   "outputs": [
    {
     "data": {
      "text/html": [
       "<div>\n",
       "<style scoped>\n",
       "    .dataframe tbody tr th:only-of-type {\n",
       "        vertical-align: middle;\n",
       "    }\n",
       "\n",
       "    .dataframe tbody tr th {\n",
       "        vertical-align: top;\n",
       "    }\n",
       "\n",
       "    .dataframe thead th {\n",
       "        text-align: right;\n",
       "    }\n",
       "</style>\n",
       "<table border=\"1\" class=\"dataframe\">\n",
       "  <thead>\n",
       "    <tr style=\"text-align: right;\">\n",
       "      <th></th>\n",
       "      <th></th>\n",
       "      <th>log2(n)</th>\n",
       "      <th>s(n)</th>\n",
       "      <th>5</th>\n",
       "      <th>2**n</th>\n",
       "      <th>1/n</th>\n",
       "      <th>n</th>\n",
       "      <th>e**n</th>\n",
       "    </tr>\n",
       "  </thead>\n",
       "  <tbody>\n",
       "    <tr>\n",
       "      <th>0</th>\n",
       "      <td>log2(n)</td>\n",
       "      <td>Theta</td>\n",
       "      <td>Theta</td>\n",
       "      <td>big O</td>\n",
       "      <td>little omega</td>\n",
       "      <td>little o</td>\n",
       "      <td>little omega</td>\n",
       "      <td>little omega</td>\n",
       "    </tr>\n",
       "    <tr>\n",
       "      <th>1</th>\n",
       "      <td>s(n)</td>\n",
       "      <td>-</td>\n",
       "      <td>Theta</td>\n",
       "      <td>-</td>\n",
       "      <td>little omega</td>\n",
       "      <td>little o</td>\n",
       "      <td>big Omega</td>\n",
       "      <td>little omega</td>\n",
       "    </tr>\n",
       "    <tr>\n",
       "      <th>2</th>\n",
       "      <td>5</td>\n",
       "      <td>big Omega</td>\n",
       "      <td>Theta</td>\n",
       "      <td>Theta</td>\n",
       "      <td>little omega</td>\n",
       "      <td>little o</td>\n",
       "      <td>little omega</td>\n",
       "      <td>little omega</td>\n",
       "    </tr>\n",
       "    <tr>\n",
       "      <th>3</th>\n",
       "      <td>2**n</td>\n",
       "      <td>little o</td>\n",
       "      <td>little o</td>\n",
       "      <td>little o</td>\n",
       "      <td>Theta</td>\n",
       "      <td>little o</td>\n",
       "      <td>little o</td>\n",
       "      <td>big Omega</td>\n",
       "    </tr>\n",
       "    <tr>\n",
       "      <th>4</th>\n",
       "      <td>1/n</td>\n",
       "      <td>little omega</td>\n",
       "      <td>little omega</td>\n",
       "      <td>little omega</td>\n",
       "      <td>little omega</td>\n",
       "      <td>Theta</td>\n",
       "      <td>little omega</td>\n",
       "      <td>little omega</td>\n",
       "    </tr>\n",
       "    <tr>\n",
       "      <th>5</th>\n",
       "      <td>n</td>\n",
       "      <td>little o</td>\n",
       "      <td>big O</td>\n",
       "      <td>little o</td>\n",
       "      <td>little omega</td>\n",
       "      <td>little o</td>\n",
       "      <td>Theta</td>\n",
       "      <td>little omega</td>\n",
       "    </tr>\n",
       "    <tr>\n",
       "      <th>6</th>\n",
       "      <td>e**n</td>\n",
       "      <td>little o</td>\n",
       "      <td>little o</td>\n",
       "      <td>little o</td>\n",
       "      <td>little o</td>\n",
       "      <td>little o</td>\n",
       "      <td>little o</td>\n",
       "      <td>Theta</td>\n",
       "    </tr>\n",
       "  </tbody>\n",
       "</table>\n",
       "</div>"
      ],
      "text/plain": [
       "                 log2(n)          s(n)             5          2**n       1/n  \\\n",
       "0  log2(n)         Theta         Theta         big O  little omega  little o   \n",
       "1     s(n)             -         Theta             -  little omega  little o   \n",
       "2        5     big Omega         Theta         Theta  little omega  little o   \n",
       "3     2**n      little o      little o      little o         Theta  little o   \n",
       "4      1/n  little omega  little omega  little omega  little omega     Theta   \n",
       "5        n      little o         big O      little o  little omega  little o   \n",
       "6     e**n      little o      little o      little o      little o  little o   \n",
       "\n",
       "              n          e**n  \n",
       "0  little omega  little omega  \n",
       "1     big Omega  little omega  \n",
       "2  little omega  little omega  \n",
       "3      little o     big Omega  \n",
       "4  little omega  little omega  \n",
       "5         Theta  little omega  \n",
       "6      little o         Theta  "
      ]
     },
     "execution_count": 1,
     "metadata": {},
     "output_type": "execute_result"
    }
   ],
   "source": [
    "import pandas as pd\n",
    "\n",
    "list1 = ['log2(n)','s(n)','5','2**n','1/n','n','e**n']\n",
    "list_log = ['Theta','-','big Omega','little o','little omega','little o','little o']\n",
    "list_s = ['Theta','Theta','Theta','little o','little omega','big O','little o']\n",
    "list_5 = ['big O','-','Theta','little o','little omega','little o','little o']\n",
    "list_2 = ['little omega','little omega','little omega','Theta','little omega','little omega','little o']\n",
    "list_1n = ['little o','little o','little o','little o','Theta','little o','little o']\n",
    "list_n = ['little omega','big Omega','little omega','little o','little omega','Theta','little o']\n",
    "list_e = ['little omega','little omega','little omega','big Omega','little omega','little omega','Theta']\n",
    "\n",
    "function_dic = {' ': list1, 'log2(n)': list_log, 's(n)': list_s, '5': list_5, '2**n': list_2, '1/n': list_1n, 'n': list_n, 'e**n': list_e}\n",
    "\n",
    "function_df = pd.DataFrame(function_dic)\n",
    "function_df"
   ]
  },
  {
   "cell_type": "markdown",
   "metadata": {},
   "source": [
    "## Excercise 2 Algorithm Analysis (6 P)\n",
    "\n",
    "### a.1) What do lines 2 - 5 do?\n",
    "\n",
    "In lines 2 - 5, the algorithm loops over the elements of list a (a list of integers). With the assert a[j]>=0, the algorithm makes sure that all contained elements are equal to or higher than 0. The variable k which is initialized with a values of 0 compares each element of a to the current value of k and stores the larger value. In the end, k stores the largest value of the list a.\n",
    "\n",
    "### a.2) What do lines 6 - 12 do?\n",
    "\n",
    "First, a new list (c) is created with the length of the highest value of a (=k) + 1. The list c is initialized with 0 for all elements. The command c[a[j]] takes the elements of a as indices for list c. The corresponding elements in c are incremented by 1. E.g. if list a contains 3 times a 1, the c[1] is incremented by 1 three times so that its final value is 3. This part of the algorithm results in a list c that holds the number of times each number occurs in list a.\n",
    "\n",
    "### a.3) What do lines 13 - 16 do?\n",
    "\n",
    "In this part of the algorithm, a new list b of the same length as list a is created. The for loop loops over all elements of a (beginning at the very last element). The element in the list c with the index a[j] is decreased by 1 (can be compared to picking the element once). Then this very element is taken as an index in list b. The value at this index is a[j]. This part of the algorithm results in a list b, that contains the same elements as list a, but sorted. In the end, list b is returned.\n",
    "\n",
    "### b) Given the same input, what other algorithm that was presented in the lecture could achieve an equivalent output? (1P)\n",
    "\n",
    "As the given algorithm is a sorting algorithm, an equivalent output can be achieved by all presented sorting algorithms, i.e. mergesort, insertion sort, quick sort.\n",
    "\n",
    "### c) What is the asymptotic running time of the algorithm (in Θ notation) as a function of n=len(a) and k? (2P)\n",
    "\n",
    "The running time depends on the largest value of a because the length of list c is depending on that value. \n",
    "\n",
    "In part 1 (lines 2 - 5), the comparison between k and a[j] has to be performed len(a) times. In part 2 (lines 6 - 12), the length of list c depends on the value of k; the larger k, the longer is c. In this part, the running time does not depend on the length of a. In part 3 (lines 13 - 16), the values from a are copied from list a to list b, by indexing the values via list c. This part is again depending on the length of list a and the value of k, which predicts the length of list c.\n",
    "\n",
    "The running time is O(n+k) because there are three loops that are dependent on n (lines 3, 9 and 14) and two loops that are dependent on k (lines 7 and 11). Without factors, the running time of 3n + 2k is O(n+k)."
   ]
  },
  {
   "cell_type": "markdown",
   "metadata": {},
   "source": [
    "## Excercise 3 Dynamic Programming (10 P)\n",
    "\n",
    "### a) Write a recursive Python function to find the LCS of two input strings of size n and m. (3P)"
   ]
  },
  {
   "cell_type": "code",
   "execution_count": 2,
   "metadata": {},
   "outputs": [],
   "source": [
    "def LCS_recursive(string_a,string_b):\n",
    "    if len(string_a)==0 or len(string_b)==0:\n",
    "        return \"\"\n",
    "    if string_a[0]==string_b[0]:\n",
    "        return LCS_recursive(string_a[1:],string_b[1:]) + string_a[0]\n",
    "    part_a=LCS_recursive(string_a[1:],string_b)\n",
    "    part_b=LCS_recursive(string_a,string_b[1:])\n",
    "    a=''\n",
    "    b=''\n",
    "    if len(part_a) > len(part_b):\n",
    "        return part_a\n",
    "    else:\n",
    "        return part_b"
   ]
  },
  {
   "cell_type": "code",
   "execution_count": 3,
   "metadata": {},
   "outputs": [
    {
     "data": {
      "text/plain": [
       "['GCTTAACTCG', 10]"
      ]
     },
     "execution_count": 3,
     "metadata": {},
     "output_type": "execute_result"
    }
   ],
   "source": [
    "gene_1='GGCTGTGAACTCGCGTGCA'\n",
    "gene_2='GCTCTACAATCTCG'\n",
    "\n",
    "def get_subsequence(string_a,string_b):\n",
    "    subsequence=LCS_recursive(string_a,string_b)[::-1]\n",
    "    return [subsequence, len(subsequence)]\n",
    "\n",
    "get_subsequence(gene_1,gene_2)"
   ]
  },
  {
   "cell_type": "code",
   "execution_count": 4,
   "metadata": {},
   "outputs": [
    {
     "name": "stdout",
     "output_type": "stream",
     "text": [
      "0.3421330999999981\n"
     ]
    }
   ],
   "source": [
    "import timeit\n",
    "start = timeit.default_timer()\n",
    "LCS_recursive(gene_1,gene_2)\n",
    "stop = timeit.default_timer()\n",
    "t = stop - start\n",
    "\n",
    "print(t)"
   ]
  },
  {
   "cell_type": "markdown",
   "metadata": {},
   "source": [
    "### b) For two sequences of size n, what is the running time complexity of your function in part a), where all possible subsequences are computed for both sequences? Briefly explain your answer. (2P)\n",
    "\n",
    "The running time of the recursive function depends on the lengths of the two input strings a and b. The possible number of subsequences in string a is 2^n. To check the occurence of the subsequence in string_b, there are m = len(string_b) possibilities. The runtime of the algorithm is $O(2^n*m)$. "
   ]
  },
  {
   "cell_type": "markdown",
   "metadata": {},
   "source": [
    "### c) This time, use dynamic programming to find the LCS of two input strings of size n and m. (4P)"
   ]
  },
  {
   "cell_type": "code",
   "execution_count": 17,
   "metadata": {},
   "outputs": [],
   "source": [
    "def LCS_dyn(string_a,string_b):\n",
    "    \"\"\"the function LCS_dyn calculates the longest common subsequence of two input sequences (string_a,string_b) by using\n",
    "    dynamic programming. As an output it returns a list of the LCS\"\"\"\n",
    "    import numpy as np\n",
    "    len_a=len(string_a)+1\n",
    "    len_b=len(string_b)+1\n",
    "    lengths=[[0]*(len(string_a)+1) for i in range(len(string_b)+1)]\n",
    "    for x in range(len_a):\n",
    "        for m in range(len_b):\n",
    "            if x!=0 and m!=0 and string_a[x-1]==string_b[m-1]:\n",
    "                lengths[m][x]=lengths[m-1][x-1]+1\n",
    "            elif string_a[x-1]!=string_b[m-1]:\n",
    "                lengths[m][x]=max(lengths[m-1][x],lengths[m][x-1])\n",
    "    subseq=[]\n",
    "    i = len(string_a)\n",
    "    j = len(string_b)\n",
    "    while i > 0 and j > 0:\n",
    "        if string_a[i-1] == string_b[j-1]: \n",
    "            subseq.append(string_a[i-1])\n",
    "            i-=1\n",
    "            j-=1\n",
    "        elif lengths[j-1][i] >= lengths[j][i-1]: \n",
    "            i-=1\n",
    "        elif lengths[j-1][i] < lengths[j][i-1]:\n",
    "            j-=1\n",
    "    subsequence=''.join(subseq)[::-1]\n",
    "    return (lengths[m][x],subsequence)\n",
    "    \n",
    "    "
   ]
  },
  {
   "cell_type": "code",
   "execution_count": 18,
   "metadata": {},
   "outputs": [
    {
     "data": {
      "text/plain": [
       "(10, 'TCTG')"
      ]
     },
     "execution_count": 18,
     "metadata": {},
     "output_type": "execute_result"
    }
   ],
   "source": [
    "gene_1='GGCTGTGAACTCGCGTGCA'\n",
    "gene_2='GCTCTACAATCTCG'\n",
    "\n",
    "LCS_dyn(gene_1,gene_2)"
   ]
  },
  {
   "cell_type": "code",
   "execution_count": null,
   "metadata": {},
   "outputs": [],
   "source": [
    "import timeit\n",
    "start = timeit.default_timer()\n",
    "LCS_dyn(gene_1,gene_2)\n",
    "stop = timeit.default_timer()\n",
    "t = stop - start\n",
    "print(t)"
   ]
  },
  {
   "cell_type": "markdown",
   "metadata": {},
   "source": [
    "### d) Briefly explain what is the running time complexity of LCS function in part c). (1P)\n",
    "\n",
    "The dynamic programming table has the dimensions $len(string_a)*len(string_b)$. For each of the fields, the corresponding value is calculated. With len(string_a)=m and len(string_b)=n, the running time is $O(n*m)$"
   ]
  },
  {
   "cell_type": "markdown",
   "metadata": {},
   "source": [
    "## Excercise 4 Doubly Linked Lists (3 P)\n",
    "\n",
    "### a) Pseudocode: Accessing the element at position pos in the list. (1P)"
   ]
  },
  {
   "cell_type": "code",
   "execution_count": null,
   "metadata": {},
   "outputs": [],
   "source": [
    "Ac(DList self, int pos):\n",
    "1 assert pos>=0 and pos<self.len\n",
    "2 Node p = self.head\n",
    "3 for i in range(pos):\n",
    "4 p = p.next # move one position forward untill reach pos\n",
    "5 return p.data"
   ]
  },
  {
   "cell_type": "markdown",
   "metadata": {},
   "source": [
    "### b) Inserting a new element at position pos. (2P)"
   ]
  },
  {
   "cell_type": "code",
   "execution_count": null,
   "metadata": {},
   "outputs": [],
   "source": [
    "int data\n",
    "int prev\n",
    "int next\n",
    "\n",
    "insert(DList self, newElement,int pos):\n",
    "1 newNode = Node(newElement)\n",
    "2 assert pos>=1\n",
    "# if pos is 1,make new node as head\n",
    "3 if (pos== 1):\n",
    "    newNode.next = self.head\n",
    "    self.head.prev = newNode\n",
    "    self.head = newNode\n",
    "# traverse the list untill (pos-1)\n",
    "4 temp = self.head \n",
    "5 for i in range(1,self.pos-1):\n",
    "    temp=temp.next\n",
    "    newNode.pre=temp\n",
    "    newNode.next=temp.next\n",
    "    temp.next=newnode\n",
    "# access the previous part of next node\n",
    "    newNode.next.prev = newNode"
   ]
  }
 ],
 "metadata": {
  "kernelspec": {
   "display_name": "Python 3",
   "language": "python",
   "name": "python3"
  },
  "language_info": {
   "codemirror_mode": {
    "name": "ipython",
    "version": 3
   },
   "file_extension": ".py",
   "mimetype": "text/x-python",
   "name": "python",
   "nbconvert_exporter": "python",
   "pygments_lexer": "ipython3",
   "version": "3.7.0"
  }
 },
 "nbformat": 4,
 "nbformat_minor": 2
}
